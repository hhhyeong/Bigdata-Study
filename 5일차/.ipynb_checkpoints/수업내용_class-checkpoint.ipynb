{
 "cells": [
  {
   "cell_type": "markdown",
   "metadata": {},
   "source": [
    "## Class and Object"
   ]
  },
  {
   "cell_type": "code",
   "execution_count": 13,
   "metadata": {},
   "outputs": [],
   "source": [
    "class Parrot:\n",
    "\n",
    "    # class attribute\n",
    "    species = \"bird\"\n",
    "\n",
    "    # instance attribute\n",
    "    def __init__(self, name, age):\n",
    "        self.name = name\n",
    "        self.age = age\n",
    "        \n",
    "# attibute 가 총 3개임...!\n",
    "\n",
    "# instantiate the Parrot class\n",
    "blu = Parrot(\"Blu\", 10)\n",
    "woo = Parrot(\"Woo\", 15)"
   ]
  },
  {
   "cell_type": "code",
   "execution_count": 14,
   "metadata": {},
   "outputs": [],
   "source": [
    "문근영 = Parrot('문근영', 30)"
   ]
  },
  {
   "cell_type": "code",
   "execution_count": 16,
   "metadata": {},
   "outputs": [
    {
     "data": {
      "text/plain": [
       "{'age': 30, 'name': '문근영'}"
      ]
     },
     "execution_count": 16,
     "metadata": {},
     "output_type": "execute_result"
    }
   ],
   "source": [
    "vars(문근영)"
   ]
  },
  {
   "cell_type": "code",
   "execution_count": 15,
   "metadata": {},
   "outputs": [
    {
     "data": {
      "text/plain": [
       "'bird'"
      ]
     },
     "execution_count": 15,
     "metadata": {},
     "output_type": "execute_result"
    }
   ],
   "source": [
    "문근영.species"
   ]
  },
  {
   "cell_type": "code",
   "execution_count": 18,
   "metadata": {},
   "outputs": [
    {
     "data": {
      "text/plain": [
       "'bird2'"
      ]
     },
     "execution_count": 18,
     "metadata": {},
     "output_type": "execute_result"
    }
   ],
   "source": [
    "문근영.species = 'bird2'\n",
    "문근영.species\n",
    "\n",
    "# 이름 같게 하지말라고. 왜?"
   ]
  },
  {
   "cell_type": "code",
   "execution_count": 19,
   "metadata": {},
   "outputs": [
    {
     "data": {
      "text/plain": [
       "'bird'"
      ]
     },
     "execution_count": 19,
     "metadata": {},
     "output_type": "execute_result"
    }
   ],
   "source": [
    "문근영.__class__.species\n",
    "\n",
    "# 이런짓도 가능은 한데, 하면안됨..!!!!!!\n",
    "# 덮어썼더니, 우선순위가 instance attribute먼저이기 때문에, 결과값이 bird가 남아있는것.\n",
    "\n",
    "# 문근영.__class__.\n",
    "# == \n",
    "# Parrot. 이랑 동일함."
   ]
  },
  {
   "cell_type": "code",
   "execution_count": null,
   "metadata": {},
   "outputs": [],
   "source": []
  },
  {
   "cell_type": "code",
   "execution_count": 20,
   "metadata": {},
   "outputs": [
    {
     "data": {
      "text/plain": [
       "__main__.Parrot"
      ]
     },
     "execution_count": 20,
     "metadata": {},
     "output_type": "execute_result"
    }
   ],
   "source": [
    "문근영.__class__\n",
    "\n",
    "# 인스턴스의 타입쳤을때.\n",
    "# __main__ : 현재 작업하고 있는 공간. (C++, java의 main()와 비슷.)\n",
    "# 문근영.__class__. + tab키 누르면 뒤에붙는거 확인가능."
   ]
  },
  {
   "cell_type": "code",
   "execution_count": 8,
   "metadata": {},
   "outputs": [],
   "source": [
    "blu.species = 'bird2'\n",
    "\n",
    "# instance attribute임."
   ]
  },
  {
   "cell_type": "code",
   "execution_count": 11,
   "metadata": {},
   "outputs": [
    {
     "data": {
      "text/plain": [
       "'bird2'"
      ]
     },
     "execution_count": 11,
     "metadata": {},
     "output_type": "execute_result"
    }
   ],
   "source": [
    "blu.species"
   ]
  },
  {
   "cell_type": "code",
   "execution_count": 9,
   "metadata": {},
   "outputs": [
    {
     "data": {
      "text/plain": [
       "{'species': 'bird2'}"
      ]
     },
     "execution_count": 9,
     "metadata": {},
     "output_type": "execute_result"
    }
   ],
   "source": [
    "blu.__dict__\n",
    "\n",
    "#할당을 다시하니까 species가 나옴"
   ]
  },
  {
   "cell_type": "code",
   "execution_count": 10,
   "metadata": {},
   "outputs": [
    {
     "data": {
      "text/plain": [
       "'bird'"
      ]
     },
     "execution_count": 10,
     "metadata": {},
     "output_type": "execute_result"
    }
   ],
   "source": [
    "woo.species"
   ]
  },
  {
   "cell_type": "code",
   "execution_count": 2,
   "metadata": {},
   "outputs": [
    {
     "name": "stdout",
     "output_type": "stream",
     "text": [
      "Blu is a bird\n",
      "Woo is also a bird\n",
      "Blu is 10 years old\n",
      "Woo is 15 years old\n"
     ]
    }
   ],
   "source": [
    "# access the class attributes\n",
    "print(\"Blu is a {}\".format(blu.__class__.species))\n",
    "print(\"Woo is also a {}\".format(woo.__class__.species))\n",
    "\n",
    "# access the instance attributes\n",
    "print(\"{} is {} years old\".format( blu.name, blu.age))\n",
    "print(\"{} is {} years old\".format( woo.name, woo.age))"
   ]
  },
  {
   "cell_type": "code",
   "execution_count": 3,
   "metadata": {},
   "outputs": [
    {
     "data": {
      "text/plain": [
       "type"
      ]
     },
     "execution_count": 3,
     "metadata": {},
     "output_type": "execute_result"
    }
   ],
   "source": [
    "type(Parrot)\n",
    "\n",
    "# type([class명]) 했는데 type나오면 ....뭐라고??"
   ]
  },
  {
   "cell_type": "markdown",
   "metadata": {},
   "source": [
    "## Methods"
   ]
  },
  {
   "cell_type": "code",
   "execution_count": 39,
   "metadata": {},
   "outputs": [],
   "source": [
    "# sing, dance추가하여 재정의.\n",
    "\n",
    "class Parrot:\n",
    "    \n",
    "    # instance attributes\n",
    "    def __init__(self, name, age):\n",
    "        self.name = name\n",
    "        self.age = age\n",
    "    \n",
    "    # instance method\n",
    "    # 멤버변수로 self가 들어간거.\n",
    "    def sing(self, song):\n",
    "        return \"{} sings {}\".format(self.name, song)\n",
    "\n",
    "    def dance(self):\n",
    "        return \"{} is now dancing\".format(self.name)\n",
    "    \n",
    "    @classmethod\n",
    "    def dance2(cls):\n",
    "        return \"is now dancing2\""
   ]
  },
  {
   "cell_type": "code",
   "execution_count": 34,
   "metadata": {},
   "outputs": [
    {
     "ename": "AttributeError",
     "evalue": "'Parrot' object has no attribute 'dance'",
     "output_type": "error",
     "traceback": [
      "\u001b[1;31m---------------------------------------------------------------------------\u001b[0m",
      "\u001b[1;31mAttributeError\u001b[0m                            Traceback (most recent call last)",
      "\u001b[1;32m<ipython-input-34-a82b1dcf888c>\u001b[0m in \u001b[0;36m<module>\u001b[1;34m()\u001b[0m\n\u001b[1;32m----> 1\u001b[1;33m \u001b[0m문근영\u001b[0m\u001b[1;33m.\u001b[0m\u001b[0mdance\u001b[0m\u001b[1;33m(\u001b[0m\u001b[1;33m)\u001b[0m\u001b[1;33m\u001b[0m\u001b[0m\n\u001b[0m\u001b[0;32m      2\u001b[0m \u001b[1;33m\u001b[0m\u001b[0m\n\u001b[0;32m      3\u001b[0m \u001b[1;31m# 불가능.\u001b[0m\u001b[1;33m\u001b[0m\u001b[1;33m\u001b[0m\u001b[0m\n\u001b[0;32m      4\u001b[0m \u001b[1;31m# 붕어빵 이미 만들었는데, 붕어빵틀 교체했다고 이미만들어진 빵은 변하지 않음.\u001b[0m\u001b[1;33m\u001b[0m\u001b[1;33m\u001b[0m\u001b[0m\n\u001b[0;32m      5\u001b[0m \u001b[1;31m# mutable은 자기자신의 값이 바뀌는 게 mutable임.\u001b[0m\u001b[1;33m\u001b[0m\u001b[1;33m\u001b[0m\u001b[0m\n",
      "\u001b[1;31mAttributeError\u001b[0m: 'Parrot' object has no attribute 'dance'"
     ]
    }
   ],
   "source": [
    "문근영.dance()\n",
    "\n",
    "# 불가능.\n",
    "# 붕어빵 이미 만들었는데, 붕어빵틀 교체했다고 이미만들어진 빵은 변하지 않음.\n",
    "# mutable은 자기자신의 값이 바뀌는 게 mutable임.\n",
    "# 이미만들어져있는거까지 바뀐다는 뜻 아님."
   ]
  },
  {
   "cell_type": "code",
   "execution_count": null,
   "metadata": {},
   "outputs": [],
   "source": [
    "Parrot.sing(문근영, '노래')\n",
    "# 실행됨.\n",
    "\n"
   ]
  },
  {
   "cell_type": "code",
   "execution_count": 42,
   "metadata": {},
   "outputs": [
    {
     "data": {
      "text/plain": [
       "'정혜영 sings 노래'"
      ]
     },
     "execution_count": 42,
     "metadata": {},
     "output_type": "execute_result"
    }
   ],
   "source": [
    "문근영 = Parrot('정혜영', 33)\n",
    "문근영.sing('노래')\n",
    "# 에러남.\n",
    "# 문근영 객체를안만들어서."
   ]
  },
  {
   "cell_type": "code",
   "execution_count": 30,
   "metadata": {},
   "outputs": [],
   "source": [
    "a = Parrot('sun', 42)"
   ]
  },
  {
   "cell_type": "code",
   "execution_count": null,
   "metadata": {},
   "outputs": [],
   "source": [
    "a.__class__.dance()\n",
    "Parrot.dance()\n",
    "\n",
    "# 인스턴스.__class__.메서드\n",
    "# ==\n",
    "# 클래스.메서드"
   ]
  },
  {
   "cell_type": "code",
   "execution_count": 31,
   "metadata": {},
   "outputs": [
    {
     "data": {
      "text/plain": [
       "'sun is now dancing'"
      ]
     },
     "execution_count": 31,
     "metadata": {},
     "output_type": "execute_result"
    }
   ],
   "source": [
    "Parrot.dance(a)\n",
    "a.dance()\n",
    "# instance method호출하려면...."
   ]
  },
  {
   "cell_type": "code",
   "execution_count": 32,
   "metadata": {},
   "outputs": [
    {
     "data": {
      "text/plain": [
       "'is now dancing2'"
      ]
     },
     "execution_count": 32,
     "metadata": {},
     "output_type": "execute_result"
    }
   ],
   "source": [
    "Parrot.dance2()\n",
    "\n",
    "# class method호출하려면.....\n",
    "# class가 쓰는 메서드니까.\n",
    "# class명.메서드"
   ]
  },
  {
   "cell_type": "code",
   "execution_count": null,
   "metadata": {},
   "outputs": [],
   "source": []
  },
  {
   "cell_type": "code",
   "execution_count": null,
   "metadata": {},
   "outputs": [],
   "source": []
  },
  {
   "cell_type": "code",
   "execution_count": null,
   "metadata": {},
   "outputs": [],
   "source": []
  },
  {
   "cell_type": "code",
   "execution_count": null,
   "metadata": {},
   "outputs": [],
   "source": []
  },
  {
   "cell_type": "code",
   "execution_count": 4,
   "metadata": {},
   "outputs": [
    {
     "name": "stdout",
     "output_type": "stream",
     "text": [
      "Blu sings 'Happy'\n",
      "Blu is now dancing\n"
     ]
    }
   ],
   "source": [
    "# instantiate the object\n",
    "blu = Parrot(\"Blu\", 10)\n",
    "\n",
    "# call our instance methods\n",
    "print(blu.sing(\"'Happy'\"))\n",
    "print(blu.dance())"
   ]
  },
  {
   "cell_type": "markdown",
   "metadata": {},
   "source": [
    "## Inheritance"
   ]
  },
  {
   "cell_type": "code",
   "execution_count": 5,
   "metadata": {},
   "outputs": [
    {
     "name": "stdout",
     "output_type": "stream",
     "text": [
      "Bird is ready\n",
      "Penguin is ready\n",
      "Penguin\n",
      "Swim faster\n",
      "Run faster\n"
     ]
    }
   ],
   "source": [
    "# parent class\n",
    "class Bird:\n",
    "    \n",
    "    def __init__(self):\n",
    "        print(\"Bird is ready\")\n",
    "\n",
    "    def whoisThis(self):\n",
    "        print(\"Bird\")\n",
    "\n",
    "    def swim(self):\n",
    "        print(\"Swim faster\")\n",
    "\n",
    "# child class\n",
    "class Penguin(Bird):\n",
    "\n",
    "    def __init__(self):\n",
    "        # call super() function\n",
    "        super().__init__()\n",
    "        print(\"Penguin is ready\")\n",
    "\n",
    "    def whoisThis(self):\n",
    "        print(\"Penguin\")\n",
    "\n",
    "    def run(self):\n",
    "        print(\"Run faster\")\n",
    "\n",
    "peggy = Penguin()\n",
    "peggy.whoisThis()\n",
    "peggy.swim()\n",
    "peggy.run()"
   ]
  },
  {
   "cell_type": "markdown",
   "metadata": {},
   "source": [
    "## Encapsulation"
   ]
  },
  {
   "cell_type": "code",
   "execution_count": 6,
   "metadata": {},
   "outputs": [
    {
     "name": "stdout",
     "output_type": "stream",
     "text": [
      "Selling Price: 900\n",
      "Selling Price: 900\n",
      "Selling Price: 1000\n"
     ]
    }
   ],
   "source": [
    "class Computer:\n",
    "\n",
    "    def __init__(self):\n",
    "        self.__maxprice = 900\n",
    "\n",
    "    def sell(self):\n",
    "        print(\"Selling Price: {}\".format(self.__maxprice))\n",
    "\n",
    "    def setMaxPrice(self, price):\n",
    "        self.__maxprice = price\n",
    "\n",
    "c = Computer()\n",
    "c.sell()\n",
    "\n",
    "# change the price\n",
    "c.__maxprice = 1000\n",
    "c.sell()\n",
    "\n",
    "# using setter function\n",
    "c.setMaxPrice(1000)\n",
    "c.sell()"
   ]
  },
  {
   "cell_type": "markdown",
   "metadata": {},
   "source": [
    "## Polymorphism"
   ]
  },
  {
   "cell_type": "code",
   "execution_count": 43,
   "metadata": {},
   "outputs": [
    {
     "name": "stdout",
     "output_type": "stream",
     "text": [
      "Parrot can fly\n",
      "Penguin can't fly\n"
     ]
    }
   ],
   "source": [
    "class Parrot:\n",
    "\n",
    "    def fly(self):\n",
    "        print(\"Parrot can fly\")\n",
    "    \n",
    "    def swim(self):\n",
    "        print(\"Parrot can't swim\")\n",
    "\n",
    "class Penguin:\n",
    "\n",
    "    def fly(self):\n",
    "        print(\"Penguin can't fly\")\n",
    "    \n",
    "    def swim(self):\n",
    "        print(\"Penguin can swim\")\n",
    "\n",
    "# common interface\n",
    "def flying_test(bird):\n",
    "    bird.fly()\n",
    "\n",
    "#instantiate objects\n",
    "blu = Parrot()\n",
    "peggy = Penguin()\n",
    "\n",
    "# passing the object\n",
    "flying_test(blu)\n",
    "flying_test(peggy)"
   ]
  },
  {
   "cell_type": "code",
   "execution_count": null,
   "metadata": {},
   "outputs": [],
   "source": [
    "# 함수형 기법 (필요없는 for문 없애는 목적. loop없애기) 중, 하나. Comprehension.\n",
    "# 익숙해져야함.\n",
    "# 꼭 복습하고!\n",
    "a = (x for x in range(11))\n",
    "# (또다른 하나는 lazy기법! 한번에 한개씩만 실행시키므로 메모리효율goo. 속도가 빠름.)\n",
    "\n",
    "# lazy기법.\n",
    "next(a)\n",
    "\n",
    "# generator : 필요한 시점마다, 하나씩 실행해줌.\n",
    "#             yeid표현식 씀.\n",
    "# 실행할때마다 0~10까지 한개씩 보여주고\n",
    "# a.__next__() 과 매칭됨."
   ]
  },
  {
   "cell_type": "code",
   "execution_count": 66,
   "metadata": {},
   "outputs": [],
   "source": [
    "# 함수형 기법 하나. Comprehension\n",
    "\n",
    "# attribute가 4개.\n",
    "# n : instance attribute\n",
    "# self.sides : 이름이 같으면 뒤에온개 앞에껄 덮어썼음. 클래스안에서 살아있는거기때문에.\n",
    "# i : local. def안에 사는애. dir(xy)로 확인해보면 i가 없음을 확인할 수 있음. global로 전이 안됨.\n",
    "\n",
    "class Polygon:\n",
    "    def __init__(self, no_of_sides):\n",
    "        self.n = no_of_sides\n",
    "        self.sides = [0 for i in range(no_of_sides)]\n",
    "\n",
    "    # 인자 1개.\n",
    "    def inputSides(self):\n",
    "        self.sides = [float(input(\"Enter side \"+str(i+1)+\" : \")) for i in range(self.n)]\n",
    "\n",
    "    def dispSides(self):\n",
    "        for i in range(self.n):\n",
    "            print(\"Side\",i+1,\"is\",self.sides[i])"
   ]
  },
  {
   "cell_type": "code",
   "execution_count": 67,
   "metadata": {},
   "outputs": [],
   "source": [
    "# [float(input(\"Enter side \"+str(i+1)+\" : \")) for i in range(self.n)]\n",
    "# n은 5.\n",
    "# 함수형기법. 합성함수. 가장 가운데있는 함수가 input().\n",
    "# i=0일때 float(input()) 한번 실행되고.... i=0~4까지 반복.\n",
    "# 문자열 + 숫자는 합성 안되므로 str() 사용.\n"
   ]
  },
  {
   "cell_type": "code",
   "execution_count": 69,
   "metadata": {},
   "outputs": [
    {
     "name": "stdout",
     "output_type": "stream",
     "text": [
      "Enter side 1 : 1\n",
      "Enter side 2 : 2\n",
      "Enter side 3 : 3\n",
      "Enter side 4 : 4\n",
      "Enter side 5 : 5\n"
     ]
    },
    {
     "data": {
      "text/plain": [
       "[1.0, 2.0, 3.0, 4.0, 5.0]"
      ]
     },
     "execution_count": 69,
     "metadata": {},
     "output_type": "execute_result"
    }
   ],
   "source": [
    "xy = Polygon(5)\n",
    "yz = Polygon(3)\n",
    "\n",
    "xy.inputSides()\n",
    "xy.sides"
   ]
  },
  {
   "cell_type": "code",
   "execution_count": 65,
   "metadata": {},
   "outputs": [
    {
     "name": "stdout",
     "output_type": "stream",
     "text": [
      "Enter side 1 : 1\n",
      "Enter side 2 : 2\n",
      "Enter side 3 : 3\n",
      "Enter side 4 : 4\n",
      "Enter side 5 : 5\n"
     ]
    },
    {
     "data": {
      "text/plain": [
       "[1.0, 2.0, 3.0, 4.0, 5.0]"
      ]
     },
     "execution_count": 65,
     "metadata": {},
     "output_type": "execute_result"
    }
   ],
   "source": [
    "xy = Polygon(5)\n",
    "xy.inputSides()\n",
    "\n",
    "# inputSides()는 인스턴스메서드. xy같은 인스턴스변수에게만 쓸 수 있다.\n",
    "# self.메서드()  방식\n",
    "\n",
    "yz = Polygon(3)\n",
    "\n",
    "# n이 5를 받은거임.\n",
    "# n은 instance attribute.\n",
    "# n = 5, 3\n",
    "xy.sides"
   ]
  },
  {
   "cell_type": "code",
   "execution_count": 71,
   "metadata": {},
   "outputs": [
    {
     "name": "stdout",
     "output_type": "stream",
     "text": [
      "Side 1 is 1.0\n",
      "Side 2 is 2.0\n",
      "Side 3 is 3.0\n",
      "Side 4 is 4.0\n",
      "Side 5 is 5.0\n"
     ]
    }
   ],
   "source": [
    "xy.dispSides()\n",
    "\n",
    "# 객체지향이 이래서 편하당.ㄷㄷ"
   ]
  },
  {
   "cell_type": "code",
   "execution_count": 72,
   "metadata": {},
   "outputs": [
    {
     "data": {
      "text/plain": [
       "['__class__',\n",
       " '__delattr__',\n",
       " '__dict__',\n",
       " '__dir__',\n",
       " '__doc__',\n",
       " '__eq__',\n",
       " '__format__',\n",
       " '__ge__',\n",
       " '__getattribute__',\n",
       " '__gt__',\n",
       " '__hash__',\n",
       " '__init__',\n",
       " '__le__',\n",
       " '__lt__',\n",
       " '__module__',\n",
       " '__ne__',\n",
       " '__new__',\n",
       " '__reduce__',\n",
       " '__reduce_ex__',\n",
       " '__repr__',\n",
       " '__setattr__',\n",
       " '__sizeof__',\n",
       " '__str__',\n",
       " '__subclasshook__',\n",
       " '__weakref__',\n",
       " 'dispSides',\n",
       " 'inputSides',\n",
       " 'n',\n",
       " 'sides']"
      ]
     },
     "execution_count": 72,
     "metadata": {},
     "output_type": "execute_result"
    }
   ],
   "source": [
    "dir(xy)"
   ]
  },
  {
   "cell_type": "code",
   "execution_count": 52,
   "metadata": {},
   "outputs": [],
   "source": [
    "# 상속받음. 추가/변경은 가능. 삭제는 안됨. 무력화는 되지만(오버로딩해서 = none으로 하면됨.)\n",
    "# but, 이러면 debugging하기 핵 힘드니까 하지말라고~\n",
    "\n",
    "class Triangle(Polygon):\n",
    "    # instance 메서드. 왜 클래스 뒤에 써?\n",
    "    # super대신 대체 가능하다는 .\n",
    "    # super에 대해서는 예외규정으로 생각하쟈. 하. ㅅㅂ\n",
    "    def __init__(self):\n",
    "        Polygon.__init__(self,3) # super().__init__(3)\n",
    "\n",
    "    def findArea(self):\n",
    "        a, b, c = self.sides\n",
    "        # calculate the semi-perimeter\n",
    "        s = (a + b + c) / 2\n",
    "        area = (s*(s-a)*(s-b)*(s-c)) ** 0.5\n",
    "        print('The area of the triangle is %0.2f' %area)"
   ]
  },
  {
   "cell_type": "code",
   "execution_count": 73,
   "metadata": {},
   "outputs": [
    {
     "name": "stdout",
     "output_type": "stream",
     "text": [
      "True\n",
      "True\n",
      "True\n"
     ]
    }
   ],
   "source": [
    "# Output: True\n",
    "# 숫자아닌것처럼 보이는데 숫자인거. bool.\n",
    "# bool이 int의 subclass인가 확인할 때 썼음.\n",
    "# predicate : 참과 거짓을 반환하는 함수. 'is_'가 나오면 다 predicate 함수. python 공식 사이트에 나옴.ㅋㅋ\n",
    "# predicate함수 나오면 shift + tab눌러서 왼쪽에서부터 중요한거부터나온다고????????????\n",
    "# 우선권은 왼쪽??\n",
    "# list가 object의 서브클래스인가.\n",
    "print(issubclass(list,object))\n",
    "\n",
    "# Output: True\n",
    "# class 안에서 새로 만든 애. 함수처럼. __init가 실행됨.\n",
    "print(isinstance(5.5,object))\n",
    "\n",
    "# Output: True\n",
    "# 다중상속..!\n",
    "print(isinstance(\"Hello\",object))"
   ]
  },
  {
   "cell_type": "code",
   "execution_count": 10,
   "metadata": {},
   "outputs": [
    {
     "name": "stdout",
     "output_type": "stream",
     "text": [
      "[<class '__main__.M'>, <class '__main__.B'>, <class '__main__.A'>, <class '__main__.X'>, <class '__main__.Y'>, <class '__main__.Z'>, <class 'object'>]\n"
     ]
    }
   ],
   "source": [
    "# A : x,y 의 상속받음.\n",
    "# 우선권은 왼쪽.\n",
    "\n",
    "\n",
    "class X: pass\n",
    "class Y: pass\n",
    "class Z: pass\n",
    "\n",
    "class A(X,Y): pass\n",
    "class B(Y,Z): pass\n",
    "\n",
    "class M(B,A,Z): pass\n",
    "\n",
    "# Output:\n",
    "# [<class '__main__.M'>, <class '__main__.B'>,\n",
    "# <class '__main__.A'>, <class '__main__.X'>,\n",
    "# <class '__main__.Y'>, <class '__main__.Z'>,\n",
    "# <class 'object'>]\n",
    "\n",
    "\n",
    "# __mro__ : 다중상속받는 클래스 순서.\n",
    "print(M.mro())\n",
    "\n",
    "# 상속받는 순서 : 자기자신에게 선언되어있는거 먼저,B,A,X(A가 상속받는것),Y\n",
    "# B,Z가 상속받는 순서 충돌나므로, B의 우선순위를 낮춰버림.\n",
    "# mro공식문서에서 확인할 수 있음.\n",
    "# 되도록 사용하지말아랏.\n",
    "\n",
    "\n",
    "\n",
    "# M은 클래스 인스턴스!!!!!!!!!!!!!!!!\n",
    "# 함수처럼 선언해서만든애는 instance\n",
    "# m1 = M() 이러면 m1은 인스턴스."
   ]
  },
  {
   "cell_type": "code",
   "execution_count": 74,
   "metadata": {},
   "outputs": [],
   "source": [
    "class B:\n",
    "    def __str__(self):\n",
    "        return 'aaa'\n",
    "    def __repr__(self):\n",
    "        return 'bbb'\n",
    "\n",
    "# iPython노트북은 repr로 선언된거 보여줌."
   ]
  },
  {
   "cell_type": "code",
   "execution_count": 75,
   "metadata": {},
   "outputs": [],
   "source": [
    "abc = B()\n",
    "# 인스턴스화 함."
   ]
  },
  {
   "cell_type": "code",
   "execution_count": 76,
   "metadata": {},
   "outputs": [
    {
     "data": {
      "text/plain": [
       "bbb"
      ]
     },
     "execution_count": 76,
     "metadata": {},
     "output_type": "execute_result"
    }
   ],
   "source": [
    "abc\n",
    "# repr 출력."
   ]
  },
  {
   "cell_type": "code",
   "execution_count": 77,
   "metadata": {},
   "outputs": [
    {
     "name": "stdout",
     "output_type": "stream",
     "text": [
      "aaa\n"
     ]
    }
   ],
   "source": [
    "print(abc)\n",
    "# str 출력."
   ]
  },
  {
   "cell_type": "code",
   "execution_count": 79,
   "metadata": {},
   "outputs": [
    {
     "data": {
      "text/plain": [
       "['__abs__',\n",
       " '__add__',\n",
       " '__and__',\n",
       " '__bool__',\n",
       " '__ceil__',\n",
       " '__class__',\n",
       " '__delattr__',\n",
       " '__dir__',\n",
       " '__divmod__',\n",
       " '__doc__',\n",
       " '__eq__',\n",
       " '__float__',\n",
       " '__floor__',\n",
       " '__floordiv__',\n",
       " '__format__',\n",
       " '__ge__',\n",
       " '__getattribute__',\n",
       " '__getnewargs__',\n",
       " '__gt__',\n",
       " '__hash__',\n",
       " '__index__',\n",
       " '__init__',\n",
       " '__int__',\n",
       " '__invert__',\n",
       " '__le__',\n",
       " '__lshift__',\n",
       " '__lt__',\n",
       " '__mod__',\n",
       " '__mul__',\n",
       " '__ne__',\n",
       " '__neg__',\n",
       " '__new__',\n",
       " '__or__',\n",
       " '__pos__',\n",
       " '__pow__',\n",
       " '__radd__',\n",
       " '__rand__',\n",
       " '__rdivmod__',\n",
       " '__reduce__',\n",
       " '__reduce_ex__',\n",
       " '__repr__',\n",
       " '__rfloordiv__',\n",
       " '__rlshift__',\n",
       " '__rmod__',\n",
       " '__rmul__',\n",
       " '__ror__',\n",
       " '__round__',\n",
       " '__rpow__',\n",
       " '__rrshift__',\n",
       " '__rshift__',\n",
       " '__rsub__',\n",
       " '__rtruediv__',\n",
       " '__rxor__',\n",
       " '__setattr__',\n",
       " '__sizeof__',\n",
       " '__str__',\n",
       " '__sub__',\n",
       " '__subclasshook__',\n",
       " '__truediv__',\n",
       " '__trunc__',\n",
       " '__xor__',\n",
       " 'bit_length',\n",
       " 'conjugate',\n",
       " 'denominator',\n",
       " 'from_bytes',\n",
       " 'imag',\n",
       " 'numerator',\n",
       " 'real',\n",
       " 'to_bytes']"
      ]
     },
     "execution_count": 79,
     "metadata": {},
     "output_type": "execute_result"
    }
   ],
   "source": [
    "dir(3)\n",
    "\n",
    "# __add__이런애들도 내맘대로 바꿀수있음..!"
   ]
  },
  {
   "cell_type": "code",
   "execution_count": null,
   "metadata": {},
   "outputs": [],
   "source": []
  },
  {
   "cell_type": "code",
   "execution_count": 85,
   "metadata": {},
   "outputs": [
    {
     "name": "stdout",
     "output_type": "stream",
     "text": [
      "None\n"
     ]
    }
   ],
   "source": [
    "# 나만의 int 클래스 만들기.\n",
    "# 연산자는 오버라이딩(재정의)가 아닌, 오버로딩이 가능함.!!\n",
    "\n",
    "class myInt(int):\n",
    "    def __add__(self, other):\n",
    "        super().__add__(other)\n",
    "        \n",
    "a = myInt(3)\n",
    "b = myInt(5)\n",
    "print(a+b)"
   ]
  },
  {
   "cell_type": "code",
   "execution_count": 93,
   "metadata": {},
   "outputs": [
    {
     "name": "stdout",
     "output_type": "stream",
     "text": [
      "3\n"
     ]
    },
    {
     "data": {
      "text/plain": [
       "__main__.myInt"
      ]
     },
     "execution_count": 93,
     "metadata": {},
     "output_type": "execute_result"
    }
   ],
   "source": [
    "# str은 print 할때 나온다.\n",
    "# repr은 변수명 칠때 나오는거다.\n",
    "print(a)\n",
    "type(a)"
   ]
  },
  {
   "cell_type": "code",
   "execution_count": 94,
   "metadata": {},
   "outputs": [
    {
     "name": "stdout",
     "output_type": "stream",
     "text": [
      "None\n"
     ]
    }
   ],
   "source": [
    "print(a+b)"
   ]
  },
  {
   "cell_type": "code",
   "execution_count": 96,
   "metadata": {},
   "outputs": [
    {
     "name": "stdout",
     "output_type": "stream",
     "text": [
      "8\n"
     ]
    }
   ],
   "source": [
    "print(int(a)+int(b))"
   ]
  },
  {
   "cell_type": "code",
   "execution_count": 104,
   "metadata": {},
   "outputs": [
    {
     "name": "stdout",
     "output_type": "stream",
     "text": [
      "aaa\n"
     ]
    }
   ],
   "source": [
    "class myInt(int):\n",
    "    def __add__(self, other):\n",
    "        print(\"aaa\")\n",
    "        \n",
    "a = myInt(3)\n",
    "b = myInt(5)\n",
    "a+b\n",
    "\n",
    "# add함수의 기능 변경은 성공.!"
   ]
  },
  {
   "cell_type": "code",
   "execution_count": 121,
   "metadata": {},
   "outputs": [],
   "source": [
    "class myInt(int):\n",
    "    def __init__(self, num):\n",
    "        self.num = num\n",
    "    def __add__(self, other):\n",
    "        print(\"aaa\")\n",
    "        return self.num + other + 3\n",
    "    def __str__(self, num):\n",
    "        print(\"안알랴줌\")\n",
    "    def __radd__(self, other):\n",
    "        print(\"bbb\")\n",
    "        return self.num + other + 3"
   ]
  },
  {
   "cell_type": "code",
   "execution_count": 122,
   "metadata": {},
   "outputs": [
    {
     "name": "stdout",
     "output_type": "stream",
     "text": [
      "aaa\n",
      "bbb\n",
      "14\n"
     ]
    }
   ],
   "source": [
    "a = myInt(3)\n",
    "b = myInt(5)\n",
    "print(a+b)\n",
    "\n",
    "# 왜안됨?"
   ]
  },
  {
   "cell_type": "code",
   "execution_count": 131,
   "metadata": {},
   "outputs": [
    {
     "ename": "TypeError",
     "evalue": "__str__() takes 1 positional argument but 2 were given",
     "output_type": "error",
     "traceback": [
      "\u001b[1;31m---------------------------------------------------------------------------\u001b[0m",
      "\u001b[1;31mTypeError\u001b[0m                                 Traceback (most recent call last)",
      "\u001b[1;32m<ipython-input-131-de2139fcbb5d>\u001b[0m in \u001b[0;36m<module>\u001b[1;34m()\u001b[0m\n\u001b[1;32m----> 1\u001b[1;33m \u001b[0ma\u001b[0m\u001b[1;33m.\u001b[0m\u001b[0m__str__\u001b[0m\u001b[1;33m(\u001b[0m\u001b[1;36m123\u001b[0m\u001b[1;33m)\u001b[0m\u001b[1;33m\u001b[0m\u001b[0m\n\u001b[0m",
      "\u001b[1;31mTypeError\u001b[0m: __str__() takes 1 positional argument but 2 were given"
     ]
    }
   ],
   "source": [
    "a.__str__(123)"
   ]
  },
  {
   "cell_type": "code",
   "execution_count": 133,
   "metadata": {},
   "outputs": [
    {
     "name": "stdout",
     "output_type": "stream",
     "text": [
      "안알랴줌\n"
     ]
    }
   ],
   "source": [
    "a.__str__()"
   ]
  },
  {
   "cell_type": "code",
   "execution_count": 135,
   "metadata": {},
   "outputs": [],
   "source": [
    "# dir(int)"
   ]
  },
  {
   "cell_type": "code",
   "execution_count": 116,
   "metadata": {},
   "outputs": [],
   "source": [
    "abc = B()"
   ]
  },
  {
   "cell_type": "code",
   "execution_count": null,
   "metadata": {},
   "outputs": [],
   "source": [
    "class AA(int):\n",
    "    def __init__(self, num):\n",
    "        self.num = num\n",
    "    def __add__(self, other):\n",
    "        print(\"aaa\")\n",
    "        return self.num + other + 3\n",
    "    def __str__(self):\n",
    "        return (self,num)"
   ]
  },
  {
   "cell_type": "code",
   "execution_count": null,
   "metadata": {},
   "outputs": [],
   "source": [
    "꺄아악.. 못적음.!"
   ]
  },
  {
   "cell_type": "code",
   "execution_count": null,
   "metadata": {},
   "outputs": [],
   "source": []
  },
  {
   "cell_type": "code",
   "execution_count": null,
   "metadata": {},
   "outputs": [],
   "source": []
  },
  {
   "cell_type": "code",
   "execution_count": null,
   "metadata": {},
   "outputs": [],
   "source": []
  },
  {
   "cell_type": "code",
   "execution_count": 11,
   "metadata": {},
   "outputs": [],
   "source": [
    "class Point:\n",
    "    def __init__(self, x = 0, y = 0):\n",
    "        self.x = x\n",
    "        self.y = y"
   ]
  },
  {
   "cell_type": "code",
   "execution_count": 12,
   "metadata": {},
   "outputs": [],
   "source": [
    "class Point:\n",
    "    def __init__(self, x = 0, y = 0):\n",
    "        self.x = x\n",
    "        self.y = y\n",
    "    \n",
    "    def __str__(self):\n",
    "        return \"({0},{1})\".format(self.x,self.y)"
   ]
  },
  {
   "cell_type": "code",
   "execution_count": 13,
   "metadata": {},
   "outputs": [],
   "source": [
    "class Point:\n",
    "    def __init__(self, x = 0, y = 0):\n",
    "        self.x = x\n",
    "        self.y = y\n",
    "    \n",
    "    def __str__(self):\n",
    "        return \"({0},{1})\".format(self.x,self.y)\n",
    "    \n",
    "    def __add__(self,other):\n",
    "        x = self.x + other.x\n",
    "        y = self.y + other.y\n",
    "        return Point(x,y)"
   ]
  },
  {
   "cell_type": "code",
   "execution_count": 14,
   "metadata": {},
   "outputs": [],
   "source": [
    "class Point:\n",
    "    def __init__(self, x = 0, y = 0):\n",
    "        self.x = x\n",
    "        self.y = y\n",
    "    \n",
    "    def __str__(self):\n",
    "        return \"({0},{1})\".format(self.x,self.y)\n",
    "    \n",
    "    def __lt__(self,other):\n",
    "        self_mag = (self.x ** 2) + (self.y ** 2)\n",
    "        other_mag = (other.x ** 2) + (other.y ** 2)\n",
    "        return self_mag < other_mag"
   ]
  },
  {
   "cell_type": "code",
   "execution_count": 24,
   "metadata": {},
   "outputs": [
    {
     "name": "stdout",
     "output_type": "stream",
     "text": [
      "Blu sings 'Happy'\n",
      "Blu is now dancing\n"
     ]
    }
   ],
   "source": [
    "class Parrot:\n",
    "    \n",
    "    # instance attributes\n",
    "    def __init__(abc, name, age):\n",
    "        abc.name = name\n",
    "        abc.age = age\n",
    "    \n",
    "    # instance method\n",
    "    # 멤버변수로 self가 들어간거.\n",
    "    def sing(abc, song):\n",
    "        return \"{} sings {}\".format(abc.name, song)\n",
    "\n",
    "    def dance(abc):\n",
    "        return \"{} is now dancing\".format(abc.name)\n",
    "\n",
    "# instantiate the object\n",
    "blu = Parrot(\"Blu\", 10)\n",
    "\n",
    "# call our instance methods\n",
    "print(blu.sing(\"'Happy'\"))\n",
    "print(blu.dance())"
   ]
  },
  {
   "cell_type": "code",
   "execution_count": null,
   "metadata": {},
   "outputs": [],
   "source": []
  }
 ],
 "metadata": {
  "kernelspec": {
   "display_name": "Python 3",
   "language": "python",
   "name": "python3"
  },
  "language_info": {
   "codemirror_mode": {
    "name": "ipython",
    "version": 3
   },
   "file_extension": ".py",
   "mimetype": "text/x-python",
   "name": "python",
   "nbconvert_exporter": "python",
   "pygments_lexer": "ipython3",
   "version": "3.5.4"
  }
 },
 "nbformat": 4,
 "nbformat_minor": 2
}
