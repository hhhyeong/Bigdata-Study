{
 "cells": [
  {
   "cell_type": "markdown",
   "metadata": {},
   "source": [
    "# Excersize 82 : Taxi Fare"
   ]
  },
  {
   "cell_type": "code",
   "execution_count": 4,
   "metadata": {},
   "outputs": [
    {
     "data": {
      "text/plain": [
       "29.0"
      ]
     },
     "execution_count": 4,
     "metadata": {},
     "output_type": "execute_result"
    }
   ],
   "source": [
    "bareFare = 4.00\n",
    "totalFare = 4.00\n",
    "\n",
    "def fare(dist_kilo):\n",
    "    global totalFare\n",
    "    dist_meter = dist_kilo * 1000\n",
    "    totalFare += (dist_meter / 140) * 0.25\n",
    "    return totalFare\n",
    "\n",
    "fare(14)"
   ]
  },
  {
   "cell_type": "markdown",
   "metadata": {},
   "source": [
    "# Excersize 84 : Median of Three Values"
   ]
  },
  {
   "cell_type": "code",
   "execution_count": 11,
   "metadata": {},
   "outputs": [
    {
     "name": "stdout",
     "output_type": "stream",
     "text": [
      "7\n",
      "5\n",
      "99\n",
      "[5, 7, 99]\n"
     ]
    },
    {
     "data": {
      "text/plain": [
       "7"
      ]
     },
     "execution_count": 11,
     "metadata": {},
     "output_type": "execute_result"
    }
   ],
   "source": [
    "num_list = []\n",
    "\n",
    "num1 = int(input())\n",
    "num2 = int(input())\n",
    "num3 = int(input())\n",
    "\n",
    "num_list.append(num1)\n",
    "num_list.append(num2)\n",
    "num_list.append(num3)\n",
    "\n",
    "num_list.sort()\n",
    "print(num_list)\n",
    "num_list[1]"
   ]
  },
  {
   "cell_type": "markdown",
   "metadata": {},
   "source": [
    "# Excersize 85 : Convert an Integer to its Ordinal Number"
   ]
  },
  {
   "cell_type": "code",
   "execution_count": 13,
   "metadata": {},
   "outputs": [
    {
     "name": "stdout",
     "output_type": "stream",
     "text": [
      "5\n",
      "five\n"
     ]
    }
   ],
   "source": [
    "num = int(input())\n",
    "\n",
    "def convert(num):\n",
    "    if num == 1:\n",
    "        print(\"first\")\n",
    "    elif num == 2:\n",
    "        print(\"two\")\n",
    "    elif num == 3:\n",
    "        print(\"three\")\n",
    "    elif num == 4:\n",
    "        print(\"four\")\n",
    "    elif num == 5:\n",
    "        print(\"five\")\n",
    "    elif num == 6:\n",
    "        print(\"six\")\n",
    "    elif num == 7:\n",
    "        print(\"seven\")\n",
    "    elif num == 8:\n",
    "        print(\"eight\")\n",
    "    elif num == 9:\n",
    "        print(\"nine\")\n",
    "    elif num == 10:\n",
    "        print(\"ten\")\n",
    "    elif num == 11:\n",
    "        print(\"eleven\")\n",
    "    elif num == 12:\n",
    "        print(\"twelve\")\n",
    "    else:\n",
    "        print(\"\")\n",
    "\n",
    "convert(num)"
   ]
  },
  {
   "cell_type": "markdown",
   "metadata": {},
   "source": [
    "# Excersize 88 : Is it a Valid Triangle?"
   ]
  },
  {
   "cell_type": "code",
   "execution_count": 25,
   "metadata": {},
   "outputs": [
    {
     "name": "stdout",
     "output_type": "stream",
     "text": [
      "4\n",
      "5\n",
      "6\n",
      "[4, 5, 6]\n"
     ]
    },
    {
     "data": {
      "text/plain": [
       "True"
      ]
     },
     "execution_count": 25,
     "metadata": {},
     "output_type": "execute_result"
    }
   ],
   "source": [
    "line1 = int(input())\n",
    "line2 = int(input())\n",
    "line3 = int(input())\n",
    "\n",
    "line_list = []\n",
    "line_list.append(line1)\n",
    "line_list.append(line2)\n",
    "line_list.append(line3)\n",
    "\n",
    "def isTri(a, b, c):\n",
    "    global line_list\n",
    "    line_sum = line_list[0] + line_list[1] + line_list[2]\n",
    "    if max(line_list) >= line_sum - max(line_list):\n",
    "        return False\n",
    "    else:\n",
    "        return True\n",
    "    \n",
    "isTri(line1, line2, line3)"
   ]
  },
  {
   "cell_type": "markdown",
   "metadata": {},
   "source": [
    "# Excersize 92 : Is a Number Prime?"
   ]
  },
  {
   "cell_type": "code",
   "execution_count": 30,
   "metadata": {},
   "outputs": [
    {
     "name": "stdout",
     "output_type": "stream",
     "text": [
      "18\n"
     ]
    },
    {
     "data": {
      "text/plain": [
       "False"
      ]
     },
     "execution_count": 30,
     "metadata": {},
     "output_type": "execute_result"
    }
   ],
   "source": [
    "num = int(input())\n",
    "\n",
    "def isPrime(num):\n",
    "    for i in range(2, num):\n",
    "        if num % i == 0:\n",
    "            return False\n",
    "    return True\n",
    "\n",
    "isPrime(num)"
   ]
  },
  {
   "cell_type": "markdown",
   "metadata": {},
   "source": [
    "### ========================Advanced==========================="
   ]
  },
  {
   "cell_type": "markdown",
   "metadata": {},
   "source": [
    "# Excersize 86 : The Twelve Days of Christmas"
   ]
  },
  {
   "cell_type": "code",
   "execution_count": 31,
   "metadata": {},
   "outputs": [
    {
     "ename": "SyntaxError",
     "evalue": "invalid syntax (<ipython-input-31-babd7cdfcf7f>, line 3)",
     "output_type": "error",
     "traceback": [
      "\u001b[1;36m  File \u001b[1;32m\"<ipython-input-31-babd7cdfcf7f>\"\u001b[1;36m, line \u001b[1;32m3\u001b[0m\n\u001b[1;33m    my = new mc()\u001b[0m\n\u001b[1;37m              ^\u001b[0m\n\u001b[1;31mSyntaxError\u001b[0m\u001b[1;31m:\u001b[0m invalid syntax\n"
     ]
    }
   ],
   "source": [
    "day = int(input())\n",
    "\n",
    "convert(day)\n",
    "\n",
    "def printLyrics(day):\n",
    "    \n",
    "    "
   ]
  },
  {
   "cell_type": "markdown",
   "metadata": {},
   "source": [
    "# Excersize 89 : Capitalize It"
   ]
  },
  {
   "cell_type": "markdown",
   "metadata": {},
   "source": [
    "# Excersize 90 : Does a String Represent an Integer?"
   ]
  },
  {
   "cell_type": "markdown",
   "metadata": {},
   "source": [
    "# Excersize 93 : Next Prime"
   ]
  },
  {
   "cell_type": "markdown",
   "metadata": {},
   "source": [
    "# Excersize 96 : Check a Password"
   ]
  },
  {
   "cell_type": "code",
   "execution_count": null,
   "metadata": {},
   "outputs": [],
   "source": []
  }
 ],
 "metadata": {
  "kernelspec": {
   "display_name": "Python 3",
   "language": "python",
   "name": "python3"
  },
  "language_info": {
   "codemirror_mode": {
    "name": "ipython",
    "version": 3
   },
   "file_extension": ".py",
   "mimetype": "text/x-python",
   "name": "python",
   "nbconvert_exporter": "python",
   "pygments_lexer": "ipython3",
   "version": "3.5.4"
  }
 },
 "nbformat": 4,
 "nbformat_minor": 2
}
