{
 "cells": [
  {
   "cell_type": "code",
   "execution_count": null,
   "metadata": {},
   "outputs": [],
   "source": [
    "# positional Error\n",
    "# 두개입력해야하는데 한개 입력했을 때.\n"
   ]
  },
  {
   "cell_type": "code",
   "execution_count": null,
   "metadata": {},
   "outputs": [],
   "source": [
    "# multiple values .... => key문제"
   ]
  },
  {
   "cell_type": "code",
   "execution_count": 1,
   "metadata": {},
   "outputs": [
    {
     "data": {
      "text/plain": [
       "(0, {})"
      ]
     },
     "execution_count": 1,
     "metadata": {},
     "output_type": "execute_result"
    }
   ],
   "source": [
    "def moon(x, **y):\n",
    "    return x,y\n",
    "\n",
    "moon(0,**{})\n",
    "#**는 dict풀어주는거\n",
    "#*는 list계열 풀어주는거\n",
    "# *쓸때는, list, set, tuple str, container로 묶어있어야함."
   ]
  },
  {
   "cell_type": "code",
   "execution_count": null,
   "metadata": {},
   "outputs": [],
   "source": [
    "# 함수에 들어갈때는 (argument, 빵)풀어헤쳐서 들어가야함.!!!!!\n"
   ]
  },
  {
   "cell_type": "code",
   "execution_count": 2,
   "metadata": {},
   "outputs": [
    {
     "data": {
      "text/plain": [
       "(0, {'1': 2, '2': 3})"
      ]
     },
     "execution_count": 2,
     "metadata": {},
     "output_type": "execute_result"
    }
   ],
   "source": [
    "moon(0,**{'1':2, '2':3})"
   ]
  },
  {
   "cell_type": "code",
   "execution_count": 3,
   "metadata": {},
   "outputs": [
    {
     "data": {
      "text/plain": [
       "(1, {'1': 2, '2': 3})"
      ]
     },
     "execution_count": 3,
     "metadata": {},
     "output_type": "execute_result"
    }
   ],
   "source": [
    "moon(1,**{'1':2, '2':3})\n",
    "\n",
    "# 값이 중복됐을 때 에러난다면서 왜안남??????????????????????????????????????"
   ]
  },
  {
   "cell_type": "code",
   "execution_count": 4,
   "metadata": {},
   "outputs": [
    {
     "ename": "TypeError",
     "evalue": "moon() keywords must be strings",
     "output_type": "error",
     "traceback": [
      "\u001b[1;31m---------------------------------------------------------------------------\u001b[0m",
      "\u001b[1;31mTypeError\u001b[0m                                 Traceback (most recent call last)",
      "\u001b[1;32m<ipython-input-4-5b9d3f495b8c>\u001b[0m in \u001b[0;36m<module>\u001b[1;34m()\u001b[0m\n\u001b[1;32m----> 1\u001b[1;33m \u001b[0mmoon\u001b[0m\u001b[1;33m(\u001b[0m\u001b[1;36m1\u001b[0m\u001b[1;33m,\u001b[0m\u001b[1;33m**\u001b[0m\u001b[1;33m{\u001b[0m\u001b[1;36m1\u001b[0m\u001b[1;33m:\u001b[0m\u001b[1;36m2\u001b[0m\u001b[1;33m,\u001b[0m \u001b[1;34m'2'\u001b[0m\u001b[1;33m:\u001b[0m\u001b[1;36m3\u001b[0m\u001b[1;33m}\u001b[0m\u001b[1;33m)\u001b[0m\u001b[1;33m\u001b[0m\u001b[0m\n\u001b[0m",
      "\u001b[1;31mTypeError\u001b[0m: moon() keywords must be strings"
     ]
    }
   ],
   "source": [
    "moon(1,**{1:2, '2':3})\n",
    "\n",
    "# keyword는 str이어야하기때문에 나는 에러.\n",
    "# 함수의 signature은 기본적으로 문자열만 가능..!\n",
    "# 문자열처리해야함. "
   ]
  },
  {
   "cell_type": "code",
   "execution_count": 6,
   "metadata": {},
   "outputs": [
    {
     "data": {
      "text/plain": [
       "{1: '3', 2: '3'}"
      ]
     },
     "execution_count": 6,
     "metadata": {},
     "output_type": "execute_result"
    }
   ],
   "source": [
    "a = {1:'3', 2:'3'}\n",
    "a\n",
    "\n",
    "# 이렇게만들면 함수로 들어갈때 맨날 에러나니까 개발자가 욕먹는거."
   ]
  },
  {
   "cell_type": "code",
   "execution_count": null,
   "metadata": {},
   "outputs": [],
   "source": [
    "# 함수는 first class citizen. 그 값이 데이터처럼 사용할 수 있을 때.\n",
    "# 1) 할당가능.\n",
    "# 2) 함수의 인자로 들어갈 수 있음. \n",
    "# 3) 함수의 return으로 사용가능.\n",
    "# 4) 자료구조의 값으로도 사용가능.\n",
    "\n",
    "\n",
    "\n",
    "\n",
    "# 이걸 지원하는 파이썬 함수는 first class function\n",
    "# java는 second class임. 지원 안하는게잇음 .java 1.8부터 지원가능.\n",
    "\n",
    "\n",
    "\n",
    "\n",
    "# high-other function : 함수를 리턴. 인자로 받을 수 있을 때..\n",
    "# fistt class function이면 무조건 high-other function임.\n",
    "# 함수형 기법(functional paradigm)을 지원함.\n",
    "# -박대이터 유행하고 겁나 중요해짐........ 우리는 못배움 어려워서.\n",
    "# map, filter, reduce 만 지원해주는 경우많음.\n",
    "# literable이 들어오면,"
   ]
  },
  {
   "cell_type": "code",
   "execution_count": 7,
   "metadata": {},
   "outputs": [],
   "source": [
    "a = {'a':1, 'b':2, 'c':3}\n",
    "\n",
    "# 검색할때 속도는 빠르지만,\n",
    "# 반복할때 속도는 느림."
   ]
  },
  {
   "cell_type": "code",
   "execution_count": 8,
   "metadata": {},
   "outputs": [
    {
     "name": "stdout",
     "output_type": "stream",
     "text": [
      "a\n",
      "b\n",
      "c\n"
     ]
    }
   ],
   "source": [
    "for i in a:\n",
    "    print(i)\n",
    "    \n",
    "# in은 key만 체크하는 애."
   ]
  },
  {
   "cell_type": "code",
   "execution_count": 11,
   "metadata": {},
   "outputs": [
    {
     "data": {
      "text/plain": [
       "dict_values([1, 2, 3])"
      ]
     },
     "execution_count": 11,
     "metadata": {},
     "output_type": "execute_result"
    }
   ],
   "source": [
    "# dic의 value만 돌리고싶으면\n",
    "a.values()"
   ]
  },
  {
   "cell_type": "code",
   "execution_count": 12,
   "metadata": {},
   "outputs": [
    {
     "name": "stdout",
     "output_type": "stream",
     "text": [
      "a\n",
      "b\n",
      "c\n"
     ]
    }
   ],
   "source": [
    "for i in a.keys():\n",
    "    print(i)"
   ]
  },
  {
   "cell_type": "code",
   "execution_count": 13,
   "metadata": {},
   "outputs": [
    {
     "name": "stdout",
     "output_type": "stream",
     "text": [
      "('a', 1)\n",
      "('b', 2)\n",
      "('c', 3)\n"
     ]
    }
   ],
   "source": [
    "for i in a.items():\n",
    "    print(i)\n",
    "    \n",
    "# tuple로 결과값나오는애들은 unpacking이 가능함."
   ]
  },
  {
   "cell_type": "code",
   "execution_count": 17,
   "metadata": {},
   "outputs": [
    {
     "name": "stdout",
     "output_type": "stream",
     "text": [
      "1\n",
      "2\n",
      "3\n"
     ]
    }
   ],
   "source": [
    "for i,j in a.items():\n",
    "    print(j) \n",
    "    #print(j)\n",
    "\n",
    "# keys(), values(), items() 알고있자."
   ]
  },
  {
   "cell_type": "markdown",
   "metadata": {},
   "source": [
    "# dict의 keys(), values(), items()함수 알고있자."
   ]
  },
  {
   "cell_type": "code",
   "execution_count": 19,
   "metadata": {},
   "outputs": [],
   "source": [
    "# Dict는 sequence아닌데, Sequence타입 가지게 하는 방법임.\n",
    "from collections import OrderedDict\n",
    "\n",
    "# Tuple을 key,value타입으로 만드는애도있음."
   ]
  },
  {
   "cell_type": "code",
   "execution_count": null,
   "metadata": {},
   "outputs": [],
   "source": []
  }
 ],
 "metadata": {
  "kernelspec": {
   "display_name": "Python 3",
   "language": "python",
   "name": "python3"
  },
  "language_info": {
   "codemirror_mode": {
    "name": "ipython",
    "version": 3
   },
   "file_extension": ".py",
   "mimetype": "text/x-python",
   "name": "python",
   "nbconvert_exporter": "python",
   "pygments_lexer": "ipython3",
   "version": "3.5.4"
  }
 },
 "nbformat": 4,
 "nbformat_minor": 2
}
