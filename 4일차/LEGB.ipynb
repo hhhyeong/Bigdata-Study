{
 "cells": [
  {
   "cell_type": "markdown",
   "metadata": {},
   "source": [
    "# Easy"
   ]
  },
  {
   "cell_type": "code",
   "execution_count": 2,
   "metadata": {},
   "outputs": [
    {
     "name": "stdout",
     "output_type": "stream",
     "text": [
      "x inside : global\n",
      "x outside: global\n"
     ]
    }
   ],
   "source": [
    "x = \"global\"\n",
    "\n",
    "def foo():\n",
    "    print(\"x inside :\", x)\n",
    "\n",
    "foo()\n",
    "print(\"x outside:\", x)"
   ]
  },
  {
   "cell_type": "code",
   "execution_count": 4,
   "metadata": {},
   "outputs": [
    {
     "name": "stdout",
     "output_type": "stream",
     "text": [
      "globalglobal\n"
     ]
    }
   ],
   "source": [
    "x = \"global\"\n",
    "\n",
    "def foo():\n",
    "#     global x\n",
    "    x = x * 2\n",
    "    print(x)\n",
    "foo()"
   ]
  },
  {
   "cell_type": "code",
   "execution_count": 5,
   "metadata": {},
   "outputs": [
    {
     "ename": "NameError",
     "evalue": "name 'y' is not defined",
     "output_type": "error",
     "traceback": [
      "\u001b[0;31m---------------------------------------------------------------------------\u001b[0m",
      "\u001b[0;31mNameError\u001b[0m                                 Traceback (most recent call last)",
      "\u001b[0;32m<ipython-input-5-92f817b0ade3>\u001b[0m in \u001b[0;36m<module>\u001b[0;34m()\u001b[0m\n\u001b[1;32m      3\u001b[0m \u001b[0;34m\u001b[0m\u001b[0m\n\u001b[1;32m      4\u001b[0m \u001b[0mfoo\u001b[0m\u001b[0;34m(\u001b[0m\u001b[0;34m)\u001b[0m\u001b[0;34m\u001b[0m\u001b[0m\n\u001b[0;32m----> 5\u001b[0;31m \u001b[0mprint\u001b[0m\u001b[0;34m(\u001b[0m\u001b[0my\u001b[0m\u001b[0;34m)\u001b[0m\u001b[0;34m\u001b[0m\u001b[0m\n\u001b[0m",
      "\u001b[0;31mNameError\u001b[0m: name 'y' is not defined"
     ]
    }
   ],
   "source": [
    "def foo():\n",
    "    y = \"local\"\n",
    "\n",
    "foo()\n",
    "print(y)"
   ]
  },
  {
   "cell_type": "code",
   "execution_count": 6,
   "metadata": {},
   "outputs": [
    {
     "name": "stdout",
     "output_type": "stream",
     "text": [
      "local\n"
     ]
    }
   ],
   "source": [
    "def foo():\n",
    "    y = \"local\"\n",
    "    print(y)\n",
    "\n",
    "foo()"
   ]
  },
  {
   "cell_type": "code",
   "execution_count": 7,
   "metadata": {},
   "outputs": [
    {
     "name": "stdout",
     "output_type": "stream",
     "text": [
      "globalglobal\n",
      "local\n"
     ]
    }
   ],
   "source": [
    "x = \"global\"\n",
    "\n",
    "def foo():\n",
    "    global x\n",
    "    y = \"local\"\n",
    "    x = x * 2\n",
    "    print(x)\n",
    "    print(y)\n",
    "    \n",
    "foo()"
   ]
  },
  {
   "cell_type": "code",
   "execution_count": 8,
   "metadata": {},
   "outputs": [
    {
     "name": "stdout",
     "output_type": "stream",
     "text": [
      "local x: 10\n",
      "global x: 5\n"
     ]
    }
   ],
   "source": [
    "x = 5\n",
    "\n",
    "def foo():\n",
    "    x = 10\n",
    "    print(\"local x:\", x)\n",
    "\n",
    "foo()\n",
    "print(\"global x:\", x)"
   ]
  },
  {
   "cell_type": "code",
   "execution_count": 10,
   "metadata": {},
   "outputs": [
    {
     "name": "stdout",
     "output_type": "stream",
     "text": [
      "inner: nonlocal\n",
      "outer: local\n"
     ]
    }
   ],
   "source": [
    "x = \"local\"\n",
    "\n",
    "def inner():\n",
    "#         nonlocal x\n",
    "        x = \"nonlocal\"\n",
    "        print(\"inner:\", x)\n",
    "    \n",
    "inner()\n",
    "print(\"outer:\", x)"
   ]
  },
  {
   "cell_type": "code",
   "execution_count": 11,
   "metadata": {},
   "outputs": [
    {
     "name": "stdout",
     "output_type": "stream",
     "text": [
      "inner: nonlocal\n",
      "outer: nonlocal\n"
     ]
    }
   ],
   "source": [
    "def outer():\n",
    "    x = \"local\"\n",
    "    \n",
    "    def inner():\n",
    "        nonlocal x\n",
    "        x = \"nonlocal\"\n",
    "        print(\"inner:\", x)\n",
    "    \n",
    "    inner()\n",
    "    print(\"outer:\", x)\n",
    "\n",
    "outer()"
   ]
  },
  {
   "cell_type": "code",
   "execution_count": null,
   "metadata": {},
   "outputs": [],
   "source": []
  },
  {
   "cell_type": "markdown",
   "metadata": {},
   "source": [
    "---"
   ]
  },
  {
   "cell_type": "markdown",
   "metadata": {},
   "source": [
    "- When we create a variable inside a function, it’s local by default.\n",
    "- When we define a variable outside of a function, it’s global by default. You don’t have to use global keyword.\n",
    "- We use global keyword to read and write a global variable inside a function.\n",
    "- Use of global keyword outside a function has no effect"
   ]
  },
  {
   "cell_type": "code",
   "execution_count": 9,
   "metadata": {},
   "outputs": [
    {
     "name": "stdout",
     "output_type": "stream",
     "text": [
      "1\n"
     ]
    }
   ],
   "source": [
    "c = 1 # global variable\n",
    "\n",
    "def add():\n",
    "    print(c)\n",
    "\n",
    "add()"
   ]
  },
  {
   "cell_type": "code",
   "execution_count": 10,
   "metadata": {},
   "outputs": [
    {
     "ename": "UnboundLocalError",
     "evalue": "local variable 'c' referenced before assignment",
     "output_type": "error",
     "traceback": [
      "\u001b[0;31m---------------------------------------------------------------------------\u001b[0m",
      "\u001b[0;31mUnboundLocalError\u001b[0m                         Traceback (most recent call last)",
      "\u001b[0;32m<ipython-input-10-10710404b9bd>\u001b[0m in \u001b[0;36m<module>\u001b[0;34m()\u001b[0m\n\u001b[1;32m      5\u001b[0m     \u001b[0mprint\u001b[0m\u001b[0;34m(\u001b[0m\u001b[0mc\u001b[0m\u001b[0;34m)\u001b[0m\u001b[0;34m\u001b[0m\u001b[0m\n\u001b[1;32m      6\u001b[0m \u001b[0;34m\u001b[0m\u001b[0m\n\u001b[0;32m----> 7\u001b[0;31m \u001b[0madd\u001b[0m\u001b[0;34m(\u001b[0m\u001b[0;34m)\u001b[0m\u001b[0;34m\u001b[0m\u001b[0m\n\u001b[0m",
      "\u001b[0;32m<ipython-input-10-10710404b9bd>\u001b[0m in \u001b[0;36madd\u001b[0;34m()\u001b[0m\n\u001b[1;32m      2\u001b[0m \u001b[0;34m\u001b[0m\u001b[0m\n\u001b[1;32m      3\u001b[0m \u001b[0;32mdef\u001b[0m \u001b[0madd\u001b[0m\u001b[0;34m(\u001b[0m\u001b[0;34m)\u001b[0m\u001b[0;34m:\u001b[0m\u001b[0;34m\u001b[0m\u001b[0m\n\u001b[0;32m----> 4\u001b[0;31m     \u001b[0mc\u001b[0m \u001b[0;34m=\u001b[0m \u001b[0mc\u001b[0m \u001b[0;34m+\u001b[0m \u001b[0;36m2\u001b[0m \u001b[0;31m# increment c by 2\u001b[0m\u001b[0;34m\u001b[0m\u001b[0m\n\u001b[0m\u001b[1;32m      5\u001b[0m     \u001b[0mprint\u001b[0m\u001b[0;34m(\u001b[0m\u001b[0mc\u001b[0m\u001b[0;34m)\u001b[0m\u001b[0;34m\u001b[0m\u001b[0m\n\u001b[1;32m      6\u001b[0m \u001b[0;34m\u001b[0m\u001b[0m\n",
      "\u001b[0;31mUnboundLocalError\u001b[0m: local variable 'c' referenced before assignment"
     ]
    }
   ],
   "source": [
    "c = 1 # global variable\n",
    "    \n",
    "def add():\n",
    "    c = c + 2 # increment c by 2\n",
    "    print(c)\n",
    "\n",
    "add()"
   ]
  },
  {
   "cell_type": "code",
   "execution_count": 11,
   "metadata": {},
   "outputs": [
    {
     "name": "stdout",
     "output_type": "stream",
     "text": [
      "Inside add(): 2\n",
      "In main: 2\n"
     ]
    }
   ],
   "source": [
    "c = 0 # global variable\n",
    "\n",
    "def add():\n",
    "    global c\n",
    "    c = c + 2 # increment by 2\n",
    "    print(\"Inside add():\", c)\n",
    "\n",
    "add()\n",
    "print(\"In main:\", c)"
   ]
  },
  {
   "cell_type": "code",
   "execution_count": 14,
   "metadata": {},
   "outputs": [],
   "source": [
    "a,b=b,a"
   ]
  },
  {
   "cell_type": "code",
   "execution_count": 16,
   "metadata": {},
   "outputs": [
    {
     "data": {
      "text/plain": [
       "3"
      ]
     },
     "execution_count": 16,
     "metadata": {},
     "output_type": "execute_result"
    }
   ],
   "source": [
    "b"
   ]
  },
  {
   "cell_type": "markdown",
   "metadata": {},
   "source": [
    "# Medium "
   ]
  },
  {
   "cell_type": "code",
   "execution_count": 31,
   "metadata": {},
   "outputs": [
    {
     "name": "stdout",
     "output_type": "stream",
     "text": [
      "global variable [ a_var inside a_func() ]\n",
      "global variable [ a_var outside a_func() ]\n"
     ]
    }
   ],
   "source": [
    "a_var = 'global variable'\n",
    "\n",
    "def a_func():\n",
    "    print(a_var, '[ a_var inside a_func() ]')\n",
    "\n",
    "a_func()\n",
    "print(a_var, '[ a_var outside a_func() ]')"
   ]
  },
  {
   "cell_type": "code",
   "execution_count": 32,
   "metadata": {},
   "outputs": [
    {
     "name": "stdout",
     "output_type": "stream",
     "text": [
      "local value [ a_var inside a_func() ]\n",
      "global value [ a_var outside a_func() ]\n"
     ]
    }
   ],
   "source": [
    "a_var = 'global value'\n",
    "\n",
    "def a_func():\n",
    "    a_var = 'local value'\n",
    "    print(a_var, '[ a_var inside a_func() ]')\n",
    "\n",
    "a_func()\n",
    "print(a_var, '[ a_var outside a_func() ]')"
   ]
  },
  {
   "cell_type": "code",
   "execution_count": 18,
   "metadata": {},
   "outputs": [
    {
     "name": "stdout",
     "output_type": "stream",
     "text": [
      "global value [ a_var outside a_func() ]\n",
      "global value [ a_var inside a_func() ]\n",
      "global value [ a_var outside a_func() ]\n"
     ]
    }
   ],
   "source": [
    "a_var = 'global value'\n",
    "\n",
    "def a_func():\n",
    "    global a_var\n",
    "    a_var = 'local value'\n",
    "    print(a_var, '[ a_var inside a_func() ]')\n",
    "\n",
    "print(a_var, '[ a_var outside a_func() ]')\n",
    "a_func()\n",
    "print(a_var, '[ a_var outside a_func() ]')"
   ]
  },
  {
   "cell_type": "code",
   "execution_count": 34,
   "metadata": {},
   "outputs": [
    {
     "name": "stdout",
     "output_type": "stream",
     "text": [
      "1 [ a_var outside a_func() ]\n"
     ]
    },
    {
     "ename": "UnboundLocalError",
     "evalue": "local variable 'a_var' referenced before assignment",
     "output_type": "error",
     "traceback": [
      "\u001b[0;31m---------------------------------------------------------------------------\u001b[0m",
      "\u001b[0;31mUnboundLocalError\u001b[0m                         Traceback (most recent call last)",
      "\u001b[0;32m<ipython-input-34-2cd52cfb1ba1>\u001b[0m in \u001b[0;36m<module>\u001b[0;34m()\u001b[0m\n\u001b[1;32m      6\u001b[0m \u001b[0;34m\u001b[0m\u001b[0m\n\u001b[1;32m      7\u001b[0m \u001b[0mprint\u001b[0m\u001b[0;34m(\u001b[0m\u001b[0ma_var\u001b[0m\u001b[0;34m,\u001b[0m \u001b[0;34m'[ a_var outside a_func() ]'\u001b[0m\u001b[0;34m)\u001b[0m\u001b[0;34m\u001b[0m\u001b[0m\n\u001b[0;32m----> 8\u001b[0;31m \u001b[0ma_func\u001b[0m\u001b[0;34m(\u001b[0m\u001b[0;34m)\u001b[0m\u001b[0;34m\u001b[0m\u001b[0m\n\u001b[0m",
      "\u001b[0;32m<ipython-input-34-2cd52cfb1ba1>\u001b[0m in \u001b[0;36ma_func\u001b[0;34m()\u001b[0m\n\u001b[1;32m      2\u001b[0m \u001b[0;34m\u001b[0m\u001b[0m\n\u001b[1;32m      3\u001b[0m \u001b[0;32mdef\u001b[0m \u001b[0ma_func\u001b[0m\u001b[0;34m(\u001b[0m\u001b[0;34m)\u001b[0m\u001b[0;34m:\u001b[0m\u001b[0;34m\u001b[0m\u001b[0m\n\u001b[0;32m----> 4\u001b[0;31m     \u001b[0ma_var\u001b[0m \u001b[0;34m=\u001b[0m \u001b[0ma_var\u001b[0m \u001b[0;34m+\u001b[0m \u001b[0;36m1\u001b[0m\u001b[0;34m\u001b[0m\u001b[0m\n\u001b[0m\u001b[1;32m      5\u001b[0m     \u001b[0mprint\u001b[0m\u001b[0;34m(\u001b[0m\u001b[0ma_var\u001b[0m\u001b[0;34m,\u001b[0m \u001b[0;34m'[ a_var inside a_func() ]'\u001b[0m\u001b[0;34m)\u001b[0m\u001b[0;34m\u001b[0m\u001b[0m\n\u001b[1;32m      6\u001b[0m \u001b[0;34m\u001b[0m\u001b[0m\n",
      "\u001b[0;31mUnboundLocalError\u001b[0m: local variable 'a_var' referenced before assignment"
     ]
    }
   ],
   "source": [
    "a_var = 1\n",
    "\n",
    "def a_func():\n",
    "    a_var = a_var + 1\n",
    "    print(a_var, '[ a_var inside a_func() ]')\n",
    "\n",
    "print(a_var, '[ a_var outside a_func() ]')\n",
    "a_func()"
   ]
  },
  {
   "cell_type": "code",
   "execution_count": 35,
   "metadata": {},
   "outputs": [
    {
     "name": "stdout",
     "output_type": "stream",
     "text": [
      "local value\n"
     ]
    }
   ],
   "source": [
    "a_var = 'global value'\n",
    "\n",
    "def outer():\n",
    "    a_var = 'enclosed value'\n",
    "\n",
    "    def inner():\n",
    "        a_var = 'local value'\n",
    "        print(a_var)\n",
    "\n",
    "    inner()\n",
    "\n",
    "outer()"
   ]
  },
  {
   "cell_type": "code",
   "execution_count": 36,
   "metadata": {},
   "outputs": [
    {
     "name": "stdout",
     "output_type": "stream",
     "text": [
      "outer before: local value\n",
      "in inner(): inner value\n",
      "outer after: inner value\n"
     ]
    }
   ],
   "source": [
    "a_var = 'global value'\n",
    "\n",
    "def outer():\n",
    "       a_var = 'local value'\n",
    "       print('outer before:', a_var)\n",
    "       def inner():\n",
    "           nonlocal a_var\n",
    "           a_var = 'inner value'\n",
    "           print('in inner():', a_var)\n",
    "       inner()\n",
    "       print(\"outer after:\", a_var)\n",
    "outer()"
   ]
  },
  {
   "cell_type": "code",
   "execution_count": 37,
   "metadata": {},
   "outputs": [
    {
     "name": "stdout",
     "output_type": "stream",
     "text": [
      "called my len() function\n",
      "Input variable is of length 13\n"
     ]
    }
   ],
   "source": [
    "a_var = 'global variable'\n",
    "\n",
    "def len(in_var):\n",
    "    print('called my len() function')\n",
    "    l = 0\n",
    "    for i in in_var:\n",
    "        l += 1\n",
    "    return l\n",
    "\n",
    "def a_func(in_var):\n",
    "    len_in_var = len(in_var)\n",
    "    print('Input variable is of length', len_in_var)\n",
    "\n",
    "a_func('Hello, World!')"
   ]
  },
  {
   "cell_type": "markdown",
   "metadata": {},
   "source": [
    "# Exercise "
   ]
  },
  {
   "cell_type": "code",
   "execution_count": 23,
   "metadata": {},
   "outputs": [
    {
     "name": "stdout",
     "output_type": "stream",
     "text": [
      "Before calling bar:  20 30\n",
      "--- Calling bar now ---\n",
      "After calling bar:  20 25\n",
      "x,y in main :  25 10\n"
     ]
    }
   ],
   "source": [
    "x = 15\n",
    "y = 10\n",
    "\n",
    "def foo():\n",
    "    x = 20\n",
    "    y = 30\n",
    "    def bar():\n",
    "        global x\n",
    "        nonlocal y\n",
    "        x = 25\n",
    "        y = 25\n",
    "    \n",
    "    print(\"Before calling bar: \", x,y)\n",
    "    print(\"--- Calling bar now ---\")\n",
    "    bar()\n",
    "    print(\"After calling bar: \", x,y)\n",
    "\n",
    "# bar()\n",
    "foo()\n",
    "print(\"x,y in main : \", x,y)"
   ]
  },
  {
   "cell_type": "code",
   "execution_count": 29,
   "metadata": {},
   "outputs": [
    {
     "name": "stdout",
     "output_type": "stream",
     "text": [
      "a is local variable\n",
      "called my len() function: 14\n",
      "6\n",
      "a is global\n"
     ]
    }
   ],
   "source": [
    "a = 'global'\n",
    "\n",
    "def outer():\n",
    "\n",
    "    def len(in_var):\n",
    "        print('called my len() function: ', end=\"\")\n",
    "        l = 0\n",
    "        for i in in_var:\n",
    "            l += 1\n",
    "        return l\n",
    "\n",
    "    a = 'local'\n",
    "\n",
    "    def inner():\n",
    "        global len\n",
    "        nonlocal a\n",
    "        a += ' variable'\n",
    "    inner()\n",
    "    print('a is', a)\n",
    "    print(len(a))\n",
    "\n",
    "\n",
    "outer()\n",
    "\n",
    "print(len(a))\n",
    "print('a is', a)"
   ]
  },
  {
   "cell_type": "markdown",
   "metadata": {},
   "source": [
    "---"
   ]
  },
  {
   "cell_type": "code",
   "execution_count": 30,
   "metadata": {},
   "outputs": [
    {
     "name": "stdout",
     "output_type": "stream",
     "text": [
      "global variable [ a_var inside a_func() ]\n",
      "global variable [ a_var outside a_func() ]\n"
     ]
    }
   ],
   "source": [
    "a_var = 'global variable'\n",
    "\n",
    "def a_func():\n",
    "    print(a_var, '[ a_var inside a_func() ]')\n",
    "\n",
    "a_func()\n",
    "print(a_var, '[ a_var outside a_func() ]')"
   ]
  },
  {
   "cell_type": "markdown",
   "metadata": {},
   "source": [
    "---"
   ]
  },
  {
   "cell_type": "code",
   "execution_count": 28,
   "metadata": {},
   "outputs": [
    {
     "name": "stdout",
     "output_type": "stream",
     "text": [
      "4 -> b in for-loop\n",
      "4 -> b in global\n"
     ]
    }
   ],
   "source": [
    "b = 1\n",
    "for b in range(5):\n",
    "    if b == 4:\n",
    "        print(b, '-> b in for-loop')\n",
    "print(b, '-> b in global')"
   ]
  },
  {
   "cell_type": "code",
   "execution_count": 27,
   "metadata": {},
   "outputs": [
    {
     "name": "stdout",
     "output_type": "stream",
     "text": [
      "[0, 1, 2, 3, 4]\n",
      "1 -> i in global\n"
     ]
    }
   ],
   "source": [
    "i = 1\n",
    "print([i for i in range(5)])\n",
    "print(i, '-> i in global')"
   ]
  },
  {
   "cell_type": "code",
   "execution_count": 21,
   "metadata": {},
   "outputs": [
    {
     "ename": "NameError",
     "evalue": "name 'xxxxxx' is not defined",
     "output_type": "error",
     "traceback": [
      "\u001b[0;31m---------------------------------------------------------------------------\u001b[0m",
      "\u001b[0;31mNameError\u001b[0m                                 Traceback (most recent call last)",
      "\u001b[0;32m<ipython-input-21-550faf3f17ec>\u001b[0m in \u001b[0;36m<module>\u001b[0;34m()\u001b[0m\n\u001b[0;32m----> 1\u001b[0;31m \u001b[0mxxxxxx\u001b[0m \u001b[0;34m=\u001b[0m \u001b[0mxxxxxx\u001b[0m \u001b[0;34m+\u001b[0m\u001b[0;36m1\u001b[0m\u001b[0;34m\u001b[0m\u001b[0m\n\u001b[0m",
      "\u001b[0;31mNameError\u001b[0m: name 'xxxxxx' is not defined"
     ]
    }
   ],
   "source": [
    "xxxxxx = xxxxxx +1"
   ]
  },
  {
   "cell_type": "code",
   "execution_count": null,
   "metadata": {},
   "outputs": [],
   "source": []
  }
 ],
 "metadata": {
  "kernelspec": {
   "display_name": "Python 3",
   "language": "python",
   "name": "python3"
  },
  "language_info": {
   "codemirror_mode": {
    "name": "ipython",
    "version": 3
   },
   "file_extension": ".py",
   "mimetype": "text/x-python",
   "name": "python",
   "nbconvert_exporter": "python",
   "pygments_lexer": "ipython3",
   "version": "3.6.5"
  }
 },
 "nbformat": 4,
 "nbformat_minor": 2
}
