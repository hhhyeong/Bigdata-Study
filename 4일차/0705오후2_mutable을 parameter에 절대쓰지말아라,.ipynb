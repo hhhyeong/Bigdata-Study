{
 "cells": [
  {
   "cell_type": "code",
   "execution_count": 2,
   "metadata": {},
   "outputs": [
    {
     "data": {
      "text/plain": [
       "1530770597.6717305"
      ]
     },
     "execution_count": 2,
     "metadata": {},
     "output_type": "execute_result"
    }
   ],
   "source": [
    "import time\n",
    "\n",
    "time.time()"
   ]
  },
  {
   "cell_type": "code",
   "execution_count": 3,
   "metadata": {},
   "outputs": [],
   "source": [
    "def time_at(time=time.time()):\n",
    "    return time"
   ]
  },
  {
   "cell_type": "code",
   "execution_count": 5,
   "metadata": {},
   "outputs": [
    {
     "data": {
      "text/plain": [
       "1530770612.26868"
      ]
     },
     "execution_count": 5,
     "metadata": {},
     "output_type": "execute_result"
    }
   ],
   "source": [
    "time_at()"
   ]
  },
  {
   "cell_type": "code",
   "execution_count": 6,
   "metadata": {},
   "outputs": [
    {
     "data": {
      "text/plain": [
       "1530770612.26868"
      ]
     },
     "execution_count": 6,
     "metadata": {},
     "output_type": "execute_result"
    }
   ],
   "source": [
    "time_at()"
   ]
  },
  {
   "cell_type": "code",
   "execution_count": 7,
   "metadata": {},
   "outputs": [],
   "source": [
    "time.sleep(5)"
   ]
  },
  {
   "cell_type": "code",
   "execution_count": 8,
   "metadata": {},
   "outputs": [
    {
     "data": {
      "text/plain": [
       "1530770612.26868"
      ]
     },
     "execution_count": 8,
     "metadata": {},
     "output_type": "execute_result"
    }
   ],
   "source": [
    "time_at()\n",
    "\n",
    "# 항상 같은"
   ]
  },
  {
   "cell_type": "code",
   "execution_count": 9,
   "metadata": {},
   "outputs": [],
   "source": [
    "# parameter은 처음생성된 갑으로 고정되어버림.\n",
    "# mutable도 다른공간에 빈 list가 생성되서 계속 append되어버리니까 계속 추가된 값이 나온것.\n",
    "# 얘도parameter로 고정되어버리는바람에, 계쏙 같은 값이 나오는것임.\n",
    "\n",
    "# default값은 변할수있는애 mutable을 넣는 순간부터, 생각지도 못한 오류, 원하는 값이 아닌게 나와버림....!!!!!!"
   ]
  },
  {
   "cell_type": "code",
   "execution_count": 12,
   "metadata": {},
   "outputs": [
    {
     "data": {
      "text/plain": [
       "1"
      ]
     },
     "execution_count": 12,
     "metadata": {},
     "output_type": "execute_result"
    }
   ],
   "source": [
    "def moon(self=None):\n",
    "    return self\n",
    "\n",
    "moon()\n",
    "moon(1)\n",
    "\n",
    "# 명백하게 입력값, 출력값을 구분시킴. 이걸하면 debugging할때 좋음.\n",
    "# 이론상, 함수형기법을 썼더니, 코드가 간결해지고, debugging하기도좋고, paralyzing 병렬화하기도 좋고, 요즘언어는 함수형기법으로 나온다.\n",
    "# Python은 아주 오래전부터 함수형기법으로 쓰고있었당...!\n",
    "# 최근, 데이터처리에 추상화되는 경우가 많아서 많이 찾게 되었음."
   ]
  },
  {
   "cell_type": "markdown",
   "metadata": {},
   "source": [
    "# but, 함수 본체에 변하는 인자를 넣는 경우가 있음...!"
   ]
  },
  {
   "cell_type": "code",
   "execution_count": 17,
   "metadata": {},
   "outputs": [
    {
     "name": "stdout",
     "output_type": "stream",
     "text": [
      "--- 2\n",
      "2\n",
      "1\n"
     ]
    }
   ],
   "source": [
    "x=1\n",
    "def a():\n",
    "    x=2\n",
    "    print('---',x)\n",
    "    return x\n",
    "\n",
    "print(a())\n",
    "print(x)\n",
    "\n",
    "\n",
    "# scope 의 기본적인 법칙 : LEGB\n",
    "# Local/ Encresing(포함되는거?)/ Global/ Built-in\n",
    "\n",
    "# 함수형기법만쓰는게아니라서, 어쩔수없이 안에 mutable 인자를 넣을때가 있음.\n",
    "# 그때의 scope를 잘 알아야함.\n",
    "# scope : 값이 생존하는 범위.\n",
    "# 함수 안에서만 생존함."
   ]
  },
  {
   "cell_type": "code",
   "execution_count": 24,
   "metadata": {},
   "outputs": [
    {
     "name": "stdout",
     "output_type": "stream",
     "text": [
      "--- 1\n",
      "--- 3\n"
     ]
    },
    {
     "data": {
      "text/plain": [
       "1"
      ]
     },
     "execution_count": 24,
     "metadata": {},
     "output_type": "execute_result"
    }
   ],
   "source": [
    "x=1\n",
    "y=3\n",
    "def a():\n",
    "    x=2\n",
    "    x+=3\n",
    "    print('---',x)\n",
    "    print('---',y)\n",
    "    return x\n",
    "\n",
    "a()\n",
    "\n",
    "# 함수 내에서 선언되어있지 않은애들은 함수 밖에서 가져옴.\n",
    "# "
   ]
  },
  {
   "cell_type": "code",
   "execution_count": 21,
   "metadata": {},
   "outputs": [
    {
     "name": "stdout",
     "output_type": "stream",
     "text": [
      "--- 4\n",
      "--- 3\n",
      "4\n",
      "4\n"
     ]
    }
   ],
   "source": [
    "x=1\n",
    "y=3\n",
    "def a():\n",
    "    global x\n",
    "    x+=3\n",
    "    print('---',x)\n",
    "    print('---',y)\n",
    "    return x\n",
    "\n",
    "print(a())\n",
    "print(x)\n",
    "\n",
    "# global x라고 하면, 함수 밖에있는 global namespace에 있는 값까지 함수 안에서 바꾸게함.\n",
    "# y가 함수안에 없으니까 밖에꺼 갖다쓸 수 있었는데, \n",
    "# x값이 바뀌기때문에, global x 라고 선언해줘야함."
   ]
  },
  {
   "cell_type": "code",
   "execution_count": 22,
   "metadata": {},
   "outputs": [
    {
     "ename": "UnboundLocalError",
     "evalue": "local variable 'x' referenced before assignment",
     "output_type": "error",
     "traceback": [
      "\u001b[1;31m---------------------------------------------------------------------------\u001b[0m",
      "\u001b[1;31mUnboundLocalError\u001b[0m                         Traceback (most recent call last)",
      "\u001b[1;32m<ipython-input-22-a9983a9460b5>\u001b[0m in \u001b[0;36m<module>\u001b[1;34m()\u001b[0m\n\u001b[0;32m      8\u001b[0m     \u001b[1;32mreturn\u001b[0m \u001b[0mx\u001b[0m\u001b[1;33m\u001b[0m\u001b[0m\n\u001b[0;32m      9\u001b[0m \u001b[1;33m\u001b[0m\u001b[0m\n\u001b[1;32m---> 10\u001b[1;33m \u001b[0mprint\u001b[0m\u001b[1;33m(\u001b[0m\u001b[0ma\u001b[0m\u001b[1;33m(\u001b[0m\u001b[1;33m)\u001b[0m\u001b[1;33m)\u001b[0m\u001b[1;33m\u001b[0m\u001b[0m\n\u001b[0m\u001b[0;32m     11\u001b[0m \u001b[0mprint\u001b[0m\u001b[1;33m(\u001b[0m\u001b[0mx\u001b[0m\u001b[1;33m)\u001b[0m\u001b[1;33m\u001b[0m\u001b[0m\n",
      "\u001b[1;32m<ipython-input-22-a9983a9460b5>\u001b[0m in \u001b[0;36ma\u001b[1;34m()\u001b[0m\n\u001b[0;32m      3\u001b[0m \u001b[1;32mdef\u001b[0m \u001b[0ma\u001b[0m\u001b[1;33m(\u001b[0m\u001b[1;33m)\u001b[0m\u001b[1;33m:\u001b[0m\u001b[1;33m\u001b[0m\u001b[0m\n\u001b[0;32m      4\u001b[0m     \u001b[1;31m#global x\u001b[0m\u001b[1;33m\u001b[0m\u001b[1;33m\u001b[0m\u001b[0m\n\u001b[1;32m----> 5\u001b[1;33m     \u001b[0mx\u001b[0m\u001b[1;33m+=\u001b[0m\u001b[1;36m3\u001b[0m\u001b[1;33m\u001b[0m\u001b[0m\n\u001b[0m\u001b[0;32m      6\u001b[0m     \u001b[0mprint\u001b[0m\u001b[1;33m(\u001b[0m\u001b[1;34m'---'\u001b[0m\u001b[1;33m,\u001b[0m\u001b[0mx\u001b[0m\u001b[1;33m)\u001b[0m\u001b[1;33m\u001b[0m\u001b[0m\n\u001b[0;32m      7\u001b[0m     \u001b[0mprint\u001b[0m\u001b[1;33m(\u001b[0m\u001b[1;34m'---'\u001b[0m\u001b[1;33m,\u001b[0m\u001b[0my\u001b[0m\u001b[1;33m)\u001b[0m\u001b[1;33m\u001b[0m\u001b[0m\n",
      "\u001b[1;31mUnboundLocalError\u001b[0m: local variable 'x' referenced before assignment"
     ]
    }
   ],
   "source": [
    "x=1\n",
    "y=3\n",
    "def a():\n",
    "    #global x\n",
    "    x+=3\n",
    "    print('---',x)\n",
    "    print('---',y)\n",
    "    return x\n",
    "\n",
    "print(a())\n",
    "print(x)\n",
    "\n",
    "# x가 선언이 안되어있으니까. 함수 안에서 함수 밖의 x에 접근하지 못해서 오류남."
   ]
  },
  {
   "cell_type": "code",
   "execution_count": 34,
   "metadata": {},
   "outputs": [
    {
     "data": {
      "text/plain": [
       "['__all__',\n",
       " '__builtins__',\n",
       " '__cached__',\n",
       " '__doc__',\n",
       " '__file__',\n",
       " '__loader__',\n",
       " '__name__',\n",
       " '__package__',\n",
       " '__spec__',\n",
       " 'iskeyword',\n",
       " 'kwlist',\n",
       " 'main']"
      ]
     },
     "execution_count": 34,
     "metadata": {},
     "output_type": "execute_result"
    }
   ],
   "source": [
    "import keyword\n",
    "\n",
    "dir(keyword)"
   ]
  },
  {
   "cell_type": "code",
   "execution_count": 38,
   "metadata": {},
   "outputs": [
    {
     "name": "stdout",
     "output_type": "stream",
     "text": [
      "<function a.<locals>.b at 0x00000181BCAD17B8>\n",
      "1\n"
     ]
    }
   ],
   "source": [
    "x=1\n",
    "y=3\n",
    "def a():\n",
    "    x=3\n",
    "    def b(a):\n",
    "        return x\n",
    "    return b\n",
    "print(a())\n",
    "print(x)\n",
    "\n",
    "# 함수 안에 함수 선언하기."
   ]
  },
  {
   "cell_type": "code",
   "execution_count": 36,
   "metadata": {},
   "outputs": [
    {
     "name": "stdout",
     "output_type": "stream",
     "text": [
      "3\n",
      "1\n"
     ]
    }
   ],
   "source": [
    "x=1\n",
    "y=3\n",
    "def a():\n",
    "    x=3\n",
    "    def b(a):\n",
    "        return x\n",
    "    return b\n",
    "print(a()(3))\n",
    "print(x)\n",
    "\n",
    "# 유명한 closure기법..!! \n",
    "# javascript에서도 배움..!!"
   ]
  },
  {
   "cell_type": "code",
   "execution_count": 42,
   "metadata": {},
   "outputs": [
    {
     "name": "stdout",
     "output_type": "stream",
     "text": [
      "2\n",
      "1\n"
     ]
    }
   ],
   "source": [
    "x=1\n",
    "y=3\n",
    "def a():\n",
    "    x=2\n",
    "    def b():\n",
    "        return x\n",
    "    return b\n",
    "print(a()())\n",
    "print(x)"
   ]
  },
  {
   "cell_type": "code",
   "execution_count": 45,
   "metadata": {},
   "outputs": [
    {
     "name": "stdout",
     "output_type": "stream",
     "text": [
      "2\n"
     ]
    }
   ],
   "source": [
    "x=1\n",
    "y=3\n",
    "def a():\n",
    "    x=2\n",
    "    def b():\n",
    "        #global x\n",
    "        return x\n",
    "    return b\n",
    "print(a()())"
   ]
  },
  {
   "cell_type": "code",
   "execution_count": 46,
   "metadata": {},
   "outputs": [
    {
     "name": "stdout",
     "output_type": "stream",
     "text": [
      "2\n"
     ]
    }
   ],
   "source": [
    "x=1\n",
    "y=3\n",
    "def a():\n",
    "    def b():\n",
    "        #global x\n",
    "        return x\n",
    "    x=2\n",
    "    return b\n",
    "print(a()())\n",
    "\n",
    "# x=2가 뒤에서 실행되게 함. interpretor은 앞에서부터 실행됨.\n"
   ]
  },
  {
   "cell_type": "code",
   "execution_count": 48,
   "metadata": {},
   "outputs": [
    {
     "ename": "SyntaxError",
     "evalue": "no binding for nonlocal 'x' found (<ipython-input-48-c8fbca430657>, line 5)",
     "output_type": "error",
     "traceback": [
      "\u001b[1;36m  File \u001b[1;32m\"<ipython-input-48-c8fbca430657>\"\u001b[1;36m, line \u001b[1;32m5\u001b[0m\n\u001b[1;33m    nonlocal x\u001b[0m\n\u001b[1;37m    ^\u001b[0m\n\u001b[1;31mSyntaxError\u001b[0m\u001b[1;31m:\u001b[0m no binding for nonlocal 'x' found\n"
     ]
    }
   ],
   "source": [
    "x=1\n",
    "y=3\n",
    "def a():\n",
    "    def b():\n",
    "        nonlocal x\n",
    "        return x\n",
    "    global x\n",
    "    return b\n",
    "print(a()())"
   ]
  },
  {
   "cell_type": "code",
   "execution_count": 50,
   "metadata": {},
   "outputs": [
    {
     "name": "stdout",
     "output_type": "stream",
     "text": [
      "globalglobal\n",
      "globalglobal\n"
     ]
    }
   ],
   "source": [
    "x = \"global\"\n",
    "\n",
    "def foo():\n",
    "    global x\n",
    "    x *= 2\n",
    "    print(x)\n",
    "\n",
    "foo()\n",
    "print(x)"
   ]
  },
  {
   "cell_type": "code",
   "execution_count": 58,
   "metadata": {},
   "outputs": [
    {
     "name": "stdout",
     "output_type": "stream",
     "text": [
      "inner :  nonlocal\n",
      "outer : nonlocal\n"
     ]
    }
   ],
   "source": [
    "#x = \"merong\"\n",
    "def outer():\n",
    "    x = \"local\"\n",
    "    \n",
    "    def inner():\n",
    "        nonlocal x\n",
    "        # global도 아닌, local도 아닌애. 즉,  x = \"local\" 얘를 갖다 쓰겠다는 말..!!!!!!!\n",
    "        x = \"nonlocal\"                #근데 x값을 \"nonlocal\"로 바꿔버렷넹....\n",
    "        print(\"inner : \", x)\n",
    "    inner()\n",
    "    print(\"outer :\", x)\n",
    "    \n",
    "outer()\n",
    "\n",
    "# nonlocal : 함수 안에 함수가 선언되었을 경우, 로컬범위는 아니되, 감싸고있는 함수의 안쪽인 애."
   ]
  },
  {
   "cell_type": "markdown",
   "metadata": {},
   "source": [
    "# Pyhon에서의 SWAP"
   ]
  },
  {
   "cell_type": "code",
   "execution_count": 59,
   "metadata": {},
   "outputs": [],
   "source": [
    "a,b = 3,4"
   ]
  },
  {
   "cell_type": "code",
   "execution_count": 60,
   "metadata": {},
   "outputs": [],
   "source": [
    "a,b = b,a\n",
    "# C언어에선 swap할때 포인터 썼자나......ㄷㄷㄷㄷㄷㄷ\n",
    "# 와우. 이건 충격이당."
   ]
  },
  {
   "cell_type": "code",
   "execution_count": 61,
   "metadata": {},
   "outputs": [
    {
     "data": {
      "text/plain": [
       "4"
      ]
     },
     "execution_count": 61,
     "metadata": {},
     "output_type": "execute_result"
    }
   ],
   "source": [
    "a"
   ]
  },
  {
   "cell_type": "code",
   "execution_count": 62,
   "metadata": {},
   "outputs": [
    {
     "data": {
      "text/plain": [
       "3"
      ]
     },
     "execution_count": 62,
     "metadata": {},
     "output_type": "execute_result"
    }
   ],
   "source": [
    "b"
   ]
  },
  {
   "cell_type": "code",
   "execution_count": 64,
   "metadata": {},
   "outputs": [
    {
     "name": "stdout",
     "output_type": "stream",
     "text": [
      "global\n"
     ]
    }
   ],
   "source": [
    "a = \"global\"\n",
    "\n",
    "def a_func():\n",
    "    a = \"local\"\n",
    "def b_func():\n",
    "    #a = \"local2\"\n",
    "    print(a)\n",
    "    \n",
    "b_func()\n",
    "\n",
    "# 가까이에있는 변수가져오는게아니라,\n",
    "#즉, 로컬에 없으면 가까이에 있는 다른 로컬을 뒤지는 게 아니라, 로컬 바깥쪽을 뒤지는구낭..!"
   ]
  },
  {
   "cell_type": "code",
   "execution_count": 65,
   "metadata": {},
   "outputs": [
    {
     "ename": "NameError",
     "evalue": "name 'xxxx' is not defined",
     "output_type": "error",
     "traceback": [
      "\u001b[1;31m---------------------------------------------------------------------------\u001b[0m",
      "\u001b[1;31mNameError\u001b[0m                                 Traceback (most recent call last)",
      "\u001b[1;32m<ipython-input-65-2bbcfbfb6433>\u001b[0m in \u001b[0;36m<module>\u001b[1;34m()\u001b[0m\n\u001b[1;32m----> 1\u001b[1;33m \u001b[0mxxxx\u001b[0m \u001b[1;33m=\u001b[0m \u001b[0mxxxx\u001b[0m \u001b[1;33m+\u001b[0m \u001b[1;36m1\u001b[0m\u001b[1;33m\u001b[0m\u001b[0m\n\u001b[0m\u001b[0;32m      2\u001b[0m \u001b[0mxxxx\u001b[0m\u001b[1;33m\u001b[0m\u001b[0m\n",
      "\u001b[1;31mNameError\u001b[0m: name 'xxxx' is not defined"
     ]
    }
   ],
   "source": [
    "xxxx = xxxx + 1\n",
    "xxxx\n",
    "\n",
    "# 초기화 안된 값을 변경하려고하면 에러."
   ]
  },
  {
   "cell_type": "code",
   "execution_count": 67,
   "metadata": {},
   "outputs": [
    {
     "ename": "NameError",
     "evalue": "name 'bar' is not defined",
     "output_type": "error",
     "traceback": [
      "\u001b[1;31m---------------------------------------------------------------------------\u001b[0m",
      "\u001b[1;31mNameError\u001b[0m                                 Traceback (most recent call last)",
      "\u001b[1;32m<ipython-input-67-183c1517b3cd>\u001b[0m in \u001b[0;36m<module>\u001b[1;34m()\u001b[0m\n\u001b[0;32m      9\u001b[0m         \u001b[0mx\u001b[0m \u001b[1;33m=\u001b[0m \u001b[1;36m25\u001b[0m\u001b[1;33m\u001b[0m\u001b[0m\n\u001b[0;32m     10\u001b[0m         \u001b[0my\u001b[0m \u001b[1;33m=\u001b[0m \u001b[1;36m35\u001b[0m\u001b[1;33m\u001b[0m\u001b[0m\n\u001b[1;32m---> 11\u001b[1;33m \u001b[0mbar\u001b[0m\u001b[1;33m(\u001b[0m\u001b[1;33m)\u001b[0m\u001b[1;33m\u001b[0m\u001b[0m\n\u001b[0m",
      "\u001b[1;31mNameError\u001b[0m: name 'bar' is not defined"
     ]
    }
   ],
   "source": [
    "#함수랑 값이랑 다 객체로 취급.\n",
    "\n",
    "def foo():\n",
    "    x=20\n",
    "    y=30\n",
    "    def bar():\n",
    "        global x\n",
    "        nonlocal y\n",
    "        x = 25\n",
    "        y = 35\n",
    "bar()\n",
    "\n",
    "# 내부함수를 불러올 수 없음. bar()함수를 local 객체라고 취급하기때문에."
   ]
  },
  {
   "cell_type": "code",
   "execution_count": null,
   "metadata": {},
   "outputs": [],
   "source": []
  }
 ],
 "metadata": {
  "kernelspec": {
   "display_name": "Python 3",
   "language": "python",
   "name": "python3"
  },
  "language_info": {
   "codemirror_mode": {
    "name": "ipython",
    "version": 3
   },
   "file_extension": ".py",
   "mimetype": "text/x-python",
   "name": "python",
   "nbconvert_exporter": "python",
   "pygments_lexer": "ipython3",
   "version": "3.5.4"
  }
 },
 "nbformat": 4,
 "nbformat_minor": 2
}
