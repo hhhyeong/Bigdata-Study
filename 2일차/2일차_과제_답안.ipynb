{
 "cells": [
  {
   "cell_type": "markdown",
   "metadata": {},
   "source": [
    "# 정혜영"
   ]
  },
  {
   "cell_type": "markdown",
   "metadata": {},
   "source": [
    "# Excercise 105 : Reverse Order"
   ]
  },
  {
   "cell_type": "code",
   "execution_count": 4,
   "metadata": {},
   "outputs": [
    {
     "name": "stdout",
     "output_type": "stream",
     "text": [
      "10\n",
      "10\n",
      "9\n",
      "8\n",
      "7\n",
      "6\n",
      "5\n",
      "4\n",
      "3\n",
      "2\n",
      "1\n"
     ]
    }
   ],
   "source": [
    "num_list = []\n",
    "\n",
    "while True:\n",
    "    num = int(input())\n",
    "    if num == 0:\n",
    "        break;\n",
    "    else:\n",
    "        num_list.append(num)\n",
    "        \n",
    "##방법 (1)\n",
    "#for i in range(len(num_list), 0, -1):\n",
    "#    print(num_list[i-1])\n",
    "\n",
    "num_list.reverse()\n",
    "for i in num_list:\n",
    "    print(i)"
   ]
  },
  {
   "cell_type": "markdown",
   "metadata": {},
   "source": [
    "# Excersice 107 : Avoiding Duplicates"
   ]
  },
  {
   "cell_type": "code",
   "execution_count": 5,
   "metadata": {},
   "outputs": [
    {
     "name": "stdout",
     "output_type": "stream",
     "text": [
      "2\n"
     ]
    },
    {
     "data": {
      "text/plain": [
       "0"
      ]
     },
     "execution_count": 5,
     "metadata": {},
     "output_type": "execute_result"
    }
   ],
   "source": [
    "while True:\n",
    "    input_str = input()\n",
    "    if input_str == \"\":\n",
    "        break;\n",
    "set_arr = []\n",
    "set_arr.append(input_str)\n",
    "\n",
    "for i in set_arr:\n",
    "    if set_arr.index(input_str)\n",
    "    "
   ]
  },
  {
   "cell_type": "code",
   "execution_count": 7,
   "metadata": {},
   "outputs": [
    {
     "name": "stdout",
     "output_type": "stream",
     "text": [
      "l\n",
      "o\n",
      "l\n"
     ]
    }
   ],
   "source": [
    "funny = 'lol'\n",
    "for i in funny:\n",
    "    print(i)"
   ]
  },
  {
   "cell_type": "markdown",
   "metadata": {},
   "source": [
    "5\n",
    "#### Excersice 108 : Negatives, Zeros and Positives"
   ]
  },
  {
   "cell_type": "code",
   "execution_count": 6,
   "metadata": {},
   "outputs": [
    {
     "name": "stdout",
     "output_type": "stream",
     "text": [
      "-4\n",
      "-1\n",
      "-2\n",
      "0\n",
      "0\n",
      "3\n",
      "1\n",
      "\n",
      "['-4', '-1', '-2', '0', '0', '3', '1']\n"
     ]
    }
   ],
   "source": [
    "list_input = []\n",
    "negative_list = []\n",
    "zeros_list = []\n",
    "positive_list = []\n",
    "\n",
    "while True:\n",
    "    input_str = input()\n",
    "    if input_str == \"\":\n",
    "        break;\n",
    "    list_input.append(input_str)\n",
    "\n",
    "#print(list_input)\n",
    "        \n",
    "for i in list_input:\n",
    "    if int(i) < 0:\n",
    "        negative_list.append(i)\n",
    "    if int(i) == 0:\n",
    "        zeros_list.append(i)\n",
    "    if int(i) > 0:\n",
    "        positive_list.append(i)\n",
    "        \n",
    "print(negative_list + zeros_list + positive_list)"
   ]
  },
  {
   "cell_type": "markdown",
   "metadata": {},
   "source": [
    "# Excersice 110 : Perfect Numbers"
   ]
  },
  {
   "cell_type": "code",
   "execution_count": 7,
   "metadata": {},
   "outputs": [
    {
     "name": "stdout",
     "output_type": "stream",
     "text": [
      "28\n",
      "True\n"
     ]
    }
   ],
   "source": [
    "a = int(input())\n",
    "divisors = []\n",
    "\n",
    "\n",
    "def isPerfectNumber(number):\n",
    "    sum = 0\n",
    "    for i in range(1, a):\n",
    "        if a % i == 0:\n",
    "            divisors.append(i)\n",
    "\n",
    "    for i in range(0, len(divisors)):\n",
    "        sum += divisors[i]\n",
    "\n",
    "    if a == sum:\n",
    "        return True\n",
    "    \n",
    "print(isPerfectNumber(a))"
   ]
  },
  {
   "cell_type": "markdown",
   "metadata": {},
   "source": [
    "# Excersice 113 : Formatting a List"
   ]
  },
  {
   "cell_type": "code",
   "execution_count": 2,
   "metadata": {},
   "outputs": [
    {
     "name": "stdout",
     "output_type": "stream",
     "text": [
      "apples\n",
      "oranges\n",
      "bananas\n",
      "lemons\n",
      "\n",
      "apples, oranges, bananas, and lemons\n"
     ]
    }
   ],
   "source": [
    "list_input = []\n",
    "def print_str(list_input):\n",
    "    answer_str = \"\"\n",
    "    for i in range(0, len(list_input)-1):\n",
    "        answer_str += list_input[i]\n",
    "        answer_str += \", \"\n",
    "    answer_str += \"and \"\n",
    "    answer_str += list_input[i+1]\n",
    "    print(answer_str)\n",
    "    return None\n",
    "        \n",
    "while True:\n",
    "    input_str = input()\n",
    "    if input_str == \"\":\n",
    "        break;\n",
    "    list_input.append(input_str)\n",
    "    \n",
    "print_str(list_input)"
   ]
  },
  {
   "cell_type": "markdown",
   "metadata": {},
   "source": [
    "# Excersice 114 : Random Lottery Numbers"
   ]
  },
  {
   "cell_type": "code",
   "execution_count": 8,
   "metadata": {},
   "outputs": [
    {
     "data": {
      "text/plain": [
       "{6, 7, 8, 10, 13, 22}"
      ]
     },
     "execution_count": 8,
     "metadata": {},
     "output_type": "execute_result"
    }
   ],
   "source": [
    "import random\n",
    "\n",
    "lottery_list = []\n",
    "num = random.randrange(1, 50)\n",
    "lottery_list.append(num)\n",
    "lottery_list = set(lottery_list)\n",
    "\n",
    "while True:\n",
    "    if len(lottery_list) == 6:\n",
    "        break;\n",
    "    num = random.randrange(1, 50)\n",
    "    lottery_list.add(num)\n",
    "    \n",
    "lottery_list"
   ]
  },
  {
   "cell_type": "markdown",
   "metadata": {},
   "source": [
    "# Excersice 134 : Unique Characters"
   ]
  },
  {
   "cell_type": "code",
   "execution_count": 9,
   "metadata": {
    "scrolled": true
   },
   "outputs": [
    {
     "name": "stdout",
     "output_type": "stream",
     "text": [
      "Hello, World!\n"
     ]
    },
    {
     "data": {
      "text/plain": [
       "10"
      ]
     },
     "execution_count": 9,
     "metadata": {},
     "output_type": "execute_result"
    }
   ],
   "source": [
    "input_str = input()\n",
    "set_arr = set(input_str)\n",
    "\n",
    "len(set_arr)"
   ]
  },
  {
   "cell_type": "markdown",
   "metadata": {},
   "source": [
    "# Excersice 135 : Anagrams"
   ]
  },
  {
   "cell_type": "code",
   "execution_count": 10,
   "metadata": {
    "scrolled": true
   },
   "outputs": [
    {
     "name": "stdout",
     "output_type": "stream",
     "text": [
      "evil\n",
      "live\n",
      "애니어그램입니다.\n"
     ]
    }
   ],
   "source": [
    "input_A = input()\n",
    "set_A = set(input_A)\n",
    "input_B = input()\n",
    "set_B = set(input_B)\n",
    "\n",
    "if set_A == set_B:\n",
    "    print(\"애니어그램입니다.\")\n",
    "else:\n",
    "    print(\"애니어그램이 아닙니다.\")\n"
   ]
  },
  {
   "cell_type": "code",
   "execution_count": null,
   "metadata": {},
   "outputs": [],
   "source": []
  }
 ],
 "metadata": {
  "kernelspec": {
   "display_name": "Python 3",
   "language": "python",
   "name": "python3"
  },
  "language_info": {
   "codemirror_mode": {
    "name": "ipython",
    "version": 3
   },
   "file_extension": ".py",
   "mimetype": "text/x-python",
   "name": "python",
   "nbconvert_exporter": "python",
   "pygments_lexer": "ipython3",
   "version": "3.5.4"
  }
 },
 "nbformat": 4,
 "nbformat_minor": 2
}
