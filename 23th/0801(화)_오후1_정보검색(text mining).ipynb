{
 "cells": [
  {
   "cell_type": "markdown",
   "metadata": {},
   "source": [
    "# Vector Space Model"
   ]
  },
  {
   "cell_type": "code",
   "execution_count": 1,
   "metadata": {},
   "outputs": [],
   "source": [
    "# information retrieval\n",
    "# crowdsourcing : 집단지성가지고하는거.\n",
    "# spark : 병렬처리"
   ]
  },
  {
   "cell_type": "markdown",
   "metadata": {},
   "source": [
    "- 사람이 이해하기 가장 쉬움.\n",
    "- 계산할때도 편한장점이 있음.\n",
    "- vector를 쓰는게 성능이 가장 좋음.\n",
    "\n",
    "1) term frequency\n",
    "2) document frequency\n"
   ]
  },
  {
   "cell_type": "code",
   "execution_count": null,
   "metadata": {},
   "outputs": [],
   "source": [
    "# 단어에 대한 문서에 vector로 표현할수잇음.\n",
    "# 0,1로 이루어진 단어로 문서에 표현할수잇음.\n",
    "\n",
    "# 2,3차원으로 축약한다면 2차원에 해당하는 document 2개가 화살표로 표시하고잇을것.\n",
    "# 실제로, 단어도, 문서도 겁나많음.\n",
    "# bag of words가 잇을때, 수많은 단어 중 중요도는 어떻게 표현할 수 있나?\n",
    "\n",
    "# 단어벡터로 문서에 표현이 가능하다.\n",
    "# 상대적인 가중치. 누가 더 중요한지 선별할 수 잇다.\n",
    "# 1로 표현된 vector로 \n",
    "# 중요도는 표시된 숫자가 누가 더 크냐에따라 표현가능할것.!\n",
    "# 많이 나왔으니까 더 중요하겟구나. 판단 가능\n",
    "\n",
    "# + 가중치 기법 : \n",
    "# 상대적 빈도를통해 진짜 중요한지 알수잇음?\n",
    "\n",
    "# ex) '.' 은 모든 문서에서 빈도수가 높음.\n",
    "# entropy가 높아서 문서를 구분할 수 없음.\n",
    "# 다른 문서랑 비교했을때, 얼마나 적게나왔는지를 고려해야함.!\n",
    "# => feature라고 부를것임.! 모든 feature를 다쓰진않음.\n",
    "# => feature를 최대한 쳐내야함. \n",
    "# term frequency\n",
    "# document frequency 를 두가지를 봐서, combination으로 함께 적용해서 가중치를 결정해야함.\n",
    "\n",
    "# : w가 나타난 frequency\n",
    "\n",
    "# * word2Vec)\n",
    "# 단어의 위치?를 알수잇음.\n",
    "# 비슷한 단어를 분집할수잇고, intent에 적용할수잇고, 챗봇, 음성인식에 적용할수잇음.\n",
    "\n",
    "# 기껏 벡터로 표현해놓고, 방향무시하고 거리만가지고 판단하면 p,q랑 가까워서\n",
    "# 비슷한 단어라고 생각하게됨.\n",
    "# 방향. cos 세타값이 들어가면 의미적으로도 판단이 가능하게됨.\n",
    "\n",
    "# <Euclidean distance>\n",
    "# 2임.\n",
    "\n",
    "# <cosine similary>\n",
    "# 분모 : p,q의 벡터의 크기의 곱.\n",
    "# 분자 : 베겉의 곱. 값이 다르면 상쇄됨.\n",
    "\n"
   ]
  },
  {
   "cell_type": "code",
   "execution_count": null,
   "metadata": {},
   "outputs": [],
   "source": [
    "# 긁어와서\n",
    "# 순수한 텍스트만남기고,\n",
    "# 단어가져와서, 가중치가 높은애들 중 적절한 feature들(고빈도도 버려. 너무저빈도도 버려)\n",
    "# 단어에대한 벡터로 나타내면\n",
    "\n",
    "# 단어로 만들어진 문서벡터가 만들어짐.!!!"
   ]
  },
  {
   "cell_type": "code",
   "execution_count": null,
   "metadata": {},
   "outputs": [],
   "source": [
    "#PPT134)\n",
    "* 크롤링) 색인할 문서 가져오기.\n",
    "\n",
    "* 색인 유사도 판단하는 과정)\n",
    "cosine similary\n",
    "TF IDF\n",
    "page rank\n",
    "...\n",
    "\n",
    "엔드유저들은 검색성능 70%, 80% 인지 중요하지않음.\n",
    "성능을 단 1프로라도 올리는 연구를 하는게 대학원.\n",
    "네이버쓰잖아. 성능구려도 워낙 contents가 많다보니 얻어걸리니까 씀."
   ]
  },
  {
   "cell_type": "code",
   "execution_count": null,
   "metadata": {},
   "outputs": [],
   "source": []
  },
  {
   "cell_type": "code",
   "execution_count": null,
   "metadata": {},
   "outputs": [],
   "source": []
  },
  {
   "cell_type": "code",
   "execution_count": null,
   "metadata": {},
   "outputs": [],
   "source": []
  },
  {
   "cell_type": "code",
   "execution_count": null,
   "metadata": {},
   "outputs": [],
   "source": []
  },
  {
   "cell_type": "code",
   "execution_count": null,
   "metadata": {},
   "outputs": [],
   "source": []
  },
  {
   "cell_type": "code",
   "execution_count": null,
   "metadata": {},
   "outputs": [],
   "source": []
  },
  {
   "cell_type": "code",
   "execution_count": null,
   "metadata": {},
   "outputs": [],
   "source": []
  },
  {
   "cell_type": "code",
   "execution_count": null,
   "metadata": {},
   "outputs": [],
   "source": []
  },
  {
   "cell_type": "code",
   "execution_count": null,
   "metadata": {},
   "outputs": [],
   "source": []
  },
  {
   "cell_type": "code",
   "execution_count": null,
   "metadata": {},
   "outputs": [],
   "source": []
  },
  {
   "cell_type": "code",
   "execution_count": null,
   "metadata": {},
   "outputs": [],
   "source": []
  }
 ],
 "metadata": {
  "kernelspec": {
   "display_name": "Python 3",
   "language": "python",
   "name": "python3"
  },
  "language_info": {
   "codemirror_mode": {
    "name": "ipython",
    "version": 3
   },
   "file_extension": ".py",
   "mimetype": "text/x-python",
   "name": "python",
   "nbconvert_exporter": "python",
   "pygments_lexer": "ipython3",
   "version": "3.6.5"
  }
 },
 "nbformat": 4,
 "nbformat_minor": 2
}
