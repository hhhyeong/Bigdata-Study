{
 "cells": [
  {
   "cell_type": "markdown",
   "metadata": {},
   "source": [
    "# 예제 사이트에서 ajax통신한 결과 불러오기\n",
    "#### requests 사용"
   ]
  },
  {
   "cell_type": "code",
   "execution_count": 37,
   "metadata": {},
   "outputs": [],
   "source": [
    "import requests\n",
    "resp = requests.get(\"http://example.webscraping.com/places/default/search\")"
   ]
  },
  {
   "cell_type": "code",
   "execution_count": 275,
   "metadata": {},
   "outputs": [],
   "source": [
    "from bs4 import BeautifulSoup"
   ]
  },
  {
   "cell_type": "code",
   "execution_count": 39,
   "metadata": {},
   "outputs": [],
   "source": [
    "dom = BeautifulSoup(resp.content, \"lxml\")"
   ]
  },
  {
   "cell_type": "code",
   "execution_count": 40,
   "metadata": {},
   "outputs": [],
   "source": [
    "result = dom.select(\"#results\")\n",
    "\n",
    "# 검색 결과를 <div id = \"results\">로 뿌려줌."
   ]
  },
  {
   "cell_type": "code",
   "execution_count": 41,
   "metadata": {},
   "outputs": [
    {
     "data": {
      "text/plain": [
       "1"
      ]
     },
     "execution_count": 41,
     "metadata": {},
     "output_type": "execute_result"
    }
   ],
   "source": [
    "len(result)"
   ]
  },
  {
   "cell_type": "code",
   "execution_count": 42,
   "metadata": {},
   "outputs": [
    {
     "name": "stdout",
     "output_type": "stream",
     "text": [
      "[<div id=\"results\">\n",
      "</div>]\n"
     ]
    }
   ],
   "source": [
    "print(result)\n",
    "\n",
    "# 위의 예제 사이트에 request를 보냈을 때, html로 받아오는 게 아니라 data로 받아오기 때문."
   ]
  },
  {
   "cell_type": "markdown",
   "metadata": {},
   "source": [
    "- ajax통신은 html 태그로 불러올 수 없는 것을 확인할수있다."
   ]
  },
  {
   "cell_type": "markdown",
   "metadata": {},
   "source": [
    "#### selenium 사용"
   ]
  },
  {
   "cell_type": "code",
   "execution_count": 1,
   "metadata": {},
   "outputs": [
    {
     "name": "stdout",
     "output_type": "stream",
     "text": [
      "Requirement already satisfied: selenium in c:\\users\\user\\anaconda3\\lib\\site-packages (3.13.0)\n"
     ]
    },
    {
     "name": "stderr",
     "output_type": "stream",
     "text": [
      "distributed 1.21.8 requires msgpack, which is not installed.\n"
     ]
    }
   ],
   "source": [
    "!pip install selenium"
   ]
  },
  {
   "cell_type": "code",
   "execution_count": 276,
   "metadata": {},
   "outputs": [],
   "source": [
    "from selenium import webdriver"
   ]
  },
  {
   "cell_type": "code",
   "execution_count": 52,
   "metadata": {},
   "outputs": [],
   "source": [
    "# webdriver chrome 다운로드 필요!\n",
    "# http://chromedriver.chromium.org/downloads\n",
    "# 돔으로 받아온 결과."
   ]
  },
  {
   "cell_type": "code",
   "execution_count": 290,
   "metadata": {},
   "outputs": [],
   "source": [
    "driver = webdriver.Chrome()"
   ]
  },
  {
   "cell_type": "code",
   "execution_count": 69,
   "metadata": {},
   "outputs": [],
   "source": [
    "driver.get(\"http://example.webscraping.com/places/default/search\")"
   ]
  },
  {
   "cell_type": "code",
   "execution_count": 70,
   "metadata": {},
   "outputs": [],
   "source": [
    "driver.find_element_by_id(\"search_term\").send_keys(\"korea\")"
   ]
  },
  {
   "cell_type": "code",
   "execution_count": 71,
   "metadata": {},
   "outputs": [],
   "source": [
    "driver.find_element_by_id(\"search\").click()"
   ]
  },
  {
   "cell_type": "code",
   "execution_count": 72,
   "metadata": {},
   "outputs": [],
   "source": [
    "# 이건머하는애지\n",
    "# 내가 내린 명령을 넷웤속도가 못따라갈수도 있으니까.\n",
    "\n",
    "driver.implicitly_wait(1)"
   ]
  },
  {
   "cell_type": "code",
   "execution_count": 73,
   "metadata": {},
   "outputs": [],
   "source": [
    "links = driver.find_elements_by_css_selector(\"#results a\")"
   ]
  },
  {
   "cell_type": "code",
   "execution_count": 74,
   "metadata": {},
   "outputs": [
    {
     "data": {
      "text/plain": [
       "list"
      ]
     },
     "execution_count": 74,
     "metadata": {},
     "output_type": "execute_result"
    }
   ],
   "source": [
    "type(links)"
   ]
  },
  {
   "cell_type": "code",
   "execution_count": 75,
   "metadata": {},
   "outputs": [
    {
     "data": {
      "text/plain": [
       "['North Korea', 'South Korea']"
      ]
     },
     "execution_count": 75,
     "metadata": {},
     "output_type": "execute_result"
    }
   ],
   "source": [
    "[link.text for link in links]"
   ]
  },
  {
   "cell_type": "code",
   "execution_count": 76,
   "metadata": {},
   "outputs": [
    {
     "name": "stdout",
     "output_type": "stream",
     "text": [
      "North Korea\n",
      "South Korea\n"
     ]
    }
   ],
   "source": [
    "for link in links:\n",
    "    print(link.text)"
   ]
  },
  {
   "cell_type": "code",
   "execution_count": 29,
   "metadata": {},
   "outputs": [
    {
     "name": "stdout",
     "output_type": "stream",
     "text": [
      "Collecting service\n",
      "  Downloading https://files.pythonhosted.org/packages/10/90/087160e3f42c99b8746cd72ec73236031370b393866390bf300e4ecec83d/service-0.5.1.tar.gz\n",
      "Collecting pid>=2.2.0 (from service)\n",
      "  Downloading https://files.pythonhosted.org/packages/80/fb/8f4e402e940493c11c3cc808a5b53abaaefc8643b69d74013f41a7fd6f7d/pid-2.2.0-py2.py3-none-any.whl\n",
      "Collecting python-daemon>=2.1.2 (from service)\n",
      "  Downloading https://files.pythonhosted.org/packages/f4/59/816004688f8e8602526553cd96226f34657ce4a86daa2240c3eebb0568a3/python_daemon-2.1.2-py2.py3-none-any.whl\n",
      "Collecting setproctitle>=1.1.10 (from service)\n",
      "  Downloading https://files.pythonhosted.org/packages/5a/0d/dc0d2234aacba6cf1a729964383e3452c52096dc695581248b548786f2b3/setproctitle-1.1.10.tar.gz\n",
      "Requirement already satisfied: docutils in c:\\users\\user\\anaconda3\\lib\\site-packages (from python-daemon>=2.1.2->service) (0.14)\n",
      "Requirement already satisfied: setuptools in c:\\users\\user\\anaconda3\\lib\\site-packages (from python-daemon>=2.1.2->service) (39.1.0)\n",
      "Collecting lockfile>=0.10 (from python-daemon>=2.1.2->service)\n",
      "  Downloading https://files.pythonhosted.org/packages/c8/22/9460e311f340cb62d26a38c419b1381b8593b0bb6b5d1f056938b086d362/lockfile-0.12.2-py2.py3-none-any.whl\n",
      "Building wheels for collected packages: service, setproctitle\n",
      "  Running setup.py bdist_wheel for service: started\n",
      "  Running setup.py bdist_wheel for service: finished with status 'done'\n",
      "  Stored in directory: C:\\Users\\user\\AppData\\Local\\pip\\Cache\\wheels\\00\\46\\0b\\5d3ca2b9957728ca741b6ea2e73d7715ba46155e7ab0be8ea8\n",
      "  Running setup.py bdist_wheel for setproctitle: started\n",
      "  Running setup.py bdist_wheel for setproctitle: finished with status 'done'\n",
      "  Stored in directory: C:\\Users\\user\\AppData\\Local\\pip\\Cache\\wheels\\e6\\b1\\a6\\9719530228e258eba904501fef99d5d85c80d52bd8f14438a3\n",
      "Successfully built service setproctitle\n",
      "Installing collected packages: pid, lockfile, python-daemon, setproctitle, service\n",
      "Successfully installed lockfile-0.12.2 pid-2.2.0 python-daemon-2.1.2 service-0.5.1 setproctitle-1.1.10\n"
     ]
    },
    {
     "name": "stderr",
     "output_type": "stream",
     "text": [
      "distributed 1.21.8 requires msgpack, which is not installed.\n"
     ]
    }
   ],
   "source": [
    "# chrome 실행시켜주는애.\n",
    "# webdriver 실행시키고, \n",
    "\n",
    "!pip install service"
   ]
  },
  {
   "cell_type": "code",
   "execution_count": 46,
   "metadata": {},
   "outputs": [
    {
     "ename": "NameError",
     "evalue": "name 'service' is not defined",
     "output_type": "error",
     "traceback": [
      "\u001b[1;31m---------------------------------------------------------------------------\u001b[0m",
      "\u001b[1;31mNameError\u001b[0m                                 Traceback (most recent call last)",
      "\u001b[1;32m<ipython-input-46-85845ee01f6a>\u001b[0m in \u001b[0;36m<module>\u001b[1;34m()\u001b[0m\n\u001b[1;32m----> 1\u001b[1;33m \u001b[0mservice\u001b[0m \u001b[1;33m=\u001b[0m \u001b[0mservice\u001b[0m\u001b[1;33m.\u001b[0m\u001b[0mService\u001b[0m\u001b[1;33m(\u001b[0m\u001b[1;34m'/path/to/chromedriver'\u001b[0m\u001b[1;33m)\u001b[0m\u001b[1;33m\u001b[0m\u001b[0m\n\u001b[0m\u001b[0;32m      2\u001b[0m \u001b[0mservice\u001b[0m\u001b[1;33m.\u001b[0m\u001b[0mstart\u001b[0m\u001b[1;33m(\u001b[0m\u001b[1;33m)\u001b[0m\u001b[1;33m\u001b[0m\u001b[0m\n",
      "\u001b[1;31mNameError\u001b[0m: name 'service' is not defined"
     ]
    }
   ],
   "source": [
    "service = service.Service('/path/to/chromedriver')\n",
    "service.start()"
   ]
  },
  {
   "cell_type": "markdown",
   "metadata": {},
   "source": [
    "# 네이버 로그인 및 메일 제목 가져오기"
   ]
  },
  {
   "cell_type": "code",
   "execution_count": 206,
   "metadata": {},
   "outputs": [
    {
     "ename": "SyntaxError",
     "evalue": "invalid syntax (<ipython-input-206-4f2bc14d15da>, line 3)",
     "output_type": "error",
     "traceback": [
      "\u001b[1;36m  File \u001b[1;32m\"<ipython-input-206-4f2bc14d15da>\"\u001b[1;36m, line \u001b[1;32m3\u001b[0m\n\u001b[1;33m    %%writefile account.json\u001b[0m\n\u001b[1;37m    ^\u001b[0m\n\u001b[1;31mSyntaxError\u001b[0m\u001b[1;31m:\u001b[0m invalid syntax\n"
     ]
    }
   ],
   "source": [
    "# json 불러오기\n",
    "\n",
    "%%writefile account.json\n",
    "{\n",
    "    \"id\":\"20chally\",\n",
    "    \"password\":\"gPduddl78!\"\n",
    "}"
   ]
  },
  {
   "cell_type": "code",
   "execution_count": 197,
   "metadata": {},
   "outputs": [],
   "source": [
    "import json"
   ]
  },
  {
   "cell_type": "code",
   "execution_count": 199,
   "metadata": {},
   "outputs": [],
   "source": [
    "with open(\"account.json\", \"r\") as f:\n",
    "    account = json.load(f)"
   ]
  },
  {
   "cell_type": "code",
   "execution_count": 200,
   "metadata": {},
   "outputs": [
    {
     "data": {
      "text/plain": [
       "'20chally'"
      ]
     },
     "execution_count": 200,
     "metadata": {},
     "output_type": "execute_result"
    }
   ],
   "source": [
    "account[\"id\"]"
   ]
  },
  {
   "cell_type": "code",
   "execution_count": 201,
   "metadata": {},
   "outputs": [
    {
     "data": {
      "text/plain": [
       "dict"
      ]
     },
     "execution_count": 201,
     "metadata": {},
     "output_type": "execute_result"
    }
   ],
   "source": [
    "type(account)"
   ]
  },
  {
   "cell_type": "code",
   "execution_count": 118,
   "metadata": {},
   "outputs": [],
   "source": [
    "# 별다른 태그이름이 없어도 css selector 사용해서 로그인 버튼 찾기."
   ]
  },
  {
   "cell_type": "code",
   "execution_count": 278,
   "metadata": {},
   "outputs": [],
   "source": [
    "driver.get(\"http://www.naver.com\")\n",
    "\n",
    "# id, pw값 입력하기\n",
    "driver.find_element_by_id(\"id\").send_keys(account[\"id\"])\n",
    "driver.find_element_by_id(\"pw\").send_keys(account[\"password\"])\n",
    "driver.find_element_by_css_selector('.btn_login > input').click()\n",
    "\n",
    "#try:\n",
    "    # 로그인버튼 누르기\n",
    "    # 최초실행시 동의버튼\n",
    "    #driver.find_element_by_css_selecter('.btn_upload > a').clilck()\n",
    "    #driver.find_element_by_css_selecter('.btn_maintain > a').clilck()\n",
    "#except NoSuchElementException as e:\n",
    "#    print(e)\n",
    "#finally:\n",
    "#    driver.get(\"https://mail.naver.com/\")"
   ]
  },
  {
   "cell_type": "code",
   "execution_count": 291,
   "metadata": {},
   "outputs": [],
   "source": [
    "# class명 타고 href링크 누르기.\n",
    "driver.get(\"http://www.naver.com\")\n",
    "driver.implicitly_wait(1)\n",
    "\n",
    "driver.find_element_by_css_selector('.mn_mail').click()"
   ]
  },
  {
   "cell_type": "code",
   "execution_count": 292,
   "metadata": {},
   "outputs": [],
   "source": [
    "html = BeautifulSoup(driver.page_source, \"lxml\")"
   ]
  },
  {
   "cell_type": "code",
   "execution_count": 293,
   "metadata": {},
   "outputs": [],
   "source": [
    "titleList = html.select(\".subject strong\")"
   ]
  },
  {
   "cell_type": "code",
   "execution_count": null,
   "metadata": {},
   "outputs": [],
   "source": []
  },
  {
   "cell_type": "code",
   "execution_count": null,
   "metadata": {},
   "outputs": [],
   "source": []
  },
  {
   "cell_type": "code",
   "execution_count": null,
   "metadata": {},
   "outputs": [],
   "source": []
  },
  {
   "cell_type": "code",
   "execution_count": 294,
   "metadata": {},
   "outputs": [
    {
     "data": {
      "text/plain": [
       "30"
      ]
     },
     "execution_count": 294,
     "metadata": {},
     "output_type": "execute_result"
    }
   ],
   "source": [
    "len(titleList)"
   ]
  },
  {
   "cell_type": "code",
   "execution_count": 296,
   "metadata": {},
   "outputs": [
    {
     "data": {
      "text/plain": [
       "[<strong class=\"mail_title _ccr(lst.title) _c1(mrCore|clickTitle|14940) _m2(mrCore|middleClickTitle|14940)\" foldersn=\"\" mailsn=\"14940\"><span class=\"blind\">메일 제목:</span>정혜영 님과 LinkedIn 1촌을 맺고 싶습니다.</strong>,\n",
       " <strong class=\"mail_title _ccr(lst.title) _c1(mrCore|clickTitle|14939) _m2(mrCore|middleClickTitle|14939)\" foldersn=\"\" mailsn=\"14939\"><span class=\"blind\">메일 제목:</span>2018 BIGDATA X CAMPUS 채용정보(7월 3주차)</strong>,\n",
       " <strong class=\"mail_title _ccr(lst.title) _c1(mrCore|clickTitle|14938) _m2(mrCore|middleClickTitle|14938)\" foldersn=\"\" mailsn=\"14938\"><span class=\"blind\">메일 제목:</span>(광고) 내일 마감! DS스쿨 데이터 사이언스 입문반 43기</strong>,\n",
       " <strong class=\"mail_title _ccr(lst.title) _c1(mrCore|clickTitle|14937) _m2(mrCore|middleClickTitle|14937)\" foldersn=\"\" mailsn=\"14937\"><span class=\"blind\">메일 제목:</span>2018 AMATHON 선발 결과 안내</strong>,\n",
       " <strong class=\"mail_title _ccr(lst.title) _c1(mrCore|clickTitle|14936) _m2(mrCore|middleClickTitle|14936)\" foldersn=\"\" mailsn=\"14936\"><span class=\"blind\">메일 제목:</span>(광고) 신개념 남성수술 5S복합수술 지원자를 모집합니다~</strong>,\n",
       " <strong class=\"mail_title _ccr(lst.title) _c1(mrCore|clickTitle|14935) _m2(mrCore|middleClickTitle|14935)\" foldersn=\"\" mailsn=\"14935\"><span class=\"blind\">메일 제목:</span>김창호 님이 새로 1촌을 맺었습니다.</strong>,\n",
       " <strong class=\"mail_title _ccr(lst.title) _c1(mrCore|clickTitle|14934) _m2(mrCore|middleClickTitle|14934)\" foldersn=\"\" mailsn=\"14934\"><span class=\"blind\">메일 제목:</span>[SNU UDSL] 서울대학교 빅데이터 아카데미_블록체인 교육일정 안내</strong>,\n",
       " <strong class=\"mail_title _ccr(lst.title) _c1(mrCore|clickTitle|14933) _m2(mrCore|middleClickTitle|14933)\" foldersn=\"\" mailsn=\"14933\"><span class=\"blind\">메일 제목:</span>정혜영님 출퇴근 선택시간제 / 육아휴직 등 어느 복리후생을 찾으셨나요?</strong>,\n",
       " <strong class=\"mail_title _ccr(lst.title) _c1(mrCore|clickTitle|14932) _m2(mrCore|middleClickTitle|14932)\" foldersn=\"\" mailsn=\"14932\"><span class=\"blind\">메일 제목:</span>업데이트 완료! 정혜영님이 직접 고른 대학교졸업(4년) 이상 ~ 대학교졸업(4년) 이하 자바스크립트 외 9건 공고</strong>,\n",
       " <strong class=\"mail_title _ccr(lst.title) _c1(mrCore|clickTitle|14931) _m2(mrCore|middleClickTitle|14931)\" foldersn=\"\" mailsn=\"14931\"><span class=\"blind\">메일 제목:</span>[KIPFA:i-Award] 사물인터넷 기술의 혁신서비스를 선정합니다. IOT이노베이션어워드 2018</strong>,\n",
       " <strong class=\"mail_title _ccr(lst.title) _c1(mrCore|clickTitle|14930) _m2(mrCore|middleClickTitle|14930)\" foldersn=\"\" mailsn=\"14930\"><span class=\"blind\">메일 제목:</span>Heroku Shield &amp; HIPAA, patching Rails &amp; Redis, and more TLS options</strong>,\n",
       " <strong class=\"mail_title _ccr(lst.title) _c1(mrCore|clickTitle|14929) _m2(mrCore|middleClickTitle|14929)\" foldersn=\"\" mailsn=\"14929\"><span class=\"blind\">메일 제목:</span>지원하려던 ㈜나눔기술 채용공고를 다시 확인해보시겠어요?</strong>,\n",
       " <strong class=\"mail_title _ccr(lst.title) _c1(mrCore|clickTitle|14928) _m2(mrCore|middleClickTitle|14928)\" foldersn=\"\" mailsn=\"14928\"><span class=\"blind\">메일 제목:</span>정혜영님! 즉시 지원 가능한 서울지역 / 웹개발 포함 채용공고를 모았습니다.</strong>,\n",
       " <strong class=\"mail_title _ccr(lst.title) _c1(mrCore|clickTitle|14927) _m2(mrCore|middleClickTitle|14927)\" foldersn=\"\" mailsn=\"14927\"><span class=\"blind\">메일 제목:</span>New login from Slack in Chrome on Windows</strong>,\n",
       " <strong class=\"mail_title _ccr(lst.title) _c1(mrCore|clickTitle|14926) _m2(mrCore|middleClickTitle|14926)\" foldersn=\"\" mailsn=\"14926\"><span class=\"blind\">메일 제목:</span>2018 BIGDATA X CAMPUS 교육생 의견 청취 및 자격검정 접수 안내</strong>,\n",
       " <strong class=\"mail_title _ccr(lst.title) _c1(mrCore|clickTitle|14925) _m2(mrCore|middleClickTitle|14925)\" foldersn=\"\" mailsn=\"14925\"><span class=\"blind\">메일 제목:</span>인공지능 자기소개서 분석기😍, 7월까지만 무료⏳</strong>,\n",
       " <strong class=\"mail_title _ccr(lst.title) _c1(mrCore|clickTitle|14924) _m2(mrCore|middleClickTitle|14924)\" foldersn=\"\" mailsn=\"14924\"><span class=\"blind\">메일 제목:</span>Amathon 참석자용 공지</strong>,\n",
       " <strong class=\"mail_title _ccr(lst.title) _c1(mrCore|clickTitle|14923) _m2(mrCore|middleClickTitle|14923)\" foldersn=\"\" mailsn=\"14923\"><span class=\"blind\">메일 제목:</span>(광고) [7월 20일 AWS 201 세미나 &lt;주제: Mobile&gt; 에 초대합니다]</strong>,\n",
       " <strong class=\"mail_title _ccr(lst.title) _c1(mrCore|clickTitle|14922) _m2(mrCore|middleClickTitle|14922)\" foldersn=\"\" mailsn=\"14922\"><span class=\"blind\">메일 제목:</span>Machine Learning Crash Course 온라인 스터디 안내</strong>,\n",
       " <strong class=\"mail_title _ccr(lst.title) _c1(mrCore|clickTitle|14921) _m2(mrCore|middleClickTitle|14921)\" foldersn=\"\" mailsn=\"14921\"><span class=\"blind\">메일 제목:</span>업데이트 완료! 정혜영님이 직접 고른  학력무관 Java·JSP 외 9건 공고</strong>,\n",
       " <strong class=\"mail_title _ccr(lst.title) _c1(mrCore|clickTitle|14920) _m2(mrCore|middleClickTitle|14920)\" foldersn=\"\" mailsn=\"14920\"><span class=\"blind\">메일 제목:</span>MongoDB Compass: CRUD, schema visualization, index management, and more</strong>,\n",
       " <strong class=\"mail_title _ccr(lst.title) _c1(mrCore|clickTitle|14919) _m2(mrCore|middleClickTitle|14919)\" foldersn=\"\" mailsn=\"14919\"><span class=\"blind\">메일 제목:</span>(광고) [FA저널 인더스트리뉴스 주간 뉴스레터] 스마트 팩토리 최적화 제품으로 비전 시장 선도</strong>,\n",
       " <strong class=\"mail_title _ccr(lst.title) _c1(mrCore|clickTitle|14918) _m2(mrCore|middleClickTitle|14918)\" foldersn=\"\" mailsn=\"14918\"><span class=\"blind\">메일 제목:</span>정혜영님! 원하시는 서울지역 / 웹개발 포함 채용공고를 모았습니다.</strong>,\n",
       " <strong class=\"mail_title _ccr(lst.title) _c1(mrCore|clickTitle|14917) _m2(mrCore|middleClickTitle|14917)\" foldersn=\"\" mailsn=\"14917\"><span class=\"blind\">메일 제목:</span>(광고) [인더스트리뉴스 주간 뉴스레터] AR과 VR, 혁신성장 판로 열어 산업지형 바꾼다</strong>,\n",
       " <strong class=\"mail_title _ccr(lst.title) _c1(mrCore|clickTitle|14916) _m2(mrCore|middleClickTitle|14916)\" foldersn=\"\" mailsn=\"14916\"><span class=\"blind\">메일 제목:</span>Latest News: Wanna see the DUMBEST thread on Twitter? Check out Resist-DOLT Scott Dworkin’s bright IDEA for beating Putin</strong>,\n",
       " <strong class=\"mail_title _ccr(lst.title) _c1(mrCore|clickTitle|14915) _m2(mrCore|middleClickTitle|14915)\" foldersn=\"\" mailsn=\"14915\"><span class=\"blind\">메일 제목:</span>Adobe XD CC integration on Windows, Emoji autocomplete plugin for Sketch</strong>,\n",
       " <strong class=\"mail_title _ccr(lst.title) _c1(mrCore|clickTitle|14914) _m2(mrCore|middleClickTitle|14914)\" foldersn=\"\" mailsn=\"14914\"><span class=\"blind\">메일 제목:</span>[사람인] 이메일 인증번호를 입력해주세요.</strong>,\n",
       " <strong class=\"mail_title _ccr(lst.title) _c1(mrCore|clickTitle|14913) _m2(mrCore|middleClickTitle|14913)\" foldersn=\"\" mailsn=\"14913\"><span class=\"blind\">메일 제목:</span>정혜영님! 즉시 지원 가능한 서울지역 / 웹개발 포함 채용공고를 모았습니다.</strong>,\n",
       " <strong class=\"mail_title _ccr(lst.title) _c1(mrCore|clickTitle|14912) _m2(mrCore|middleClickTitle|14912)\" foldersn=\"\" mailsn=\"14912\"><span class=\"blind\">메일 제목:</span>[Data Sience Competition2018] 온라인테스트 - 오픈데이터셋 접속 관련</strong>,\n",
       " <strong class=\"mail_title _ccr(lst.title) _c1(mrCore|clickTitle|14911) _m2(mrCore|middleClickTitle|14911)\" foldersn=\"\" mailsn=\"14911\"><span class=\"blind\">메일 제목:</span>[페이스북 이노베이션 랩] 무료 세미나 : \"스파크랩, 삼성 넥스트와 함께하는 스타트업 투자 101\" 참가자 모집 안내</strong>]"
      ]
     },
     "execution_count": 296,
     "metadata": {},
     "output_type": "execute_result"
    }
   ],
   "source": [
    "titleList"
   ]
  },
  {
   "cell_type": "code",
   "execution_count": 303,
   "metadata": {},
   "outputs": [
    {
     "name": "stdout",
     "output_type": "stream",
     "text": [
      "<span class=\"blind\">메일 제목:</span>\n",
      "<span class=\"blind\">메일 제목:</span>\n",
      "<span class=\"blind\">메일 제목:</span>\n",
      "<span class=\"blind\">메일 제목:</span>\n",
      "<span class=\"blind\">메일 제목:</span>\n"
     ]
    }
   ],
   "source": [
    "for title in titleList:\n",
    "    if (\"(광고)\" in title.contents[1]) == True:\n",
    "        print(title.contents[0])\n",
    "        adverList = title.contents[1]"
   ]
  },
  {
   "cell_type": "code",
   "execution_count": 249,
   "metadata": {},
   "outputs": [],
   "source": [
    "mailCheck_14939"
   ]
  },
  {
   "cell_type": "code",
   "execution_count": null,
   "metadata": {},
   "outputs": [],
   "source": []
  },
  {
   "cell_type": "code",
   "execution_count": null,
   "metadata": {},
   "outputs": [],
   "source": []
  },
  {
   "cell_type": "code",
   "execution_count": null,
   "metadata": {},
   "outputs": [],
   "source": []
  },
  {
   "cell_type": "markdown",
   "metadata": {},
   "source": [
    "# 네이버 뉴스 첫번째 게시글에 댓글 쓰기"
   ]
  },
  {
   "cell_type": "code",
   "execution_count": 260,
   "metadata": {},
   "outputs": [],
   "source": [
    "# driver.get(\"https://news.naver.com/\")\n",
    "\n",
    "# try:\n",
    "#     driver.find_element_by_css_selector('.lnb_area > input').click()\n",
    "# except NoSuchElementException as e:\n",
    "#     print(e)\n",
    "# finally:\n",
    "#     driver.get(\"https://mail.naver.com/\")"
   ]
  },
  {
   "cell_type": "code",
   "execution_count": 282,
   "metadata": {},
   "outputs": [],
   "source": [
    "driver.get(\"https://news.naver.com/\")\n",
    "driver.find_elements_by_css_selector('.tx')[6].click()\n",
    "driver.find_elements_by_css_selector(\".cluster_text_headline\")[1].click()\n",
    "\n",
    "# 시간을 주면 알아서 잘 찾는당.\n",
    "driver.implicitly_wait(1)\n",
    "driver.find_element_by_css_selector(\".u_cbox_text\").send_keys(\"안녕하세요\")"
   ]
  },
  {
   "cell_type": "code",
   "execution_count": null,
   "metadata": {},
   "outputs": [],
   "source": [
    "!pip\n",
    "# 권한에따라서 윈도우에서 무한루프가될수도이슴.\n",
    "# 안되면 cmd창에서 pip install"
   ]
  },
  {
   "cell_type": "code",
   "execution_count": 316,
   "metadata": {},
   "outputs": [],
   "source": [
    "# Konolpy 다운로드\n",
    "import konlpy"
   ]
  },
  {
   "cell_type": "code",
   "execution_count": 315,
   "metadata": {},
   "outputs": [
    {
     "ename": "NameError",
     "evalue": "name 'corpus' is not defined",
     "output_type": "error",
     "traceback": [
      "\u001b[1;31m---------------------------------------------------------------------------\u001b[0m",
      "\u001b[1;31mNameError\u001b[0m                                 Traceback (most recent call last)",
      "\u001b[1;32m<ipython-input-315-cfba11c4d7b2>\u001b[0m in \u001b[0;36m<module>\u001b[1;34m()\u001b[0m\n\u001b[0;32m      1\u001b[0m \u001b[1;32mfrom\u001b[0m \u001b[0mkonlpy\u001b[0m\u001b[1;33m.\u001b[0m\u001b[0mcorpus\u001b[0m \u001b[1;32mimport\u001b[0m \u001b[0mkolaw\u001b[0m\u001b[1;33m\u001b[0m\u001b[0m\n\u001b[0;32m      2\u001b[0m \u001b[0mc\u001b[0m \u001b[1;33m=\u001b[0m \u001b[0mkolaw\u001b[0m\u001b[1;33m.\u001b[0m\u001b[0mopen\u001b[0m\u001b[1;33m(\u001b[0m\u001b[1;34m\"constitution.txt\"\u001b[0m\u001b[1;33m)\u001b[0m\u001b[1;33m.\u001b[0m\u001b[0mread\u001b[0m\u001b[1;33m(\u001b[0m\u001b[1;33m)\u001b[0m\u001b[1;33m\u001b[0m\u001b[0m\n\u001b[1;32m----> 3\u001b[1;33m \u001b[0mprint\u001b[0m\u001b[1;33m(\u001b[0m\u001b[0mcorpus\u001b[0m\u001b[1;33m.\u001b[0m\u001b[0msplit\u001b[0m\u001b[1;33m(\u001b[0m\u001b[1;34m\"\\n\"\u001b[0m\u001b[1;33m)\u001b[0m\u001b[1;33m[\u001b[0m\u001b[1;33m:\u001b[0m\u001b[1;36m3\u001b[0m\u001b[1;33m]\u001b[0m\u001b[1;33m)\u001b[0m\u001b[1;33m\u001b[0m\u001b[0m\n\u001b[0m",
      "\u001b[1;31mNameError\u001b[0m: name 'corpus' is not defined"
     ]
    }
   ],
   "source": [
    "from konlpy.corpus import kolaw\n",
    "c = kolaw.open(\"constitution.txt\").read()\n",
    "print(corpus.split(\"\\n\")[:3])"
   ]
  },
  {
   "cell_type": "code",
   "execution_count": 318,
   "metadata": {},
   "outputs": [
    {
     "ename": "NameError",
     "evalue": "name 'corpus' is not defined",
     "output_type": "error",
     "traceback": [
      "\u001b[1;31m---------------------------------------------------------------------------\u001b[0m",
      "\u001b[1;31mNameError\u001b[0m                                 Traceback (most recent call last)",
      "\u001b[1;32m<ipython-input-318-2ff178b84481>\u001b[0m in \u001b[0;36m<module>\u001b[1;34m()\u001b[0m\n\u001b[0;32m      1\u001b[0m \u001b[0mkonlpy\u001b[0m\u001b[1;33m.\u001b[0m\u001b[0mcorpus\u001b[0m\u001b[1;33m.\u001b[0m\u001b[0mkolaw\u001b[0m\u001b[1;33m.\u001b[0m\u001b[0mopen\u001b[0m\u001b[1;33m(\u001b[0m\u001b[1;34m\"constitution.txt\"\u001b[0m\u001b[1;33m)\u001b[0m\u001b[1;33m.\u001b[0m\u001b[0mread\u001b[0m\u001b[1;33m(\u001b[0m\u001b[1;33m)\u001b[0m\u001b[1;33m\u001b[0m\u001b[0m\n\u001b[1;32m----> 2\u001b[1;33m \u001b[0mprint\u001b[0m\u001b[1;33m(\u001b[0m\u001b[0mcorpus\u001b[0m\u001b[1;33m.\u001b[0m\u001b[0msplit\u001b[0m\u001b[1;33m(\u001b[0m\u001b[1;34m\"\\n\"\u001b[0m\u001b[1;33m)\u001b[0m\u001b[1;33m[\u001b[0m\u001b[1;33m:\u001b[0m\u001b[1;36m3\u001b[0m\u001b[1;33m]\u001b[0m\u001b[1;33m)\u001b[0m\u001b[1;33m\u001b[0m\u001b[0m\n\u001b[0m",
      "\u001b[1;31mNameError\u001b[0m: name 'corpus' is not defined"
     ]
    }
   ],
   "source": [
    "konlpy.corpus.kolaw.open(\"constitution.txt\").read()\n",
    "print(corpus.split(\"\\n\")[:3])"
   ]
  },
  {
   "cell_type": "code",
   "execution_count": null,
   "metadata": {},
   "outputs": [],
   "source": []
  }
 ],
 "metadata": {
  "kernelspec": {
   "display_name": "Python 3",
   "language": "python",
   "name": "python3"
  },
  "language_info": {
   "codemirror_mode": {
    "name": "ipython",
    "version": 3
   },
   "file_extension": ".py",
   "mimetype": "text/x-python",
   "name": "python",
   "nbconvert_exporter": "python",
   "pygments_lexer": "ipython3",
   "version": "3.6.5"
  }
 },
 "nbformat": 4,
 "nbformat_minor": 2
}
