{
 "cells": [
  {
   "cell_type": "markdown",
   "metadata": {},
   "source": [
    "# Exercise 130: Text Messaging"
   ]
  },
  {
   "cell_type": "code",
   "execution_count": 4,
   "metadata": {
    "scrolled": true
   },
   "outputs": [
    {
     "name": "stdout",
     "output_type": "stream",
     "text": [
      "HEllo World!\n",
      "12\n",
      "4\n",
      "3\n",
      "*\n",
      "*\n",
      "*\n",
      "0\n",
      "9\n",
      "*\n",
      "*\n",
      "*\n",
      "*\n",
      "1\n"
     ]
    }
   ],
   "source": [
    "stc = input()\n",
    "print(len(stc))\n",
    "range(0,len(stc))\n",
    "\n",
    "for i in range(0,len(stc)):\n",
    "    if stc[i] == '.' or stc[i] == ',' or stc[i] == '!' or stc[i] == '?' or stc[i] == ':':\n",
    "        print(1)\n",
    "    elif stc[i] == 'A' or stc[i] == 'B' or stc[i] == 'C':\n",
    "        print(2)\n",
    "    elif stc[i] == 'D' or stc[i] == 'E' or stc[i] == 'F':\n",
    "        print(3)\n",
    "    elif stc[i] == 'G' or stc[i] == 'H' or stc[i] == 'I':\n",
    "        print(4)\n",
    "    elif stc[i] == 'J' or stc[i] == 'K' or stc[i] == 'L':\n",
    "        print(5)\n",
    "    elif stc[i] == 'M' or stc[i] == 'N' or stc[i] == 'O':\n",
    "        print(6)\n",
    "    elif stc[i] == 'P' or stc[i] == 'Q' or stc[i] == 'R' or stc[i] == 'S':\n",
    "        print(7)\n",
    "    elif stc[i] == 'T' or stc[i] == 'U' or stc[i] == 'V':\n",
    "        print(8)\n",
    "    elif stc[i] == 'W' or stc[i] == 'Y' or stc[i] == 'X' or stc[i] == 'Z':\n",
    "        print(9)\n",
    "    elif stc[i] == ' ':\n",
    "        print(0)\n",
    "    else:\n",
    "        print(\"*\")"
   ]
  },
  {
   "cell_type": "code",
   "execution_count": null,
   "metadata": {},
   "outputs": [],
   "source": [
    "sentence = input()\n",
    "\n",
    "print(len(sentence))\n",
    "\n",
    "for i in range(0,len(sentence)):\n",
    "    if sentence[i]=='h' or sentence[i] == 'l':\n",
    "        print(1)\n",
    "    else:\n",
    "        print(0)"
   ]
  },
  {
   "cell_type": "code",
   "execution_count": 33,
   "metadata": {},
   "outputs": [
    {
     "data": {
      "text/plain": [
       "(' ', 0)"
      ]
     },
     "execution_count": 33,
     "metadata": {},
     "output_type": "execute_result"
    }
   ],
   "source": [
    "phone = {1:['.', ',', '!', '?'], 2:['A', 'B', 'C'], 3:['D', 'E', 'F'], 4:['G','H', 'I'], \n",
    "         5:['J','K','L'], 6:['M', 'N', 'O'], 7:['P', 'Q','R','S'], 8:['T','U','V'], 9:['W','X','Y','Z'], 0:' '}\n",
    "\n",
    "for k,v in phone.items():\n",
    "    new_dic = v,k\n",
    "    \n",
    "new_dic"
   ]
  },
  {
   "cell_type": "code",
   "execution_count": 17,
   "metadata": {},
   "outputs": [
    {
     "ename": "TypeError",
     "evalue": "print() argument after ** must be a mapping, not str",
     "output_type": "error",
     "traceback": [
      "\u001b[1;31m---------------------------------------------------------------------------\u001b[0m",
      "\u001b[1;31mTypeError\u001b[0m                                 Traceback (most recent call last)",
      "\u001b[1;32m<ipython-input-17-b872112cf9f4>\u001b[0m in \u001b[0;36m<module>\u001b[1;34m()\u001b[0m\n\u001b[1;32m----> 1\u001b[1;33m \u001b[0mprint\u001b[0m\u001b[1;33m(\u001b[0m\u001b[1;33m**\u001b[0m\u001b[0mlist_v\u001b[0m\u001b[1;33m)\u001b[0m\u001b[1;33m\u001b[0m\u001b[0m\n\u001b[0m",
      "\u001b[1;31mTypeError\u001b[0m: print() argument after ** must be a mapping, not str"
     ]
    }
   ],
   "source": []
  },
  {
   "cell_type": "code",
   "execution_count": null,
   "metadata": {},
   "outputs": [],
   "source": []
  }
 ],
 "metadata": {
  "kernelspec": {
   "display_name": "Python 3",
   "language": "python",
   "name": "python3"
  },
  "language_info": {
   "codemirror_mode": {
    "name": "ipython",
    "version": 3
   },
   "file_extension": ".py",
   "mimetype": "text/x-python",
   "name": "python",
   "nbconvert_exporter": "python",
   "pygments_lexer": "ipython3",
   "version": "3.6.5"
  }
 },
 "nbformat": 4,
 "nbformat_minor": 2
}
