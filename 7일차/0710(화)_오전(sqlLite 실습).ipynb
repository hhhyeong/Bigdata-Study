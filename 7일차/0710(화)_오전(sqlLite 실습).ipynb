{
 "cells": [
  {
   "cell_type": "markdown",
   "metadata": {},
   "source": [
    "# JOIN"
   ]
  },
  {
   "cell_type": "code",
   "execution_count": 17,
   "metadata": {},
   "outputs": [],
   "source": [
    "import sqlite3"
   ]
  },
  {
   "cell_type": "code",
   "execution_count": 18,
   "metadata": {},
   "outputs": [],
   "source": [
    "# sqlite와 connection 만들기.\n",
    "#   파일에저장해서 DBbrowser에서 확인하던지, 메모리에 잠깐 저장하던지.\n",
    "conn = sqlite3.connect(\"test.db\")"
   ]
  },
  {
   "cell_type": "code",
   "execution_count": 19,
   "metadata": {},
   "outputs": [],
   "source": [
    "cur = conn.cursor()"
   ]
  },
  {
   "cell_type": "code",
   "execution_count": 31,
   "metadata": {},
   "outputs": [],
   "source": [
    "cur.executescript(\n",
    "    \"\"\"\n",
    "        drop table artist;\n",
    "        drop table genre;\n",
    "        drop table album;\n",
    "        drop table track;\n",
    "    \"\"\"\n",
    ");"
   ]
  },
  {
   "cell_type": "code",
   "execution_count": 32,
   "metadata": {
    "scrolled": true
   },
   "outputs": [
    {
     "data": {
      "text/plain": [
       "<sqlite3.Cursor at 0x1b9177f5ce0>"
      ]
     },
     "execution_count": 32,
     "metadata": {},
     "output_type": "execute_result"
    }
   ],
   "source": [
    "cur.executescript(\n",
    "    \"\"\"\n",
    "        create table artist (\n",
    "            id integer primary key autoincrement,\n",
    "            name text\n",
    "        );\n",
    "        create table genre (\n",
    "            id integer primary key autoincrement,\n",
    "            name text\n",
    "        );\n",
    "        create table album (\n",
    "            id integer primary key autoincrement,\n",
    "            title text,\n",
    "            artist_id integer\n",
    "        );\n",
    "        create table track (\n",
    "            id integer primary key autoincrement,\n",
    "            title text,\n",
    "            length integer,\n",
    "            count integer,\n",
    "            rating integer,\n",
    "            album_id integer,\n",
    "            genre_id integer\n",
    "        );\n",
    "    \"\"\"\n",
    ")\n",
    "# album테이블의 artist_id에 대해서 따로 FK라고 선언 안함."
   ]
  },
  {
   "cell_type": "code",
   "execution_count": 33,
   "metadata": {},
   "outputs": [],
   "source": [
    "conn.commit();"
   ]
  },
  {
   "cell_type": "code",
   "execution_count": 34,
   "metadata": {},
   "outputs": [
    {
     "data": {
      "text/plain": [
       "<sqlite3.Cursor at 0x1b9177f5ce0>"
      ]
     },
     "execution_count": 34,
     "metadata": {},
     "output_type": "execute_result"
    }
   ],
   "source": [
    "cur.executescript(\n",
    "    \"\"\"\n",
    "        insert into artist (name) values('Led Zepplin');\n",
    "        insert into artist (name) values('AC/DC');\n",
    "        \n",
    "        insert into genre (name) values('Rock');\n",
    "        insert into genre (name) values('Metal');\n",
    "    \"\"\"\n",
    ")"
   ]
  },
  {
   "cell_type": "code",
   "execution_count": null,
   "metadata": {},
   "outputs": [],
   "source": []
  },
  {
   "cell_type": "code",
   "execution_count": 35,
   "metadata": {},
   "outputs": [
    {
     "data": {
      "text/plain": [
       "<sqlite3.Cursor at 0x1b9177f5ce0>"
      ]
     },
     "execution_count": 35,
     "metadata": {},
     "output_type": "execute_result"
    }
   ],
   "source": [
    "cur.execute(\"select * from artist\")"
   ]
  },
  {
   "cell_type": "code",
   "execution_count": 36,
   "metadata": {},
   "outputs": [
    {
     "name": "stdout",
     "output_type": "stream",
     "text": [
      "[(1, 'Led Zepplin'), (2, 'AC/DC')]\n"
     ]
    }
   ],
   "source": [
    "print(cur.fetchall())"
   ]
  },
  {
   "cell_type": "code",
   "execution_count": 37,
   "metadata": {},
   "outputs": [
    {
     "data": {
      "text/plain": [
       "list"
      ]
     },
     "execution_count": 37,
     "metadata": {},
     "output_type": "execute_result"
    }
   ],
   "source": [
    "artist = cur.fetchall()\n",
    "type(artist)"
   ]
  },
  {
   "cell_type": "code",
   "execution_count": 38,
   "metadata": {},
   "outputs": [],
   "source": [
    "cur.executescript(\n",
    "    \"\"\"\n",
    "        insert into album (title, artist_id) values('IV', 1);\n",
    "        insert into album (title, artist_id) values('Who Made Who', 2);\n",
    "        \n",
    "        insert into track (title, album_id, genre_id) values('Black Dog', 1, 1);\n",
    "        insert into track (title, album_id, genre_id) values('Stairway', 1, 2);\n",
    "        insert into track (title, album_id, genre_id) values('About to Rock', 2, 1);\n",
    "        insert into track (title, album_id, genre_id) values('Who Made Who', 2, 2);\n",
    "    \"\"\"\n",
    ");"
   ]
  },
  {
   "cell_type": "code",
   "execution_count": 41,
   "metadata": {},
   "outputs": [
    {
     "data": {
      "text/plain": [
       "<sqlite3.Cursor at 0x1b9177f5ce0>"
      ]
     },
     "execution_count": 41,
     "metadata": {},
     "output_type": "execute_result"
    }
   ],
   "source": [
    "cur.execute(\"select * from track\")"
   ]
  },
  {
   "cell_type": "code",
   "execution_count": 43,
   "metadata": {},
   "outputs": [
    {
     "name": "stdout",
     "output_type": "stream",
     "text": [
      "[(1, 'Black Dog', None, None, None, 1, 1), (2, 'Stairway', None, None, None, 1, 2), (3, 'About to Rock', None, None, None, 2, 1), (4, 'Who Made Who', None, None, None, 2, 2)]\n"
     ]
    }
   ],
   "source": [
    "print(cur.fetchall())"
   ]
  },
  {
   "cell_type": "code",
   "execution_count": 44,
   "metadata": {},
   "outputs": [
    {
     "data": {
      "text/plain": [
       "<sqlite3.Cursor at 0x1b9177f5ce0>"
      ]
     },
     "execution_count": 44,
     "metadata": {},
     "output_type": "execute_result"
    }
   ],
   "source": [
    "# Cross Join.\n",
    "\n",
    "cur.execute(\"select * from artist cross join album\")"
   ]
  },
  {
   "cell_type": "code",
   "execution_count": 45,
   "metadata": {},
   "outputs": [
    {
     "name": "stdout",
     "output_type": "stream",
     "text": [
      "(1, 'Led Zepplin', 1, 'IV', 1)\n",
      "(1, 'Led Zepplin', 2, 'Who Made Who', 2)\n",
      "(2, 'AC/DC', 1, 'IV', 1)\n",
      "(2, 'AC/DC', 2, 'Who Made Who', 2)\n"
     ]
    }
   ],
   "source": [
    "for row in cur.fetchall():\n",
    "    print(row)"
   ]
  },
  {
   "cell_type": "code",
   "execution_count": 47,
   "metadata": {},
   "outputs": [
    {
     "data": {
      "text/plain": [
       "<sqlite3.Cursor at 0x1b9177f5ce0>"
      ]
     },
     "execution_count": 47,
     "metadata": {},
     "output_type": "execute_result"
    }
   ],
   "source": [
    "# 몇 줄 안되는데 길이가 길어지니까, 별칭을 다는것임.\n",
    "\n",
    "cur.execute(\"select artist.name, album.title from artist cross join album on artist.id=album.artist_id\")"
   ]
  },
  {
   "cell_type": "code",
   "execution_count": 48,
   "metadata": {},
   "outputs": [
    {
     "name": "stdout",
     "output_type": "stream",
     "text": [
      "('Led Zepplin', 'IV')\n",
      "('AC/DC', 'Who Made Who')\n"
     ]
    }
   ],
   "source": [
    "for row in cur.fetchall():\n",
    "    print(row)"
   ]
  },
  {
   "cell_type": "code",
   "execution_count": 49,
   "metadata": {},
   "outputs": [
    {
     "name": "stdout",
     "output_type": "stream",
     "text": [
      "(1, 'IV', 1, 1, 'Black Dog', None, None, None, 1, 1)\n",
      "(1, 'IV', 1, 2, 'Stairway', None, None, None, 1, 2)\n",
      "(2, 'Who Made Who', 2, 3, 'About to Rock', None, None, None, 2, 1)\n",
      "(2, 'Who Made Who', 2, 4, 'Who Made Who', None, None, None, 2, 2)\n"
     ]
    }
   ],
   "source": [
    "# album이랑 track을 조인하고싶어.\n",
    "# Inner Join(교집합).\n",
    "\n",
    "cur.execute(\"select * from album join track on album.id=track.album_id\")\n",
    "\n",
    "for row in cur.fetchall():\n",
    "    print(row)"
   ]
  },
  {
   "cell_type": "code",
   "execution_count": 50,
   "metadata": {},
   "outputs": [
    {
     "name": "stdout",
     "output_type": "stream",
     "text": [
      "(1, 'Black Dog', None, None, None, 1, 1, 1, 'IV', 1, 1, 'Rock', 1, 'Led Zepplin')\n",
      "(2, 'Stairway', None, None, None, 1, 2, 1, 'IV', 1, 2, 'Metal', 1, 'Led Zepplin')\n",
      "(3, 'About to Rock', None, None, None, 2, 1, 2, 'Who Made Who', 2, 1, 'Rock', 2, 'AC/DC')\n",
      "(4, 'Who Made Who', None, None, None, 2, 2, 2, 'Who Made Who', 2, 2, 'Metal', 2, 'AC/DC')\n"
     ]
    }
   ],
   "source": [
    "#tack_id == album_id, track_id == genre_id, album_id == artist_id 조인.\n",
    "\n",
    "cur.execute(\"select * from track join album join genre join artist \\\n",
    "            on album.id = track.album_id and \\\n",
    "            track.genre_id = genre.id and \\\n",
    "            album.artist_id = artist.id\")\n",
    "\n",
    "for row in cur.fetchall():\n",
    "    print(row)"
   ]
  },
  {
   "cell_type": "code",
   "execution_count": 51,
   "metadata": {},
   "outputs": [
    {
     "name": "stdout",
     "output_type": "stream",
     "text": [
      "('Black Dog', 'IV', 'Rock', 'Led Zepplin')\n",
      "('Stairway', 'IV', 'Metal', 'Led Zepplin')\n",
      "('About to Rock', 'Who Made Who', 'Rock', 'AC/DC')\n",
      "('Who Made Who', 'Who Made Who', 'Metal', 'AC/DC')\n"
     ]
    }
   ],
   "source": [
    "# 명시적으로 알아보기 쉽게 컬럼을 지정해주기.\n",
    "\n",
    "cur.execute(\"select track.title, album.title, genre.name, artist.name from track join album join genre join artist \\\n",
    "            on album.id = track.album_id and \\\n",
    "            track.genre_id = genre.id and \\\n",
    "            album.artist_id = artist.id\")\n",
    "\n",
    "for row in cur.fetchall():\n",
    "    print(row)\n",
    "    \n",
    "#  곡명  /  앨범명  /  장르명  /  가수"
   ]
  },
  {
   "cell_type": "code",
   "execution_count": 54,
   "metadata": {},
   "outputs": [],
   "source": [
    "# 다른곳에 넘겨줄 때 'dump뜬다'고 함.\n",
    "# memory에있는 dump명령어로 한줄한줄 읽어서 file db에 쓰면됨.\n",
    "\n",
    "\n",
    "# 쓸려고 열건지('w'), 읽으려고 열건지('r').\n",
    "# test.dump => Database 파일 확장자로 저장됨. VisualStudio, Atom으로 열릴수있을듯. 글자깨지넹;;;\n",
    "# dump.sql => SQL 파일 확장자로 저장됨. mySQL 워크벤치, 메모장, text editor로 열림.\n",
    "# 어떤이름으로 해도 됨.\n",
    "\n",
    "with open('test.dump', 'w') as f:\n",
    "    for line in conn.iterdump():\n",
    "        f.write('%s\\n' %line)"
   ]
  },
  {
   "cell_type": "code",
   "execution_count": 57,
   "metadata": {},
   "outputs": [],
   "source": [
    "data = None\n",
    "with open('test.dump', 'r') as f:\n",
    "    data = f.read()"
   ]
  },
  {
   "cell_type": "code",
   "execution_count": 74,
   "metadata": {},
   "outputs": [
    {
     "data": {
      "text/plain": [
       "<sqlite3.Cursor at 0x1b9178ebc00>"
      ]
     },
     "execution_count": 74,
     "metadata": {},
     "output_type": "execute_result"
    }
   ],
   "source": [
    "# data저장된 dump.db파일 생성됨.\n",
    "\n",
    "conn = sqlite3.connect(\"test.db\")\n",
    "cur = conn.cursor()\n",
    "cur.executescript(data)"
   ]
  },
  {
   "cell_type": "code",
   "execution_count": null,
   "metadata": {},
   "outputs": [],
   "source": [
    "# track에 있는애랑 left join할것.\n",
    "\n",
    "conn.execute(\"insert into track (title) values ('아무거나')\")"
   ]
  },
  {
   "cell_type": "code",
   "execution_count": 76,
   "metadata": {},
   "outputs": [
    {
     "name": "stdout",
     "output_type": "stream",
     "text": [
      "[]\n"
     ]
    }
   ],
   "source": [
    "conn.execute(\"select * from track\")\n",
    "print(cur.fetchall())"
   ]
  },
  {
   "cell_type": "code",
   "execution_count": 77,
   "metadata": {},
   "outputs": [],
   "source": [
    "for row in cur.fetchall():\n",
    "    print(row)"
   ]
  },
  {
   "cell_type": "code",
   "execution_count": 78,
   "metadata": {
    "scrolled": true
   },
   "outputs": [
    {
     "name": "stdout",
     "output_type": "stream",
     "text": [
      "(1, 'IV', 1, 1, 'Black Dog', None, None, None, 1, 1)\n",
      "(1, 'IV', 1, 2, 'Stairway', None, None, None, 1, 2)\n",
      "(2, 'Who Made Who', 2, 3, 'About to Rock', None, None, None, 2, 1)\n",
      "(2, 'Who Made Who', 2, 4, 'Who Made Who', None, None, None, 2, 2)\n"
     ]
    }
   ],
   "source": [
    "cur.execute(\"select * from album left join track on album.id=track.album_id\")\n",
    "\n",
    "for row in cur.fetchall():\n",
    "    print(row)"
   ]
  },
  {
   "cell_type": "code",
   "execution_count": null,
   "metadata": {},
   "outputs": [],
   "source": []
  },
  {
   "cell_type": "code",
   "execution_count": null,
   "metadata": {},
   "outputs": [],
   "source": []
  }
 ],
 "metadata": {
  "kernelspec": {
   "display_name": "Python 3",
   "language": "python",
   "name": "python3"
  },
  "language_info": {
   "codemirror_mode": {
    "name": "ipython",
    "version": 3
   },
   "file_extension": ".py",
   "mimetype": "text/x-python",
   "name": "python",
   "nbconvert_exporter": "python",
   "pygments_lexer": "ipython3",
   "version": "3.6.5"
  }
 },
 "nbformat": 4,
 "nbformat_minor": 2
}
