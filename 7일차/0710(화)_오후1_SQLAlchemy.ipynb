{
 "cells": [
  {
   "cell_type": "markdown",
   "metadata": {},
   "source": [
    "# SQLAlchemy 사용해서 엔진 만들기"
   ]
  },
  {
   "cell_type": "code",
   "execution_count": 1,
   "metadata": {},
   "outputs": [],
   "source": [
    "# 클래스랑 실제 table랑 자동으로 매핑해주는 애.\n",
    "# 복잡하게 테이블 만들어서 작업하지말고, 중간에서 ORM이 알아서 해줄테니, 편하게 class로 다 해라.\n",
    "\n",
    "# ER모델과 실제 테이블과 정확하게 매핑되지 않는 경우 있었는데,\n",
    "# ORM에서는 그런경우가 없음. class만들면 알아서 table만들어주니까!!!\n",
    "\n",
    "# class끼리 상속, abstract, 모든 관계 갖다쓸 수 있음.\n",
    "# DBMS는 아님..! RDBMS 개체의 관계를 엮을 수 있게 해주는 프로그램 테크닉일뿐.\n",
    "\n",
    "# ORM 밑에 RDBMS가 반드시 존재해야함.\n",
    "# database랑 object랑 자동으로 mapping해주기때문에 개발자에겐 쉬움.\n",
    "# ER 모델과 비지니스모델(객체모델) 과 달라서 고민하는 경우가 없음.\n",
    "# But, 중간에 ORM을 거치므로, overhead가 발생해서 성능이 좀 떨어짐. but, transaction이 심하지 않은곳에서는 사용할 수 있음.\n",
    "# 1000개의 데이터를 10000번씩 불러올땐 문제가 될 순 있음.\n",
    "# DB를 안쓰는이융: 하나쿼리를 실행해서 이름하나 불러오는데 0.1초 걸린다 해도, 시간 엄청많이 걸리게됨.\n",
    "# 따라서, 저분은 fileDB로 덤프를 통째로 가져온다고 함."
   ]
  },
  {
   "cell_type": "code",
   "execution_count": 2,
   "metadata": {
    "scrolled": false
   },
   "outputs": [
    {
     "name": "stdout",
     "output_type": "stream",
     "text": [
      "# packages in environment at C:\\Users\\user\\Anaconda3:\n",
      "#\n",
      "# Name                    Version                   Build  Channel\n",
      "_ipyw_jlab_nb_ext_conf    0.1.0            py36he6757f0_0  \n",
      "alabaster                 0.7.10           py36hcd07829_0  \n",
      "anaconda                  5.2.0                    py36_3  \n",
      "anaconda-client           1.6.14                   py36_0  \n",
      "anaconda-navigator        1.8.7                    py36_0  \n",
      "anaconda-project          0.8.2            py36hfad2e28_0  \n",
      "asn1crypto                0.24.0                   py36_0  \n",
      "astroid                   1.6.3                    py36_0  \n",
      "astropy                   3.0.2            py36h452e1ab_1  \n",
      "attrs                     18.1.0                   py36_0  \n",
      "babel                     2.5.3                    py36_0  \n",
      "backcall                  0.1.0                    py36_0  \n",
      "backports                 1.0              py36h81696a8_1  \n",
      "backports.shutil_get_terminal_size 1.0.0            py36h79ab834_2  \n",
      "beautifulsoup4            4.6.0            py36hd4cc5e8_1  \n",
      "bitarray                  0.8.1            py36hfa6e2cd_1  \n",
      "bkcharts                  0.2              py36h7e685f7_0  \n",
      "blas                      1.0                         mkl  \n",
      "blaze                     0.11.3           py36h8a29ca5_0  \n",
      "bleach                    2.1.3                    py36_0  \n",
      "blosc                     1.14.3               he51fdeb_0  \n",
      "bokeh                     0.12.16                  py36_0  \n",
      "boto                      2.48.0           py36h1a776d2_1  \n",
      "bottleneck                1.2.1            py36hd119dfa_0  \n",
      "bzip2                     1.0.6                hfa6e2cd_5  \n",
      "ca-certificates           2018.03.07                    0  \n",
      "certifi                   2018.4.16                py36_0  \n",
      "cffi                      1.11.5           py36h945400d_0  \n",
      "chardet                   3.0.4            py36h420ce6e_1  \n",
      "click                     6.7              py36hec8c647_0  \n",
      "cloudpickle               0.5.3                    py36_0  \n",
      "clyent                    1.2.2            py36hb10d595_1  \n",
      "colorama                  0.3.9            py36h029ae33_0  \n",
      "comtypes                  1.1.4                    py36_0  \n",
      "conda                     4.5.4                    py36_0  \n",
      "conda-build               3.10.5                   py36_0  \n",
      "conda-env                 2.6.0                h36134e3_1  \n",
      "conda-verify              2.0.0            py36h065de53_0  \n",
      "console_shortcut          0.1.1                h6bb2dd7_3  \n",
      "contextlib2               0.5.5            py36he5d52c0_0  \n",
      "cryptography              2.2.2            py36hfa6e2cd_0  \n",
      "curl                      7.60.0               h7602738_0  \n",
      "cycler                    0.10.0           py36h009560c_0  \n",
      "cython                    0.28.2           py36hfa6e2cd_0  \n",
      "cytoolz                   0.9.0.1          py36hfa6e2cd_0  \n",
      "dask                      0.17.5                   py36_0  \n",
      "dask-core                 0.17.5                   py36_0  \n",
      "datashape                 0.5.4            py36h5770b85_0  \n",
      "decorator                 4.3.0                    py36_0  \n",
      "distributed               1.21.8                   py36_0  \n",
      "docutils                  0.14             py36h6012d8f_0  \n",
      "entrypoints               0.2.3            py36hfd66bb0_2  \n",
      "et_xmlfile                1.0.1            py36h3d2d736_0  \n",
      "fastcache                 1.0.2            py36hfa6e2cd_2  \n",
      "filelock                  3.0.4                    py36_0  \n",
      "flask                     1.0.2                    py36_1  \n",
      "flask-cors                3.0.4                    py36_0  \n",
      "freetype                  2.8                  h51f8f2c_1  \n",
      "get_terminal_size         1.0.0                h38e98db_0  \n",
      "gevent                    1.3.0            py36hfa6e2cd_0  \n",
      "glob2                     0.6              py36hdf76b57_0  \n",
      "greenlet                  0.4.13           py36hfa6e2cd_0  \n",
      "h5py                      2.7.1            py36h3bdd7fb_2  \n",
      "hdf5                      1.10.2               hac2f561_1  \n",
      "heapdict                  1.0.0                    py36_2  \n",
      "html5lib                  1.0.1            py36h047fa9f_0  \n",
      "icc_rt                    2017.0.4             h97af966_0  \n",
      "icu                       58.2                 ha66f8fd_1  \n",
      "idna                      2.6              py36h148d497_1  \n",
      "imageio                   2.3.0                    py36_0  \n",
      "imagesize                 1.0.0                    py36_0  \n",
      "intel-openmp              2018.0.0                      8  \n",
      "ipykernel                 4.8.2                    py36_0  \n",
      "ipython                   6.4.0                    py36_0  \n",
      "ipython_genutils          0.2.0            py36h3c5d0ee_0  \n",
      "ipywidgets                7.2.1                    py36_0  \n",
      "isort                     4.3.4                    py36_0  \n",
      "itsdangerous              0.24             py36hb6c5a24_1  \n",
      "jdcal                     1.4                      py36_0  \n",
      "jedi                      0.12.0                   py36_1  \n",
      "jinja2                    2.10             py36h292fed1_0  \n",
      "jpeg                      9b                   hb83a4c4_2  \n",
      "jsonschema                2.6.0            py36h7636477_0  \n",
      "jupyter                   1.0.0                    py36_4  \n",
      "jupyter_client            5.2.3                    py36_0  \n",
      "jupyter_console           5.2.0            py36h6d89b47_1  \n",
      "jupyter_core              4.4.0            py36h56e9d50_0  \n",
      "jupyterlab                0.32.1                   py36_0  \n",
      "jupyterlab_launcher       0.10.5                   py36_0  \n",
      "kiwisolver                1.0.1            py36h12c3424_0  \n",
      "lazy-object-proxy         1.3.1            py36hd1c21d2_0  \n",
      "libcurl                   7.60.0               hc4dcbb0_0  \n",
      "libiconv                  1.15                 h1df5818_7  \n",
      "libpng                    1.6.34               h79bbb47_0  \n",
      "libsodium                 1.0.16               h9d3ae62_0  \n",
      "libssh2                   1.8.0                hd619d38_4  \n",
      "libtiff                   4.0.9                hb8ad9f9_1  \n",
      "libxml2                   2.9.8                hadb2253_1  \n",
      "libxslt                   1.1.32               hf6f1972_0  \n",
      "llvmlite                  0.23.1           py36hcacf6c6_0  \n",
      "locket                    0.2.0            py36hfed976d_1  \n",
      "lxml                      4.2.1            py36heafd4d3_0  \n",
      "lzo                       2.10                 h6df0209_2  \n",
      "m2w64-gcc-libgfortran     5.3.0                         6  \n",
      "m2w64-gcc-libs            5.3.0                         7  \n",
      "m2w64-gcc-libs-core       5.3.0                         7  \n",
      "m2w64-gmp                 6.1.0                         2  \n",
      "m2w64-libwinpthread-git   5.0.0.4634.697f757               2  \n",
      "markupsafe                1.0              py36h0e26971_1  \n",
      "matplotlib                2.2.2            py36h153e9ff_1  \n",
      "mccabe                    0.6.1            py36hb41005a_1  \n",
      "menuinst                  1.4.14           py36hfa6e2cd_0  \n",
      "mistune                   0.8.3            py36hfa6e2cd_1  \n",
      "mkl                       2018.0.2                      1  \n",
      "mkl-service               1.1.2            py36h57e144c_4  \n",
      "mkl_fft                   1.0.1            py36h452e1ab_0  \n",
      "mkl_random                1.0.1            py36h9258bd6_0  \n",
      "more-itertools            4.1.0                    py36_0  \n",
      "mpmath                    1.0.0            py36hacc8adf_2  \n",
      "msgpack-python            0.5.6            py36he980bc4_0  \n",
      "msys2-conda-epoch         20160418                      1  \n",
      "multipledispatch          0.5.0                    py36_0  \n",
      "navigator-updater         0.2.1                    py36_0  \n",
      "nbconvert                 5.3.1            py36h8dc0fde_0  \n",
      "nbformat                  4.4.0            py36h3a5bc1b_0  \n",
      "networkx                  2.1                      py36_0  \n",
      "nltk                      3.3.0                    py36_0  \n",
      "nose                      1.3.7            py36h1c3779e_2  \n",
      "notebook                  5.5.0                    py36_0  \n",
      "numba                     0.38.0           py36h830ac7b_0  \n",
      "numexpr                   2.6.5            py36hcd2f87e_0  \n",
      "numpy                     1.14.3           py36h9fa60d3_1  \n",
      "numpy-base                1.14.3           py36h555522e_1  \n",
      "numpydoc                  0.8.0                    py36_0  \n",
      "odo                       0.5.1            py36h7560279_0  \n",
      "olefile                   0.45.1                   py36_0  \n",
      "openpyxl                  2.5.3                    py36_0  \n",
      "openssl                   1.0.2o               h8ea7d77_0  \n",
      "packaging                 17.1                     py36_0  \n",
      "pandas                    0.23.0           py36h830ac7b_0  \n",
      "pandoc                    1.19.2.1             hb2460c7_1  \n",
      "pandocfilters             1.4.2            py36h3ef6317_1  \n",
      "parso                     0.2.0                    py36_0  \n",
      "partd                     0.3.8            py36hc8e763b_0  \n",
      "path.py                   11.0.1                   py36_0  \n",
      "pathlib2                  2.3.2                    py36_0  \n",
      "patsy                     0.5.0                    py36_0  \n",
      "pep8                      1.7.1                    py36_0  \n",
      "pickleshare               0.7.4            py36h9de030f_0  \n",
      "pillow                    5.1.0            py36h0738816_0  \n",
      "pip                       10.0.1                   py36_0  \n",
      "pkginfo                   1.4.2                    py36_1  \n",
      "pluggy                    0.6.0            py36hc7daf1e_0  \n",
      "ply                       3.11                     py36_0  \n",
      "prompt_toolkit            1.0.15           py36h60b8f86_0  \n",
      "psutil                    5.4.5            py36hfa6e2cd_0  \n",
      "py                        1.5.3                    py36_0  \n",
      "pycodestyle               2.4.0                    py36_0  \n",
      "pycosat                   0.6.3            py36h413d8a4_0  \n",
      "pycparser                 2.18             py36hd053e01_1  \n",
      "pycrypto                  2.6.1            py36hfa6e2cd_8  \n",
      "pycurl                    7.43.0.1         py36h74b6da3_0  \n",
      "pyflakes                  1.6.0            py36h0b975d6_0  \n",
      "pygments                  2.2.0            py36hb010967_0  \n",
      "pylint                    1.8.4                    py36_0  \n",
      "pyodbc                    4.0.23           py36h6538335_0  \n",
      "pyopenssl                 18.0.0                   py36_0  \n",
      "pyparsing                 2.2.0            py36h785a196_1  \n",
      "pyqt                      5.9.2            py36h1aa27d4_0  \n",
      "pysocks                   1.6.8                    py36_0  \n",
      "pytables                  3.4.3            py36he6f6034_1  \n",
      "pytest                    3.5.1                    py36_0  \n",
      "pytest-arraydiff          0.2                      py36_0  \n",
      "pytest-astropy            0.3.0                    py36_0  \n",
      "pytest-doctestplus        0.1.3                    py36_0  \n",
      "pytest-openfiles          0.3.0                    py36_0  \n",
      "pytest-remotedata         0.2.1                    py36_0  \n",
      "python                    3.6.5                h0c2934d_0  \n",
      "python-dateutil           2.7.3                    py36_0  \n",
      "pytz                      2018.4                   py36_0  \n",
      "pywavelets                0.5.2            py36hc649158_0  \n",
      "pywin32                   223              py36hfa6e2cd_1  \n",
      "pywinpty                  0.5.1                    py36_0  \n",
      "pyyaml                    3.12             py36h1d1928f_1  \n",
      "pyzmq                     17.0.0           py36hfa6e2cd_1  \n",
      "qt                        5.9.5            vc14he4a7d60_0  [vc14]\n",
      "qtawesome                 0.4.4            py36h5aa48f6_0  \n",
      "qtconsole                 4.3.1            py36h99a29a9_0  \n",
      "qtpy                      1.4.1                    py36_0  \n",
      "requests                  2.18.4           py36h4371aae_1  \n",
      "rope                      0.10.7           py36had63a69_0  \n",
      "ruamel_yaml               0.15.35          py36hfa6e2cd_1  \n",
      "scikit-image              0.13.1           py36hfa6e2cd_1  \n",
      "scikit-learn              0.19.1           py36h53aea1b_0  \n",
      "scipy                     1.1.0            py36h672f292_0  \n",
      "seaborn                   0.8.1            py36h9b69545_0  \n",
      "send2trash                1.5.0                    py36_0  \n",
      "setuptools                39.1.0                   py36_0  \n",
      "simplegeneric             0.8.1                    py36_2  \n",
      "singledispatch            3.4.0.3          py36h17d0c80_0  \n",
      "sip                       4.19.8           py36h6538335_0  \n",
      "six                       1.11.0           py36h4db2310_1  \n",
      "snappy                    1.1.7                h777316e_3  \n",
      "snowballstemmer           1.2.1            py36h763602f_0  \n",
      "sortedcollections         0.6.1                    py36_0  \n",
      "sortedcontainers          1.5.10                   py36_0  \n",
      "sphinx                    1.7.4                    py36_0  \n",
      "sphinxcontrib             1.0              py36hbbac3d2_1  \n",
      "sphinxcontrib-websupport  1.0.1            py36hb5e5916_1  \n",
      "spyder                    3.2.8                    py36_0  \n",
      "sqlalchemy                1.2.7            py36ha85dd04_0  \n",
      "sqlite                    3.23.1               h35aae40_0  \n",
      "statsmodels               0.9.0            py36h452e1ab_0  \n",
      "sympy                     1.1.1            py36h96708e0_0  \n",
      "tblib                     1.3.2            py36h30f5020_0  \n",
      "terminado                 0.8.1                    py36_1  \n",
      "testpath                  0.3.1            py36h2698cfe_0  \n",
      "tk                        8.6.7                hcb92d03_3  \n",
      "toolz                     0.9.0                    py36_0  \n",
      "tornado                   5.0.2                    py36_0  \n",
      "traitlets                 4.3.2            py36h096827d_0  \n",
      "typing                    3.6.4                    py36_0  \n",
      "unicodecsv                0.14.1           py36h6450c06_0  \n",
      "urllib3                   1.22             py36h276f60a_0  \n",
      "vc                        14                   h0510ff6_3  \n",
      "vs2015_runtime            14.0.25123                    3  \n",
      "wcwidth                   0.1.7            py36h3d5aa90_0  \n",
      "webencodings              0.5.1            py36h67c50ae_1  \n",
      "werkzeug                  0.14.1                   py36_0  \n",
      "wheel                     0.31.1                   py36_0  \n",
      "widgetsnbextension        3.2.1                    py36_0  \n",
      "win_inet_pton             1.0.1            py36he67d7fd_1  \n",
      "win_unicode_console       0.5              py36hcdbd4b5_0  \n",
      "wincertstore              0.2              py36h7fe50ca_0  \n",
      "winpty                    0.4.3                         4  \n",
      "wrapt                     1.10.11          py36he5f5981_0  \n",
      "xlrd                      1.1.0            py36h1cb58dc_1  \n",
      "xlsxwriter                1.0.4                    py36_0  \n",
      "xlwings                   0.11.8                   py36_0  \n",
      "xlwt                      1.3.0            py36h1a4751e_0  \n",
      "yaml                      0.1.7                hc54c509_2  \n",
      "zeromq                    4.2.5                hc6251cf_0  \n",
      "zict                      0.1.3            py36h2d8e73e_0  \n",
      "zlib                      1.2.11               h8395fce_2  \n"
     ]
    }
   ],
   "source": [
    "!conda list\n",
    "\n",
    "# !pip list\n",
    "# sqlAlchemy 깔려있는지 확인."
   ]
  },
  {
   "cell_type": "code",
   "execution_count": 3,
   "metadata": {},
   "outputs": [],
   "source": [
    "import sqlalchemy"
   ]
  },
  {
   "cell_type": "code",
   "execution_count": 4,
   "metadata": {},
   "outputs": [
    {
     "data": {
      "text/plain": [
       "'1.2.7'"
      ]
     },
     "execution_count": 4,
     "metadata": {},
     "output_type": "execute_result"
    }
   ],
   "source": [
    "sqlalchemy.__version__"
   ]
  },
  {
   "cell_type": "code",
   "execution_count": 9,
   "metadata": {},
   "outputs": [],
   "source": [
    "# 엔진을 만드는 애 불러오기.\n",
    "# fileDB를쓰니까 쓸게별로없는데, 다른DB쓰려면 localhost, 계정이름, 포트번호, 어떤DB에 접속할지(DB번호)도 주소에 적어줘야함.\n",
    "# sqlLite는 파일DB형식이라 host가 없음.\n",
    "# 경로가 간단함.\n",
    "# sqlite:///:memory:     메모리에서 작업할때.\n",
    "# sqlite:///\n",
    "# sqlite:///file.db      파일DB연동.\n",
    "\n",
    "from sqlalchemy import create_engine\n",
    "\n",
    "engine = create_engine(\"sqlite://\", echo=True)\n",
    "# 실제 DB에 들어간건지 어쩐지 에코를 주면 덜 답답하니까."
   ]
  },
  {
   "cell_type": "code",
   "execution_count": 10,
   "metadata": {},
   "outputs": [
    {
     "name": "stdout",
     "output_type": "stream",
     "text": [
      "Engine(sqlite://)\n"
     ]
    }
   ],
   "source": [
    "print(engine)"
   ]
  },
  {
   "cell_type": "code",
   "execution_count": 13,
   "metadata": {},
   "outputs": [
    {
     "name": "stdout",
     "output_type": "stream",
     "text": [
      "MetaData(bind=None)\n"
     ]
    }
   ],
   "source": [
    "from sqlalchemy import MetaData\n",
    "\n",
    "metadata = MetaData()\n",
    "print(metadata)"
   ]
  },
  {
   "cell_type": "code",
   "execution_count": 15,
   "metadata": {},
   "outputs": [],
   "source": [
    "from sqlalchemy import Table, Column, Integer, String, ForeignKey\n",
    "\n",
    "#테이블 객체(인스턴스) 만들기\n",
    "# 테이블명/ metadata(오브젝트를 담고있는애.)를 상속받아서 users만들거./ column객체(컬럼명,data타입,primary키인지아닌지,)써서 컬럼 만들거임.\n",
    "users = Table('users', metadata,\n",
    "             Column('id', Integer, primary_key=\"True\"),\n",
    "             Column('name', String),\n",
    "             Column('fullname', String))"
   ]
  },
  {
   "cell_type": "code",
   "execution_count": 16,
   "metadata": {},
   "outputs": [
    {
     "name": "stdout",
     "output_type": "stream",
     "text": [
      "users\n"
     ]
    }
   ],
   "source": [
    "print(users)"
   ]
  },
  {
   "cell_type": "code",
   "execution_count": 17,
   "metadata": {},
   "outputs": [],
   "source": [
    "# user_id는 컬럼이름일 뿐. ForeignKey(\"참조대상\") 참조대상에 컬럼명쓰지않도록 주의!\n",
    "# sqlAlchemy의 core단에서 객체로 만들었음.\n",
    "\n",
    "address = Table('addresses', metadata,\n",
    "               Column('id', Integer, primary_key = \"True\"),\n",
    "               Column('user_id', Integer, ForeignKey('users.id')),\n",
    "               Column('email', String, nullable=False))"
   ]
  },
  {
   "cell_type": "code",
   "execution_count": 22,
   "metadata": {},
   "outputs": [
    {
     "name": "stdout",
     "output_type": "stream",
     "text": [
      "2018-07-10 13:46:24,782 INFO sqlalchemy.engine.base.Engine PRAGMA table_info(\"users\")\n",
      "2018-07-10 13:46:24,783 INFO sqlalchemy.engine.base.Engine ()\n",
      "2018-07-10 13:46:24,785 INFO sqlalchemy.engine.base.Engine PRAGMA table_info(\"addresses\")\n",
      "2018-07-10 13:46:24,787 INFO sqlalchemy.engine.base.Engine ()\n"
     ]
    }
   ],
   "source": [
    "# 메타데이터랑 매핑.\n",
    "#메타데이터엔 우리가만든 객체들이잇음.\n",
    "# 엔진에게 metadata랑 매핑해서 sql문만들라고 명령.\n",
    "#엔진에다가 매핑시킴.\n",
    "#엔진에다가 또 알려줘야함 계속. 다른걸할때마다.\n",
    "# 자동으로 sql문만들어짐. \n",
    "# ORM배우면 더 놀랄거임. 한단계 더 추상화되어있기때문에....\n",
    "\n",
    "metadata.create_all(engine)"
   ]
  },
  {
   "cell_type": "code",
   "execution_count": 24,
   "metadata": {},
   "outputs": [
    {
     "name": "stdout",
     "output_type": "stream",
     "text": [
      "users\n",
      "addresses\n",
      "MetaData(bind=None)\n"
     ]
    }
   ],
   "source": [
    "for row in metadata.tables:\n",
    "    print(row)\n",
    "    \n",
    "print(metadata)"
   ]
  },
  {
   "cell_type": "markdown",
   "metadata": {},
   "source": [
    "# insert 실행하기 (1)\n",
    "### users 객체의 insert().values() 으로 실행하기"
   ]
  },
  {
   "cell_type": "code",
   "execution_count": 25,
   "metadata": {},
   "outputs": [
    {
     "name": "stdout",
     "output_type": "stream",
     "text": [
      "INSERT INTO users (id, name, fullname) VALUES (:id, :name, :fullname)\n"
     ]
    }
   ],
   "source": [
    "print(users.insert())"
   ]
  },
  {
   "cell_type": "code",
   "execution_count": 30,
   "metadata": {},
   "outputs": [],
   "source": [
    "# fullname은 table의 컬럼이 아니고, class의 attribute임.\n",
    "# attribute가 아니라면 \"\"로 감쌌어야함.\n",
    "\n",
    "insert = users.insert().values(name=\"kim\", fullname=\"Anonymous, Kim\")"
   ]
  },
  {
   "cell_type": "code",
   "execution_count": 31,
   "metadata": {},
   "outputs": [
    {
     "name": "stdout",
     "output_type": "stream",
     "text": [
      "INSERT INTO users (name, fullname) VALUES (:name, :fullname)\n"
     ]
    }
   ],
   "source": [
    "print(users.insert().values(name=\"kim\", fullname=\"Anonymous, Kim\"))\n",
    "\n",
    "# 두개의 테이블 attribute를 넣어놨으니 자연스럽게 column으로 매핑되고, values들이 들어감."
   ]
  },
  {
   "cell_type": "code",
   "execution_count": 32,
   "metadata": {},
   "outputs": [
    {
     "data": {
      "text/plain": [
       "<sqlalchemy.sql.compiler.StrSQLCompiler at 0x2053d973208>"
      ]
     },
     "execution_count": 32,
     "metadata": {},
     "output_type": "execute_result"
    }
   ],
   "source": [
    "#컴파일해야만 sql문으로 바뀜.\n",
    "\n",
    "insert.compile()"
   ]
  },
  {
   "cell_type": "code",
   "execution_count": 33,
   "metadata": {},
   "outputs": [
    {
     "data": {
      "text/plain": [
       "{'name': 'kim', 'fullname': 'Anonymous, Kim'}"
      ]
     },
     "execution_count": 33,
     "metadata": {},
     "output_type": "execute_result"
    }
   ],
   "source": [
    "# 실제 어떻게 바뀌어서 들어왔는지 알수있음.\n",
    "\n",
    "insert.compile().params"
   ]
  },
  {
   "cell_type": "code",
   "execution_count": 34,
   "metadata": {},
   "outputs": [],
   "source": [
    "# 바인딩 시켜보면.\n",
    "# 엔진을 줄거에요.\n",
    "# 엔진에게 메모리에서 sqlite작업할거다라고 했고.\n",
    "#실제 커넥트에서 하나 받아오면됨.\n",
    "\n",
    "insert.bind = engine"
   ]
  },
  {
   "cell_type": "code",
   "execution_count": 35,
   "metadata": {},
   "outputs": [],
   "source": [
    "conn = engine.connect()"
   ]
  },
  {
   "cell_type": "code",
   "execution_count": 40,
   "metadata": {},
   "outputs": [
    {
     "name": "stdout",
     "output_type": "stream",
     "text": [
      "2018-07-10 13:54:57,736 INFO sqlalchemy.engine.base.Engine INSERT INTO users (name, fullname) VALUES (?, ?)\n",
      "2018-07-10 13:54:57,738 INFO sqlalchemy.engine.base.Engine ('kim', 'Anonymous, Kim')\n",
      "2018-07-10 13:54:57,740 INFO sqlalchemy.engine.base.Engine COMMIT\n"
     ]
    }
   ],
   "source": [
    "# 엔진에서 받아와서 엔진에 잇는 insert문을 실행시킴.\n",
    "# sql문으로 해석되가지고. 나가는거임.\n",
    "\n",
    "result = conn.execute(insert)\n",
    "#실행결과 보여줌."
   ]
  },
  {
   "cell_type": "code",
   "execution_count": 41,
   "metadata": {},
   "outputs": [
    {
     "data": {
      "text/plain": [
       "[3]"
      ]
     },
     "execution_count": 41,
     "metadata": {},
     "output_type": "execute_result"
    }
   ],
   "source": [
    "#제일마지막에 들어간 key값을 가져오기.\n",
    "result.inserted_primary_key"
   ]
  },
  {
   "cell_type": "markdown",
   "metadata": {},
   "source": [
    "# insert문 실행하기(2)\n",
    "### connect 객체의 execute()으로 실행하기"
   ]
  },
  {
   "cell_type": "code",
   "execution_count": 46,
   "metadata": {},
   "outputs": [],
   "source": [
    "insert = users.insert()"
   ]
  },
  {
   "cell_type": "code",
   "execution_count": 47,
   "metadata": {},
   "outputs": [
    {
     "name": "stdout",
     "output_type": "stream",
     "text": [
      "2018-07-10 14:13:40,420 INFO sqlalchemy.engine.base.Engine INSERT INTO users (name, fullname) VALUES (?, ?)\n",
      "2018-07-10 14:13:40,421 INFO sqlalchemy.engine.base.Engine ('lee', 'Unknow, Lee')\n",
      "2018-07-10 14:13:40,422 INFO sqlalchemy.engine.base.Engine COMMIT\n"
     ]
    }
   ],
   "source": [
    "result = conn.execute(insert, name=\"lee\", fullname=\"Unknow, Lee\")\n",
    "\n",
    "# 엔진이 어떻게 해석했는지 echo로 다 보여줌."
   ]
  },
  {
   "cell_type": "code",
   "execution_count": 48,
   "metadata": {},
   "outputs": [
    {
     "data": {
      "text/plain": [
       "[5]"
      ]
     },
     "execution_count": 48,
     "metadata": {},
     "output_type": "execute_result"
    }
   ],
   "source": [
    "result.inserted_primary_key"
   ]
  },
  {
   "cell_type": "code",
   "execution_count": 50,
   "metadata": {},
   "outputs": [
    {
     "name": "stdout",
     "output_type": "stream",
     "text": [
      "2018-07-10 14:14:16,609 INFO sqlalchemy.engine.base.Engine INSERT INTO users (name, fullname) VALUES (?, ?)\n",
      "2018-07-10 14:14:16,610 INFO sqlalchemy.engine.base.Engine ('xxx', 'xxxx, XXX')\n",
      "2018-07-10 14:14:16,611 INFO sqlalchemy.engine.base.Engine COMMIT\n"
     ]
    }
   ],
   "source": [
    "result = conn.execute(insert, name=\"xxx\", fullname=\"xxxx, XXX\")"
   ]
  },
  {
   "cell_type": "code",
   "execution_count": 51,
   "metadata": {},
   "outputs": [
    {
     "data": {
      "text/plain": [
       "[6]"
      ]
     },
     "execution_count": 51,
     "metadata": {},
     "output_type": "execute_result"
    }
   ],
   "source": [
    "result.inserted_primary_key"
   ]
  },
  {
   "cell_type": "code",
   "execution_count": 85,
   "metadata": {},
   "outputs": [
    {
     "name": "stdout",
     "output_type": "stream",
     "text": [
      "2018-07-10 14:26:07,152 INFO sqlalchemy.engine.base.Engine INSERT INTO addresses (user_id, email) VALUES (?, ?)\n",
      "2018-07-10 14:26:07,153 INFO sqlalchemy.engine.base.Engine ((1, 'anonymous.kim@test.com'), (2, 'unknown.lee@test.com'))\n",
      "2018-07-10 14:26:07,154 INFO sqlalchemy.engine.base.Engine COMMIT\n"
     ]
    }
   ],
   "source": [
    "# 총 2개를 넣을껀데, dictionary형태로 넣을것임.\n",
    "# insert 문 2개 실행한셈.\n",
    "# Lower단에서 executeMany로한거랑 같음.\n",
    "\n",
    "conn.execute(address.insert(), [\n",
    "    {'user_id' : 1, \"email\" : \"anonymous.kim@test.com\"},\n",
    "    {'user_id' : 2, \"email\" : \"unknown.lee@test.com\"}\n",
    "]);"
   ]
  },
  {
   "cell_type": "markdown",
   "metadata": {},
   "source": [
    "# select문 실행하기\n",
    "#### select(), where(), fetchone(), fetchall()"
   ]
  },
  {
   "cell_type": "code",
   "execution_count": 151,
   "metadata": {},
   "outputs": [
    {
     "name": "stdout",
     "output_type": "stream",
     "text": [
      "SELECT users.id, users.name, users.fullname \n",
      "FROM users\n"
     ]
    }
   ],
   "source": [
    "# resultProxy를 쓰기위해 작업을 할거임....!\n",
    "\n",
    "from sqlalchemy.sql import select\n",
    "\n",
    "query = select([users])\n",
    "print(query)"
   ]
  },
  {
   "cell_type": "code",
   "execution_count": 157,
   "metadata": {},
   "outputs": [
    {
     "name": "stdout",
     "output_type": "stream",
     "text": [
      "2018-07-10 14:52:36,213 INFO sqlalchemy.engine.base.Engine SELECT users.id, users.name, users.fullname \n",
      "FROM users\n",
      "2018-07-10 14:52:36,214 INFO sqlalchemy.engine.base.Engine ()\n"
     ]
    }
   ],
   "source": [
    "result = conn.execute(query)\n",
    "\n",
    "# 엔진이 실제 해석해서 나온 명령문이 아래와 같음."
   ]
  },
  {
   "cell_type": "code",
   "execution_count": 153,
   "metadata": {},
   "outputs": [
    {
     "name": "stdout",
     "output_type": "stream",
     "text": [
      "(1, 'kim', 'Anonymous, Kim')\n",
      "(2, 'kim', 'Anonymous, Kim')\n",
      "(3, 'kim', 'Anonymous, Kim')\n",
      "(4, 'lee', 'Unknow, Lee')\n",
      "(5, 'lee', 'Unknow, Lee')\n",
      "(6, 'xxx', 'xxxx, XXX')\n"
     ]
    }
   ],
   "source": [
    "for row in result:\n",
    "    print(row)"
   ]
  },
  {
   "cell_type": "code",
   "execution_count": 161,
   "metadata": {},
   "outputs": [
    {
     "name": "stdout",
     "output_type": "stream",
     "text": [
      "(6, 'xxx', 'xxxx, XXX')\n"
     ]
    }
   ],
   "source": [
    "print(row)"
   ]
  },
  {
   "cell_type": "code",
   "execution_count": 156,
   "metadata": {},
   "outputs": [],
   "source": [
    "row = result.fetchone()\n",
    "\n",
    "#????????????????? 왜안나옴?\n",
    "# => ㅇㅋㅇㅋ print() 도 cursor역할을 한당."
   ]
  },
  {
   "cell_type": "code",
   "execution_count": 160,
   "metadata": {
    "scrolled": true
   },
   "outputs": [
    {
     "name": "stdout",
     "output_type": "stream",
     "text": [
      "(6, 'xxx', 'xxxx, XXX')\n"
     ]
    }
   ],
   "source": [
    "print(row)"
   ]
  },
  {
   "cell_type": "code",
   "execution_count": 158,
   "metadata": {},
   "outputs": [],
   "source": [
    "rows = result.fetchall()"
   ]
  },
  {
   "cell_type": "code",
   "execution_count": 159,
   "metadata": {},
   "outputs": [
    {
     "name": "stdout",
     "output_type": "stream",
     "text": [
      "(1, 'kim', 'Anonymous, Kim')\n",
      "(2, 'kim', 'Anonymous, Kim')\n",
      "(3, 'kim', 'Anonymous, Kim')\n",
      "(4, 'lee', 'Unknow, Lee')\n",
      "(5, 'lee', 'Unknow, Lee')\n",
      "(6, 'xxx', 'xxxx, XXX')\n"
     ]
    }
   ],
   "source": [
    "for row in rows:\n",
    "    print(row)"
   ]
  },
  {
   "cell_type": "code",
   "execution_count": 93,
   "metadata": {},
   "outputs": [],
   "source": [
    "for row in rows:\n",
    "    print(row[0], row[1], row[2])\n",
    "    \n",
    "# 처번째 컬럼."
   ]
  },
  {
   "cell_type": "code",
   "execution_count": 162,
   "metadata": {},
   "outputs": [
    {
     "name": "stdout",
     "output_type": "stream",
     "text": [
      "2018-07-10 14:55:28,046 INFO sqlalchemy.engine.base.Engine SELECT users.name, users.fullname \n",
      "FROM users\n",
      "2018-07-10 14:55:28,047 INFO sqlalchemy.engine.base.Engine ()\n"
     ]
    }
   ],
   "source": [
    "# * 로 모든 컬럼가져오는 게 아니라, 특정컬럼 가져오고싶을때.\n",
    "# 바로 못가져옴. 컬럼을 의미하는 c가 필요함.\n",
    "# Column인스턴스가 감싸고 있기때문에\n",
    "\n",
    "result = conn.execute(select([users.c.name, users.c.fullname]))"
   ]
  },
  {
   "cell_type": "code",
   "execution_count": 163,
   "metadata": {},
   "outputs": [
    {
     "name": "stdout",
     "output_type": "stream",
     "text": [
      "('kim', 'Anonymous, Kim')\n",
      "('kim', 'Anonymous, Kim')\n",
      "('kim', 'Anonymous, Kim')\n",
      "('lee', 'Unknow, Lee')\n",
      "('lee', 'Unknow, Lee')\n",
      "('xxx', 'xxxx, XXX')\n"
     ]
    }
   ],
   "source": [
    "for row in result:\n",
    "    print(row)"
   ]
  },
  {
   "cell_type": "code",
   "execution_count": 164,
   "metadata": {},
   "outputs": [
    {
     "name": "stdout",
     "output_type": "stream",
     "text": [
      "None\n"
     ]
    }
   ],
   "source": [
    "row = result.fetchone()\n",
    "print(row)"
   ]
  },
  {
   "cell_type": "code",
   "execution_count": 106,
   "metadata": {},
   "outputs": [],
   "source": [
    "# PPT.142) Conjunctions\n",
    "# where절을 구성하는  add, or, not을 가져올것임.\n",
    "\n",
    "from sqlalchemy import and_, or_, not_"
   ]
  },
  {
   "cell_type": "code",
   "execution_count": 104,
   "metadata": {},
   "outputs": [
    {
     "name": "stdout",
     "output_type": "stream",
     "text": [
      "users.id = addresses.user_id\n"
     ]
    }
   ],
   "source": [
    "# Python이므로 == 표현이 가능함.\n",
    "\n",
    "print(users.c.id == address.c.user_id)\n",
    "# Python구문이 어떻게 sql문으로 바뀌는지 확인함."
   ]
  },
  {
   "cell_type": "code",
   "execution_count": 112,
   "metadata": {},
   "outputs": [],
   "source": [
    "or_str = or_(users.c.id == address.c.user_id, users.c.id == 1)"
   ]
  },
  {
   "cell_type": "code",
   "execution_count": 113,
   "metadata": {},
   "outputs": [
    {
     "name": "stdout",
     "output_type": "stream",
     "text": [
      "users.id = addresses.user_id OR users.id = :id_1\n"
     ]
    }
   ],
   "source": [
    "print(or_str)"
   ]
  },
  {
   "cell_type": "code",
   "execution_count": 114,
   "metadata": {},
   "outputs": [
    {
     "name": "stdout",
     "output_type": "stream",
     "text": [
      "users.id = addresses.user_id OR users.id = :id_1\n"
     ]
    }
   ],
   "source": [
    "# or_안쓰고 논리연산자 OR만가지고 Python구문만으로도 쿼리문생성가능.\n",
    "\n",
    "print((users.c.id == address.c.user_id) | (users.c.id==1))"
   ]
  },
  {
   "cell_type": "code",
   "execution_count": 115,
   "metadata": {},
   "outputs": [
    {
     "name": "stdout",
     "output_type": "stream",
     "text": [
      "2018-07-10 14:37:56,167 INFO sqlalchemy.engine.base.Engine SELECT users.id, users.name, users.fullname \n",
      "FROM users \n",
      "WHERE users.id = ?\n",
      "2018-07-10 14:37:56,169 INFO sqlalchemy.engine.base.Engine (1,)\n"
     ]
    }
   ],
   "source": [
    "# 함수와 함수를 pipeline으로 연결만해주면된다.\n",
    "# select, where순차적으로 진행해주기만하면됨.\n",
    "# engine에서 만든 connection이라는 객체를 통해 execute를 한다.\n",
    "result = conn.execute(select([users]).where(users.c.id==1))\n",
    "\n",
    "# qmark스타일로 했네.\n",
    "# metadata에서 engine바인딩해서, insert \n",
    "# compile해서 param값 받아오고. result에 실제 값잇을거고."
   ]
  },
  {
   "cell_type": "code",
   "execution_count": 117,
   "metadata": {},
   "outputs": [
    {
     "name": "stdout",
     "output_type": "stream",
     "text": [
      "(1, 'kim', 'Anonymous, Kim')\n"
     ]
    }
   ],
   "source": [
    "for row in result:\n",
    "    print(row)"
   ]
  },
  {
   "cell_type": "code",
   "execution_count": 118,
   "metadata": {},
   "outputs": [
    {
     "name": "stdout",
     "output_type": "stream",
     "text": [
      "2018-07-10 14:42:19,761 INFO sqlalchemy.engine.base.Engine SELECT users.id, users.name, users.fullname, addresses.id, addresses.user_id, addresses.email \n",
      "FROM users, addresses \n",
      "WHERE users.id = addresses.user_id\n",
      "2018-07-10 14:42:19,762 INFO sqlalchemy.engine.base.Engine ()\n"
     ]
    }
   ],
   "source": [
    "#join을 해야하는데, 귀찮으니까 where절 사용.\n",
    "#cross join이지만, 실제로 가져온 형태는 innerjoin. 교집합만 가져온 형태.\n",
    "# pk랑 fk랑 묶어봄.\n",
    "\n",
    "result = conn.execute(select([users, address]).where(users.c.id==address.c.user_id))"
   ]
  },
  {
   "cell_type": "code",
   "execution_count": 119,
   "metadata": {},
   "outputs": [
    {
     "name": "stdout",
     "output_type": "stream",
     "text": [
      "(1, 'kim', 'Anonymous, Kim', 1, 1, 'anonymous.kim@test.com')\n",
      "(2, 'kim', 'Anonymous, Kim', 2, 2, 'unknown.lee@test.com')\n",
      "(1, 'kim', 'Anonymous, Kim', 3, 1, 'anonymous.kim@test.com')\n",
      "(2, 'kim', 'Anonymous, Kim', 4, 2, 'unknown.lee@test.com')\n"
     ]
    }
   ],
   "source": [
    "for row in result:\n",
    "    print(row)\n",
    "    \n",
    "# users부터. address까지.\n",
    "# join문법몰라도, where절만가지고도 충분히 사용 가능하긴함. 좀이따 where대신 join도 배울거임."
   ]
  },
  {
   "cell_type": "code",
   "execution_count": 123,
   "metadata": {},
   "outputs": [
    {
     "name": "stdout",
     "output_type": "stream",
     "text": [
      "2018-07-10 14:46:05,259 INFO sqlalchemy.engine.base.Engine SELECT users.id, users.name, users.fullname \n",
      "FROM users \n",
      "WHERE users.name LIKE ?\n",
      "2018-07-10 14:46:05,260 INFO sqlalchemy.engine.base.Engine ('k%',)\n"
     ]
    }
   ],
   "source": [
    "# users테이블의 name이 1번이 kim일거니까. k로 시작하는 모든것들을 불러오기.\n",
    "\n",
    "result = conn.execute(select([users]).where(users.c.name.like(\"k%\")))"
   ]
  },
  {
   "cell_type": "code",
   "execution_count": 124,
   "metadata": {},
   "outputs": [
    {
     "name": "stdout",
     "output_type": "stream",
     "text": [
      "(1, 'kim', 'Anonymous, Kim')\n",
      "(2, 'kim', 'Anonymous, Kim')\n",
      "(3, 'kim', 'Anonymous, Kim')\n"
     ]
    }
   ],
   "source": [
    "for row in result:\n",
    "    print(row)"
   ]
  },
  {
   "cell_type": "code",
   "execution_count": 127,
   "metadata": {},
   "outputs": [
    {
     "name": "stdout",
     "output_type": "stream",
     "text": [
      "2018-07-10 14:47:59,797 INFO sqlalchemy.engine.base.Engine SELECT users.id, users.name, users.fullname, addresses.id, addresses.user_id, addresses.email \n",
      "FROM users, addresses \n",
      "WHERE users.id = addresses.user_id AND users.name LIKE ?\n",
      "2018-07-10 14:47:59,798 INFO sqlalchemy.engine.base.Engine ('k%',)\n"
     ]
    }
   ],
   "source": [
    "# where절로 묶어보기.\n",
    "# AND를 통해 where절 2개가 묶임.\n",
    "\n",
    "result = conn.execute(select([users, address]).where(users.c.id == address.c.user_id).where(users.c.name.like(\"k%\")))"
   ]
  },
  {
   "cell_type": "code",
   "execution_count": 128,
   "metadata": {},
   "outputs": [
    {
     "name": "stdout",
     "output_type": "stream",
     "text": [
      "(1, 'kim', 'Anonymous, Kim', 1, 1, 'anonymous.kim@test.com')\n",
      "(2, 'kim', 'Anonymous, Kim', 2, 2, 'unknown.lee@test.com')\n",
      "(1, 'kim', 'Anonymous, Kim', 3, 1, 'anonymous.kim@test.com')\n",
      "(2, 'kim', 'Anonymous, Kim', 4, 2, 'unknown.lee@test.com')\n"
     ]
    }
   ],
   "source": [
    "for row in result:\n",
    "    print(row)\n"
   ]
  },
  {
   "cell_type": "markdown",
   "metadata": {},
   "source": [
    "# 조인 (sqLite는 left join만 지원함)"
   ]
  },
  {
   "cell_type": "code",
   "execution_count": 166,
   "metadata": {},
   "outputs": [],
   "source": [
    "from sqlalchemy import join"
   ]
  },
  {
   "cell_type": "code",
   "execution_count": 168,
   "metadata": {},
   "outputs": [
    {
     "name": "stdout",
     "output_type": "stream",
     "text": [
      "users JOIN addresses ON users.id = addresses.user_id\n"
     ]
    }
   ],
   "source": [
    "print(users.join(address))\n",
    "\n",
    "# 누구랑 관련이있기에 join을 하느냐 on절 따로 안써줘도 됨. fk를 명시적으로 써줬기때문에. "
   ]
  },
  {
   "cell_type": "code",
   "execution_count": 170,
   "metadata": {},
   "outputs": [
    {
     "name": "stdout",
     "output_type": "stream",
     "text": [
      "users JOIN addresses ON users.id = addresses.user_id\n"
     ]
    }
   ],
   "source": [
    "# onclause로 명시해도됨. \n",
    "\n",
    "print(users.join(address, users.c.id == address.c.user_id))"
   ]
  },
  {
   "cell_type": "code",
   "execution_count": 171,
   "metadata": {},
   "outputs": [
    {
     "name": "stdout",
     "output_type": "stream",
     "text": [
      "2018-07-10 15:09:58,988 INFO sqlalchemy.engine.base.Engine SELECT users.id, users.name, users.fullname \n",
      "FROM users JOIN addresses ON users.id = addresses.user_id\n",
      "2018-07-10 15:09:58,990 INFO sqlalchemy.engine.base.Engine ()\n"
     ]
    }
   ],
   "source": [
    "# select_from 을 통해 조인된 애들로부터 가져오겠다.\n",
    "# users 와 address랑 조인한 형태의 테이블에서 가져오기.\n",
    "# fk, pk를 지정해놓은 바람에 훨씬 간단해짐.\n",
    "# 조인이아까보다 쉬워진거랭.\n",
    "\n",
    "result = conn.execute(select([users]).select_from(users.join(address)))"
   ]
  },
  {
   "cell_type": "code",
   "execution_count": 172,
   "metadata": {},
   "outputs": [
    {
     "name": "stdout",
     "output_type": "stream",
     "text": [
      "(1, 'kim', 'Anonymous, Kim')\n",
      "(2, 'kim', 'Anonymous, Kim')\n",
      "(1, 'kim', 'Anonymous, Kim')\n",
      "(2, 'kim', 'Anonymous, Kim')\n"
     ]
    }
   ],
   "source": [
    "for row in result:\n",
    "    print(row)"
   ]
  },
  {
   "cell_type": "code",
   "execution_count": null,
   "metadata": {},
   "outputs": [],
   "source": []
  }
 ],
 "metadata": {
  "kernelspec": {
   "display_name": "Python 3",
   "language": "python",
   "name": "python3"
  },
  "language_info": {
   "codemirror_mode": {
    "name": "ipython",
    "version": 3
   },
   "file_extension": ".py",
   "mimetype": "text/x-python",
   "name": "python",
   "nbconvert_exporter": "python",
   "pygments_lexer": "ipython3",
   "version": "3.6.5"
  }
 },
 "nbformat": 4,
 "nbformat_minor": 2
}
