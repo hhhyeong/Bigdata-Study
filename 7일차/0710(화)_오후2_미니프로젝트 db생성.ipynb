{
 "cells": [
  {
   "cell_type": "markdown",
   "metadata": {},
   "source": [
    "# PPT 106) alchemytest.db 파일에 DB정보 저장하기"
   ]
  },
  {
   "cell_type": "code",
   "execution_count": 152,
   "metadata": {},
   "outputs": [],
   "source": [
    "import sqlalchemy\n",
    "from sqlalchemy import create_engine\n",
    "from sqlalchemy import MetaData\n",
    "from sqlalchemy import Table, Column, Integer, String, ForeignKey\n",
    "from sqlalchemy import select, update, join\n",
    "from sqlalchemy import and_, or_, not_"
   ]
  },
  {
   "cell_type": "code",
   "execution_count": 144,
   "metadata": {},
   "outputs": [
    {
     "name": "stdout",
     "output_type": "stream",
     "text": [
      "2018-07-10 16:23:29,576 INFO sqlalchemy.engine.base.Engine SELECT CAST('test plain returns' AS VARCHAR(60)) AS anon_1\n",
      "2018-07-10 16:23:29,577 INFO sqlalchemy.engine.base.Engine ()\n",
      "2018-07-10 16:23:29,580 INFO sqlalchemy.engine.base.Engine SELECT CAST('test unicode returns' AS VARCHAR(60)) AS anon_1\n",
      "2018-07-10 16:23:29,581 INFO sqlalchemy.engine.base.Engine ()\n"
     ]
    }
   ],
   "source": [
    "# host가 업으니까 host없고, 그다음 db이름까지입력하게 되므로 슬래쉬가 세개! ///.\n",
    "\n",
    "engine = create_engine(\"sqlite:///alchemytest.db\", echo=True)\n",
    "metadata = MetaData()\n",
    "conn = engine.connect()"
   ]
  },
  {
   "cell_type": "code",
   "execution_count": 125,
   "metadata": {
    "scrolled": true
   },
   "outputs": [
    {
     "name": "stdout",
     "output_type": "stream",
     "text": [
      "2018-07-10 16:09:26,987 INFO sqlalchemy.engine.base.Engine \n",
      "DROP TABLE \"Artist\"\n",
      "2018-07-10 16:09:26,988 INFO sqlalchemy.engine.base.Engine ()\n",
      "2018-07-10 16:09:26,990 INFO sqlalchemy.engine.base.Engine COMMIT\n",
      "2018-07-10 16:09:26,991 INFO sqlalchemy.engine.base.Engine \n",
      "DROP TABLE \"Album\"\n",
      "2018-07-10 16:09:26,992 INFO sqlalchemy.engine.base.Engine ()\n",
      "2018-07-10 16:09:26,994 INFO sqlalchemy.engine.base.Engine COMMIT\n",
      "2018-07-10 16:09:26,995 INFO sqlalchemy.engine.base.Engine \n",
      "DROP TABLE \"Genre\"\n",
      "2018-07-10 16:09:26,996 INFO sqlalchemy.engine.base.Engine ()\n",
      "2018-07-10 16:09:26,998 INFO sqlalchemy.engine.base.Engine COMMIT\n",
      "2018-07-10 16:09:26,999 INFO sqlalchemy.engine.base.Engine \n",
      "DROP TABLE \"Track\"\n",
      "2018-07-10 16:09:27,001 INFO sqlalchemy.engine.base.Engine ()\n",
      "2018-07-10 16:09:27,002 INFO sqlalchemy.engine.base.Engine COMMIT\n"
     ]
    }
   ],
   "source": [
    "artist.drop(engine)\n",
    "album.drop(engine)\n",
    "genre.drop(engine)\n",
    "track.drop(engine)"
   ]
  },
  {
   "cell_type": "code",
   "execution_count": 133,
   "metadata": {},
   "outputs": [
    {
     "name": "stdout",
     "output_type": "stream",
     "text": [
      "2018-07-10 16:10:27,402 INFO sqlalchemy.engine.base.Engine PRAGMA table_info(\"Artist\")\n",
      "2018-07-10 16:10:27,404 INFO sqlalchemy.engine.base.Engine ()\n",
      "2018-07-10 16:10:27,405 INFO sqlalchemy.engine.base.Engine PRAGMA table_info(\"Album\")\n",
      "2018-07-10 16:10:27,406 INFO sqlalchemy.engine.base.Engine ()\n",
      "2018-07-10 16:10:27,407 INFO sqlalchemy.engine.base.Engine PRAGMA table_info(\"Genre\")\n",
      "2018-07-10 16:10:27,408 INFO sqlalchemy.engine.base.Engine ()\n",
      "2018-07-10 16:10:27,410 INFO sqlalchemy.engine.base.Engine PRAGMA table_info(\"Track\")\n",
      "2018-07-10 16:10:27,411 INFO sqlalchemy.engine.base.Engine ()\n",
      "2018-07-10 16:10:27,413 INFO sqlalchemy.engine.base.Engine PRAGMA table_info(\"Artist\")\n",
      "2018-07-10 16:10:27,414 INFO sqlalchemy.engine.base.Engine ()\n",
      "2018-07-10 16:10:27,416 INFO sqlalchemy.engine.base.Engine PRAGMA table_info(\"Album\")\n",
      "2018-07-10 16:10:27,417 INFO sqlalchemy.engine.base.Engine ()\n",
      "2018-07-10 16:10:27,418 INFO sqlalchemy.engine.base.Engine PRAGMA table_info(\"Genre\")\n",
      "2018-07-10 16:10:27,419 INFO sqlalchemy.engine.base.Engine ()\n",
      "2018-07-10 16:10:27,421 INFO sqlalchemy.engine.base.Engine PRAGMA table_info(\"Track\")\n",
      "2018-07-10 16:10:27,421 INFO sqlalchemy.engine.base.Engine ()\n"
     ]
    }
   ],
   "source": [
    "metadata.drop_all(engine)\n",
    "metadata.drop_all(conn)"
   ]
  },
  {
   "cell_type": "code",
   "execution_count": null,
   "metadata": {},
   "outputs": [],
   "source": [
    "print(metadata.tables)"
   ]
  },
  {
   "cell_type": "markdown",
   "metadata": {},
   "source": [
    "### ***** Trouble Shooting *****"
   ]
  },
  {
   "cell_type": "code",
   "execution_count": null,
   "metadata": {},
   "outputs": [],
   "source": [
    "# metadata.drop_all(engine),(conn),() 해도 metadata에는 안없어지넹;;;;\n",
    "# metadata에 table정보가 남아있어서 drop table한 후, create table하면 오류가 뜸. \n",
    "# => table 생성할 때 extend_existing=True, 를 추가하여 해결한다."
   ]
  },
  {
   "cell_type": "code",
   "execution_count": 145,
   "metadata": {},
   "outputs": [],
   "source": [
    "artist = Table(\"Artist\", metadata,                \n",
    "              Column(\"id\", Integer, primary_key=True),\n",
    "              Column(\"name\", String, nullable=False),\n",
    "              extend_existing=True,\n",
    "              )\n",
    "\n",
    "album = Table(\"Album\", metadata,\n",
    "              Column(\"id\", Integer, primary_key=True),\n",
    "              Column(\"title\", String, nullable=False),\n",
    "              Column(\"artist_id\", Integer, ForeignKey(\"Artist.id\")),\n",
    "              extend_existing=True,\n",
    "             )\n",
    "\n",
    "genre = Table(\"Genre\", metadata,\n",
    "              Column(\"id\", Integer, primary_key=True),\n",
    "              Column(\"name\", String, nullable=False),\n",
    "              extend_existing=True,\n",
    "             )\n",
    "\n",
    "track = Table(\"Track\", metadata,\n",
    "              Column(\"id\", Integer, primary_key=True),\n",
    "              Column(\"title\", String, nullable=False),\n",
    "              Column(\"length\", Integer, nullable=False),\n",
    "              Column(\"rating\", Integer, nullable=False),\n",
    "              Column(\"count\", Integer, nullable=False),\n",
    "              Column(\"album_id\", Integer, ForeignKey(\"Album.id\")),\n",
    "              Column(\"genre_id\", Integer, ForeignKey(\"Genre.id\")),\n",
    "              extend_existing=True,\n",
    "             )"
   ]
  },
  {
   "cell_type": "code",
   "execution_count": 146,
   "metadata": {
    "scrolled": false
   },
   "outputs": [
    {
     "name": "stdout",
     "output_type": "stream",
     "text": [
      "2018-07-10 16:23:35,965 INFO sqlalchemy.engine.base.Engine PRAGMA table_info(\"Artist\")\n",
      "2018-07-10 16:23:35,966 INFO sqlalchemy.engine.base.Engine ()\n",
      "2018-07-10 16:23:35,967 INFO sqlalchemy.engine.base.Engine PRAGMA table_info(\"Album\")\n",
      "2018-07-10 16:23:35,969 INFO sqlalchemy.engine.base.Engine ()\n",
      "2018-07-10 16:23:35,969 INFO sqlalchemy.engine.base.Engine PRAGMA table_info(\"Genre\")\n",
      "2018-07-10 16:23:35,971 INFO sqlalchemy.engine.base.Engine ()\n",
      "2018-07-10 16:23:35,973 INFO sqlalchemy.engine.base.Engine PRAGMA table_info(\"Track\")\n",
      "2018-07-10 16:23:35,973 INFO sqlalchemy.engine.base.Engine ()\n",
      "2018-07-10 16:23:35,975 INFO sqlalchemy.engine.base.Engine \n",
      "CREATE TABLE \"Artist\" (\n",
      "\tid INTEGER NOT NULL, \n",
      "\tname VARCHAR NOT NULL, \n",
      "\tPRIMARY KEY (id)\n",
      ")\n",
      "\n",
      "\n",
      "2018-07-10 16:23:35,976 INFO sqlalchemy.engine.base.Engine ()\n",
      "2018-07-10 16:23:35,998 INFO sqlalchemy.engine.base.Engine COMMIT\n",
      "2018-07-10 16:23:35,999 INFO sqlalchemy.engine.base.Engine \n",
      "CREATE TABLE \"Genre\" (\n",
      "\tid INTEGER NOT NULL, \n",
      "\tname VARCHAR NOT NULL, \n",
      "\tPRIMARY KEY (id)\n",
      ")\n",
      "\n",
      "\n",
      "2018-07-10 16:23:36,000 INFO sqlalchemy.engine.base.Engine ()\n",
      "2018-07-10 16:23:36,021 INFO sqlalchemy.engine.base.Engine COMMIT\n",
      "2018-07-10 16:23:36,023 INFO sqlalchemy.engine.base.Engine \n",
      "CREATE TABLE \"Album\" (\n",
      "\tid INTEGER NOT NULL, \n",
      "\ttitle VARCHAR NOT NULL, \n",
      "\tartist_id INTEGER, \n",
      "\tPRIMARY KEY (id), \n",
      "\tFOREIGN KEY(artist_id) REFERENCES \"Artist\" (id)\n",
      ")\n",
      "\n",
      "\n",
      "2018-07-10 16:23:36,023 INFO sqlalchemy.engine.base.Engine ()\n",
      "2018-07-10 16:23:36,034 INFO sqlalchemy.engine.base.Engine COMMIT\n",
      "2018-07-10 16:23:36,036 INFO sqlalchemy.engine.base.Engine \n",
      "CREATE TABLE \"Track\" (\n",
      "\tid INTEGER NOT NULL, \n",
      "\ttitle VARCHAR NOT NULL, \n",
      "\tlength INTEGER NOT NULL, \n",
      "\trating INTEGER NOT NULL, \n",
      "\tcount INTEGER NOT NULL, \n",
      "\talbum_id INTEGER, \n",
      "\tgenre_id INTEGER, \n",
      "\tPRIMARY KEY (id), \n",
      "\tFOREIGN KEY(album_id) REFERENCES \"Album\" (id), \n",
      "\tFOREIGN KEY(genre_id) REFERENCES \"Genre\" (id)\n",
      ")\n",
      "\n",
      "\n",
      "2018-07-10 16:23:36,036 INFO sqlalchemy.engine.base.Engine ()\n",
      "2018-07-10 16:23:36,052 INFO sqlalchemy.engine.base.Engine COMMIT\n"
     ]
    }
   ],
   "source": [
    "metadata.create_all(engine)"
   ]
  },
  {
   "cell_type": "code",
   "execution_count": 147,
   "metadata": {},
   "outputs": [
    {
     "name": "stdout",
     "output_type": "stream",
     "text": [
      "2018-07-10 16:23:38,629 INFO sqlalchemy.engine.base.Engine SELECT name FROM sqlite_master WHERE type='table' ORDER BY name\n",
      "2018-07-10 16:23:38,630 INFO sqlalchemy.engine.base.Engine ()\n",
      "Album\n",
      "Artist\n",
      "Genre\n",
      "Track\n"
     ]
    }
   ],
   "source": [
    "for row in engine.table_names():\n",
    "    print(row)"
   ]
  },
  {
   "cell_type": "code",
   "execution_count": 148,
   "metadata": {},
   "outputs": [
    {
     "name": "stdout",
     "output_type": "stream",
     "text": [
      "2018-07-10 16:23:40,366 INFO sqlalchemy.engine.base.Engine INSERT INTO \"Artist\" (name) VALUES (?)\n",
      "2018-07-10 16:23:40,367 INFO sqlalchemy.engine.base.Engine (('Led Zepplin',), ('AC/DC',))\n",
      "2018-07-10 16:23:40,370 INFO sqlalchemy.engine.base.Engine COMMIT\n",
      "2018-07-10 16:23:40,379 INFO sqlalchemy.engine.base.Engine INSERT INTO \"Album\" (title, artist_id) VALUES (?, ?)\n",
      "2018-07-10 16:23:40,380 INFO sqlalchemy.engine.base.Engine (('IV', 1), ('Who Made Who', 2))\n",
      "2018-07-10 16:23:40,382 INFO sqlalchemy.engine.base.Engine COMMIT\n",
      "2018-07-10 16:23:40,408 INFO sqlalchemy.engine.base.Engine INSERT INTO \"Genre\" (name) VALUES (?)\n",
      "2018-07-10 16:23:40,409 INFO sqlalchemy.engine.base.Engine (('Rock',), ('Metal',))\n",
      "2018-07-10 16:23:40,412 INFO sqlalchemy.engine.base.Engine COMMIT\n",
      "2018-07-10 16:23:40,429 INFO sqlalchemy.engine.base.Engine INSERT INTO \"Track\" (title, length, rating, count, album_id, genre_id) VALUES (?, ?, ?, ?, ?, ?)\n",
      "2018-07-10 16:23:40,430 INFO sqlalchemy.engine.base.Engine (('Black Dog', 123, 5, 0, 1, 1), ('Stariway', 123, 5, 0, 1, 2), ('go to rock', 123, 5, 0, 2, 1), ('Who made Who', 123, 5, 0, 2, 2))\n",
      "2018-07-10 16:23:40,432 INFO sqlalchemy.engine.base.Engine COMMIT\n"
     ]
    },
    {
     "data": {
      "text/plain": [
       "<sqlalchemy.engine.result.ResultProxy at 0x1d5177e3c88>"
      ]
     },
     "execution_count": 148,
     "metadata": {},
     "output_type": "execute_result"
    }
   ],
   "source": [
    "conn.execute(artist.insert(), [\n",
    "    {\"name\" : \"Led Zepplin\"},\n",
    "    {\"name\" : \"AC/DC\"}\n",
    "])\n",
    "\n",
    "conn.execute(album.insert(), [\n",
    "    {\"title\" : \"IV\", \"artist_id\" : 1},\n",
    "    {\"title\" : \"Who Made Who\", \"artist_id\" : 2}\n",
    "])\n",
    "\n",
    "conn.execute(genre.insert(), [\n",
    "    {\"name\" : \"Rock\"},\n",
    "    {\"name\" : \"Metal\"}\n",
    "])\n",
    "\n",
    "conn.execute(track.insert(), [\n",
    "    {\"title\" : \"Black Dog\", \"rating\" : 5, \"length\" : 123, \"count\" : 0, \"album_id\" : 1, \"genre_id\" : 1},\n",
    "    {\"title\" : \"Stariway\", \"rating\" : 5, \"length\" : 123, \"count\" : 0, \"album_id\" : 1, \"genre_id\" : 2},\n",
    "    {\"title\" : \"go to rock\", \"rating\" : 5, \"length\" : 123, \"count\" : 0, \"album_id\" : 2, \"genre_id\" : 1},\n",
    "    {\"title\" : \"Who made Who\", \"rating\" : 5, \"length\" : 123, \"count\" : 0, \"album_id\" : 2, \"genre_id\" : 2},\n",
    "    \n",
    "])\n"
   ]
  },
  {
   "cell_type": "code",
   "execution_count": 149,
   "metadata": {},
   "outputs": [
    {
     "name": "stdout",
     "output_type": "stream",
     "text": [
      "2018-07-10 16:23:42,701 INFO sqlalchemy.engine.base.Engine SELECT \"Artist\".id, \"Artist\".name \n",
      "FROM \"Artist\"\n",
      "2018-07-10 16:23:42,703 INFO sqlalchemy.engine.base.Engine ()\n",
      "(1, 'Led Zepplin')\n",
      "(2, 'AC/DC')\n"
     ]
    }
   ],
   "source": [
    "result = conn.execute(artist.select())\n",
    "\n",
    "for row in result:\n",
    "    print(row)"
   ]
  },
  {
   "cell_type": "code",
   "execution_count": 150,
   "metadata": {},
   "outputs": [
    {
     "name": "stdout",
     "output_type": "stream",
     "text": [
      "2018-07-10 16:23:43,881 INFO sqlalchemy.engine.base.Engine SELECT \"Track\".id, \"Track\".title, \"Track\".length, \"Track\".rating, \"Track\".count, \"Track\".album_id, \"Track\".genre_id \n",
      "FROM \"Track\"\n",
      "2018-07-10 16:23:43,882 INFO sqlalchemy.engine.base.Engine ()\n",
      "(1, 'Black Dog', 123, 5, 0, 1, 1)\n",
      "(2, 'Stariway', 123, 5, 0, 1, 2)\n",
      "(3, 'go to rock', 123, 5, 0, 2, 1)\n",
      "(4, 'Who made Who', 123, 5, 0, 2, 2)\n"
     ]
    }
   ],
   "source": [
    "result = conn.execute(track.select())\n",
    "\n",
    "for row in result:\n",
    "    print(row)"
   ]
  },
  {
   "cell_type": "code",
   "execution_count": 154,
   "metadata": {
    "scrolled": true
   },
   "outputs": [
    {
     "name": "stdout",
     "output_type": "stream",
     "text": [
      "2018-07-10 16:24:24,357 INFO sqlalchemy.engine.base.Engine SELECT \"Track\".id, \"Track\".title, \"Track\".length, \"Track\".rating, \"Track\".count, \"Track\".album_id, \"Track\".genre_id \n",
      "FROM \"Track\" \n",
      "WHERE \"Track\".album_id = ? AND (\"Track\".genre_id = ? OR \"Track\".genre_id = ?)\n",
      "2018-07-10 16:24:24,358 INFO sqlalchemy.engine.base.Engine (1, 1, 2)\n",
      "(1, 'Black Dog', 123, 5, 0, 1, 1)\n",
      "(2, 'Stariway', 123, 5, 0, 1, 2)\n"
     ]
    }
   ],
   "source": [
    "# Where조건을 가지고 Join 아닌 join을 할거임. 결국 inner join의 형태를 띌것임.\n",
    "# red zepplin의 4번째 앨범에 수록된 \n",
    "# aritis ..... 앨범별보기. 앨범에 수록된 곡들이 좍 나오도록.\n",
    "# key 값이 1인것 중.\n",
    "# albumid는 1번을 만족하는데, genre는 상관없음(meta이거나 rock인애)\n",
    "\n",
    "\n",
    "result = conn.execute(select([track])\n",
    "                      .where(\n",
    "                          and_(\n",
    "                              track.c.album_id == 1,\n",
    "                              or_(\n",
    "                                  track.c.genre_id == 1,\n",
    "                                  track.c.genre_id == 2\n",
    "                              )\n",
    "                          )\n",
    "                      ))\n",
    "for row in result:\n",
    "    print(row)"
   ]
  },
  {
   "cell_type": "code",
   "execution_count": 155,
   "metadata": {},
   "outputs": [
    {
     "name": "stdout",
     "output_type": "stream",
     "text": [
      "\"Track\" JOIN \"Album\" ON \"Album\".id = \"Track\".album_id\n"
     ]
    }
   ],
   "source": [
    "print(track.join(album))"
   ]
  },
  {
   "cell_type": "code",
   "execution_count": 156,
   "metadata": {},
   "outputs": [
    {
     "name": "stdout",
     "output_type": "stream",
     "text": [
      "\"Track\" JOIN \"Album\" ON \"Album\".id = \"Track\".album_id JOIN \"Genre\" ON \"Genre\".id = \"Track\".genre_id\n"
     ]
    }
   ],
   "source": [
    "print(track.join(album).join(genre))"
   ]
  },
  {
   "cell_type": "code",
   "execution_count": 157,
   "metadata": {},
   "outputs": [
    {
     "name": "stdout",
     "output_type": "stream",
     "text": [
      "\"Track\" JOIN \"Album\" ON \"Album\".id = \"Track\".album_id JOIN \"Genre\" ON \"Genre\".id = \"Track\".genre_id JOIN \"Artist\" ON \"Artist\".id = \"Album\".artist_id\n"
     ]
    }
   ],
   "source": [
    "print(track.join(album).join(genre).join(artist))"
   ]
  },
  {
   "cell_type": "code",
   "execution_count": 159,
   "metadata": {},
   "outputs": [
    {
     "name": "stdout",
     "output_type": "stream",
     "text": [
      "2018-07-10 16:25:55,134 INFO sqlalchemy.engine.base.Engine SELECT \"Track\".title, \"Album\".title, \"Genre\".name, \"Artist\".name \n",
      "FROM \"Track\" JOIN \"Album\" ON \"Album\".id = \"Track\".album_id JOIN \"Genre\" ON \"Genre\".id = \"Track\".genre_id JOIN \"Artist\" ON \"Artist\".id = \"Album\".artist_id \n",
      "WHERE \"Genre\".id = ? AND \"Artist\".name LIKE ?\n",
      "2018-07-10 16:25:55,135 INFO sqlalchemy.engine.base.Engine (1, '%pp%')\n"
     ]
    }
   ],
   "source": [
    "result = conn.execute(select([track.c.title, album.c.title, genre.c.name, artist.c.name])\n",
    "                      .select_from(track.join(album).join(genre).join(artist))\n",
    "                     .where(\n",
    "                     and_(\n",
    "                         genre.c.id == 1,\n",
    "                         artist.c.name.like(\"%pp%\")\n",
    "                     )))"
   ]
  },
  {
   "cell_type": "code",
   "execution_count": 161,
   "metadata": {},
   "outputs": [
    {
     "name": "stdout",
     "output_type": "stream",
     "text": [
      "('Black Dog', 'IV', 'Rock', 'Led Zepplin')\n"
     ]
    }
   ],
   "source": [
    "for row in result:\n",
    "    print(row)"
   ]
  },
  {
   "cell_type": "code",
   "execution_count": null,
   "metadata": {},
   "outputs": [],
   "source": []
  }
 ],
 "metadata": {
  "kernelspec": {
   "display_name": "Python 3",
   "language": "python",
   "name": "python3"
  },
  "language_info": {
   "codemirror_mode": {
    "name": "ipython",
    "version": 3
   },
   "file_extension": ".py",
   "mimetype": "text/x-python",
   "name": "python",
   "nbconvert_exporter": "python",
   "pygments_lexer": "ipython3",
   "version": "3.6.5"
  }
 },
 "nbformat": 4,
 "nbformat_minor": 2
}
