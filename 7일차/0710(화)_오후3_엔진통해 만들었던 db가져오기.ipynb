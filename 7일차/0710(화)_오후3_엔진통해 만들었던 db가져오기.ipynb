{
 "cells": [
  {
   "cell_type": "markdown",
   "metadata": {},
   "source": [
    "# 저장했던 db 불러오기"
   ]
  },
  {
   "cell_type": "code",
   "execution_count": null,
   "metadata": {},
   "outputs": [],
   "source": [
    "import sqlalchemy\n",
    "from sqlalchemy import create_engine\n",
    "from sqlalchemy import MetaData\n",
    "from sqlalchemy import Table, Column, Integer, String, ForeignKey\n",
    "from sqlalchemy import select, update, join\n",
    "from sqlalchemy import and_, or_, not_"
   ]
  },
  {
   "cell_type": "code",
   "execution_count": null,
   "metadata": {},
   "outputs": [],
   "source": [
    "engine = create_engine(\"sqlite:///alchemytest.db\", echo=True)\n",
    "# 엔진에서 connection 만듦.\n",
    "conn = engine.connect()"
   ]
  },
  {
   "cell_type": "code",
   "execution_count": null,
   "metadata": {
    "scrolled": true
   },
   "outputs": [],
   "source": [
    "# 기존에 engine에 있는 db정보를 reflect해서 가져와서 metadata에 바인딩할거임.\n",
    "\n",
    "metadata = MetaData(bind=engine, reflect=True)"
   ]
  },
  {
   "cell_type": "code",
   "execution_count": null,
   "metadata": {},
   "outputs": [],
   "source": [
    "# reflect=True 옵션쓰지말고, metadata에서reflect() 함수를 부르랭.\n",
    "# metadata에 engine에있는 애들을 싹 가져왔음.\n",
    "metadata.reflect(bind=engine)"
   ]
  },
  {
   "cell_type": "code",
   "execution_count": null,
   "metadata": {},
   "outputs": [],
   "source": [
    "print(metadata.tables)"
   ]
  },
  {
   "cell_type": "code",
   "execution_count": null,
   "metadata": {},
   "outputs": [],
   "source": [
    "for row in metadata.tables:\n",
    "    print(row)"
   ]
  },
  {
   "cell_type": "code",
   "execution_count": null,
   "metadata": {},
   "outputs": [],
   "source": [
    "album = metadata.tables[\"Album\"]"
   ]
  },
  {
   "cell_type": "code",
   "execution_count": null,
   "metadata": {},
   "outputs": [],
   "source": [
    "result = conn.execute(album.select())\n",
    "print(result)"
   ]
  },
  {
   "cell_type": "code",
   "execution_count": null,
   "metadata": {},
   "outputs": [],
   "source": [
    "for row in result:\n",
    "    print(row)"
   ]
  },
  {
   "cell_type": "markdown",
   "metadata": {},
   "source": [
    "# SQLAlchemy ORM"
   ]
  },
  {
   "cell_type": "code",
   "execution_count": 1,
   "metadata": {},
   "outputs": [],
   "source": [
    "# base : metadata와 비슷한 역할하는 애.\n",
    "# metadata를 상속받아서 tabel을 만들었다면, bse를 상속받아 class를 만ㄷ르거임.\n",
    "# 엔진은 항상 필요함.\n",
    "\n",
    "from sqlalchemy import create_engine\n",
    "from sqlalchemy import Column, Integer, String, ForeignKey\n",
    "engine = create_engine(\"sqlite:///\", echo=True)\n",
    "from sqlalchemy.ext.declarative import declarative_base"
   ]
  },
  {
   "cell_type": "code",
   "execution_count": 2,
   "metadata": {},
   "outputs": [],
   "source": [
    "Base = declarative_base()"
   ]
  },
  {
   "cell_type": "code",
   "execution_count": 3,
   "metadata": {},
   "outputs": [
    {
     "data": {
      "text/plain": [
       "immutabledict({})"
      ]
     },
     "execution_count": 3,
     "metadata": {},
     "output_type": "execute_result"
    }
   ],
   "source": [
    "Base.metadata.tables"
   ]
  },
  {
   "cell_type": "code",
   "execution_count": null,
   "metadata": {},
   "outputs": [],
   "source": [
    "# Base.metadata.drop_all(engine)"
   ]
  },
  {
   "cell_type": "code",
   "execution_count": null,
   "metadata": {},
   "outputs": [],
   "source": []
  },
  {
   "cell_type": "code",
   "execution_count": null,
   "metadata": {},
   "outputs": [],
   "source": [
    "# Base.metadata.drop_all(engine)\n",
    "# Base.__table__.drop(Artist)\n",
    "# Base.__table__.drop(Album)\n",
    "# Base.__table__.drop(Genre)\n",
    "# Base.__table__.drop(Track)"
   ]
  },
  {
   "cell_type": "code",
   "execution_count": null,
   "metadata": {},
   "outputs": [],
   "source": []
  },
  {
   "cell_type": "code",
   "execution_count": 4,
   "metadata": {},
   "outputs": [],
   "source": [
    "# 앞으로 engine은 얘를 참조할것임.\n",
    "\n",
    "class Artist(Base):\n",
    "    __tablename__ = \"artist\"\n",
    "    id = Column(Integer, primary_key=True)\n",
    "    # class 선언.\n",
    "    # 이걸로 원래 끝인데, 상석 어쩌고 상세설정도 가능함...\n",
    "    name = Column(String)\n",
    "    extend_existing=True\n",
    "    #artist를 찍으면 print문이 실행될것임.\n",
    "    def __repr__(self):\n",
    "        return \"<T'artist(name='%s')>\" %(self.name)"
   ]
  },
  {
   "cell_type": "code",
   "execution_count": 5,
   "metadata": {},
   "outputs": [],
   "source": [
    "class Album(Base):\n",
    "    __tablename__ = \"album\"\n",
    "    id = Column(Integer, primary_key=True)\n",
    "    title = Column(String)\n",
    "    extend_existing=True\n",
    "    artist_id = Column(Integer, ForeignKey(\"artist.id\"))\n",
    "    "
   ]
  },
  {
   "cell_type": "code",
   "execution_count": 6,
   "metadata": {},
   "outputs": [],
   "source": [
    "class Genre(Base):\n",
    "    __tablename__ = \"genre\"\n",
    "    id = Column(Integer, primary_key=True)\n",
    "    name = Column(String)\n",
    "    extend_existing=True\n",
    "    "
   ]
  },
  {
   "cell_type": "code",
   "execution_count": 7,
   "metadata": {},
   "outputs": [],
   "source": [
    "class Genre(Base):\n",
    "    __tablename__ = \"genre\"\n",
    "    id = Column(Integer, primary_key=True)\n",
    "    name = Column(String)\n",
    "    extend_existing=True\n",
    "    class Track(Base):\n",
    "    __tablename__ = \"track\"\n",
    "    id = Column(Integer, primary_key=True)\n",
    "    title = Column(String)\n",
    "    extend_existing=True\n",
    "    album_id = Column(Integer, ForeignKey(\"album.id\"))\n",
    "    genre_id = Column(Integer, ForeignKey(\"genre.id\"))"
   ]
  },
  {
   "cell_type": "code",
   "execution_count": 9,
   "metadata": {},
   "outputs": [
    {
     "name": "stdout",
     "output_type": "stream",
     "text": [
      "2018-07-10 17:58:35,850 INFO sqlalchemy.engine.base.Engine SELECT CAST('test plain returns' AS VARCHAR(60)) AS anon_1\n",
      "2018-07-10 17:58:35,853 INFO sqlalchemy.engine.base.Engine ()\n",
      "2018-07-10 17:58:35,855 INFO sqlalchemy.engine.base.Engine SELECT CAST('test unicode returns' AS VARCHAR(60)) AS anon_1\n",
      "2018-07-10 17:58:35,856 INFO sqlalchemy.engine.base.Engine ()\n",
      "2018-07-10 17:58:35,858 INFO sqlalchemy.engine.base.Engine PRAGMA table_info(\"artist\")\n",
      "2018-07-10 17:58:35,859 INFO sqlalchemy.engine.base.Engine ()\n",
      "2018-07-10 17:58:35,861 INFO sqlalchemy.engine.base.Engine PRAGMA table_info(\"album\")\n",
      "2018-07-10 17:58:35,862 INFO sqlalchemy.engine.base.Engine ()\n",
      "2018-07-10 17:58:35,863 INFO sqlalchemy.engine.base.Engine PRAGMA table_info(\"genre\")\n",
      "2018-07-10 17:58:35,864 INFO sqlalchemy.engine.base.Engine ()\n",
      "2018-07-10 17:58:35,865 INFO sqlalchemy.engine.base.Engine PRAGMA table_info(\"track\")\n",
      "2018-07-10 17:58:35,866 INFO sqlalchemy.engine.base.Engine ()\n",
      "2018-07-10 17:58:35,868 INFO sqlalchemy.engine.base.Engine \n",
      "CREATE TABLE artist (\n",
      "\tid INTEGER NOT NULL, \n",
      "\tname VARCHAR, \n",
      "\tPRIMARY KEY (id)\n",
      ")\n",
      "\n",
      "\n",
      "2018-07-10 17:58:35,869 INFO sqlalchemy.engine.base.Engine ()\n",
      "2018-07-10 17:58:35,870 INFO sqlalchemy.engine.base.Engine COMMIT\n",
      "2018-07-10 17:58:35,871 INFO sqlalchemy.engine.base.Engine \n",
      "CREATE TABLE genre (\n",
      "\tid INTEGER NOT NULL, \n",
      "\tname VARCHAR, \n",
      "\tPRIMARY KEY (id)\n",
      ")\n",
      "\n",
      "\n",
      "2018-07-10 17:58:35,872 INFO sqlalchemy.engine.base.Engine ()\n",
      "2018-07-10 17:58:35,873 INFO sqlalchemy.engine.base.Engine COMMIT\n",
      "2018-07-10 17:58:35,874 INFO sqlalchemy.engine.base.Engine \n",
      "CREATE TABLE album (\n",
      "\tid INTEGER NOT NULL, \n",
      "\ttitle VARCHAR, \n",
      "\tartist_id INTEGER, \n",
      "\tPRIMARY KEY (id), \n",
      "\tFOREIGN KEY(artist_id) REFERENCES artist (id)\n",
      ")\n",
      "\n",
      "\n",
      "2018-07-10 17:58:35,875 INFO sqlalchemy.engine.base.Engine ()\n",
      "2018-07-10 17:58:35,876 INFO sqlalchemy.engine.base.Engine COMMIT\n",
      "2018-07-10 17:58:35,878 INFO sqlalchemy.engine.base.Engine \n",
      "CREATE TABLE track (\n",
      "\tid INTEGER NOT NULL, \n",
      "\ttitle VARCHAR, \n",
      "\talbum_id INTEGER, \n",
      "\tgenre_id INTEGER, \n",
      "\tPRIMARY KEY (id), \n",
      "\tFOREIGN KEY(album_id) REFERENCES album (id), \n",
      "\tFOREIGN KEY(genre_id) REFERENCES genre (id)\n",
      ")\n",
      "\n",
      "\n",
      "2018-07-10 17:58:35,879 INFO sqlalchemy.engine.base.Engine ()\n",
      "2018-07-10 17:58:35,880 INFO sqlalchemy.engine.base.Engine COMMIT\n"
     ]
    }
   ],
   "source": [
    "#아까만든 엔진 바인딩해주기.\n",
    "# 클래스만든것밖에 없는데 지가알아서 sql문 만듦.\n",
    "\n",
    "Base.metadata.create_all(engine)"
   ]
  },
  {
   "cell_type": "code",
   "execution_count": 10,
   "metadata": {},
   "outputs": [],
   "source": [
    "artist1 = Artist(name=\"Led Zepplin\")\n",
    "artist2 = Artist(name=\"AC/DC\")"
   ]
  },
  {
   "cell_type": "code",
   "execution_count": 11,
   "metadata": {},
   "outputs": [
    {
     "data": {
      "text/plain": [
       "<T'artist(name='Led Zepplin')>"
      ]
     },
     "execution_count": 11,
     "metadata": {},
     "output_type": "execute_result"
    }
   ],
   "source": [
    "artist1"
   ]
  },
  {
   "cell_type": "code",
   "execution_count": 12,
   "metadata": {},
   "outputs": [],
   "source": [
    "from sqlalchemy.orm import sessionmaker\n",
    "\n",
    "Session = sessionmaker(bind=engine)"
   ]
  },
  {
   "cell_type": "code",
   "execution_count": 13,
   "metadata": {},
   "outputs": [],
   "source": [
    "session = Session()\n",
    "\n",
    "# metadata 없는 대신, base가 있고,\n",
    "# 연결하기위해 conn없는 대신 session이 있음"
   ]
  },
  {
   "cell_type": "code",
   "execution_count": 14,
   "metadata": {},
   "outputs": [],
   "source": [
    "# session에 일을 시킬것임.\n",
    "session.add_all([artist1, artist2])"
   ]
  },
  {
   "cell_type": "code",
   "execution_count": 15,
   "metadata": {},
   "outputs": [
    {
     "name": "stdout",
     "output_type": "stream",
     "text": [
      "2018-07-10 17:58:52,670 INFO sqlalchemy.engine.base.Engine BEGIN (implicit)\n",
      "2018-07-10 17:58:52,673 INFO sqlalchemy.engine.base.Engine INSERT INTO artist (name) VALUES (?)\n",
      "2018-07-10 17:58:52,674 INFO sqlalchemy.engine.base.Engine ('Led Zepplin',)\n",
      "2018-07-10 17:58:52,675 INFO sqlalchemy.engine.base.Engine INSERT INTO artist (name) VALUES (?)\n",
      "2018-07-10 17:58:52,676 INFO sqlalchemy.engine.base.Engine ('AC/DC',)\n",
      "2018-07-10 17:58:52,677 INFO sqlalchemy.engine.base.Engine COMMIT\n"
     ]
    }
   ],
   "source": [
    "session.commit()\n",
    "\n",
    "# session을통해 bind딩된 engine을 통해서, add시켜달라고 명령하고. 실제 db에 물리적으로 저장하는 단계까지!"
   ]
  },
  {
   "cell_type": "code",
   "execution_count": 16,
   "metadata": {},
   "outputs": [
    {
     "data": {
      "text/plain": [
       "IdentitySet([])"
      ]
     },
     "execution_count": 16,
     "metadata": {},
     "output_type": "execute_result"
    }
   ],
   "source": [
    "session.dirty"
   ]
  },
  {
   "cell_type": "code",
   "execution_count": 17,
   "metadata": {},
   "outputs": [
    {
     "data": {
      "text/plain": [
       "IdentitySet([])"
      ]
     },
     "execution_count": 17,
     "metadata": {},
     "output_type": "execute_result"
    }
   ],
   "source": [
    "session.new"
   ]
  },
  {
   "cell_type": "code",
   "execution_count": 18,
   "metadata": {},
   "outputs": [
    {
     "data": {
      "text/plain": [
       "IdentitySet([<T'artist(name='xyz')>])"
      ]
     },
     "execution_count": 18,
     "metadata": {},
     "output_type": "execute_result"
    }
   ],
   "source": [
    "artist1.name = 'xyz'\n",
    "session.dirty\n",
    "\n",
    "# 변경되었는데 반영되지 않은 값이 있다는 것을 알려줌. commit해야함. 미반영된 애들을 sql로 변형해서 반영하게됨."
   ]
  },
  {
   "cell_type": "code",
   "execution_count": 19,
   "metadata": {},
   "outputs": [],
   "source": [
    "# 리스트 안에 class를 쓴다는점이 아까랑 다름. album에다가 하나의 인스턴스를 추가하려함.\n",
    "\n",
    "session.add_all([\n",
    "    Album(title=\"1\", artist_id=1),\n",
    "    Album(title=\"2\", artist_id=2)\n",
    "])\n",
    "\n",
    "# 값이 바뀐게 없음. attribute가 수정된게 아니라, 메모리상에만 있는값임.\n",
    "# commit 해야 반영됨."
   ]
  },
  {
   "cell_type": "code",
   "execution_count": 20,
   "metadata": {},
   "outputs": [],
   "source": [
    "session.add_all([\n",
    "    Genre(name=\"Rock\"),\n",
    "    Genre(name=\"Metal\")\n",
    "])"
   ]
  },
  {
   "cell_type": "code",
   "execution_count": 21,
   "metadata": {},
   "outputs": [],
   "source": [
    "#session에 아무작업안하고 붙여넣기만함.\n",
    "\n",
    "session.add_all([\n",
    "    Track(title=\"1-1\", album_id=1, genre_id=1),\n",
    "    Track(title=\"1-2\", album_id=1, genre_id=2),\n",
    "    Track(title=\"2-1\", album_id=2, genre_id=1),\n",
    "    Track(title=\"2-2\", album_id=2, genre_id=2)\n",
    "])\n",
    "\n",
    "# session.commit 이랑, session.new하면 여태까지 무슨일했는지 쫙 찍어줌.\n",
    "# SQL문이랑 전혀 상관없잖아!!! 굉장히 괜찮지않닝?ㅋㅋㅋㅋㅋㅋㅋㅋㅋ\n",
    "# commit이랑 new, dirty로 확인하면서 그냥 너무나쉽게 OOP로 database관리하면 됨."
   ]
  },
  {
   "cell_type": "code",
   "execution_count": 22,
   "metadata": {},
   "outputs": [],
   "source": [
    "temp = Track(title=\"3-1\", album_id=3, genre_id=3)"
   ]
  },
  {
   "cell_type": "code",
   "execution_count": 23,
   "metadata": {},
   "outputs": [
    {
     "name": "stdout",
     "output_type": "stream",
     "text": [
      "None\n"
     ]
    }
   ],
   "source": [
    "print(temp.id)\n",
    "\n",
    "# None이라고 나옴. 실제DB에 아직 안쓰고 메모리상에만 존재하기때문. session에다가도 아직 안넣은상태."
   ]
  },
  {
   "cell_type": "code",
   "execution_count": 24,
   "metadata": {},
   "outputs": [],
   "source": [
    "session.add(temp)"
   ]
  },
  {
   "cell_type": "code",
   "execution_count": 25,
   "metadata": {},
   "outputs": [
    {
     "data": {
      "text/plain": [
       "IdentitySet([<__main__.Album object at 0x00000134DDD66B70>, <__main__.Album object at 0x00000134DDD66BE0>, <__main__.Genre object at 0x00000134DDD66C50>, <__main__.Genre object at 0x00000134DDD66CC0>, <__main__.Track object at 0x00000134DDD86400>, <__main__.Track object at 0x00000134DDD86470>, <__main__.Track object at 0x00000134DDD864E0>, <__main__.Track object at 0x00000134DDD86550>, <__main__.Track object at 0x00000134DDD66FD0>])"
      ]
     },
     "execution_count": 25,
     "metadata": {},
     "output_type": "execute_result"
    }
   ],
   "source": [
    "session.new\n",
    "\n",
    "# DB에 아직 기록이안되어있으니까 id를 못불러오는 상황임."
   ]
  },
  {
   "cell_type": "code",
   "execution_count": 26,
   "metadata": {},
   "outputs": [
    {
     "name": "stdout",
     "output_type": "stream",
     "text": [
      "2018-07-10 17:59:11,889 INFO sqlalchemy.engine.base.Engine BEGIN (implicit)\n",
      "2018-07-10 17:59:11,891 INFO sqlalchemy.engine.base.Engine SELECT artist.id AS artist_id \n",
      "FROM artist \n",
      "WHERE artist.id = ?\n",
      "2018-07-10 17:59:11,892 INFO sqlalchemy.engine.base.Engine (1,)\n",
      "2018-07-10 17:59:11,894 INFO sqlalchemy.engine.base.Engine UPDATE artist SET name=? WHERE artist.id = ?\n",
      "2018-07-10 17:59:11,894 INFO sqlalchemy.engine.base.Engine ('xyz', 1)\n",
      "2018-07-10 17:59:11,896 INFO sqlalchemy.engine.base.Engine INSERT INTO genre (name) VALUES (?)\n",
      "2018-07-10 17:59:11,897 INFO sqlalchemy.engine.base.Engine ('Rock',)\n",
      "2018-07-10 17:59:11,898 INFO sqlalchemy.engine.base.Engine INSERT INTO genre (name) VALUES (?)\n",
      "2018-07-10 17:59:11,899 INFO sqlalchemy.engine.base.Engine ('Metal',)\n",
      "2018-07-10 17:59:11,901 INFO sqlalchemy.engine.base.Engine INSERT INTO track (title, album_id, genre_id) VALUES (?, ?, ?)\n",
      "2018-07-10 17:59:11,902 INFO sqlalchemy.engine.base.Engine ('1-1', 1, 1)\n",
      "2018-07-10 17:59:11,904 INFO sqlalchemy.engine.base.Engine INSERT INTO track (title, album_id, genre_id) VALUES (?, ?, ?)\n",
      "2018-07-10 17:59:11,904 INFO sqlalchemy.engine.base.Engine ('1-2', 1, 2)\n",
      "2018-07-10 17:59:11,905 INFO sqlalchemy.engine.base.Engine INSERT INTO track (title, album_id, genre_id) VALUES (?, ?, ?)\n",
      "2018-07-10 17:59:11,906 INFO sqlalchemy.engine.base.Engine ('2-1', 2, 1)\n",
      "2018-07-10 17:59:11,907 INFO sqlalchemy.engine.base.Engine INSERT INTO track (title, album_id, genre_id) VALUES (?, ?, ?)\n",
      "2018-07-10 17:59:11,908 INFO sqlalchemy.engine.base.Engine ('2-2', 2, 2)\n",
      "2018-07-10 17:59:11,909 INFO sqlalchemy.engine.base.Engine INSERT INTO track (title, album_id, genre_id) VALUES (?, ?, ?)\n",
      "2018-07-10 17:59:11,910 INFO sqlalchemy.engine.base.Engine ('3-1', 3, 3)\n",
      "2018-07-10 17:59:11,912 INFO sqlalchemy.engine.base.Engine INSERT INTO album (title, artist_id) VALUES (?, ?)\n",
      "2018-07-10 17:59:11,913 INFO sqlalchemy.engine.base.Engine ('1', 1)\n",
      "2018-07-10 17:59:11,914 INFO sqlalchemy.engine.base.Engine INSERT INTO album (title, artist_id) VALUES (?, ?)\n",
      "2018-07-10 17:59:11,915 INFO sqlalchemy.engine.base.Engine ('2', 2)\n",
      "2018-07-10 17:59:11,917 INFO sqlalchemy.engine.base.Engine COMMIT\n"
     ]
    }
   ],
   "source": [
    "session.commit()"
   ]
  },
  {
   "cell_type": "code",
   "execution_count": 27,
   "metadata": {},
   "outputs": [
    {
     "name": "stdout",
     "output_type": "stream",
     "text": [
      "2018-07-10 17:59:15,004 INFO sqlalchemy.engine.base.Engine BEGIN (implicit)\n",
      "2018-07-10 17:59:15,006 INFO sqlalchemy.engine.base.Engine SELECT track.id AS track_id, track.title AS track_title, track.album_id AS track_album_id, track.genre_id AS track_genre_id \n",
      "FROM track \n",
      "WHERE track.id = ?\n",
      "2018-07-10 17:59:15,007 INFO sqlalchemy.engine.base.Engine (5,)\n",
      "5\n"
     ]
    }
   ],
   "source": [
    "print(temp.id)\n",
    "\n",
    "# ORM이니까 가능한것!! 엄청나게 간단하게 제공해주고있음....!! 정말 획기적인것임ㅋ"
   ]
  },
  {
   "cell_type": "code",
   "execution_count": 28,
   "metadata": {},
   "outputs": [
    {
     "name": "stdout",
     "output_type": "stream",
     "text": [
      "2018-07-10 17:59:16,784 INFO sqlalchemy.engine.base.Engine SELECT artist.id AS artist_id, artist.name AS artist_name \n",
      "FROM artist\n",
      "2018-07-10 17:59:16,785 INFO sqlalchemy.engine.base.Engine ()\n",
      "1 xyz\n",
      "2 AC/DC\n"
     ]
    }
   ],
   "source": [
    "# 데이터를 불러올려고 할 때는 어떻게 하느냐?\n",
    "# 실제 데이터에 접근할 일은 그렇게 많지 않음. 이미session에 올라와있고 DB와 완벽하게 100% 일치함.\n",
    "# data가져오기위해 DB에 다녀오는것보다, 메모리상에 있는 데이터 갖다주는게 훨씬 빠름..!!!!\n",
    "# 따라서 session에 있는 데이터 가져오게 함으로서 기가막힌거랭!!\n",
    "\n",
    "for row in session.query(Artist):\n",
    "    print(row.id, row.name)"
   ]
  },
  {
   "cell_type": "code",
   "execution_count": 29,
   "metadata": {},
   "outputs": [
    {
     "name": "stdout",
     "output_type": "stream",
     "text": [
      "2018-07-10 17:59:18,426 INFO sqlalchemy.engine.base.Engine SELECT artist.id AS artist_id, artist.name AS artist_name \n",
      "FROM artist \n",
      "WHERE artist.id = ?\n",
      "2018-07-10 17:59:18,427 INFO sqlalchemy.engine.base.Engine (1,)\n",
      "1 xyz\n"
     ]
    }
   ],
   "source": [
    "for row in session.query(Artist).filter(Artist.id == 1):\n",
    "    print(row.id, row.name)"
   ]
  },
  {
   "cell_type": "code",
   "execution_count": 30,
   "metadata": {},
   "outputs": [],
   "source": [
    "# session을 통해 engine을 바인딩시키기.\n",
    "# 실제 instance를 반영시키기.\n",
    "# nes, dirty를 쓰면 수정사항확인되는거고.\n",
    "# 실제 commit했을 때 반영되는거고.\n",
    "# query로 한번 감싸는거\n",
    "# filter쓰는법.(두종류가 있음.)\n",
    "# (class안에있는 attribute위주로 설명하는거고/ string임. 실제 테이블 안에 keyword로 있냐없냐 판단할때 사용.)"
   ]
  },
  {
   "cell_type": "code",
   "execution_count": null,
   "metadata": {},
   "outputs": [],
   "source": []
  },
  {
   "cell_type": "code",
   "execution_count": null,
   "metadata": {},
   "outputs": [],
   "source": []
  },
  {
   "cell_type": "code",
   "execution_count": null,
   "metadata": {},
   "outputs": [],
   "source": []
  },
  {
   "cell_type": "code",
   "execution_count": null,
   "metadata": {},
   "outputs": [],
   "source": []
  },
  {
   "cell_type": "code",
   "execution_count": null,
   "metadata": {},
   "outputs": [],
   "source": []
  },
  {
   "cell_type": "code",
   "execution_count": null,
   "metadata": {},
   "outputs": [],
   "source": []
  },
  {
   "cell_type": "code",
   "execution_count": null,
   "metadata": {},
   "outputs": [],
   "source": []
  },
  {
   "cell_type": "code",
   "execution_count": null,
   "metadata": {},
   "outputs": [],
   "source": []
  },
  {
   "cell_type": "code",
   "execution_count": null,
   "metadata": {},
   "outputs": [],
   "source": []
  },
  {
   "cell_type": "code",
   "execution_count": null,
   "metadata": {},
   "outputs": [],
   "source": []
  },
  {
   "cell_type": "code",
   "execution_count": null,
   "metadata": {},
   "outputs": [],
   "source": []
  },
  {
   "cell_type": "code",
   "execution_count": null,
   "metadata": {},
   "outputs": [],
   "source": []
  },
  {
   "cell_type": "code",
   "execution_count": null,
   "metadata": {},
   "outputs": [],
   "source": []
  },
  {
   "cell_type": "code",
   "execution_count": null,
   "metadata": {},
   "outputs": [],
   "source": []
  },
  {
   "cell_type": "code",
   "execution_count": null,
   "metadata": {},
   "outputs": [],
   "source": []
  },
  {
   "cell_type": "code",
   "execution_count": null,
   "metadata": {},
   "outputs": [],
   "source": []
  },
  {
   "cell_type": "code",
   "execution_count": null,
   "metadata": {},
   "outputs": [],
   "source": []
  },
  {
   "cell_type": "code",
   "execution_count": null,
   "metadata": {},
   "outputs": [],
   "source": []
  }
 ],
 "metadata": {
  "kernelspec": {
   "display_name": "Python 3",
   "language": "python",
   "name": "python3"
  },
  "language_info": {
   "codemirror_mode": {
    "name": "ipython",
    "version": 3
   },
   "file_extension": ".py",
   "mimetype": "text/x-python",
   "name": "python",
   "nbconvert_exporter": "python",
   "pygments_lexer": "ipython3",
   "version": "3.6.5"
  }
 },
 "nbformat": 4,
 "nbformat_minor": 2
}
