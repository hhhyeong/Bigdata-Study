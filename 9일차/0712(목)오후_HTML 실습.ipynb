{
 "cells": [
  {
   "cell_type": "code",
   "execution_count": 28,
   "metadata": {},
   "outputs": [
    {
     "name": "stdout",
     "output_type": "stream",
     "text": [
      "Overwriting test.html\n"
     ]
    }
   ],
   "source": [
    "%%writefile test.html\n",
    "\n",
    "<!doctype html>\n",
    "<html>\n",
    "    <head>\n",
    "        <meta charset=\"utf-8\"/>\n",
    "        <title> 예제 </title>\n",
    "        <meta name=“viewport”content=\"width-device-width, initial-scale=1.0\">\n",
    "        <script></script>\n",
    "        <style></style>\n",
    "    </head>\n",
    "    <body>\n",
    "        <h1>첫번째 예제</h1>\n",
    "        <h2>첫번째 예제</h2>\n",
    "        <h3>첫번째 예제</h3>\n",
    "        <h4>첫번째 예제</h4>\n",
    "        <h5>첫번째 예제</h5>\n",
    "        <h6>첫번째 예제</h6>\n",
    "        <section>\n",
    "            <article>\n",
    "                <h1>오늘의 TIL</h1>\n",
    "                <pre>python 코드 보여줄 때 좋다고 합니다. 코드상에서 쓰는대로 눈에 보여주기때문에.</pre>\n",
    "                <pre>\n",
    "                import pandas as pd\n",
    "                import sqlalchemy\n",
    "                from sqlalchemy import create_engine\n",
    "                from sqlalchemy import MetaData\n",
    "                from sqlalchemy import Table, Column, Integer, String, ForeignKey\n",
    "                from sqlalchemy import select, update, join\n",
    "                from sqlalchemy import and_, or_, not_\n",
    "                </pre>\n",
    "                <p>오늘은 HTML5와 시맨틱태그에 대해서 배웠습니다.</p>\n",
    "                <p>구조에 따라 어떤 의미있는 태그를 써야하는지에 대한 실습중입니다.</p>\n",
    "                <p>눈에 보이는것은 똑같지만, 크롤링할때 중요한 역할을 하기때문에, 표준을 지켜주는게 좋다고 합니당.</p>\n",
    "                <p>\n",
    "                    <a href=\"http://www.naver.com\" target=\"black\">네이버로 가기</a>\n",
    "                </p>\n",
    "                <p>\n",
    "                    <img src=\"a.png\" usemap=\"#test\"/>\n",
    "                    <map name=\"test\">\n",
    "                        <area shape=\"rect\" coords=\"0,0,100,100\" alt=\"도움말1\" href=\"http://www.naver.com\"/>\n",
    "                        <area shape=\"rect\" coords=\"100,100,200,200\" alt=\"도움말2\" href=\"http://www.daum.net\"/>\n",
    "                        <area shape=\"rect\" coords=\"200,200,300,300\" alt=\"도움말3\" href=\"http://www.zum.com\"/>\n",
    "                    </map>\n",
    "                </p>\n",
    "                <p>\n",
    "                    <ul>\n",
    "                        <li><span style=\"color:red;\">첫</span>번<div style=\"color:blue\">째</div></li>\n",
    "                        <li>두번째</li>\n",
    "                        <li>세번째</li>\n",
    "                    </ul>\n",
    "                    <ol>\n",
    "                        <li>첫번째</li>\n",
    "                        <li>두번째</li>\n",
    "                        <li>세번째</li>\n",
    "                    </ol>\n",
    "                </p>\n",
    "                <p>\n",
    "                </p>\n",
    "            </article>\n",
    "        </section>\n",
    "    </body>\n",
    "</html>\n"
   ]
  },
  {
   "cell_type": "code",
   "execution_count": null,
   "metadata": {},
   "outputs": [],
   "source": []
  },
  {
   "cell_type": "code",
   "execution_count": null,
   "metadata": {},
   "outputs": [],
   "source": []
  }
 ],
 "metadata": {
  "kernelspec": {
   "display_name": "Python 3",
   "language": "python",
   "name": "python3"
  },
  "language_info": {
   "codemirror_mode": {
    "name": "ipython",
    "version": 3
   },
   "file_extension": ".py",
   "mimetype": "text/x-python",
   "name": "python",
   "nbconvert_exporter": "python",
   "pygments_lexer": "ipython3",
   "version": "3.6.5"
  }
 },
 "nbformat": 4,
 "nbformat_minor": 2
}
