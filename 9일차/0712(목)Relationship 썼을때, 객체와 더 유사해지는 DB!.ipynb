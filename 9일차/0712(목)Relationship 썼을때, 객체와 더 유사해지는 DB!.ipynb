{
 "cells": [
  {
   "cell_type": "markdown",
   "metadata": {},
   "source": [
    "#### base랑 engine 은 main함수같은 역할..! 맨앞에 항상 선언해주기."
   ]
  },
  {
   "cell_type": "code",
   "execution_count": 26,
   "metadata": {},
   "outputs": [],
   "source": [
    "from sqlalchemy import create_engine\n",
    "from sqlalchemy import Column, Integer, String, ForeignKey\n",
    "from sqlalchemy.ext.declarative import declarative_base\n",
    "engine = create_engine(\"sqlite:///\", echo=True)\n",
    "Base = declarative_base()"
   ]
  },
  {
   "cell_type": "code",
   "execution_count": 27,
   "metadata": {},
   "outputs": [],
   "source": [
    "from sqlalchemy.orm import sessionmaker\n",
    "from sqlalchemy.orm import relationship\n",
    "Session = sessionmaker(bind = engine)\n",
    "session = Session()"
   ]
  },
  {
   "cell_type": "code",
   "execution_count": 28,
   "metadata": {},
   "outputs": [],
   "source": [
    "class Artist(Base):\n",
    "    __tablename__ = \"artist\"\n",
    "    \n",
    "    id = Column(Integer, primary_key=True)\n",
    "    name = Column(String)\n",
    "    album = relationship(\"Album\", back_populates=\"artist\")\n",
    "    # album 속성은 Album 클래스의 artist속성과 관계가 있다.\n",
    "    # Artist는 여러개의 album을 가질 수 있음.\n",
    "    \n",
    "    def __repr__(self):\n",
    "        return \"<T'artist(name='%s')>\" %(self.name)\n",
    "    \n",
    "    \n",
    "class Album(Base):\n",
    "    __tablename__ = \"album\"\n",
    "    \n",
    "    id = Column(Integer, primary_key=True)\n",
    "    title = Column(String)\n",
    "    \n",
    "    artist_id = Column(Integer, ForeignKey(\"artist.id\"))\n",
    "    artist = relationship(\"Artist\", back_populates = \"album\", uselist=False)\n",
    "    # artist라는 속성은 Artist 클래스의 album속성과 관계가 있다.\n",
    "    # N:M관계가 기본이지만, Ablum이 하나의 Artist만 가져야 하므로 1:N의 관계에서 1이 되어야 하는 부분에  uselist=False 넣어줘야함.\n",
    "    # default가 True. M;N임.\n",
    "\n",
    "    \n",
    "    \n",
    "class Genre(Base):\n",
    "    __tablename__ = \"genre\"\n",
    "    id = Column(Integer, primary_key=True)\n",
    "    name = Column(String)\n",
    "    extend_existing=True\n",
    "    \n",
    "    \n",
    "    \n",
    "class Track(Base):\n",
    "    __tablename__ = \"track\"\n",
    "    id = Column(Integer, primary_key=True)\n",
    "    title = Column(String)\n",
    "    extend_existing=True\n",
    "    album_id = Column(Integer, ForeignKey(\"album.id\"))\n",
    "    genre_id = Column(Integer, ForeignKey(\"genre.id\"))"
   ]
  },
  {
   "cell_type": "code",
   "execution_count": 29,
   "metadata": {},
   "outputs": [
    {
     "name": "stdout",
     "output_type": "stream",
     "text": [
      "2018-07-12 11:16:45,896 INFO sqlalchemy.engine.base.Engine SELECT CAST('test plain returns' AS VARCHAR(60)) AS anon_1\n",
      "2018-07-12 11:16:45,896 INFO sqlalchemy.engine.base.Engine ()\n",
      "2018-07-12 11:16:45,896 INFO sqlalchemy.engine.base.Engine SELECT CAST('test unicode returns' AS VARCHAR(60)) AS anon_1\n",
      "2018-07-12 11:16:45,896 INFO sqlalchemy.engine.base.Engine ()\n",
      "2018-07-12 11:16:45,896 INFO sqlalchemy.engine.base.Engine PRAGMA table_info(\"artist\")\n",
      "2018-07-12 11:16:45,896 INFO sqlalchemy.engine.base.Engine ()\n",
      "2018-07-12 11:16:45,896 INFO sqlalchemy.engine.base.Engine PRAGMA table_info(\"album\")\n",
      "2018-07-12 11:16:45,911 INFO sqlalchemy.engine.base.Engine ()\n",
      "2018-07-12 11:16:45,911 INFO sqlalchemy.engine.base.Engine PRAGMA table_info(\"genre\")\n",
      "2018-07-12 11:16:45,911 INFO sqlalchemy.engine.base.Engine ()\n",
      "2018-07-12 11:16:45,911 INFO sqlalchemy.engine.base.Engine PRAGMA table_info(\"track\")\n",
      "2018-07-12 11:16:45,911 INFO sqlalchemy.engine.base.Engine ()\n",
      "2018-07-12 11:16:45,911 INFO sqlalchemy.engine.base.Engine \n",
      "CREATE TABLE artist (\n",
      "\tid INTEGER NOT NULL, \n",
      "\tname VARCHAR, \n",
      "\tPRIMARY KEY (id)\n",
      ")\n",
      "\n",
      "\n",
      "2018-07-12 11:16:45,911 INFO sqlalchemy.engine.base.Engine ()\n",
      "2018-07-12 11:16:45,911 INFO sqlalchemy.engine.base.Engine COMMIT\n",
      "2018-07-12 11:16:45,911 INFO sqlalchemy.engine.base.Engine \n",
      "CREATE TABLE genre (\n",
      "\tid INTEGER NOT NULL, \n",
      "\tname VARCHAR, \n",
      "\tPRIMARY KEY (id)\n",
      ")\n",
      "\n",
      "\n",
      "2018-07-12 11:16:45,911 INFO sqlalchemy.engine.base.Engine ()\n",
      "2018-07-12 11:16:45,911 INFO sqlalchemy.engine.base.Engine COMMIT\n",
      "2018-07-12 11:16:45,911 INFO sqlalchemy.engine.base.Engine \n",
      "CREATE TABLE album (\n",
      "\tid INTEGER NOT NULL, \n",
      "\ttitle VARCHAR, \n",
      "\tartist_id INTEGER, \n",
      "\tPRIMARY KEY (id), \n",
      "\tFOREIGN KEY(artist_id) REFERENCES artist (id)\n",
      ")\n",
      "\n",
      "\n",
      "2018-07-12 11:16:45,911 INFO sqlalchemy.engine.base.Engine ()\n",
      "2018-07-12 11:16:45,911 INFO sqlalchemy.engine.base.Engine COMMIT\n",
      "2018-07-12 11:16:45,927 INFO sqlalchemy.engine.base.Engine \n",
      "CREATE TABLE track (\n",
      "\tid INTEGER NOT NULL, \n",
      "\ttitle VARCHAR, \n",
      "\talbum_id INTEGER, \n",
      "\tgenre_id INTEGER, \n",
      "\tPRIMARY KEY (id), \n",
      "\tFOREIGN KEY(album_id) REFERENCES album (id), \n",
      "\tFOREIGN KEY(genre_id) REFERENCES genre (id)\n",
      ")\n",
      "\n",
      "\n",
      "2018-07-12 11:16:45,927 INFO sqlalchemy.engine.base.Engine ()\n",
      "2018-07-12 11:16:45,927 INFO sqlalchemy.engine.base.Engine COMMIT\n"
     ]
    }
   ],
   "source": [
    "Base.metadata.create_all(engine)"
   ]
  },
  {
   "cell_type": "code",
   "execution_count": null,
   "metadata": {},
   "outputs": [],
   "source": []
  },
  {
   "cell_type": "code",
   "execution_count": 30,
   "metadata": {},
   "outputs": [],
   "source": [
    "artist1 = Artist(name=\"Led Zeplin\")\n",
    "artist2 = Artist(name=\"AC/DC\")\n",
    "\n",
    "# Relationship설정.\n",
    "artist1.album = [Album(title=\"IV\"), Album(title = \"Whoe Made Who\")]\n",
    "artist1.album[0].genre.track = \n",
    "# 인스턴스에다가 값 넣듯이 그냥 넣을 수 있게됨..!\n",
    "# db관계 생각할필요없고, class만생성해달라고하면됨.\n",
    "# PK와 FK가 누군지만 알고,\n",
    "# 값넣고, commit만해주면됨. 정말편한거에용 이거!\n",
    "# class사이의 관계를 relationship가지고 표현만해주면됨.\n",
    "# 나머지는 metadata, engine, base라는 애가 코어단에서 알아서 해줄거야."
   ]
  },
  {
   "cell_type": "code",
   "execution_count": 31,
   "metadata": {
    "scrolled": true
   },
   "outputs": [
    {
     "name": "stdout",
     "output_type": "stream",
     "text": [
      "2018-07-12 11:16:49,463 INFO sqlalchemy.engine.base.Engine BEGIN (implicit)\n",
      "2018-07-12 11:16:49,463 INFO sqlalchemy.engine.base.Engine INSERT INTO artist (name) VALUES (?)\n",
      "2018-07-12 11:16:49,463 INFO sqlalchemy.engine.base.Engine ('Led Zeplin',)\n",
      "2018-07-12 11:16:49,478 INFO sqlalchemy.engine.base.Engine INSERT INTO album (title, artist_id) VALUES (?, ?)\n",
      "2018-07-12 11:16:49,478 INFO sqlalchemy.engine.base.Engine ('IV', 1)\n",
      "2018-07-12 11:16:49,478 INFO sqlalchemy.engine.base.Engine INSERT INTO album (title, artist_id) VALUES (?, ?)\n",
      "2018-07-12 11:16:49,478 INFO sqlalchemy.engine.base.Engine ('Whoe Made Who', 1)\n",
      "2018-07-12 11:16:49,478 INFO sqlalchemy.engine.base.Engine COMMIT\n"
     ]
    }
   ],
   "source": [
    "session.add(artist1)\n",
    "session.commit()"
   ]
  },
  {
   "cell_type": "code",
   "execution_count": 32,
   "metadata": {
    "scrolled": false
   },
   "outputs": [
    {
     "name": "stdout",
     "output_type": "stream",
     "text": [
      "2018-07-12 11:16:51,399 INFO sqlalchemy.engine.base.Engine BEGIN (implicit)\n",
      "2018-07-12 11:16:51,399 INFO sqlalchemy.engine.base.Engine SELECT artist.id AS artist_id, artist.name AS artist_name \n",
      "FROM artist \n",
      "WHERE artist.id = ?\n",
      "2018-07-12 11:16:51,399 INFO sqlalchemy.engine.base.Engine (1,)\n",
      "2018-07-12 11:16:51,399 INFO sqlalchemy.engine.base.Engine SELECT album.id AS album_id, album.title AS album_title, album.artist_id AS album_artist_id \n",
      "FROM album \n",
      "WHERE ? = album.artist_id\n",
      "2018-07-12 11:16:51,399 INFO sqlalchemy.engine.base.Engine (1,)\n",
      "1 Led Zeplin 1\n"
     ]
    }
   ],
   "source": [
    "print(artist1.id, artist1.name, artist1.album[0].id)\n",
    "\n",
    "#기본적으로 N:M관계니까 artist.album.title는 list타입임."
   ]
  },
  {
   "cell_type": "code",
   "execution_count": 33,
   "metadata": {},
   "outputs": [],
   "source": [
    "# 값 바꾸기.\n",
    "\n",
    "artist1.album[0].title = \"test\"\n",
    "\n",
    "#class를 가지고 db랑 상관없이 메모리상에서 값 변경이 이뤄지고있는중\n",
    "# db랑 싱크 맞추려면 commit한버해주고."
   ]
  },
  {
   "cell_type": "code",
   "execution_count": null,
   "metadata": {},
   "outputs": [],
   "source": [
    "session.dirty\n",
    "session.new"
   ]
  },
  {
   "cell_type": "code",
   "execution_count": 35,
   "metadata": {},
   "outputs": [],
   "source": [
    "artist1.name=\"xyz\""
   ]
  },
  {
   "cell_type": "code",
   "execution_count": 20,
   "metadata": {},
   "outputs": [],
   "source": []
  },
  {
   "cell_type": "code",
   "execution_count": null,
   "metadata": {},
   "outputs": [],
   "source": []
  },
  {
   "cell_type": "code",
   "execution_count": null,
   "metadata": {},
   "outputs": [],
   "source": []
  },
  {
   "cell_type": "code",
   "execution_count": null,
   "metadata": {},
   "outputs": [],
   "source": []
  },
  {
   "cell_type": "code",
   "execution_count": null,
   "metadata": {},
   "outputs": [],
   "source": []
  },
  {
   "cell_type": "code",
   "execution_count": null,
   "metadata": {},
   "outputs": [],
   "source": []
  },
  {
   "cell_type": "code",
   "execution_count": null,
   "metadata": {},
   "outputs": [],
   "source": []
  },
  {
   "cell_type": "code",
   "execution_count": null,
   "metadata": {},
   "outputs": [],
   "source": []
  },
  {
   "cell_type": "code",
   "execution_count": null,
   "metadata": {},
   "outputs": [],
   "source": []
  },
  {
   "cell_type": "code",
   "execution_count": null,
   "metadata": {},
   "outputs": [],
   "source": []
  },
  {
   "cell_type": "code",
   "execution_count": null,
   "metadata": {},
   "outputs": [],
   "source": []
  },
  {
   "cell_type": "code",
   "execution_count": null,
   "metadata": {},
   "outputs": [],
   "source": []
  },
  {
   "cell_type": "code",
   "execution_count": null,
   "metadata": {},
   "outputs": [],
   "source": []
  },
  {
   "cell_type": "code",
   "execution_count": null,
   "metadata": {},
   "outputs": [],
   "source": []
  },
  {
   "cell_type": "code",
   "execution_count": null,
   "metadata": {},
   "outputs": [],
   "source": []
  },
  {
   "cell_type": "code",
   "execution_count": null,
   "metadata": {},
   "outputs": [],
   "source": []
  },
  {
   "cell_type": "code",
   "execution_count": null,
   "metadata": {},
   "outputs": [],
   "source": []
  },
  {
   "cell_type": "code",
   "execution_count": null,
   "metadata": {},
   "outputs": [],
   "source": []
  },
  {
   "cell_type": "code",
   "execution_count": null,
   "metadata": {},
   "outputs": [],
   "source": []
  },
  {
   "cell_type": "code",
   "execution_count": null,
   "metadata": {},
   "outputs": [],
   "source": []
  }
 ],
 "metadata": {
  "kernelspec": {
   "display_name": "Python 3",
   "language": "python",
   "name": "python3"
  },
  "language_info": {
   "codemirror_mode": {
    "name": "ipython",
    "version": 3
   },
   "file_extension": ".py",
   "mimetype": "text/x-python",
   "name": "python",
   "nbconvert_exporter": "python",
   "pygments_lexer": "ipython3",
   "version": "3.6.5"
  }
 },
 "nbformat": 4,
 "nbformat_minor": 2
}
