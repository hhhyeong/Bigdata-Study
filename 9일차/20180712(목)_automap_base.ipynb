{
 "cells": [
  {
   "cell_type": "code",
   "execution_count": 4,
   "metadata": {},
   "outputs": [],
   "source": [
    "from sqlalchemy import create_engine"
   ]
  },
  {
   "cell_type": "code",
   "execution_count": 5,
   "metadata": {},
   "outputs": [],
   "source": [
    "engine = create_engine(\"sqlite:///alchemytest.db\", echo=True)\n",
    "\n",
    "# 짝대기 3개임.\n",
    "# db파일 불러오기."
   ]
  },
  {
   "cell_type": "code",
   "execution_count": 6,
   "metadata": {},
   "outputs": [],
   "source": [
    "# reflect랑 관련있는거를 불러와야함.\n",
    "\n",
    "#전엔 아무것도없는 얘를갖다가 base만들때 썼음.\n",
    "# from sqlalchemy.ext.declarative import declarative_base \n",
    "# Base = declarative_base();;??? \n",
    "\n",
    "from sqlalchemy.ext.automap import automap_base\n",
    "# 자동으로 불로오는 애들 base로 쓰는 automap_base.\n",
    "\n",
    "# base라는 객체가 필요했는데. 여기선 automap_base라는 애가 필요하댕.'\n",
    "# automap_baseDB에서 불러와서 자동으로 class만들어줌."
   ]
  },
  {
   "cell_type": "code",
   "execution_count": 7,
   "metadata": {
    "scrolled": true
   },
   "outputs": [
    {
     "name": "stdout",
     "output_type": "stream",
     "text": [
      "2018-07-12 11:07:20,652 INFO sqlalchemy.engine.base.Engine SELECT CAST('test plain returns' AS VARCHAR(60)) AS anon_1\n",
      "2018-07-12 11:07:20,668 INFO sqlalchemy.engine.base.Engine ()\n",
      "2018-07-12 11:07:20,668 INFO sqlalchemy.engine.base.Engine SELECT CAST('test unicode returns' AS VARCHAR(60)) AS anon_1\n",
      "2018-07-12 11:07:20,668 INFO sqlalchemy.engine.base.Engine ()\n",
      "2018-07-12 11:07:20,668 INFO sqlalchemy.engine.base.Engine SELECT name FROM sqlite_master WHERE type='table' ORDER BY name\n",
      "2018-07-12 11:07:20,668 INFO sqlalchemy.engine.base.Engine ()\n",
      "2018-07-12 11:07:20,668 INFO sqlalchemy.engine.base.Engine PRAGMA table_info(\"Album\")\n",
      "2018-07-12 11:07:20,668 INFO sqlalchemy.engine.base.Engine ()\n",
      "2018-07-12 11:07:20,668 INFO sqlalchemy.engine.base.Engine SELECT sql FROM  (SELECT * FROM sqlite_master UNION ALL   SELECT * FROM sqlite_temp_master) WHERE name = 'Album' AND type = 'table'\n",
      "2018-07-12 11:07:20,668 INFO sqlalchemy.engine.base.Engine ()\n",
      "2018-07-12 11:07:20,668 INFO sqlalchemy.engine.base.Engine PRAGMA foreign_key_list(\"Album\")\n",
      "2018-07-12 11:07:20,668 INFO sqlalchemy.engine.base.Engine ()\n",
      "2018-07-12 11:07:20,683 INFO sqlalchemy.engine.base.Engine SELECT sql FROM  (SELECT * FROM sqlite_master UNION ALL   SELECT * FROM sqlite_temp_master) WHERE name = 'Album' AND type = 'table'\n",
      "2018-07-12 11:07:20,683 INFO sqlalchemy.engine.base.Engine ()\n",
      "2018-07-12 11:07:20,683 INFO sqlalchemy.engine.base.Engine PRAGMA table_info(\"Artist\")\n",
      "2018-07-12 11:07:20,683 INFO sqlalchemy.engine.base.Engine ()\n",
      "2018-07-12 11:07:20,683 INFO sqlalchemy.engine.base.Engine SELECT sql FROM  (SELECT * FROM sqlite_master UNION ALL   SELECT * FROM sqlite_temp_master) WHERE name = 'Artist' AND type = 'table'\n",
      "2018-07-12 11:07:20,683 INFO sqlalchemy.engine.base.Engine ()\n",
      "2018-07-12 11:07:20,683 INFO sqlalchemy.engine.base.Engine PRAGMA foreign_key_list(\"Artist\")\n",
      "2018-07-12 11:07:20,683 INFO sqlalchemy.engine.base.Engine ()\n",
      "2018-07-12 11:07:20,683 INFO sqlalchemy.engine.base.Engine SELECT sql FROM  (SELECT * FROM sqlite_master UNION ALL   SELECT * FROM sqlite_temp_master) WHERE name = 'Artist' AND type = 'table'\n",
      "2018-07-12 11:07:20,683 INFO sqlalchemy.engine.base.Engine ()\n",
      "2018-07-12 11:07:20,699 INFO sqlalchemy.engine.base.Engine PRAGMA index_list(\"Artist\")\n",
      "2018-07-12 11:07:20,700 INFO sqlalchemy.engine.base.Engine ()\n",
      "2018-07-12 11:07:20,700 INFO sqlalchemy.engine.base.Engine PRAGMA index_list(\"Artist\")\n",
      "2018-07-12 11:07:20,700 INFO sqlalchemy.engine.base.Engine ()\n",
      "2018-07-12 11:07:20,704 INFO sqlalchemy.engine.base.Engine SELECT sql FROM  (SELECT * FROM sqlite_master UNION ALL   SELECT * FROM sqlite_temp_master) WHERE name = 'Artist' AND type = 'table'\n",
      "2018-07-12 11:07:20,704 INFO sqlalchemy.engine.base.Engine ()\n",
      "2018-07-12 11:07:20,712 INFO sqlalchemy.engine.base.Engine PRAGMA index_list(\"Album\")\n",
      "2018-07-12 11:07:20,712 INFO sqlalchemy.engine.base.Engine ()\n",
      "2018-07-12 11:07:20,712 INFO sqlalchemy.engine.base.Engine PRAGMA index_list(\"Album\")\n",
      "2018-07-12 11:07:20,716 INFO sqlalchemy.engine.base.Engine ()\n",
      "2018-07-12 11:07:20,716 INFO sqlalchemy.engine.base.Engine SELECT sql FROM  (SELECT * FROM sqlite_master UNION ALL   SELECT * FROM sqlite_temp_master) WHERE name = 'Album' AND type = 'table'\n",
      "2018-07-12 11:07:20,716 INFO sqlalchemy.engine.base.Engine ()\n",
      "2018-07-12 11:07:20,720 INFO sqlalchemy.engine.base.Engine PRAGMA table_info(\"Genre\")\n",
      "2018-07-12 11:07:20,720 INFO sqlalchemy.engine.base.Engine ()\n",
      "2018-07-12 11:07:20,724 INFO sqlalchemy.engine.base.Engine SELECT sql FROM  (SELECT * FROM sqlite_master UNION ALL   SELECT * FROM sqlite_temp_master) WHERE name = 'Genre' AND type = 'table'\n",
      "2018-07-12 11:07:20,724 INFO sqlalchemy.engine.base.Engine ()\n",
      "2018-07-12 11:07:20,724 INFO sqlalchemy.engine.base.Engine PRAGMA foreign_key_list(\"Genre\")\n",
      "2018-07-12 11:07:20,728 INFO sqlalchemy.engine.base.Engine ()\n",
      "2018-07-12 11:07:20,728 INFO sqlalchemy.engine.base.Engine SELECT sql FROM  (SELECT * FROM sqlite_master UNION ALL   SELECT * FROM sqlite_temp_master) WHERE name = 'Genre' AND type = 'table'\n",
      "2018-07-12 11:07:20,728 INFO sqlalchemy.engine.base.Engine ()\n",
      "2018-07-12 11:07:20,732 INFO sqlalchemy.engine.base.Engine PRAGMA index_list(\"Genre\")\n",
      "2018-07-12 11:07:20,732 INFO sqlalchemy.engine.base.Engine ()\n",
      "2018-07-12 11:07:20,732 INFO sqlalchemy.engine.base.Engine PRAGMA index_list(\"Genre\")\n",
      "2018-07-12 11:07:20,732 INFO sqlalchemy.engine.base.Engine ()\n",
      "2018-07-12 11:07:20,736 INFO sqlalchemy.engine.base.Engine SELECT sql FROM  (SELECT * FROM sqlite_master UNION ALL   SELECT * FROM sqlite_temp_master) WHERE name = 'Genre' AND type = 'table'\n",
      "2018-07-12 11:07:20,736 INFO sqlalchemy.engine.base.Engine ()\n",
      "2018-07-12 11:07:20,740 INFO sqlalchemy.engine.base.Engine PRAGMA table_info(\"Track\")\n",
      "2018-07-12 11:07:20,740 INFO sqlalchemy.engine.base.Engine ()\n",
      "2018-07-12 11:07:20,740 INFO sqlalchemy.engine.base.Engine SELECT sql FROM  (SELECT * FROM sqlite_master UNION ALL   SELECT * FROM sqlite_temp_master) WHERE name = 'Track' AND type = 'table'\n",
      "2018-07-12 11:07:20,744 INFO sqlalchemy.engine.base.Engine ()\n",
      "2018-07-12 11:07:20,744 INFO sqlalchemy.engine.base.Engine PRAGMA foreign_key_list(\"Track\")\n",
      "2018-07-12 11:07:20,744 INFO sqlalchemy.engine.base.Engine ()\n",
      "2018-07-12 11:07:20,748 INFO sqlalchemy.engine.base.Engine SELECT sql FROM  (SELECT * FROM sqlite_master UNION ALL   SELECT * FROM sqlite_temp_master) WHERE name = 'Track' AND type = 'table'\n",
      "2018-07-12 11:07:20,748 INFO sqlalchemy.engine.base.Engine ()\n",
      "2018-07-12 11:07:20,748 INFO sqlalchemy.engine.base.Engine PRAGMA index_list(\"Track\")\n",
      "2018-07-12 11:07:20,752 INFO sqlalchemy.engine.base.Engine ()\n",
      "2018-07-12 11:07:20,752 INFO sqlalchemy.engine.base.Engine PRAGMA index_list(\"Track\")\n",
      "2018-07-12 11:07:20,752 INFO sqlalchemy.engine.base.Engine ()\n",
      "2018-07-12 11:07:20,756 INFO sqlalchemy.engine.base.Engine SELECT sql FROM  (SELECT * FROM sqlite_master UNION ALL   SELECT * FROM sqlite_temp_master) WHERE name = 'Track' AND type = 'table'\n",
      "2018-07-12 11:07:20,756 INFO sqlalchemy.engine.base.Engine ()\n"
     ]
    }
   ],
   "source": [
    "Base = automap_base()\n",
    "Base.prepare(engine, reflect=True)\n",
    "# 가져와라.\n",
    "# 딱 두줄밖에 없음. 이제 잘 가져왔는지 확인해보자."
   ]
  },
  {
   "cell_type": "code",
   "execution_count": 8,
   "metadata": {},
   "outputs": [],
   "source": [
    "from sqlalchemy.orm import sessionmaker\n",
    "Session = sessionmaker(bind = engine)\n",
    "\n",
    "#엔진이랑 연결."
   ]
  },
  {
   "cell_type": "code",
   "execution_count": 9,
   "metadata": {},
   "outputs": [],
   "source": [
    "session = Session()\n",
    "# 세션하나 상속받아오고."
   ]
  },
  {
   "cell_type": "code",
   "execution_count": 10,
   "metadata": {},
   "outputs": [],
   "source": [
    "# class이름을 Artist라고 했음.\n",
    "\n",
    "artist = Base.classes.Artist"
   ]
  },
  {
   "cell_type": "code",
   "execution_count": 11,
   "metadata": {},
   "outputs": [
    {
     "data": {
      "text/plain": [
       "sqlalchemy.ext.automap.Artist"
      ]
     },
     "execution_count": 11,
     "metadata": {},
     "output_type": "execute_result"
    }
   ],
   "source": [
    "artist\n",
    "# classs 확인해보면, 그냥 class가아니라 automap이 한번 감싸고있음. 객체화되어있으니까 저번에 햇던방식으로 불러오진못함.\n",
    "# 그래서 Session에게 명령할거야. 값받아와서 result에게 전달해주라고."
   ]
  },
  {
   "cell_type": "code",
   "execution_count": 12,
   "metadata": {},
   "outputs": [
    {
     "data": {
      "text/plain": [
       "<sqlalchemy.orm.attributes.InstrumentedAttribute at 0x1e11f050620>"
      ]
     },
     "execution_count": 12,
     "metadata": {},
     "output_type": "execute_result"
    }
   ],
   "source": [
    "artist.name"
   ]
  },
  {
   "cell_type": "code",
   "execution_count": 13,
   "metadata": {},
   "outputs": [
    {
     "name": "stdout",
     "output_type": "stream",
     "text": [
      "2018-07-12 11:07:28,518 INFO sqlalchemy.engine.base.Engine BEGIN (implicit)\n",
      "2018-07-12 11:07:28,518 INFO sqlalchemy.engine.base.Engine SELECT \"Artist\".id AS \"Artist_id\", \"Artist\".name AS \"Artist_name\" \n",
      "FROM \"Artist\"\n",
      "2018-07-12 11:07:28,518 INFO sqlalchemy.engine.base.Engine ()\n",
      "<sqlalchemy.ext.automap.Artist object at 0x000001E11F09F7F0>\n",
      "<sqlalchemy.ext.automap.Artist object at 0x000001E11F09F860>\n"
     ]
    }
   ],
   "source": [
    "result = session.query(artist)\n",
    "for row in result:\n",
    "    print(row)\n",
    "    \n",
    "# 불러오긴했지만, automap으로 갑싸져있어서 이 형식대로 읽진못함."
   ]
  },
  {
   "cell_type": "code",
   "execution_count": 14,
   "metadata": {},
   "outputs": [
    {
     "name": "stdout",
     "output_type": "stream",
     "text": [
      "2018-07-12 11:07:30,334 INFO sqlalchemy.engine.base.Engine SELECT \"Artist\".id AS \"Artist_id\", \"Artist\".name AS \"Artist_name\" \n",
      "FROM \"Artist\"\n",
      "2018-07-12 11:07:30,334 INFO sqlalchemy.engine.base.Engine ()\n",
      "1 Led Zepplin\n",
      "2 AC/DC\n"
     ]
    }
   ],
   "source": [
    "for row in result:\n",
    "    print(row.id, row.name)\n",
    "    \n",
    "# PK와 FK를 명시적으로 적어줘서 읽어오도록함."
   ]
  },
  {
   "cell_type": "code",
   "execution_count": null,
   "metadata": {},
   "outputs": [],
   "source": [
    "# class에게도 알려줌. 얘가 얘를 참조한다고.\n",
    "# db에 다녀오지않더라도, class가지고도 db만들수잇다공?\n",
    "# album을통해 artist를 참조할수잇게끔한것."
   ]
  },
  {
   "cell_type": "code",
   "execution_count": null,
   "metadata": {},
   "outputs": [],
   "source": [
    "# N:M 관계가 기본임.\n",
    "# artist라는 클래스를 이미 만들었음.\n",
    "# 그저께 햇던 예제를 기반으로해서,, class선언했었으니까."
   ]
  },
  {
   "cell_type": "code",
   "execution_count": null,
   "metadata": {},
   "outputs": [],
   "source": []
  },
  {
   "cell_type": "code",
   "execution_count": null,
   "metadata": {},
   "outputs": [],
   "source": []
  },
  {
   "cell_type": "code",
   "execution_count": null,
   "metadata": {},
   "outputs": [],
   "source": []
  },
  {
   "cell_type": "code",
   "execution_count": null,
   "metadata": {},
   "outputs": [],
   "source": []
  },
  {
   "cell_type": "code",
   "execution_count": null,
   "metadata": {},
   "outputs": [],
   "source": []
  },
  {
   "cell_type": "code",
   "execution_count": null,
   "metadata": {},
   "outputs": [],
   "source": []
  },
  {
   "cell_type": "code",
   "execution_count": null,
   "metadata": {},
   "outputs": [],
   "source": []
  },
  {
   "cell_type": "code",
   "execution_count": null,
   "metadata": {},
   "outputs": [],
   "source": []
  }
 ],
 "metadata": {
  "kernelspec": {
   "display_name": "Python 3",
   "language": "python",
   "name": "python3"
  },
  "language_info": {
   "codemirror_mode": {
    "name": "ipython",
    "version": 3
   },
   "file_extension": ".py",
   "mimetype": "text/x-python",
   "name": "python",
   "nbconvert_exporter": "python",
   "pygments_lexer": "ipython3",
   "version": "3.6.5"
  }
 },
 "nbformat": 4,
 "nbformat_minor": 2
}
