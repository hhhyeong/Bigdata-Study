{
 "cells": [
  {
   "cell_type": "code",
   "execution_count": 191,
   "metadata": {},
   "outputs": [],
   "source": [
    "import urllib.request\n",
    "from urllib import parse\n",
    "from lxml import etree"
   ]
  },
  {
   "cell_type": "code",
   "execution_count": 200,
   "metadata": {},
   "outputs": [],
   "source": [
    "url = \"http://openapi.airkorea.or.kr/openapi/services/rest/ArpltnInforInqireSvc/getMsrstnAcctoRltmMesureDnsty\"\n",
    "params = {\n",
    "    \"ServiceKey\":\"Wo69WfoW%2BsTFW%2B5GQPqlUbxE8CEZLDJDxCI6Gyg7wpH060YJBG0F4JCkrI4bLZDtRX3zyVTD0J3VpoWKdhGnew%3D%3D\",\n",
    "    \"numOfRows\" : 10,\n",
    "    \"pageNo\" : 1,\n",
    "    \"stationName\" : None,\n",
    "    \"dataTerm\" : \"daily\",\n",
    "    \"ver\" : \"1.3\",\n",
    "}"
   ]
  },
  {
   "cell_type": "code",
   "execution_count": 201,
   "metadata": {},
   "outputs": [],
   "source": [
    "# parse에서 역으로 변환해주는애(unquote) 실행.\n",
    "# 인증키값이 Byte타입에서 str타입으로 변환됨.\n",
    "\n",
    "params[\"ServiceKey\"]= urllib.parse.unquote(params[\"ServiceKey\"])"
   ]
  },
  {
   "cell_type": "code",
   "execution_count": 202,
   "metadata": {},
   "outputs": [
    {
     "data": {
      "text/plain": [
       "'Wo69WfoW+sTFW+5GQPqlUbxE8CEZLDJDxCI6Gyg7wpH060YJBG0F4JCkrI4bLZDtRX3zyVTD0J3VpoWKdhGnew=='"
      ]
     },
     "execution_count": 202,
     "metadata": {},
     "output_type": "execute_result"
    }
   ],
   "source": [
    "params[\"ServiceKey\"]"
   ]
  },
  {
   "cell_type": "code",
   "execution_count": 214,
   "metadata": {},
   "outputs": [
    {
     "data": {
      "text/plain": [
       "{'ServiceKey': 'Wo69WfoW+sTFW+5GQPqlUbxE8CEZLDJDxCI6Gyg7wpH060YJBG0F4JCkrI4bLZDtRX3zyVTD0J3VpoWKdhGnew==',\n",
       " 'numOfRows': 10,\n",
       " 'pageNo': 1,\n",
       " 'stationName': '종로구',\n",
       " 'dataTerm': 'daily',\n",
       " 'ver': '1.3'}"
      ]
     },
     "execution_count": 214,
     "metadata": {},
     "output_type": "execute_result"
    }
   ],
   "source": [
    "params"
   ]
  },
  {
   "cell_type": "code",
   "execution_count": 215,
   "metadata": {},
   "outputs": [],
   "source": [
    "params[\"stationName\"]=\"종로구\""
   ]
  },
  {
   "cell_type": "code",
   "execution_count": 216,
   "metadata": {},
   "outputs": [],
   "source": [
    "# 전체 params를 Byte형으로 인코딩시킨 Str형으로 변환하기.\n",
    "\n",
    "paramUrl = parse.urlencode(params)"
   ]
  },
  {
   "cell_type": "code",
   "execution_count": 217,
   "metadata": {},
   "outputs": [
    {
     "data": {
      "text/plain": [
       "'ServiceKey=Wo69WfoW%2BsTFW%2B5GQPqlUbxE8CEZLDJDxCI6Gyg7wpH060YJBG0F4JCkrI4bLZDtRX3zyVTD0J3VpoWKdhGnew%3D%3D&numOfRows=10&pageNo=1&stationName=%EC%A2%85%EB%A1%9C%EA%B5%AC&dataTerm=daily&ver=1.3'"
      ]
     },
     "execution_count": 217,
     "metadata": {},
     "output_type": "execute_result"
    }
   ],
   "source": [
    "paramUrl"
   ]
  },
  {
   "cell_type": "code",
   "execution_count": 218,
   "metadata": {},
   "outputs": [
    {
     "name": "stdout",
     "output_type": "stream",
     "text": [
      "http://openapi.airkorea.or.kr/openapi/services/rest/ArpltnInforInqireSvc/getMsrstnAcctoRltmMesureDnsty?ServiceKey=Wo69WfoW%2BsTFW%2B5GQPqlUbxE8CEZLDJDxCI6Gyg7wpH060YJBG0F4JCkrI4bLZDtRX3zyVTD0J3VpoWKdhGnew%3D%3D&numOfRows=10&pageNo=1&stationName=%EC%A2%85%EB%A1%9C%EA%B5%AC&dataTerm=daily&ver=1.3\n"
     ]
    }
   ],
   "source": [
    "print(url+\"?\"+paramUrl)"
   ]
  },
  {
   "cell_type": "code",
   "execution_count": 208,
   "metadata": {},
   "outputs": [
    {
     "data": {
      "text/plain": [
       "bytes"
      ]
     },
     "execution_count": 208,
     "metadata": {},
     "output_type": "execute_result"
    }
   ],
   "source": [
    "# Str형을 byte형으로 변환.\n",
    "paramBytes = paramUrl.encode(\"utf-8\")\n",
    "type(paramBytes)\n",
    "# 전체 URL을 Byte형으로 변환했지만, 인증키값은 처음 발급받은 인증키값과 동일함을 확인."
   ]
  },
  {
   "cell_type": "code",
   "execution_count": 209,
   "metadata": {},
   "outputs": [],
   "source": [
    "req = urllib.request.Request(url, data=paramBytes)"
   ]
  },
  {
   "cell_type": "code",
   "execution_count": 210,
   "metadata": {},
   "outputs": [],
   "source": [
    "res = urllib.request.urlopen(req)"
   ]
  },
  {
   "cell_type": "code",
   "execution_count": 211,
   "metadata": {},
   "outputs": [],
   "source": [
    "resResult = res.read()"
   ]
  },
  {
   "cell_type": "code",
   "execution_count": 212,
   "metadata": {},
   "outputs": [
    {
     "data": {
      "text/plain": [
       "b'<?xml version=\"1.0\" encoding=\"UTF-8\"?>\\r\\n\\r\\n\\r\\n\\r\\n\\r\\n<response>\\r\\n\\t<header>\\r\\n\\t\\t<resultCode>00</resultCode>\\r\\n\\t\\t<resultMsg>NORMAL SERVICE.</resultMsg>\\r\\n\\t</header>\\r\\n\\t<body>\\r\\n\\t\\t<items>\\r\\n\\t\\t\\t\\r\\n\\t\\t\\t\\t<item>\\r\\n\\t\\t\\t\\t\\t<dataTime>2018-07-16 10:00</dataTime>\\r\\n\\t\\t\\t\\t\\t\\r\\n                        <mangName>\\xeb\\x8f\\x84\\xec\\x8b\\x9c\\xeb\\x8c\\x80\\xea\\xb8\\xb0</mangName>\\r\\n                    \\r\\n\\t\\t\\t\\t\\t<so2Value>-</so2Value>\\r\\n\\t\\t\\t\\t\\t<coValue>0.4</coValue>\\r\\n\\t\\t\\t\\t\\t<o3Value>0.012</o3Value>\\r\\n\\t\\t\\t\\t\\t<no2Value>0.026</no2Value>\\r\\n\\t\\t\\t\\t\\t<pm10Value>20</pm10Value>\\r\\n\\t\\t\\t\\t\\t\\r\\n                        <pm10Value24>19</pm10Value24>\\r\\n                    \\r\\n\\t\\t\\t\\t\\t\\r\\n                        <pm25Value>14</pm25Value>\\r\\n                    \\r\\n                    \\r\\n                        <pm25Value24>14</pm25Value24>\\r\\n                    \\r\\n\\t\\t\\t\\t\\t<khaiValue>47</khaiValue>\\r\\n\\t\\t\\t\\t\\t<khaiGrade>1</khaiGrade>\\r\\n\\t\\t\\t\\t\\t<so2Grade></so2Grade>\\r\\n\\t\\t\\t\\t\\t<coGrade>1</coGrade>\\r\\n\\t\\t\\t\\t\\t<o3Grade>1</o3Grade>\\r\\n\\t\\t\\t\\t\\t<no2Grade>1</no2Grade>\\r\\n\\t\\t\\t\\t\\t<pm10Grade>1</pm10Grade>\\r\\n\\t\\t\\t\\t\\t\\r\\n                        <pm25Grade>1</pm25Grade>\\r\\n                    \\r\\n                    \\r\\n                        <pm10Grade1h>1</pm10Grade1h>\\r\\n                        <pm25Grade1h>1</pm25Grade1h>\\r\\n                    \\r\\n\\t\\t\\t\\t</item>\\r\\n\\t\\t\\t\\r\\n\\t\\t\\t\\t<item>\\r\\n\\t\\t\\t\\t\\t<dataTime>2018-07-16 09:00</dataTime>\\r\\n\\t\\t\\t\\t\\t\\r\\n                        <mangName>\\xeb\\x8f\\x84\\xec\\x8b\\x9c\\xeb\\x8c\\x80\\xea\\xb8\\xb0</mangName>\\r\\n                    \\r\\n\\t\\t\\t\\t\\t<so2Value>-</so2Value>\\r\\n\\t\\t\\t\\t\\t<coValue>0.4</coValue>\\r\\n\\t\\t\\t\\t\\t<o3Value>0.009</o3Value>\\r\\n\\t\\t\\t\\t\\t<no2Value>0.027</no2Value>\\r\\n\\t\\t\\t\\t\\t<pm10Value>23</pm10Value>\\r\\n\\t\\t\\t\\t\\t\\r\\n                        <pm10Value24>19</pm10Value24>\\r\\n                    \\r\\n\\t\\t\\t\\t\\t\\r\\n                        <pm25Value>16</pm25Value>\\r\\n                    \\r\\n                    \\r\\n                        <pm25Value24>14</pm25Value24>\\r\\n                    \\r\\n\\t\\t\\t\\t\\t<khaiValue>47</khaiValue>\\r\\n\\t\\t\\t\\t\\t<khaiGrade>1</khaiGrade>\\r\\n\\t\\t\\t\\t\\t<so2Grade></so2Grade>\\r\\n\\t\\t\\t\\t\\t<coGrade>1</coGrade>\\r\\n\\t\\t\\t\\t\\t<o3Grade>1</o3Grade>\\r\\n\\t\\t\\t\\t\\t<no2Grade>1</no2Grade>\\r\\n\\t\\t\\t\\t\\t<pm10Grade>1</pm10Grade>\\r\\n\\t\\t\\t\\t\\t\\r\\n                        <pm25Grade>1</pm25Grade>\\r\\n                    \\r\\n                    \\r\\n                        <pm10Grade1h>1</pm10Grade1h>\\r\\n                        <pm25Grade1h>2</pm25Grade1h>\\r\\n                    \\r\\n\\t\\t\\t\\t</item>\\r\\n\\t\\t\\t\\r\\n\\t\\t\\t\\t<item>\\r\\n\\t\\t\\t\\t\\t<dataTime>2018-07-16 08:00</dataTime>\\r\\n\\t\\t\\t\\t\\t\\r\\n                        <mangName>\\xeb\\x8f\\x84\\xec\\x8b\\x9c\\xeb\\x8c\\x80\\xea\\xb8\\xb0</mangName>\\r\\n                    \\r\\n\\t\\t\\t\\t\\t<so2Value>-</so2Value>\\r\\n\\t\\t\\t\\t\\t<coValue>0.4</coValue>\\r\\n\\t\\t\\t\\t\\t<o3Value>0.006</o3Value>\\r\\n\\t\\t\\t\\t\\t<no2Value>0.024</no2Value>\\r\\n\\t\\t\\t\\t\\t<pm10Value>17</pm10Value>\\r\\n\\t\\t\\t\\t\\t\\r\\n                        <pm10Value24>18</pm10Value24>\\r\\n                    \\r\\n\\t\\t\\t\\t\\t\\r\\n                        <pm25Value>12</pm25Value>\\r\\n                    \\r\\n                    \\r\\n                        <pm25Value24>14</pm25Value24>\\r\\n                    \\r\\n\\t\\t\\t\\t\\t<khaiValue>47</khaiValue>\\r\\n\\t\\t\\t\\t\\t<khaiGrade>1</khaiGrade>\\r\\n\\t\\t\\t\\t\\t<so2Grade></so2Grade>\\r\\n\\t\\t\\t\\t\\t<coGrade>1</coGrade>\\r\\n\\t\\t\\t\\t\\t<o3Grade>1</o3Grade>\\r\\n\\t\\t\\t\\t\\t<no2Grade>1</no2Grade>\\r\\n\\t\\t\\t\\t\\t<pm10Grade>1</pm10Grade>\\r\\n\\t\\t\\t\\t\\t\\r\\n                        <pm25Grade>1</pm25Grade>\\r\\n                    \\r\\n                    \\r\\n                        <pm10Grade1h>1</pm10Grade1h>\\r\\n                        <pm25Grade1h>1</pm25Grade1h>\\r\\n                    \\r\\n\\t\\t\\t\\t</item>\\r\\n\\t\\t\\t\\r\\n\\t\\t\\t\\t<item>\\r\\n\\t\\t\\t\\t\\t<dataTime>2018-07-16 07:00</dataTime>\\r\\n\\t\\t\\t\\t\\t\\r\\n                        <mangName>\\xeb\\x8f\\x84\\xec\\x8b\\x9c\\xeb\\x8c\\x80\\xea\\xb8\\xb0</mangName>\\r\\n                    \\r\\n\\t\\t\\t\\t\\t<so2Value>-</so2Value>\\r\\n\\t\\t\\t\\t\\t<coValue>0.4</coValue>\\r\\n\\t\\t\\t\\t\\t<o3Value>0.004</o3Value>\\r\\n\\t\\t\\t\\t\\t<no2Value>0.019</no2Value>\\r\\n\\t\\t\\t\\t\\t<pm10Value>19</pm10Value>\\r\\n\\t\\t\\t\\t\\t\\r\\n                        <pm10Value24>19</pm10Value24>\\r\\n                    \\r\\n\\t\\t\\t\\t\\t\\r\\n                        <pm25Value>14</pm25Value>\\r\\n                    \\r\\n                    \\r\\n                        <pm25Value24>15</pm25Value24>\\r\\n                    \\r\\n\\t\\t\\t\\t\\t<khaiValue>50</khaiValue>\\r\\n\\t\\t\\t\\t\\t<khaiGrade>1</khaiGrade>\\r\\n\\t\\t\\t\\t\\t<so2Grade></so2Grade>\\r\\n\\t\\t\\t\\t\\t<coGrade>1</coGrade>\\r\\n\\t\\t\\t\\t\\t<o3Grade>1</o3Grade>\\r\\n\\t\\t\\t\\t\\t<no2Grade>1</no2Grade>\\r\\n\\t\\t\\t\\t\\t<pm10Grade>1</pm10Grade>\\r\\n\\t\\t\\t\\t\\t\\r\\n                        <pm25Grade>1</pm25Grade>\\r\\n                    \\r\\n                    \\r\\n                        <pm10Grade1h>1</pm10Grade1h>\\r\\n                        <pm25Grade1h>1</pm25Grade1h>\\r\\n                    \\r\\n\\t\\t\\t\\t</item>\\r\\n\\t\\t\\t\\r\\n\\t\\t\\t\\t<item>\\r\\n\\t\\t\\t\\t\\t<dataTime>2018-07-16 06:00</dataTime>\\r\\n\\t\\t\\t\\t\\t\\r\\n                        <mangName>\\xeb\\x8f\\x84\\xec\\x8b\\x9c\\xeb\\x8c\\x80\\xea\\xb8\\xb0</mangName>\\r\\n                    \\r\\n\\t\\t\\t\\t\\t<so2Value>-</so2Value>\\r\\n\\t\\t\\t\\t\\t<coValue>0.3</coValue>\\r\\n\\t\\t\\t\\t\\t<o3Value>0.004</o3Value>\\r\\n\\t\\t\\t\\t\\t<no2Value>0.018</no2Value>\\r\\n\\t\\t\\t\\t\\t<pm10Value>17</pm10Value>\\r\\n\\t\\t\\t\\t\\t\\r\\n                        <pm10Value24>19</pm10Value24>\\r\\n                    \\r\\n\\t\\t\\t\\t\\t\\r\\n                        <pm25Value>14</pm25Value>\\r\\n                    \\r\\n                    \\r\\n                        <pm25Value24>16</pm25Value24>\\r\\n                    \\r\\n\\t\\t\\t\\t\\t<khaiValue>51</khaiValue>\\r\\n\\t\\t\\t\\t\\t<khaiGrade>2</khaiGrade>\\r\\n\\t\\t\\t\\t\\t<so2Grade></so2Grade>\\r\\n\\t\\t\\t\\t\\t<coGrade>1</coGrade>\\r\\n\\t\\t\\t\\t\\t<o3Grade>1</o3Grade>\\r\\n\\t\\t\\t\\t\\t<no2Grade>1</no2Grade>\\r\\n\\t\\t\\t\\t\\t<pm10Grade>1</pm10Grade>\\r\\n\\t\\t\\t\\t\\t\\r\\n                        <pm25Grade>2</pm25Grade>\\r\\n                    \\r\\n                    \\r\\n                        <pm10Grade1h>1</pm10Grade1h>\\r\\n                        <pm25Grade1h>1</pm25Grade1h>\\r\\n                    \\r\\n\\t\\t\\t\\t</item>\\r\\n\\t\\t\\t\\r\\n\\t\\t\\t\\t<item>\\r\\n\\t\\t\\t\\t\\t<dataTime>2018-07-16 05:00</dataTime>\\r\\n\\t\\t\\t\\t\\t\\r\\n                        <mangName>\\xeb\\x8f\\x84\\xec\\x8b\\x9c\\xeb\\x8c\\x80\\xea\\xb8\\xb0</mangName>\\r\\n                    \\r\\n\\t\\t\\t\\t\\t<so2Value>-</so2Value>\\r\\n\\t\\t\\t\\t\\t<coValue>0.3</coValue>\\r\\n\\t\\t\\t\\t\\t<o3Value>0.008</o3Value>\\r\\n\\t\\t\\t\\t\\t<no2Value>0.014</no2Value>\\r\\n\\t\\t\\t\\t\\t<pm10Value>18</pm10Value>\\r\\n\\t\\t\\t\\t\\t\\r\\n                        <pm10Value24>20</pm10Value24>\\r\\n                    \\r\\n\\t\\t\\t\\t\\t\\r\\n                        <pm25Value>15</pm25Value>\\r\\n                    \\r\\n                    \\r\\n                        <pm25Value24>16</pm25Value24>\\r\\n                    \\r\\n\\t\\t\\t\\t\\t<khaiValue>51</khaiValue>\\r\\n\\t\\t\\t\\t\\t<khaiGrade>2</khaiGrade>\\r\\n\\t\\t\\t\\t\\t<so2Grade></so2Grade>\\r\\n\\t\\t\\t\\t\\t<coGrade>1</coGrade>\\r\\n\\t\\t\\t\\t\\t<o3Grade>1</o3Grade>\\r\\n\\t\\t\\t\\t\\t<no2Grade>1</no2Grade>\\r\\n\\t\\t\\t\\t\\t<pm10Grade>1</pm10Grade>\\r\\n\\t\\t\\t\\t\\t\\r\\n                        <pm25Grade>2</pm25Grade>\\r\\n                    \\r\\n                    \\r\\n                        <pm10Grade1h>1</pm10Grade1h>\\r\\n                        <pm25Grade1h>1</pm25Grade1h>\\r\\n                    \\r\\n\\t\\t\\t\\t</item>\\r\\n\\t\\t\\t\\r\\n\\t\\t\\t\\t<item>\\r\\n\\t\\t\\t\\t\\t<dataTime>2018-07-16 04:00</dataTime>\\r\\n\\t\\t\\t\\t\\t\\r\\n                        <mangName>\\xeb\\x8f\\x84\\xec\\x8b\\x9c\\xeb\\x8c\\x80\\xea\\xb8\\xb0</mangName>\\r\\n                    \\r\\n\\t\\t\\t\\t\\t<so2Value>-</so2Value>\\r\\n\\t\\t\\t\\t\\t<coValue>0.3</coValue>\\r\\n\\t\\t\\t\\t\\t<o3Value>0.011</o3Value>\\r\\n\\t\\t\\t\\t\\t<no2Value>0.011</no2Value>\\r\\n\\t\\t\\t\\t\\t<pm10Value>18</pm10Value>\\r\\n\\t\\t\\t\\t\\t\\r\\n                        <pm10Value24>21</pm10Value24>\\r\\n                    \\r\\n\\t\\t\\t\\t\\t\\r\\n                        <pm25Value>15</pm25Value>\\r\\n                    \\r\\n                    \\r\\n                        <pm25Value24>17</pm25Value24>\\r\\n                    \\r\\n\\t\\t\\t\\t\\t<khaiValue>54</khaiValue>\\r\\n\\t\\t\\t\\t\\t<khaiGrade>2</khaiGrade>\\r\\n\\t\\t\\t\\t\\t<so2Grade></so2Grade>\\r\\n\\t\\t\\t\\t\\t<coGrade>1</coGrade>\\r\\n\\t\\t\\t\\t\\t<o3Grade>1</o3Grade>\\r\\n\\t\\t\\t\\t\\t<no2Grade>1</no2Grade>\\r\\n\\t\\t\\t\\t\\t<pm10Grade>1</pm10Grade>\\r\\n\\t\\t\\t\\t\\t\\r\\n                        <pm25Grade>2</pm25Grade>\\r\\n                    \\r\\n                    \\r\\n                        <pm10Grade1h>1</pm10Grade1h>\\r\\n                        <pm25Grade1h>1</pm25Grade1h>\\r\\n                    \\r\\n\\t\\t\\t\\t</item>\\r\\n\\t\\t\\t\\r\\n\\t\\t\\t\\t<item>\\r\\n\\t\\t\\t\\t\\t<dataTime>2018-07-16 03:00</dataTime>\\r\\n\\t\\t\\t\\t\\t\\r\\n                        <mangName>\\xeb\\x8f\\x84\\xec\\x8b\\x9c\\xeb\\x8c\\x80\\xea\\xb8\\xb0</mangName>\\r\\n                    \\r\\n\\t\\t\\t\\t\\t<so2Value>-</so2Value>\\r\\n\\t\\t\\t\\t\\t<coValue>0.3</coValue>\\r\\n\\t\\t\\t\\t\\t<o3Value>0.013</o3Value>\\r\\n\\t\\t\\t\\t\\t<no2Value>0.010</no2Value>\\r\\n\\t\\t\\t\\t\\t<pm10Value>19</pm10Value>\\r\\n\\t\\t\\t\\t\\t\\r\\n                        <pm10Value24>21</pm10Value24>\\r\\n                    \\r\\n\\t\\t\\t\\t\\t\\r\\n                        <pm25Value>17</pm25Value>\\r\\n                    \\r\\n                    \\r\\n                        <pm25Value24>17</pm25Value24>\\r\\n                    \\r\\n\\t\\t\\t\\t\\t<khaiValue>54</khaiValue>\\r\\n\\t\\t\\t\\t\\t<khaiGrade>2</khaiGrade>\\r\\n\\t\\t\\t\\t\\t<so2Grade></so2Grade>\\r\\n\\t\\t\\t\\t\\t<coGrade>1</coGrade>\\r\\n\\t\\t\\t\\t\\t<o3Grade>1</o3Grade>\\r\\n\\t\\t\\t\\t\\t<no2Grade>1</no2Grade>\\r\\n\\t\\t\\t\\t\\t<pm10Grade>1</pm10Grade>\\r\\n\\t\\t\\t\\t\\t\\r\\n                        <pm25Grade>2</pm25Grade>\\r\\n                    \\r\\n                    \\r\\n                        <pm10Grade1h>1</pm10Grade1h>\\r\\n                        <pm25Grade1h>2</pm25Grade1h>\\r\\n                    \\r\\n\\t\\t\\t\\t</item>\\r\\n\\t\\t\\t\\r\\n\\t\\t\\t\\t<item>\\r\\n\\t\\t\\t\\t\\t<dataTime>2018-07-16 02:00</dataTime>\\r\\n\\t\\t\\t\\t\\t\\r\\n                        <mangName>\\xeb\\x8f\\x84\\xec\\x8b\\x9c\\xeb\\x8c\\x80\\xea\\xb8\\xb0</mangName>\\r\\n                    \\r\\n\\t\\t\\t\\t\\t<so2Value>-</so2Value>\\r\\n\\t\\t\\t\\t\\t<coValue>0.3</coValue>\\r\\n\\t\\t\\t\\t\\t<o3Value>0.011</o3Value>\\r\\n\\t\\t\\t\\t\\t<no2Value>0.013</no2Value>\\r\\n\\t\\t\\t\\t\\t<pm10Value>19</pm10Value>\\r\\n\\t\\t\\t\\t\\t\\r\\n                        <pm10Value24>21</pm10Value24>\\r\\n                    \\r\\n\\t\\t\\t\\t\\t\\r\\n                        <pm25Value>15</pm25Value>\\r\\n                    \\r\\n                    \\r\\n                        <pm25Value24>17</pm25Value24>\\r\\n                    \\r\\n\\t\\t\\t\\t\\t<khaiValue>54</khaiValue>\\r\\n\\t\\t\\t\\t\\t<khaiGrade>2</khaiGrade>\\r\\n\\t\\t\\t\\t\\t<so2Grade></so2Grade>\\r\\n\\t\\t\\t\\t\\t<coGrade>1</coGrade>\\r\\n\\t\\t\\t\\t\\t<o3Grade>1</o3Grade>\\r\\n\\t\\t\\t\\t\\t<no2Grade>1</no2Grade>\\r\\n\\t\\t\\t\\t\\t<pm10Grade>1</pm10Grade>\\r\\n\\t\\t\\t\\t\\t\\r\\n                        <pm25Grade>2</pm25Grade>\\r\\n                    \\r\\n                    \\r\\n                        <pm10Grade1h>1</pm10Grade1h>\\r\\n                        <pm25Grade1h>1</pm25Grade1h>\\r\\n                    \\r\\n\\t\\t\\t\\t</item>\\r\\n\\t\\t\\t\\r\\n\\t\\t\\t\\t<item>\\r\\n\\t\\t\\t\\t\\t<dataTime>2018-07-16 01:00</dataTime>\\r\\n\\t\\t\\t\\t\\t\\r\\n                        <mangName>\\xeb\\x8f\\x84\\xec\\x8b\\x9c\\xeb\\x8c\\x80\\xea\\xb8\\xb0</mangName>\\r\\n                    \\r\\n\\t\\t\\t\\t\\t<so2Value>-</so2Value>\\r\\n\\t\\t\\t\\t\\t<coValue>0.2</coValue>\\r\\n\\t\\t\\t\\t\\t<o3Value>0.012</o3Value>\\r\\n\\t\\t\\t\\t\\t<no2Value>0.015</no2Value>\\r\\n\\t\\t\\t\\t\\t<pm10Value>20</pm10Value>\\r\\n\\t\\t\\t\\t\\t\\r\\n                        <pm10Value24>21</pm10Value24>\\r\\n                    \\r\\n\\t\\t\\t\\t\\t\\r\\n                        <pm25Value>17</pm25Value>\\r\\n                    \\r\\n                    \\r\\n                        <pm25Value24>17</pm25Value24>\\r\\n                    \\r\\n\\t\\t\\t\\t\\t<khaiValue>54</khaiValue>\\r\\n\\t\\t\\t\\t\\t<khaiGrade>2</khaiGrade>\\r\\n\\t\\t\\t\\t\\t<so2Grade></so2Grade>\\r\\n\\t\\t\\t\\t\\t<coGrade>1</coGrade>\\r\\n\\t\\t\\t\\t\\t<o3Grade>1</o3Grade>\\r\\n\\t\\t\\t\\t\\t<no2Grade>1</no2Grade>\\r\\n\\t\\t\\t\\t\\t<pm10Grade>1</pm10Grade>\\r\\n\\t\\t\\t\\t\\t\\r\\n                        <pm25Grade>2</pm25Grade>\\r\\n                    \\r\\n                    \\r\\n                        <pm10Grade1h>1</pm10Grade1h>\\r\\n                        <pm25Grade1h>2</pm25Grade1h>\\r\\n                    \\r\\n\\t\\t\\t\\t</item>\\r\\n\\t\\t\\t\\r\\n\\t\\t</items>\\r\\n\\t\\t\\t<numOfRows>10</numOfRows>\\r\\n\\t\\t\\t<pageNo>1</pageNo>\\r\\n\\t\\t\\t<totalCount>22</totalCount>\\r\\n\\t</body>\\r\\n</response>\\r\\n'"
      ]
     },
     "execution_count": 212,
     "metadata": {},
     "output_type": "execute_result"
    }
   ],
   "source": [
    "resResult"
   ]
  },
  {
   "cell_type": "code",
   "execution_count": 221,
   "metadata": {},
   "outputs": [
    {
     "data": {
      "text/plain": [
       "bytes"
      ]
     },
     "execution_count": 221,
     "metadata": {},
     "output_type": "execute_result"
    }
   ],
   "source": [
    "type(resResult)"
   ]
  },
  {
   "cell_type": "code",
   "execution_count": 253,
   "metadata": {},
   "outputs": [],
   "source": [
    "# String으로부터 xml객체만들기\n",
    "xmlResult = etree.fromstring(resResult)"
   ]
  },
  {
   "cell_type": "code",
   "execution_count": 254,
   "metadata": {},
   "outputs": [
    {
     "data": {
      "text/plain": [
       "lxml.etree._Element"
      ]
     },
     "execution_count": 254,
     "metadata": {},
     "output_type": "execute_result"
    }
   ],
   "source": [
    "type(xmlResult)"
   ]
  },
  {
   "cell_type": "code",
   "execution_count": 251,
   "metadata": {},
   "outputs": [
    {
     "name": "stdout",
     "output_type": "stream",
     "text": [
      "<response>\n",
      "\t<header>\n",
      "\t\t<resultCode>00</resultCode>\n",
      "\t\t<resultMsg>NORMAL SERVICE.</resultMsg>\n",
      "\t</header>\n",
      "\t<body>\n",
      "\t\t<items>\n",
      "\t\t\t\n",
      "\t\t\t\t<item>\n",
      "\t\t\t\t\t<dataTime>2018-07-16 10:00</dataTime>\n",
      "\t\t\t\t\t\n",
      "                        <mangName>도시대기</mangName>\n",
      "                    \n",
      "\t\t\t\t\t<so2Value>-</so2Value>\n",
      "\t\t\t\t\t<coValue>0.4</coValue>\n",
      "\t\t\t\t\t<o3Value>0.012</o3Value>\n",
      "\t\t\t\t\t<no2Value>0.026</no2Value>\n",
      "\t\t\t\t\t<pm10Value>20</pm10Value>\n",
      "\t\t\t\t\t\n",
      "                        <pm10Value24>19</pm10Value24>\n",
      "                    \n",
      "\t\t\t\t\t\n",
      "                        <pm25Value>14</pm25Value>\n",
      "                    \n",
      "                    \n",
      "                        <pm25Value24>14</pm25Value24>\n",
      "                    \n",
      "\t\t\t\t\t<khaiValue>47</khaiValue>\n",
      "\t\t\t\t\t<khaiGrade>1</khaiGrade>\n",
      "\t\t\t\t\t<so2Grade/>\n",
      "\t\t\t\t\t<coGrade>1</coGrade>\n",
      "\t\t\t\t\t<o3Grade>1</o3Grade>\n",
      "\t\t\t\t\t<no2Grade>1</no2Grade>\n",
      "\t\t\t\t\t<pm10Grade>1</pm10Grade>\n",
      "\t\t\t\t\t\n",
      "                        <pm25Grade>1</pm25Grade>\n",
      "                    \n",
      "                    \n",
      "                        <pm10Grade1h>1</pm10Grade1h>\n",
      "                        <pm25Grade1h>1</pm25Grade1h>\n",
      "                    \n",
      "\t\t\t\t</item>\n",
      "\t\t\t\n",
      "\t\t\t\t<item>\n",
      "\t\t\t\t\t<dataTime>2018-07-16 09:00</dataTime>\n",
      "\t\t\t\t\t\n",
      "                        <mangName>도시대기</mangName>\n",
      "                    \n",
      "\t\t\t\t\t<so2Value>-</so2Value>\n",
      "\t\t\t\t\t<coValue>0.4</coValue>\n",
      "\t\t\t\t\t<o3Value>0.009</o3Value>\n",
      "\t\t\t\t\t<no2Value>0.027</no2Value>\n",
      "\t\t\t\t\t<pm10Value>23</pm10Value>\n",
      "\t\t\t\t\t\n",
      "                        <pm10Value24>19</pm10Value24>\n",
      "                    \n",
      "\t\t\t\t\t\n",
      "                        <pm25Value>16</pm25Value>\n",
      "                    \n",
      "                    \n",
      "                        <pm25Value24>14</pm25Value24>\n",
      "                    \n",
      "\t\t\t\t\t<khaiValue>47</khaiValue>\n",
      "\t\t\t\t\t<khaiGrade>1</khaiGrade>\n",
      "\t\t\t\t\t<so2Grade/>\n",
      "\t\t\t\t\t<coGrade>1</coGrade>\n",
      "\t\t\t\t\t<o3Grade>1</o3Grade>\n",
      "\t\t\t\t\t<no2Grade>1</no2Grade>\n",
      "\t\t\t\t\t<pm10Grade>1</pm10Grade>\n",
      "\t\t\t\t\t\n",
      "                        <pm25Grade>1</pm25Grade>\n",
      "                    \n",
      "                    \n",
      "                        <pm10Grade1h>1</pm10Grade1h>\n",
      "                        <pm25Grade1h>2</pm25Grade1h>\n",
      "                    \n",
      "\t\t\t\t</item>\n",
      "\t\t\t\n",
      "\t\t\t\t<item>\n",
      "\t\t\t\t\t<dataTime>2018-07-16 08:00</dataTime>\n",
      "\t\t\t\t\t\n",
      "                        <mangName>도시대기</mangName>\n",
      "                    \n",
      "\t\t\t\t\t<so2Value>-</so2Value>\n",
      "\t\t\t\t\t<coValue>0.4</coValue>\n",
      "\t\t\t\t\t<o3Value>0.006</o3Value>\n",
      "\t\t\t\t\t<no2Value>0.024</no2Value>\n",
      "\t\t\t\t\t<pm10Value>17</pm10Value>\n",
      "\t\t\t\t\t\n",
      "                        <pm10Value24>18</pm10Value24>\n",
      "                    \n",
      "\t\t\t\t\t\n",
      "                        <pm25Value>12</pm25Value>\n",
      "                    \n",
      "                    \n",
      "                        <pm25Value24>14</pm25Value24>\n",
      "                    \n",
      "\t\t\t\t\t<khaiValue>47</khaiValue>\n",
      "\t\t\t\t\t<khaiGrade>1</khaiGrade>\n",
      "\t\t\t\t\t<so2Grade/>\n",
      "\t\t\t\t\t<coGrade>1</coGrade>\n",
      "\t\t\t\t\t<o3Grade>1</o3Grade>\n",
      "\t\t\t\t\t<no2Grade>1</no2Grade>\n",
      "\t\t\t\t\t<pm10Grade>1</pm10Grade>\n",
      "\t\t\t\t\t\n",
      "                        <pm25Grade>1</pm25Grade>\n",
      "                    \n",
      "                    \n",
      "                        <pm10Grade1h>1</pm10Grade1h>\n",
      "                        <pm25Grade1h>1</pm25Grade1h>\n",
      "                    \n",
      "\t\t\t\t</item>\n",
      "\t\t\t\n",
      "\t\t\t\t<item>\n",
      "\t\t\t\t\t<dataTime>2018-07-16 07:00</dataTime>\n",
      "\t\t\t\t\t\n",
      "                        <mangName>도시대기</mangName>\n",
      "                    \n",
      "\t\t\t\t\t<so2Value>-</so2Value>\n",
      "\t\t\t\t\t<coValue>0.4</coValue>\n",
      "\t\t\t\t\t<o3Value>0.004</o3Value>\n",
      "\t\t\t\t\t<no2Value>0.019</no2Value>\n",
      "\t\t\t\t\t<pm10Value>19</pm10Value>\n",
      "\t\t\t\t\t\n",
      "                        <pm10Value24>19</pm10Value24>\n",
      "                    \n",
      "\t\t\t\t\t\n",
      "                        <pm25Value>14</pm25Value>\n",
      "                    \n",
      "                    \n",
      "                        <pm25Value24>15</pm25Value24>\n",
      "                    \n",
      "\t\t\t\t\t<khaiValue>50</khaiValue>\n",
      "\t\t\t\t\t<khaiGrade>1</khaiGrade>\n",
      "\t\t\t\t\t<so2Grade/>\n",
      "\t\t\t\t\t<coGrade>1</coGrade>\n",
      "\t\t\t\t\t<o3Grade>1</o3Grade>\n",
      "\t\t\t\t\t<no2Grade>1</no2Grade>\n",
      "\t\t\t\t\t<pm10Grade>1</pm10Grade>\n",
      "\t\t\t\t\t\n",
      "                        <pm25Grade>1</pm25Grade>\n",
      "                    \n",
      "                    \n",
      "                        <pm10Grade1h>1</pm10Grade1h>\n",
      "                        <pm25Grade1h>1</pm25Grade1h>\n",
      "                    \n",
      "\t\t\t\t</item>\n",
      "\t\t\t\n",
      "\t\t\t\t<item>\n",
      "\t\t\t\t\t<dataTime>2018-07-16 06:00</dataTime>\n",
      "\t\t\t\t\t\n",
      "                        <mangName>도시대기</mangName>\n",
      "                    \n",
      "\t\t\t\t\t<so2Value>-</so2Value>\n",
      "\t\t\t\t\t<coValue>0.3</coValue>\n",
      "\t\t\t\t\t<o3Value>0.004</o3Value>\n",
      "\t\t\t\t\t<no2Value>0.018</no2Value>\n",
      "\t\t\t\t\t<pm10Value>17</pm10Value>\n",
      "\t\t\t\t\t\n",
      "                        <pm10Value24>19</pm10Value24>\n",
      "                    \n",
      "\t\t\t\t\t\n",
      "                        <pm25Value>14</pm25Value>\n",
      "                    \n",
      "                    \n",
      "                        <pm25Value24>16</pm25Value24>\n",
      "                    \n",
      "\t\t\t\t\t<khaiValue>51</khaiValue>\n",
      "\t\t\t\t\t<khaiGrade>2</khaiGrade>\n",
      "\t\t\t\t\t<so2Grade/>\n",
      "\t\t\t\t\t<coGrade>1</coGrade>\n",
      "\t\t\t\t\t<o3Grade>1</o3Grade>\n",
      "\t\t\t\t\t<no2Grade>1</no2Grade>\n",
      "\t\t\t\t\t<pm10Grade>1</pm10Grade>\n",
      "\t\t\t\t\t\n",
      "                        <pm25Grade>2</pm25Grade>\n",
      "                    \n",
      "                    \n",
      "                        <pm10Grade1h>1</pm10Grade1h>\n",
      "                        <pm25Grade1h>1</pm25Grade1h>\n",
      "                    \n",
      "\t\t\t\t</item>\n",
      "\t\t\t\n",
      "\t\t\t\t<item>\n",
      "\t\t\t\t\t<dataTime>2018-07-16 05:00</dataTime>\n",
      "\t\t\t\t\t\n",
      "                        <mangName>도시대기</mangName>\n",
      "                    \n",
      "\t\t\t\t\t<so2Value>-</so2Value>\n",
      "\t\t\t\t\t<coValue>0.3</coValue>\n",
      "\t\t\t\t\t<o3Value>0.008</o3Value>\n",
      "\t\t\t\t\t<no2Value>0.014</no2Value>\n",
      "\t\t\t\t\t<pm10Value>18</pm10Value>\n",
      "\t\t\t\t\t\n",
      "                        <pm10Value24>20</pm10Value24>\n",
      "                    \n",
      "\t\t\t\t\t\n",
      "                        <pm25Value>15</pm25Value>\n",
      "                    \n",
      "                    \n",
      "                        <pm25Value24>16</pm25Value24>\n",
      "                    \n",
      "\t\t\t\t\t<khaiValue>51</khaiValue>\n",
      "\t\t\t\t\t<khaiGrade>2</khaiGrade>\n",
      "\t\t\t\t\t<so2Grade/>\n",
      "\t\t\t\t\t<coGrade>1</coGrade>\n",
      "\t\t\t\t\t<o3Grade>1</o3Grade>\n",
      "\t\t\t\t\t<no2Grade>1</no2Grade>\n",
      "\t\t\t\t\t<pm10Grade>1</pm10Grade>\n",
      "\t\t\t\t\t\n",
      "                        <pm25Grade>2</pm25Grade>\n",
      "                    \n",
      "                    \n",
      "                        <pm10Grade1h>1</pm10Grade1h>\n",
      "                        <pm25Grade1h>1</pm25Grade1h>\n",
      "                    \n",
      "\t\t\t\t</item>\n",
      "\t\t\t\n",
      "\t\t\t\t<item>\n",
      "\t\t\t\t\t<dataTime>2018-07-16 04:00</dataTime>\n",
      "\t\t\t\t\t\n",
      "                        <mangName>도시대기</mangName>\n",
      "                    \n",
      "\t\t\t\t\t<so2Value>-</so2Value>\n",
      "\t\t\t\t\t<coValue>0.3</coValue>\n",
      "\t\t\t\t\t<o3Value>0.011</o3Value>\n",
      "\t\t\t\t\t<no2Value>0.011</no2Value>\n",
      "\t\t\t\t\t<pm10Value>18</pm10Value>\n",
      "\t\t\t\t\t\n",
      "                        <pm10Value24>21</pm10Value24>\n",
      "                    \n",
      "\t\t\t\t\t\n",
      "                        <pm25Value>15</pm25Value>\n",
      "                    \n",
      "                    \n",
      "                        <pm25Value24>17</pm25Value24>\n",
      "                    \n",
      "\t\t\t\t\t<khaiValue>54</khaiValue>\n",
      "\t\t\t\t\t<khaiGrade>2</khaiGrade>\n",
      "\t\t\t\t\t<so2Grade/>\n",
      "\t\t\t\t\t<coGrade>1</coGrade>\n",
      "\t\t\t\t\t<o3Grade>1</o3Grade>\n",
      "\t\t\t\t\t<no2Grade>1</no2Grade>\n",
      "\t\t\t\t\t<pm10Grade>1</pm10Grade>\n",
      "\t\t\t\t\t\n",
      "                        <pm25Grade>2</pm25Grade>\n",
      "                    \n",
      "                    \n",
      "                        <pm10Grade1h>1</pm10Grade1h>\n",
      "                        <pm25Grade1h>1</pm25Grade1h>\n",
      "                    \n",
      "\t\t\t\t</item>\n",
      "\t\t\t\n",
      "\t\t\t\t<item>\n",
      "\t\t\t\t\t<dataTime>2018-07-16 03:00</dataTime>\n",
      "\t\t\t\t\t\n",
      "                        <mangName>도시대기</mangName>\n",
      "                    \n",
      "\t\t\t\t\t<so2Value>-</so2Value>\n",
      "\t\t\t\t\t<coValue>0.3</coValue>\n",
      "\t\t\t\t\t<o3Value>0.013</o3Value>\n",
      "\t\t\t\t\t<no2Value>0.010</no2Value>\n",
      "\t\t\t\t\t<pm10Value>19</pm10Value>\n",
      "\t\t\t\t\t\n",
      "                        <pm10Value24>21</pm10Value24>\n",
      "                    \n",
      "\t\t\t\t\t\n",
      "                        <pm25Value>17</pm25Value>\n",
      "                    \n",
      "                    \n",
      "                        <pm25Value24>17</pm25Value24>\n",
      "                    \n",
      "\t\t\t\t\t<khaiValue>54</khaiValue>\n",
      "\t\t\t\t\t<khaiGrade>2</khaiGrade>\n",
      "\t\t\t\t\t<so2Grade/>\n",
      "\t\t\t\t\t<coGrade>1</coGrade>\n",
      "\t\t\t\t\t<o3Grade>1</o3Grade>\n",
      "\t\t\t\t\t<no2Grade>1</no2Grade>\n",
      "\t\t\t\t\t<pm10Grade>1</pm10Grade>\n",
      "\t\t\t\t\t\n",
      "                        <pm25Grade>2</pm25Grade>\n",
      "                    \n",
      "                    \n",
      "                        <pm10Grade1h>1</pm10Grade1h>\n",
      "                        <pm25Grade1h>2</pm25Grade1h>\n",
      "                    \n",
      "\t\t\t\t</item>\n",
      "\t\t\t\n",
      "\t\t\t\t<item>\n",
      "\t\t\t\t\t<dataTime>2018-07-16 02:00</dataTime>\n",
      "\t\t\t\t\t\n",
      "                        <mangName>도시대기</mangName>\n",
      "                    \n",
      "\t\t\t\t\t<so2Value>-</so2Value>\n",
      "\t\t\t\t\t<coValue>0.3</coValue>\n",
      "\t\t\t\t\t<o3Value>0.011</o3Value>\n",
      "\t\t\t\t\t<no2Value>0.013</no2Value>\n",
      "\t\t\t\t\t<pm10Value>19</pm10Value>\n",
      "\t\t\t\t\t\n",
      "                        <pm10Value24>21</pm10Value24>\n",
      "                    \n",
      "\t\t\t\t\t\n",
      "                        <pm25Value>15</pm25Value>\n",
      "                    \n",
      "                    \n",
      "                        <pm25Value24>17</pm25Value24>\n",
      "                    \n",
      "\t\t\t\t\t<khaiValue>54</khaiValue>\n",
      "\t\t\t\t\t<khaiGrade>2</khaiGrade>\n",
      "\t\t\t\t\t<so2Grade/>\n",
      "\t\t\t\t\t<coGrade>1</coGrade>\n",
      "\t\t\t\t\t<o3Grade>1</o3Grade>\n",
      "\t\t\t\t\t<no2Grade>1</no2Grade>\n",
      "\t\t\t\t\t<pm10Grade>1</pm10Grade>\n",
      "\t\t\t\t\t\n",
      "                        <pm25Grade>2</pm25Grade>\n",
      "                    \n",
      "                    \n",
      "                        <pm10Grade1h>1</pm10Grade1h>\n",
      "                        <pm25Grade1h>1</pm25Grade1h>\n",
      "                    \n",
      "\t\t\t\t</item>\n",
      "\t\t\t\n",
      "\t\t\t\t<item>\n",
      "\t\t\t\t\t<dataTime>2018-07-16 01:00</dataTime>\n",
      "\t\t\t\t\t\n",
      "                        <mangName>도시대기</mangName>\n",
      "                    \n",
      "\t\t\t\t\t<so2Value>-</so2Value>\n",
      "\t\t\t\t\t<coValue>0.2</coValue>\n",
      "\t\t\t\t\t<o3Value>0.012</o3Value>\n",
      "\t\t\t\t\t<no2Value>0.015</no2Value>\n",
      "\t\t\t\t\t<pm10Value>20</pm10Value>\n",
      "\t\t\t\t\t\n",
      "                        <pm10Value24>21</pm10Value24>\n",
      "                    \n",
      "\t\t\t\t\t\n",
      "                        <pm25Value>17</pm25Value>\n",
      "                    \n",
      "                    \n",
      "                        <pm25Value24>17</pm25Value24>\n",
      "                    \n",
      "\t\t\t\t\t<khaiValue>54</khaiValue>\n",
      "\t\t\t\t\t<khaiGrade>2</khaiGrade>\n",
      "\t\t\t\t\t<so2Grade/>\n",
      "\t\t\t\t\t<coGrade>1</coGrade>\n",
      "\t\t\t\t\t<o3Grade>1</o3Grade>\n",
      "\t\t\t\t\t<no2Grade>1</no2Grade>\n",
      "\t\t\t\t\t<pm10Grade>1</pm10Grade>\n",
      "\t\t\t\t\t\n",
      "                        <pm25Grade>2</pm25Grade>\n",
      "                    \n",
      "                    \n",
      "                        <pm10Grade1h>1</pm10Grade1h>\n",
      "                        <pm25Grade1h>2</pm25Grade1h>\n",
      "                    \n",
      "\t\t\t\t</item>\n",
      "\t\t\t\n",
      "\t\t</items>\n",
      "\t\t\t<numOfRows>10</numOfRows>\n",
      "\t\t\t<pageNo>1</pageNo>\n",
      "\t\t\t<totalCount>22</totalCount>\n",
      "\t</body>\n",
      "</response>\n"
     ]
    }
   ],
   "source": [
    "xml = etree.dump(xmlResult)"
   ]
  },
  {
   "cell_type": "code",
   "execution_count": 261,
   "metadata": {},
   "outputs": [
    {
     "name": "stdout",
     "output_type": "stream",
     "text": [
      "<class 'NoneType'>\n",
      "None\n"
     ]
    }
   ],
   "source": [
    "print(type(xml))\n",
    "print(xml)"
   ]
  },
  {
   "cell_type": "code",
   "execution_count": 262,
   "metadata": {},
   "outputs": [
    {
     "data": {
      "text/plain": [
       "lxml.etree._ElementTree"
      ]
     },
     "execution_count": 262,
     "metadata": {},
     "output_type": "execute_result"
    }
   ],
   "source": [
    "# xmlResult(tree형태의 xml객체)을 가지고 파싱하여 트리로 만들기.\n",
    "\n",
    "xmlTree = etree.ElementTree(xmlResult)\n",
    "type(xmlTree)"
   ]
  },
  {
   "cell_type": "code",
   "execution_count": 263,
   "metadata": {},
   "outputs": [],
   "source": [
    "root = xmlTree.getroot()"
   ]
  },
  {
   "cell_type": "code",
   "execution_count": 264,
   "metadata": {},
   "outputs": [
    {
     "data": {
      "text/plain": [
       "lxml.etree._Element"
      ]
     },
     "execution_count": 264,
     "metadata": {},
     "output_type": "execute_result"
    }
   ],
   "source": [
    "type(root)"
   ]
  },
  {
   "cell_type": "code",
   "execution_count": 265,
   "metadata": {},
   "outputs": [],
   "source": [
    "items = root.findall(\".//item\")"
   ]
  },
  {
   "cell_type": "code",
   "execution_count": 266,
   "metadata": {},
   "outputs": [
    {
     "name": "stdout",
     "output_type": "stream",
     "text": [
      "10\n"
     ]
    }
   ],
   "source": [
    "print(len(items))"
   ]
  },
  {
   "cell_type": "code",
   "execution_count": 267,
   "metadata": {},
   "outputs": [
    {
     "name": "stdout",
     "output_type": "stream",
     "text": [
      "20\n",
      "dataTime 2018-07-16 10:00\n",
      "mangName 도시대기\n",
      "so2Value -\n",
      "coValue 0.4\n",
      "o3Value 0.012\n",
      "no2Value 0.026\n",
      "pm10Value 20\n",
      "pm10Value24 19\n",
      "pm25Value 14\n",
      "pm25Value24 14\n",
      "khaiValue 47\n",
      "khaiGrade 1\n",
      "so2Grade None\n",
      "coGrade 1\n",
      "o3Grade 1\n",
      "no2Grade 1\n",
      "pm10Grade 1\n",
      "pm25Grade 1\n",
      "pm10Grade1h 1\n",
      "pm25Grade1h 1\n",
      "20\n",
      "dataTime 2018-07-16 09:00\n",
      "mangName 도시대기\n",
      "so2Value -\n",
      "coValue 0.4\n",
      "o3Value 0.009\n",
      "no2Value 0.027\n",
      "pm10Value 23\n",
      "pm10Value24 19\n",
      "pm25Value 16\n",
      "pm25Value24 14\n",
      "khaiValue 47\n",
      "khaiGrade 1\n",
      "so2Grade None\n",
      "coGrade 1\n",
      "o3Grade 1\n",
      "no2Grade 1\n",
      "pm10Grade 1\n",
      "pm25Grade 1\n",
      "pm10Grade1h 1\n",
      "pm25Grade1h 2\n",
      "20\n",
      "dataTime 2018-07-16 08:00\n",
      "mangName 도시대기\n",
      "so2Value -\n",
      "coValue 0.4\n",
      "o3Value 0.006\n",
      "no2Value 0.024\n",
      "pm10Value 17\n",
      "pm10Value24 18\n",
      "pm25Value 12\n",
      "pm25Value24 14\n",
      "khaiValue 47\n",
      "khaiGrade 1\n",
      "so2Grade None\n",
      "coGrade 1\n",
      "o3Grade 1\n",
      "no2Grade 1\n",
      "pm10Grade 1\n",
      "pm25Grade 1\n",
      "pm10Grade1h 1\n",
      "pm25Grade1h 1\n",
      "20\n",
      "dataTime 2018-07-16 07:00\n",
      "mangName 도시대기\n",
      "so2Value -\n",
      "coValue 0.4\n",
      "o3Value 0.004\n",
      "no2Value 0.019\n",
      "pm10Value 19\n",
      "pm10Value24 19\n",
      "pm25Value 14\n",
      "pm25Value24 15\n",
      "khaiValue 50\n",
      "khaiGrade 1\n",
      "so2Grade None\n",
      "coGrade 1\n",
      "o3Grade 1\n",
      "no2Grade 1\n",
      "pm10Grade 1\n",
      "pm25Grade 1\n",
      "pm10Grade1h 1\n",
      "pm25Grade1h 1\n",
      "20\n",
      "dataTime 2018-07-16 06:00\n",
      "mangName 도시대기\n",
      "so2Value -\n",
      "coValue 0.3\n",
      "o3Value 0.004\n",
      "no2Value 0.018\n",
      "pm10Value 17\n",
      "pm10Value24 19\n",
      "pm25Value 14\n",
      "pm25Value24 16\n",
      "khaiValue 51\n",
      "khaiGrade 2\n",
      "so2Grade None\n",
      "coGrade 1\n",
      "o3Grade 1\n",
      "no2Grade 1\n",
      "pm10Grade 1\n",
      "pm25Grade 2\n",
      "pm10Grade1h 1\n",
      "pm25Grade1h 1\n",
      "20\n",
      "dataTime 2018-07-16 05:00\n",
      "mangName 도시대기\n",
      "so2Value -\n",
      "coValue 0.3\n",
      "o3Value 0.008\n",
      "no2Value 0.014\n",
      "pm10Value 18\n",
      "pm10Value24 20\n",
      "pm25Value 15\n",
      "pm25Value24 16\n",
      "khaiValue 51\n",
      "khaiGrade 2\n",
      "so2Grade None\n",
      "coGrade 1\n",
      "o3Grade 1\n",
      "no2Grade 1\n",
      "pm10Grade 1\n",
      "pm25Grade 2\n",
      "pm10Grade1h 1\n",
      "pm25Grade1h 1\n",
      "20\n",
      "dataTime 2018-07-16 04:00\n",
      "mangName 도시대기\n",
      "so2Value -\n",
      "coValue 0.3\n",
      "o3Value 0.011\n",
      "no2Value 0.011\n",
      "pm10Value 18\n",
      "pm10Value24 21\n",
      "pm25Value 15\n",
      "pm25Value24 17\n",
      "khaiValue 54\n",
      "khaiGrade 2\n",
      "so2Grade None\n",
      "coGrade 1\n",
      "o3Grade 1\n",
      "no2Grade 1\n",
      "pm10Grade 1\n",
      "pm25Grade 2\n",
      "pm10Grade1h 1\n",
      "pm25Grade1h 1\n",
      "20\n",
      "dataTime 2018-07-16 03:00\n",
      "mangName 도시대기\n",
      "so2Value -\n",
      "coValue 0.3\n",
      "o3Value 0.013\n",
      "no2Value 0.010\n",
      "pm10Value 19\n",
      "pm10Value24 21\n",
      "pm25Value 17\n",
      "pm25Value24 17\n",
      "khaiValue 54\n",
      "khaiGrade 2\n",
      "so2Grade None\n",
      "coGrade 1\n",
      "o3Grade 1\n",
      "no2Grade 1\n",
      "pm10Grade 1\n",
      "pm25Grade 2\n",
      "pm10Grade1h 1\n",
      "pm25Grade1h 2\n",
      "20\n",
      "dataTime 2018-07-16 02:00\n",
      "mangName 도시대기\n",
      "so2Value -\n",
      "coValue 0.3\n",
      "o3Value 0.011\n",
      "no2Value 0.013\n",
      "pm10Value 19\n",
      "pm10Value24 21\n",
      "pm25Value 15\n",
      "pm25Value24 17\n",
      "khaiValue 54\n",
      "khaiGrade 2\n",
      "so2Grade None\n",
      "coGrade 1\n",
      "o3Grade 1\n",
      "no2Grade 1\n",
      "pm10Grade 1\n",
      "pm25Grade 2\n",
      "pm10Grade1h 1\n",
      "pm25Grade1h 1\n",
      "20\n",
      "dataTime 2018-07-16 01:00\n",
      "mangName 도시대기\n",
      "so2Value -\n",
      "coValue 0.2\n",
      "o3Value 0.012\n",
      "no2Value 0.015\n",
      "pm10Value 20\n",
      "pm10Value24 21\n",
      "pm25Value 17\n",
      "pm25Value24 17\n",
      "khaiValue 54\n",
      "khaiGrade 2\n",
      "so2Grade None\n",
      "coGrade 1\n",
      "o3Grade 1\n",
      "no2Grade 1\n",
      "pm10Grade 1\n",
      "pm25Grade 2\n",
      "pm10Grade1h 1\n",
      "pm25Grade1h 2\n"
     ]
    }
   ],
   "source": [
    "for item in items:\n",
    "    print(len(item))\n",
    "    for i in range(len(item)):\n",
    "        print(item[i].tag, item[i].text)"
   ]
  },
  {
   "cell_type": "code",
   "execution_count": 268,
   "metadata": {},
   "outputs": [],
   "source": [
    "pm10List = root.findall(\".//item/pm10Value\")\n",
    "\n",
    "#경로찾기 방법1) 대경로를 xPath로 넣어줌.\n",
    "# csv"
   ]
  },
  {
   "cell_type": "code",
   "execution_count": 269,
   "metadata": {},
   "outputs": [
    {
     "name": "stdout",
     "output_type": "stream",
     "text": [
      "pm10Value 20\n",
      "pm10Value 23\n",
      "pm10Value 17\n",
      "pm10Value 19\n",
      "pm10Value 17\n",
      "pm10Value 18\n",
      "pm10Value 18\n",
      "pm10Value 19\n",
      "pm10Value 19\n",
      "pm10Value 20\n"
     ]
    }
   ],
   "source": [
    "for row in pm10List:\n",
    "    print(row.tag, row.text)"
   ]
  },
  {
   "cell_type": "code",
   "execution_count": 273,
   "metadata": {},
   "outputs": [
    {
     "ename": "AttributeError",
     "evalue": "'NoneType' object has no attribute 'cssselect'",
     "output_type": "error",
     "traceback": [
      "\u001b[1;31m---------------------------------------------------------------------------\u001b[0m",
      "\u001b[1;31mAttributeError\u001b[0m                            Traceback (most recent call last)",
      "\u001b[1;32m<ipython-input-273-481910ea8979>\u001b[0m in \u001b[0;36m<module>\u001b[1;34m()\u001b[0m\n\u001b[0;32m      1\u001b[0m \u001b[1;31m#경로찾기 방법2) 상대경로 안넣고 xml의 태그이름인 item로 바로 찾아줌.\u001b[0m\u001b[1;33m\u001b[0m\u001b[1;33m\u001b[0m\u001b[0m\n\u001b[0;32m      2\u001b[0m \u001b[1;33m\u001b[0m\u001b[0m\n\u001b[1;32m----> 3\u001b[1;33m \u001b[0mitem\u001b[0m \u001b[1;33m=\u001b[0m \u001b[0mxml\u001b[0m\u001b[1;33m.\u001b[0m\u001b[0mcssselect\u001b[0m\u001b[1;33m(\u001b[0m\u001b[1;34m\"item\"\u001b[0m\u001b[1;33m)\u001b[0m\u001b[1;33m\u001b[0m\u001b[0m\n\u001b[0m",
      "\u001b[1;31mAttributeError\u001b[0m: 'NoneType' object has no attribute 'cssselect'"
     ]
    }
   ],
   "source": [
    "#경로찾기 방법2) 상대경로 안넣고 xml의 태그이름인 item로 바로 찾아줌.\n",
    "\n",
    "item = xml.cssselect(\"item\")"
   ]
  },
  {
   "cell_type": "code",
   "execution_count": null,
   "metadata": {},
   "outputs": [],
   "source": [
    "!"
   ]
  },
  {
   "cell_type": "code",
   "execution_count": null,
   "metadata": {},
   "outputs": [],
   "source": []
  },
  {
   "cell_type": "code",
   "execution_count": null,
   "metadata": {},
   "outputs": [],
   "source": []
  },
  {
   "cell_type": "code",
   "execution_count": null,
   "metadata": {},
   "outputs": [],
   "source": [
    "# item pm10Value : item밑에잇는 손자의 손자의... 끝까지 다 뒤짐.\n",
    "# item > pm10Value : item태그 바로밑의 태그만 뒤짐.\n",
    "\n",
    "pm10ValueList = xml.cssselect(\"item > pm10Value\")\n",
    "\n",
    "for row in pm10ValueList:\n",
    "    print(row.tag, row.text)"
   ]
  }
 ],
 "metadata": {
  "kernelspec": {
   "display_name": "Python 3",
   "language": "python",
   "name": "python3"
  },
  "language_info": {
   "codemirror_mode": {
    "name": "ipython",
    "version": 3
   },
   "file_extension": ".py",
   "mimetype": "text/x-python",
   "name": "python",
   "nbconvert_exporter": "python",
   "pygments_lexer": "ipython3",
   "version": "3.6.5"
  }
 },
 "nbformat": 4,
 "nbformat_minor": 2
}
