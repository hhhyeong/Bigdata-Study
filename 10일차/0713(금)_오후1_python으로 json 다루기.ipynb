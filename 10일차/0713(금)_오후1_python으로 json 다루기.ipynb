{
 "cells": [
  {
   "cell_type": "markdown",
   "metadata": {},
   "source": [
    "# json 불러오고/저장하고/ python으로 변환하고 python에서 json으로 변환하고. "
   ]
  },
  {
   "cell_type": "code",
   "execution_count": 9,
   "metadata": {},
   "outputs": [],
   "source": [
    "import json"
   ]
  },
  {
   "cell_type": "code",
   "execution_count": 10,
   "metadata": {},
   "outputs": [
    {
     "data": {
      "text/plain": [
       "module"
      ]
     },
     "execution_count": 10,
     "metadata": {},
     "output_type": "execute_result"
    }
   ],
   "source": [
    "type(json)"
   ]
  },
  {
   "cell_type": "code",
   "execution_count": 11,
   "metadata": {},
   "outputs": [
    {
     "data": {
      "text/plain": [
       "['JSONDecodeError',\n",
       " 'JSONDecoder',\n",
       " 'JSONEncoder',\n",
       " '__all__',\n",
       " '__author__',\n",
       " '__builtins__',\n",
       " '__cached__',\n",
       " '__doc__',\n",
       " '__file__',\n",
       " '__loader__',\n",
       " '__name__',\n",
       " '__package__',\n",
       " '__path__',\n",
       " '__spec__',\n",
       " '__version__',\n",
       " '_default_decoder',\n",
       " '_default_encoder',\n",
       " 'codecs',\n",
       " 'decoder',\n",
       " 'detect_encoding',\n",
       " 'dump',\n",
       " 'dumps',\n",
       " 'encoder',\n",
       " 'load',\n",
       " 'loads',\n",
       " 'scanner']"
      ]
     },
     "execution_count": 11,
     "metadata": {},
     "output_type": "execute_result"
    }
   ],
   "source": [
    "dir(json)"
   ]
  },
  {
   "cell_type": "code",
   "execution_count": 20,
   "metadata": {},
   "outputs": [],
   "source": [
    "age = [25,28,14]"
   ]
  },
  {
   "cell_type": "markdown",
   "metadata": {},
   "source": [
    "# dump(dict타입||tuple타입) \n",
    "=> str타입"
   ]
  },
  {
   "cell_type": "code",
   "execution_count": 57,
   "metadata": {},
   "outputs": [
    {
     "name": "stdout",
     "output_type": "stream",
     "text": [
      "<class 'str'>\n",
      "{\"name\": \"kim\", \"age\": 28, \"car\": false}\n"
     ]
    }
   ],
   "source": [
    "person = {\"name\": \"kim\", \"age\" : 28, \"car\" : False}\n",
    "personStr = json.dumps(person)\n",
    "print(type(personStr))\n",
    "print(personStr)"
   ]
  },
  {
   "cell_type": "code",
   "execution_count": 56,
   "metadata": {},
   "outputs": [
    {
     "name": "stdout",
     "output_type": "stream",
     "text": [
      "<class 'str'>\n",
      "[\"kim\", \"Lee\", \"Jeong\"]\n"
     ]
    }
   ],
   "source": [
    "name = (\"kim\", \"Lee\", \"Jeong\")\n",
    "nameStr = json.dumps(name)\n",
    "print(type(nameStr))\n",
    "print(nameStr)\n",
    "\n",
    "# 파이썬의 name 이라는 튜플을 json의 str 형태로 바꾼것."
   ]
  },
  {
   "cell_type": "code",
   "execution_count": 59,
   "metadata": {},
   "outputs": [
    {
     "name": "stdout",
     "output_type": "stream",
     "text": [
      "[\"\\uae40\", \"\\uc774\", \"\\ubc15\"]\n"
     ]
    }
   ],
   "source": [
    "korean = (\"김\", \"이\", \"박\")\n",
    "koreanStr = json.dumps(korean)\n",
    "print(koreanStr)\n",
    "\n",
    "# 인터넷상에선 무조건 byte단위로 보내기때문에, byte형태로 보내는게 맞음.\n",
    "# but, 사람이 읽을땐, ASCII코드값이 아닌 unicode방식으로 볼수있으니까 encode()가 필요할 수 있다."
   ]
  },
  {
   "cell_type": "markdown",
   "metadata": {},
   "source": [
    "# unicode를 한글로 변환.\n",
    "##### ASCII 코드를 unicode로 인코딩????"
   ]
  },
  {
   "cell_type": "code",
   "execution_count": 60,
   "metadata": {},
   "outputs": [
    {
     "name": "stdout",
     "output_type": "stream",
     "text": [
      "[\"김\", \"이\", \"박\"]\n"
     ]
    }
   ],
   "source": [
    "koreanStr = json.dumps(korean, ensure_ascii=False)\n",
    "print(koreanStr)"
   ]
  },
  {
   "cell_type": "markdown",
   "metadata": {},
   "source": [
    "# loads(str타입) \n",
    "=> dict타입"
   ]
  },
  {
   "cell_type": "code",
   "execution_count": 55,
   "metadata": {},
   "outputs": [
    {
     "data": {
      "text/plain": [
       "dict"
      ]
     },
     "execution_count": 55,
     "metadata": {},
     "output_type": "execute_result"
    }
   ],
   "source": [
    "personObj = json.loads(personStr)\n",
    "type(personObj)"
   ]
  },
  {
   "cell_type": "code",
   "execution_count": 61,
   "metadata": {},
   "outputs": [
    {
     "data": {
      "text/plain": [
       "True"
      ]
     },
     "execution_count": 61,
     "metadata": {},
     "output_type": "execute_result"
    }
   ],
   "source": [
    "person == personObj"
   ]
  },
  {
   "cell_type": "code",
   "execution_count": 62,
   "metadata": {},
   "outputs": [],
   "source": [
    "personObj[\"car\"] = [\"레이\", \"모닝\"]"
   ]
  },
  {
   "cell_type": "code",
   "execution_count": 63,
   "metadata": {},
   "outputs": [
    {
     "data": {
      "text/plain": [
       "{'name': 'kim', 'age': 28, 'car': ['레이', '모닝']}"
      ]
     },
     "execution_count": 63,
     "metadata": {},
     "output_type": "execute_result"
    }
   ],
   "source": [
    "personObj"
   ]
  },
  {
   "cell_type": "code",
   "execution_count": 65,
   "metadata": {},
   "outputs": [],
   "source": [
    "with open(\"test.json\", \"w\") as fp:\n",
    "    json.dump(personObj, fp)"
   ]
  },
  {
   "cell_type": "code",
   "execution_count": 66,
   "metadata": {},
   "outputs": [],
   "source": [
    "with open(\"test.json\", \"r\") as fp:\n",
    "    loadObj = json.load(fp)"
   ]
  },
  {
   "cell_type": "code",
   "execution_count": 69,
   "metadata": {},
   "outputs": [
    {
     "data": {
      "text/plain": [
       "{'name': 'kim', 'age': 28, 'car': ['레이', '모닝']}"
      ]
     },
     "execution_count": 69,
     "metadata": {},
     "output_type": "execute_result"
    }
   ],
   "source": [
    "loadObj\n",
    "\n",
    "#파이썬은 기본적으로 유니코드쓰니까, 알아서 한글로 변환해서 보여줌."
   ]
  },
  {
   "cell_type": "markdown",
   "metadata": {},
   "source": [
    "# 인터넷으로 json형식 데이터 주고받기. urllib 사용"
   ]
  },
  {
   "cell_type": "code",
   "execution_count": 7,
   "metadata": {},
   "outputs": [],
   "source": [
    "# 인터넷으로 주고받을때 이런애를 쓴다.\n",
    "# request를 받기위해.\n",
    "\n",
    "# https://jsonplaceholder.typicode.com/posts/1\n",
    "\n",
    "import urllib.request"
   ]
  },
  {
   "cell_type": "code",
   "execution_count": 80,
   "metadata": {},
   "outputs": [],
   "source": [
    "resp = urllib.request.urlopen(\"https://jsonplaceholder.typicode.com/posts/1\")"
   ]
  },
  {
   "cell_type": "code",
   "execution_count": 81,
   "metadata": {},
   "outputs": [],
   "source": [
    "text = resp.read()"
   ]
  },
  {
   "cell_type": "code",
   "execution_count": 82,
   "metadata": {},
   "outputs": [],
   "source": [
    "type(text)\n",
    "\n",
    "textStr = text.decode(\"utf-8\")\n",
    "#loads() 쓰려면 str타입이 필요하므로 byte를 utf-8의 str로 decode해주는 코드."
   ]
  },
  {
   "cell_type": "code",
   "execution_count": 86,
   "metadata": {},
   "outputs": [
    {
     "name": "stdout",
     "output_type": "stream",
     "text": [
      "<class 'dict'>\n",
      "{'userId': 1, 'id': 1, 'title': 'sunt aut facere repellat provident occaecati excepturi optio reprehenderit', 'body': 'quia et suscipit\\nsuscipit recusandae consequuntur expedita et cum\\nreprehenderit molestiae ut ut quas totam\\nnostrum rerum est autem sunt rem eveniet architecto'}\n"
     ]
    }
   ],
   "source": [
    "respObj = json.loads(textStr)\n",
    "print(type(respObj))\n",
    "print(respObj)"
   ]
  },
  {
   "cell_type": "code",
   "execution_count": 88,
   "metadata": {},
   "outputs": [
    {
     "data": {
      "text/plain": [
       "'sunt aut facere repellat provident occaecati excepturi optio reprehenderit'"
      ]
     },
     "execution_count": 88,
     "metadata": {},
     "output_type": "execute_result"
    }
   ],
   "source": [
    "respObj[\"title\"]\n",
    "\n",
    "# key값이 뭔지 알면 해당 value를 가져올수잇음."
   ]
  },
  {
   "cell_type": "code",
   "execution_count": 90,
   "metadata": {},
   "outputs": [
    {
     "name": "stdout",
     "output_type": "stream",
     "text": [
      "userId 1\n",
      "<class 'int'>\n",
      "id 1\n",
      "<class 'int'>\n",
      "title sunt aut facere repellat provident occaecati excepturi optio reprehenderit\n",
      "<class 'str'>\n",
      "body quia et suscipit\n",
      "suscipit recusandae consequuntur expedita et cum\n",
      "reprehenderit molestiae ut ut quas totam\n",
      "nostrum rerum est autem sunt rem eveniet architecto\n",
      "<class 'str'>\n"
     ]
    }
   ],
   "source": [
    "# 구조를 모르더라도 탐색 가능.\n",
    "# 타입도 같이 출력해야지. 무슨타입으로 들어있을지는 모르는거니까.\n",
    "\n",
    "for (k,v) in respObj.items():\n",
    "    print(k,v)\n",
    "    print(type(v))"
   ]
  },
  {
   "cell_type": "markdown",
   "metadata": {},
   "source": [
    "# 공공데이터 대기오염정보 받아오기."
   ]
  },
  {
   "cell_type": "markdown",
   "metadata": {},
   "source": [
    "- 일반 인증키)\n",
    "Wo69WfoW%2BsTFW%2B5GQPqlUbxE8CEZLDJDxCI6Gyg7wpH060YJBG0F4JCkrI4bLZDtRX3zyVTD0J3VpoWKdhGnew%3D%3D\n",
    "\n",
    "\n",
    "- 요청주소)\n",
    "http://openapi.airkorea.or.kr/openapi/services/rest/ArpltnInforInqireSvc/getCtprvnMesureSidoLIst \n"
   ]
  },
  {
   "cell_type": "markdown",
   "metadata": {},
   "source": [
    "http://openapi.airkorea.or.kr/openapi/services/rest/ArpltnInforInqireSvc/getMsrstnAcctoRltmMesureDnsty\n",
    "    ?serviceKey=Wo69WfoW%2BsTFW%2B5GQPqlUbxE8CEZLDJDxCI6Gyg7wpH060YJBG0F4JCkrI4bLZDtRX3zyVTD0J3VpoWKdhGnew%3D%3D\n",
    "    &numOfRows=10&pageSize=10&pageNo=1&startPage=1&stationName=%EC%A2%85%EB%A1%9C%EA%B5%AC&dataTerm=DAILY&ver=1.3\n",
    "    &_returnType=json"
   ]
  },
  {
   "cell_type": "code",
   "execution_count": 106,
   "metadata": {},
   "outputs": [
    {
     "ename": "IndentationError",
     "evalue": "unexpected indent (<ipython-input-106-34a654ca2fad>, line 2)",
     "output_type": "error",
     "traceback": [
      "\u001b[1;36m  File \u001b[1;32m\"<ipython-input-106-34a654ca2fad>\"\u001b[1;36m, line \u001b[1;32m2\u001b[0m\n\u001b[1;33m    serviceKey=Wo69WfoW%2BsTFW%2B5GQPqlUbxE8CEZLDJDxCI6Gyg7wpH060YJBG0F4JCkrI4bLZDtRX3zyVTD0J3VpoWKdhGnew%3D%3D\u001b[0m\n\u001b[1;37m    ^\u001b[0m\n\u001b[1;31mIndentationError\u001b[0m\u001b[1;31m:\u001b[0m unexpected indent\n"
     ]
    }
   ],
   "source": [
    "url = \"http://openapi.airkorea.or.kr/openapi/services/rest/ArpltnInforInqireSvc/getMsrstnAcctoRltmMesureDnsty?\n",
    "    serviceKey=Wo69WfoW%2BsTFW%2B5GQPqlUbxE8CEZLDJDxCI6Gyg7wpH060YJBG0F4JCkrI4bLZDtRX3zyVTD0J3VpoWKdhGnew%3D%3D\n",
    "    &numOfRows=10\n",
    "    &pageSize=10\n",
    "    &pageNo=1\n",
    "    &startPage=1\n",
    "    &stationName=%EC%A2%85%EB%A1%9C%EA%B5%AC\n",
    "    &dataTerm=DAILY\n",
    "    &ver=1.3\n",
    "    &_returnType=json\""
   ]
  },
  {
   "cell_type": "code",
   "execution_count": 1,
   "metadata": {},
   "outputs": [],
   "source": [
    "params = {\n",
    "    \"serviceKey\":\"Wo69WfoW%2BsTFW%2B5GQPqlUbxE8CEZLDJDxCI6Gyg7wpH060YJBG0F4JCkrI4bLZDtRX3zyVTD0J3VpoWKdhGnew%3D%3D\",\n",
    "    \"numOfRows\" : 10,\n",
    "    \"pageNo\" : 1,\n",
    "    \"stationName\" : None,\n",
    "    \"ver\" : \"1.3\",\n",
    "    \"_returnType\" : \"json\"\n",
    "}"
   ]
  },
  {
   "cell_type": "code",
   "execution_count": 2,
   "metadata": {},
   "outputs": [],
   "source": [
    "params[\"sidoName\"]=\"성북구\""
   ]
  },
  {
   "cell_type": "code",
   "execution_count": 3,
   "metadata": {},
   "outputs": [
    {
     "data": {
      "text/plain": [
       "{'serviceKey': 'Wo69WfoW%2BsTFW%2B5GQPqlUbxE8CEZLDJDxCI6Gyg7wpH060YJBG0F4JCkrI4bLZDtRX3zyVTD0J3VpoWKdhGnew%3D%3D',\n",
       " 'numOfRows': 10,\n",
       " 'pageNo': 1,\n",
       " 'stationName': None,\n",
       " 'ver': '1.3',\n",
       " '_returnType': 'json',\n",
       " 'sidoName': '성북구'}"
      ]
     },
     "execution_count": 3,
     "metadata": {},
     "output_type": "execute_result"
    }
   ],
   "source": [
    "params"
   ]
  },
  {
   "cell_type": "code",
   "execution_count": 4,
   "metadata": {},
   "outputs": [],
   "source": [
    "url = \"http://openapi.airkorea.or.kr/openapi/services/rest/ArpltnInforInqireSvc/getCtprvnRltmMesureDnsty?\""
   ]
  },
  {
   "cell_type": "code",
   "execution_count": 5,
   "metadata": {},
   "outputs": [],
   "source": [
    "from urllib import parse"
   ]
  },
  {
   "cell_type": "code",
   "execution_count": 8,
   "metadata": {},
   "outputs": [],
   "source": [
    "params[\"serviceKey\"]= urllib.parse.unquote(params[\"serviceKey\"])\n",
    "\n",
    "# 서비스키를 byte형으로 발급해줬는데, \n",
    "# 이를 인터넷에게 넘겨주기 위해 byte형으로 바꾸는 과정에서\n",
    "# encode(\"utf-8\")를 사용하면 이미 byte형인 serviceKey를 다시 byte형으로 바꾸는 셈.\n",
    "\n",
    "# 해결책1) url에서 seviceKey를 따로 빼두고 나머지만 byte로 바꾼다음, serviceKey를 붙이기.\n",
    "# 해결책2) serviceKey만 unquote()를 사용해서 str형으로 역변환시켜놓고, \n",
    "# 전체 url을 encode(\"utf-8\")해서 byte형으로 변환하기.\n",
    "\n",
    "# 우아하게 해결책2)를 사용해서 해결하겠음~♡"
   ]
  },
  {
   "cell_type": "code",
   "execution_count": 9,
   "metadata": {},
   "outputs": [
    {
     "data": {
      "text/plain": [
       "str"
      ]
     },
     "execution_count": 9,
     "metadata": {},
     "output_type": "execute_result"
    }
   ],
   "source": [
    "type(params[\"serviceKey\"])"
   ]
  },
  {
   "cell_type": "code",
   "execution_count": 10,
   "metadata": {},
   "outputs": [
    {
     "data": {
      "text/plain": [
       "'Wo69WfoW+sTFW+5GQPqlUbxE8CEZLDJDxCI6Gyg7wpH060YJBG0F4JCkrI4bLZDtRX3zyVTD0J3VpoWKdhGnew=='"
      ]
     },
     "execution_count": 10,
     "metadata": {},
     "output_type": "execute_result"
    }
   ],
   "source": [
    "params[\"serviceKey\"]\n",
    "\n",
    "# byte형식의 serviceKey가 str형으로 역변환 된 것을 확인할 수 있다.\n",
    "# (원래 serviceKey와 비교했을 때 다름.)"
   ]
  },
  {
   "cell_type": "code",
   "execution_count": 11,
   "metadata": {},
   "outputs": [],
   "source": [
    "# dict형식의 파라미터를 자동으로 url로 만들어줌.\n",
    "\n",
    "paramUrl = parse.urlencode(params)"
   ]
  },
  {
   "cell_type": "code",
   "execution_count": 12,
   "metadata": {},
   "outputs": [
    {
     "data": {
      "text/plain": [
       "str"
      ]
     },
     "execution_count": 12,
     "metadata": {},
     "output_type": "execute_result"
    }
   ],
   "source": [
    "type(paramUrl)"
   ]
  },
  {
   "cell_type": "code",
   "execution_count": 13,
   "metadata": {},
   "outputs": [
    {
     "data": {
      "text/plain": [
       "bytes"
      ]
     },
     "execution_count": 13,
     "metadata": {},
     "output_type": "execute_result"
    }
   ],
   "source": [
    "# 인터넷상에선 byte타입으로 전달해야하니까 byte형으로 바꿔야함.\n",
    "# utf-8형식으로 싹다 바이트로 바꿈.\n",
    "\n",
    "paramBytes = paramUrl.encode(\"utf-8\")\n",
    "type(paramBytes)"
   ]
  },
  {
   "cell_type": "code",
   "execution_count": 14,
   "metadata": {},
   "outputs": [
    {
     "name": "stdout",
     "output_type": "stream",
     "text": [
      "b'serviceKey=Wo69WfoW%2BsTFW%2B5GQPqlUbxE8CEZLDJDxCI6Gyg7wpH060YJBG0F4JCkrI4bLZDtRX3zyVTD0J3VpoWKdhGnew%3D%3D&numOfRows=10&pageNo=1&stationName=None&ver=1.3&_returnType=json&sidoName=%EC%84%B1%EB%B6%81%EA%B5%AC'\n"
     ]
    }
   ],
   "source": [
    "#실제 파라미터 serialize해서 바이트로 바꾼것.\n",
    "\n",
    "print(paramBytes)\n",
    "\n",
    "### servicekey가 원래 발급받은 값과 똑같은 것을 확인할 수 있음."
   ]
  },
  {
   "cell_type": "code",
   "execution_count": 15,
   "metadata": {},
   "outputs": [],
   "source": [
    "# 바로 urlopen했었는데, 넘겨주려는 request객체가 있어야함.\n",
    "\n",
    "req = urllib.request.Request(url, data=paramBytes)"
   ]
  },
  {
   "cell_type": "code",
   "execution_count": 16,
   "metadata": {},
   "outputs": [],
   "source": [
    "res = urllib.request.urlopen(req)"
   ]
  },
  {
   "cell_type": "code",
   "execution_count": 17,
   "metadata": {},
   "outputs": [],
   "source": [
    "result = res.read()"
   ]
  },
  {
   "cell_type": "code",
   "execution_count": 18,
   "metadata": {},
   "outputs": [
    {
     "data": {
      "text/plain": [
       "bytes"
      ]
     },
     "execution_count": 18,
     "metadata": {},
     "output_type": "execute_result"
    }
   ],
   "source": [
    "type(result)"
   ]
  },
  {
   "cell_type": "code",
   "execution_count": 19,
   "metadata": {},
   "outputs": [],
   "source": [
    "resultStr = result.decode(\"utf-8\")"
   ]
  },
  {
   "cell_type": "code",
   "execution_count": 20,
   "metadata": {},
   "outputs": [
    {
     "name": "stdout",
     "output_type": "stream",
     "text": [
      "{\"list\":[],\"parm\":{\"_returnType\":\"json\",\"coGrade\":\"\",\"coValue\":\"\",\"dataTerm\":\"\",\"dataTime\":\"\",\"khaiGrade\":\"\",\"khaiValue\":\"\",\"mangName\":\"\",\"no2Grade\":\"\",\"no2Value\":\"\",\"numOfRows\":\"10\",\"o3Grade\":\"\",\"o3Value\":\"\",\"pageNo\":\"1\",\"pm10Grade\":\"\",\"pm10Grade1h\":\"\",\"pm10Value\":\"\",\"pm10Value24\":\"\",\"pm25Grade\":\"\",\"pm25Grade1h\":\"\",\"pm25Value\":\"\",\"pm25Value24\":\"\",\"resultCode\":\"\",\"resultMsg\":\"\",\"rnum\":0,\"serviceKey\":\"Wo69WfoW+sTFW+5GQPqlUbxE8CEZLDJDxCI6Gyg7wpH060YJBG0F4JCkrI4bLZDtRX3zyVTD0J3VpoWKdhGnew==\",\"sidoName\":\"성북구\",\"so2Grade\":\"\",\"so2Value\":\"\",\"stationCode\":\"\",\"stationName\":\"None\",\"totalCount\":\"\",\"ver\":\"1.3\"},\"ArpltnInforInqireSvcVo\":{\"_returnType\":\"json\",\"coGrade\":\"\",\"coValue\":\"\",\"dataTerm\":\"\",\"dataTime\":\"\",\"khaiGrade\":\"\",\"khaiValue\":\"\",\"mangName\":\"\",\"no2Grade\":\"\",\"no2Value\":\"\",\"numOfRows\":\"10\",\"o3Grade\":\"\",\"o3Value\":\"\",\"pageNo\":\"1\",\"pm10Grade\":\"\",\"pm10Grade1h\":\"\",\"pm10Value\":\"\",\"pm10Value24\":\"\",\"pm25Grade\":\"\",\"pm25Grade1h\":\"\",\"pm25Value\":\"\",\"pm25Value24\":\"\",\"resultCode\":\"\",\"resultMsg\":\"\",\"rnum\":0,\"serviceKey\":\"Wo69WfoW+sTFW+5GQPqlUbxE8CEZLDJDxCI6Gyg7wpH060YJBG0F4JCkrI4bLZDtRX3zyVTD0J3VpoWKdhGnew==\",\"sidoName\":\"성북구\",\"so2Grade\":\"\",\"so2Value\":\"\",\"stationCode\":\"\",\"stationName\":\"None\",\"totalCount\":\"\",\"ver\":\"1.3\"},\"totalCount\":0}\n"
     ]
    }
   ],
   "source": [
    "print(resultStr)"
   ]
  },
  {
   "cell_type": "code",
   "execution_count": 151,
   "metadata": {},
   "outputs": [],
   "source": [
    "resultObj = json.loads(resultStr)"
   ]
  },
  {
   "cell_type": "code",
   "execution_count": 152,
   "metadata": {
    "scrolled": true
   },
   "outputs": [
    {
     "name": "stdout",
     "output_type": "stream",
     "text": [
      "{'list': [], 'parm': {'_returnType': 'json', 'coGrade': '', 'coValue': '', 'dataTerm': '', 'dataTime': '', 'khaiGrade': '', 'khaiValue': '', 'mangName': '', 'no2Grade': '', 'no2Value': '', 'numOfRows': '10', 'o3Grade': '', 'o3Value': '', 'pageNo': '1', 'pm10Grade': '', 'pm10Grade1h': '', 'pm10Value': '', 'pm10Value24': '', 'pm25Grade': '', 'pm25Grade1h': '', 'pm25Value': '', 'pm25Value24': '', 'resultCode': '', 'resultMsg': '', 'rnum': 0, 'serviceKey': 'Wo69WfoW+sTFW+5GQPqlUbxE8CEZLDJDxCI6Gyg7wpH060YJBG0F4JCkrI4bLZDtRX3zyVTD0J3VpoWKdhGnew==', 'sidoName': '성북구', 'so2Grade': '', 'so2Value': '', 'stationCode': '', 'stationName': 'None', 'totalCount': '', 'ver': '1.3'}, 'ArpltnInforInqireSvcVo': {'_returnType': 'json', 'coGrade': '', 'coValue': '', 'dataTerm': '', 'dataTime': '', 'khaiGrade': '', 'khaiValue': '', 'mangName': '', 'no2Grade': '', 'no2Value': '', 'numOfRows': '10', 'o3Grade': '', 'o3Value': '', 'pageNo': '1', 'pm10Grade': '', 'pm10Grade1h': '', 'pm10Value': '', 'pm10Value24': '', 'pm25Grade': '', 'pm25Grade1h': '', 'pm25Value': '', 'pm25Value24': '', 'resultCode': '', 'resultMsg': '', 'rnum': 0, 'serviceKey': 'Wo69WfoW+sTFW+5GQPqlUbxE8CEZLDJDxCI6Gyg7wpH060YJBG0F4JCkrI4bLZDtRX3zyVTD0J3VpoWKdhGnew==', 'sidoName': '성북구', 'so2Grade': '', 'so2Value': '', 'stationCode': '', 'stationName': 'None', 'totalCount': '', 'ver': '1.3'}, 'totalCount': 0}\n"
     ]
    }
   ],
   "source": [
    "print(resultObj)"
   ]
  },
  {
   "cell_type": "code",
   "execution_count": null,
   "metadata": {},
   "outputs": [],
   "source": []
  }
 ],
 "metadata": {
  "kernelspec": {
   "display_name": "Python 3",
   "language": "python",
   "name": "python3"
  },
  "language_info": {
   "codemirror_mode": {
    "name": "ipython",
    "version": 3
   },
   "file_extension": ".py",
   "mimetype": "text/x-python",
   "name": "python",
   "nbconvert_exporter": "python",
   "pygments_lexer": "ipython3",
   "version": "3.6.5"
  }
 },
 "nbformat": 4,
 "nbformat_minor": 2
}
