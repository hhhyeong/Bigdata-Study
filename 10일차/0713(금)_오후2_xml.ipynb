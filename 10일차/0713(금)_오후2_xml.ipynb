{
 "cells": [
  {
   "cell_type": "code",
   "execution_count": 2,
   "metadata": {},
   "outputs": [],
   "source": [
    "from lxml import etree\n",
    "\n",
    "# lxml중에 etree를 쓸거임."
   ]
  },
  {
   "cell_type": "code",
   "execution_count": 3,
   "metadata": {},
   "outputs": [
    {
     "data": {
      "text/plain": [
       "['AncestorsIterator',\n",
       " 'AttributeBasedElementClassLookup',\n",
       " 'C14NError',\n",
       " 'CDATA',\n",
       " 'Comment',\n",
       " 'CommentBase',\n",
       " 'CustomElementClassLookup',\n",
       " 'DEBUG',\n",
       " 'DTD',\n",
       " 'DTDError',\n",
       " 'DTDParseError',\n",
       " 'DTDValidateError',\n",
       " 'DocInfo',\n",
       " 'DocumentInvalid',\n",
       " 'ETCompatXMLParser',\n",
       " 'ETXPath',\n",
       " 'Element',\n",
       " 'ElementBase',\n",
       " 'ElementChildIterator',\n",
       " 'ElementClassLookup',\n",
       " 'ElementDefaultClassLookup',\n",
       " 'ElementDepthFirstIterator',\n",
       " 'ElementNamespaceClassLookup',\n",
       " 'ElementTextIterator',\n",
       " 'ElementTree',\n",
       " 'Entity',\n",
       " 'EntityBase',\n",
       " 'Error',\n",
       " 'ErrorDomains',\n",
       " 'ErrorLevels',\n",
       " 'ErrorTypes',\n",
       " 'Extension',\n",
       " 'FallbackElementClassLookup',\n",
       " 'FunctionNamespace',\n",
       " 'HTML',\n",
       " 'HTMLParser',\n",
       " 'HTMLPullParser',\n",
       " 'LIBXML_COMPILED_VERSION',\n",
       " 'LIBXML_VERSION',\n",
       " 'LIBXSLT_COMPILED_VERSION',\n",
       " 'LIBXSLT_VERSION',\n",
       " 'LXML_VERSION',\n",
       " 'LxmlError',\n",
       " 'LxmlRegistryError',\n",
       " 'LxmlSyntaxError',\n",
       " 'NamespaceRegistryError',\n",
       " 'PI',\n",
       " 'PIBase',\n",
       " 'ParseError',\n",
       " 'ParserBasedElementClassLookup',\n",
       " 'ParserError',\n",
       " 'ProcessingInstruction',\n",
       " 'PyErrorLog',\n",
       " 'PythonElementClassLookup',\n",
       " 'QName',\n",
       " 'RelaxNG',\n",
       " 'RelaxNGError',\n",
       " 'RelaxNGErrorTypes',\n",
       " 'RelaxNGParseError',\n",
       " 'RelaxNGValidateError',\n",
       " 'Resolver',\n",
       " 'Schematron',\n",
       " 'SchematronError',\n",
       " 'SchematronParseError',\n",
       " 'SchematronValidateError',\n",
       " 'SerialisationError',\n",
       " 'SiblingsIterator',\n",
       " 'SubElement',\n",
       " 'TreeBuilder',\n",
       " 'XInclude',\n",
       " 'XIncludeError',\n",
       " 'XML',\n",
       " 'XMLDTDID',\n",
       " 'XMLID',\n",
       " 'XMLParser',\n",
       " 'XMLPullParser',\n",
       " 'XMLSchema',\n",
       " 'XMLSchemaError',\n",
       " 'XMLSchemaParseError',\n",
       " 'XMLSchemaValidateError',\n",
       " 'XMLSyntaxError',\n",
       " 'XMLTreeBuilder',\n",
       " 'XPath',\n",
       " 'XPathDocumentEvaluator',\n",
       " 'XPathElementEvaluator',\n",
       " 'XPathError',\n",
       " 'XPathEvalError',\n",
       " 'XPathEvaluator',\n",
       " 'XPathFunctionError',\n",
       " 'XPathResultError',\n",
       " 'XPathSyntaxError',\n",
       " 'XSLT',\n",
       " 'XSLTAccessControl',\n",
       " 'XSLTApplyError',\n",
       " 'XSLTError',\n",
       " 'XSLTExtension',\n",
       " 'XSLTExtensionError',\n",
       " 'XSLTParseError',\n",
       " 'XSLTSaveError',\n",
       " '_Attrib',\n",
       " '_BaseErrorLog',\n",
       " '_Comment',\n",
       " '_Document',\n",
       " '_DomainErrorLog',\n",
       " '_Element',\n",
       " '_ElementIterator',\n",
       " '_ElementMatchIterator',\n",
       " '_ElementStringResult',\n",
       " '_ElementTagMatcher',\n",
       " '_ElementTree',\n",
       " '_ElementUnicodeResult',\n",
       " '_Entity',\n",
       " '_ErrorLog',\n",
       " '_FeedParser',\n",
       " '_IDDict',\n",
       " '_ListErrorLog',\n",
       " '_LogEntry',\n",
       " '_ProcessingInstruction',\n",
       " '_RotatingErrorLog',\n",
       " '_SaxParserTarget',\n",
       " '_TargetParserResult',\n",
       " '_Validator',\n",
       " '_XPathEvaluatorBase',\n",
       " '_XSLTProcessingInstruction',\n",
       " '_XSLTResultTree',\n",
       " '__all__',\n",
       " '__builtins__',\n",
       " '__doc__',\n",
       " '__docformat__',\n",
       " '__file__',\n",
       " '__loader__',\n",
       " '__name__',\n",
       " '__package__',\n",
       " '__pyx_capi__',\n",
       " '__spec__',\n",
       " '__test__',\n",
       " '__version__',\n",
       " 'adopt_external_document',\n",
       " 'cleanup_namespaces',\n",
       " 'clear_error_log',\n",
       " 'dump',\n",
       " 'fromstring',\n",
       " 'fromstringlist',\n",
       " 'get_default_parser',\n",
       " 'htmlfile',\n",
       " 'iselement',\n",
       " 'iterparse',\n",
       " 'iterwalk',\n",
       " 'memory_debugger',\n",
       " 'parse',\n",
       " 'parseid',\n",
       " 'register_namespace',\n",
       " 'set_default_parser',\n",
       " 'set_element_class_lookup',\n",
       " 'strip_attributes',\n",
       " 'strip_elements',\n",
       " 'strip_tags',\n",
       " 'tostring',\n",
       " 'tostringlist',\n",
       " 'tounicode',\n",
       " 'use_global_python_log',\n",
       " 'xmlfile']"
      ]
     },
     "execution_count": 3,
     "metadata": {},
     "output_type": "execute_result"
    }
   ],
   "source": [
    "# DTD도잇음. Element관련한부분. 노드관련 속성이잇음.\n",
    "\n",
    "dir(etree)"
   ]
  },
  {
   "cell_type": "code",
   "execution_count": 4,
   "metadata": {},
   "outputs": [],
   "source": [
    "resResultbookstore = etree.Element(\"bookstore\")\n",
    "\n",
    "# xml노드가 하나 생성이 되었음."
   ]
  },
  {
   "cell_type": "code",
   "execution_count": 5,
   "metadata": {},
   "outputs": [
    {
     "data": {
      "text/plain": [
       "<Element bookstore at 0x25b96b46b48>"
      ]
     },
     "execution_count": 5,
     "metadata": {},
     "output_type": "execute_result"
    }
   ],
   "source": [
    "resResultbookstore"
   ]
  },
  {
   "cell_type": "code",
   "execution_count": 7,
   "metadata": {},
   "outputs": [],
   "source": [
    "# 그 밑에 서브노드 하나 만들거임.\n",
    "# 부모노드를 bookstore로 하는 \"book\"이라는 노드 생성.\n",
    "book1 = etree.SubElement(bookstore, \"book\")"
   ]
  },
  {
   "cell_type": "code",
   "execution_count": 9,
   "metadata": {},
   "outputs": [],
   "source": [
    "book2 = etree.SubElement(bookstore, \"book\", attrib={\"category\" : \"children\"})"
   ]
  },
  {
   "cell_type": "code",
   "execution_count": 10,
   "metadata": {},
   "outputs": [],
   "source": [
    "book1.attrib[\"category\"] = \"cooking\""
   ]
  },
  {
   "cell_type": "code",
   "execution_count": 18,
   "metadata": {},
   "outputs": [],
   "source": [
    "title1 = etree.Element(\"title\")"
   ]
  },
  {
   "cell_type": "code",
   "execution_count": 19,
   "metadata": {},
   "outputs": [],
   "source": [
    "title1.text = \"Harry Potter\""
   ]
  },
  {
   "cell_type": "code",
   "execution_count": 21,
   "metadata": {},
   "outputs": [
    {
     "name": "stdout",
     "output_type": "stream",
     "text": [
      "<title>Harry Potter</title>\n"
     ]
    }
   ],
   "source": [
    "etree.dump(title1)"
   ]
  },
  {
   "cell_type": "code",
   "execution_count": 28,
   "metadata": {},
   "outputs": [
    {
     "name": "stdout",
     "output_type": "stream",
     "text": [
      "<title lang=\"en\">Harry Potter</title>\n"
     ]
    }
   ],
   "source": [
    "title1.attrib[\"lang\"] = \"en\"\n",
    "etree.dump(title1)\n",
    "book2.append(title1)"
   ]
  },
  {
   "cell_type": "code",
   "execution_count": 29,
   "metadata": {},
   "outputs": [
    {
     "name": "stdout",
     "output_type": "stream",
     "text": [
      "<bookstore>\n",
      "  <book/>\n",
      "  <book category=\"cooking\"/>\n",
      "  <book category=\"children\">\n",
      "    <title lang=\"en\">Harry Potter</title>\n",
      "  </book>\n",
      "</bookstore>\n"
     ]
    }
   ],
   "source": [
    "etree.dump(bookstore)"
   ]
  },
  {
   "cell_type": "code",
   "execution_count": 12,
   "metadata": {},
   "outputs": [
    {
     "name": "stdout",
     "output_type": "stream",
     "text": [
      "<Element bookstore at 0x21c94497f88>\n"
     ]
    }
   ],
   "source": [
    "#객체이므로 출력안안됨. 개겣로 읽어와야함.\n",
    "print(bookstore)"
   ]
  },
  {
   "cell_type": "code",
   "execution_count": 15,
   "metadata": {},
   "outputs": [
    {
     "name": "stdout",
     "output_type": "stream",
     "text": [
      "b'<bookstore>\\n  <book/>\\n  <book category=\"cooking\"/>\\n  <book category=\"children\"/>\\n</bookstore>\\n'\n"
     ]
    }
   ],
   "source": [
    "print(etree.tostring(bookstore, pretty_print=True))\n",
    "\n",
    "# 읽기좋게 나오도록 pree_print.\n",
    "# 얘 바이트임. 바이트라 출력이 제대로 안됐음. 다른애 쓸거임...!!!!!"
   ]
  },
  {
   "cell_type": "code",
   "execution_count": 16,
   "metadata": {},
   "outputs": [
    {
     "name": "stdout",
     "output_type": "stream",
     "text": [
      "<bookstore>\n",
      "  <book/>\n",
      "  <book category=\"cooking\"/>\n",
      "  <book category=\"children\"/>\n",
      "</bookstore>\n"
     ]
    }
   ],
   "source": [
    "# 표준출력으로 나오게 하기 위해 씀. dump()\n",
    "\n",
    "etree.dump(bookstore)"
   ]
  },
  {
   "cell_type": "code",
   "execution_count": 31,
   "metadata": {},
   "outputs": [
    {
     "data": {
      "text/plain": [
       "<Element title at 0x21c946242c8>"
      ]
     },
     "execution_count": 31,
     "metadata": {},
     "output_type": "execute_result"
    }
   ],
   "source": [
    "etree.SubElement(book1, \"title\", attrib={\"lang\" : title1.get(\"lang\")})"
   ]
  },
  {
   "cell_type": "code",
   "execution_count": 32,
   "metadata": {},
   "outputs": [
    {
     "name": "stdout",
     "output_type": "stream",
     "text": [
      "<bookstore>\n",
      "  <book/>\n",
      "  <book category=\"cooking\">\n",
      "    <title lang=\"en\"/>\n",
      "  </book>\n",
      "  <book category=\"children\">\n",
      "    <title lang=\"en\">Harry Potter</title>\n",
      "  </book>\n",
      "</bookstore>\n"
     ]
    }
   ],
   "source": [
    "etree.dump(bookstore)\n",
    "\n",
    "# 똑같은 변수를 가지고 불러서 생성함. 불러올땐 get함수 이용. attribute의 key값을 넣어줌."
   ]
  },
  {
   "cell_type": "code",
   "execution_count": 34,
   "metadata": {},
   "outputs": [
    {
     "name": "stdout",
     "output_type": "stream",
     "text": [
      "<class 'bytes'>\n",
      "b'<bookstore><book/><book category=\"cooking\"><title lang=\"en\"/></book><book category=\"children\"><title lang=\"en\">Harry Potter</title></book></bookstore>'\n"
     ]
    }
   ],
   "source": [
    "xmlByte = etree.tostring(bookstore)\n",
    "print(type(xmlByte))\n",
    "print(xmlByte)"
   ]
  },
  {
   "cell_type": "code",
   "execution_count": 35,
   "metadata": {},
   "outputs": [
    {
     "name": "stdout",
     "output_type": "stream",
     "text": [
      "<class 'bytes'>\n",
      "b'<?xml version=\\'1.0\\' encoding=\\'ASCII\\'?>\\n<bookstore><book/><book category=\"cooking\"><title lang=\"en\"/></book><book category=\"children\"><title lang=\"en\">Harry Potter</title></book></bookstore>'\n"
     ]
    }
   ],
   "source": [
    "# ASCII코드입니다. xml형식이구요. 헤더에서 데이터에 대한 내용 설명을 보여줌.\n",
    "\n",
    "xmlByte = etree.tostring(bookstore, xml_declaration=True)\n",
    "print(type(xmlByte))\n",
    "print(xmlByte)"
   ]
  },
  {
   "cell_type": "code",
   "execution_count": 37,
   "metadata": {},
   "outputs": [
    {
     "name": "stdout",
     "output_type": "stream",
     "text": [
      "<class 'bytes'>\n",
      "b'<?xml version=\\'1.0\\' encoding=\\'utf-8\\'?>\\n<bookstore><book/><book category=\"cooking\"><title lang=\"en\"/></book><book category=\"children\"><title lang=\"en\">Harry Potter</title></book></bookstore>'\n"
     ]
    }
   ],
   "source": [
    "xmlByte = etree.tostring(bookstore, encoding='utf-8', xml_declaration=True)\n",
    "print(type(xmlByte))\n",
    "print(xmlByte)"
   ]
  },
  {
   "cell_type": "code",
   "execution_count": 39,
   "metadata": {},
   "outputs": [],
   "source": [
    "# 역변환 시도..!\n",
    "\n",
    "temp = etree.fromstring(xmlByte)"
   ]
  },
  {
   "cell_type": "code",
   "execution_count": 40,
   "metadata": {},
   "outputs": [
    {
     "name": "stdout",
     "output_type": "stream",
     "text": [
      "<bookstore>\n",
      "  <book/>\n",
      "  <book category=\"cooking\">\n",
      "    <title lang=\"en\"/>\n",
      "  </book>\n",
      "  <book category=\"children\">\n",
      "    <title lang=\"en\">Harry Potter</title>\n",
      "  </book>\n",
      "</bookstore>\n"
     ]
    }
   ],
   "source": [
    "etree.dump(temp)"
   ]
  },
  {
   "cell_type": "code",
   "execution_count": 42,
   "metadata": {},
   "outputs": [],
   "source": [
    "# parse를 이용하려면 Dom tree를 이용해야함.\n",
    "# byte -> xml -> 트리로 변환.\n",
    "\n",
    "tree = etree.ElementTree(temp)"
   ]
  },
  {
   "cell_type": "code",
   "execution_count": 43,
   "metadata": {},
   "outputs": [],
   "source": [
    "root = tree.getroot()"
   ]
  },
  {
   "cell_type": "code",
   "execution_count": 45,
   "metadata": {},
   "outputs": [
    {
     "data": {
      "text/plain": [
       "'bookstore'"
      ]
     },
     "execution_count": 45,
     "metadata": {},
     "output_type": "execute_result"
    }
   ],
   "source": [
    "root.tag"
   ]
  },
  {
   "cell_type": "code",
   "execution_count": 46,
   "metadata": {},
   "outputs": [
    {
     "name": "stdout",
     "output_type": "stream",
     "text": [
      "<bookstore>\n",
      "  <book/>\n",
      "  <book category=\"cooking\">\n",
      "    <title lang=\"en\"/>\n",
      "  </book>\n",
      "  <book category=\"children\">\n",
      "    <title lang=\"en\">Harry Potter</title>\n",
      "  </book>\n",
      "</bookstore>\n"
     ]
    }
   ],
   "source": [
    "etree.dump(root)"
   ]
  },
  {
   "cell_type": "code",
   "execution_count": 47,
   "metadata": {},
   "outputs": [
    {
     "data": {
      "text/plain": [
       "'1.0'"
      ]
     },
     "execution_count": 47,
     "metadata": {},
     "output_type": "execute_result"
    }
   ],
   "source": [
    "tree.docinfo.xml_version"
   ]
  },
  {
   "cell_type": "code",
   "execution_count": 48,
   "metadata": {},
   "outputs": [
    {
     "data": {
      "text/plain": [
       "'utf-8'"
      ]
     },
     "execution_count": 48,
     "metadata": {},
     "output_type": "execute_result"
    }
   ],
   "source": [
    "tree.docinfo.encoding"
   ]
  },
  {
   "cell_type": "code",
   "execution_count": 51,
   "metadata": {},
   "outputs": [
    {
     "name": "stdout",
     "output_type": "stream",
     "text": [
      "None\n"
     ]
    }
   ],
   "source": [
    "# ENCODING셋에 charset을 그대로 써도디겟네. 글자안깨지게. 글자깨지면 encoding이용할수도 있는거궁.?????????????????????????????????\n",
    "\n",
    "print(root.getparent())"
   ]
  },
  {
   "cell_type": "code",
   "execution_count": 54,
   "metadata": {},
   "outputs": [
    {
     "data": {
      "text/plain": [
       "3"
      ]
     },
     "execution_count": 54,
     "metadata": {},
     "output_type": "execute_result"
    }
   ],
   "source": [
    "children = root.getchildren()\n",
    "len(children)"
   ]
  },
  {
   "cell_type": "code",
   "execution_count": 57,
   "metadata": {},
   "outputs": [
    {
     "name": "stdout",
     "output_type": "stream",
     "text": [
      "book None\n",
      "book cooking\n",
      "book children\n"
     ]
    }
   ],
   "source": [
    "for child in children:\n",
    "    print(child.tag, child.get(\"category\"))\n",
    "\n",
    "# 이런식으로 쭉 타고 내려가는 형식임."
   ]
  },
  {
   "cell_type": "markdown",
   "metadata": {},
   "source": [
    "# 공공데이터 API로 가져온 데이터를 XML형태의 트리구조로 만들기!"
   ]
  },
  {
   "cell_type": "code",
   "execution_count": 58,
   "metadata": {},
   "outputs": [
    {
     "ename": "AttributeError",
     "evalue": "module 'lxml.etree' has no attribute 'fromString'",
     "output_type": "error",
     "traceback": [
      "\u001b[1;31m---------------------------------------------------------------------------\u001b[0m",
      "\u001b[1;31mAttributeError\u001b[0m                            Traceback (most recent call last)",
      "\u001b[1;32m<ipython-input-58-011aa81c1c36>\u001b[0m in \u001b[0;36m<module>\u001b[1;34m()\u001b[0m\n\u001b[1;32m----> 1\u001b[1;33m \u001b[0mapiTree\u001b[0m \u001b[1;33m=\u001b[0m \u001b[0metree\u001b[0m\u001b[1;33m.\u001b[0m\u001b[0mfromString\u001b[0m\u001b[1;33m(\u001b[0m\u001b[0mresult\u001b[0m\u001b[1;33m)\u001b[0m\u001b[1;33m\u001b[0m\u001b[0m\n\u001b[0m",
      "\u001b[1;31mAttributeError\u001b[0m: module 'lxml.etree' has no attribute 'fromString'"
     ]
    }
   ],
   "source": [
    "apiEle = etree.fromString(result)\n",
    "apiTree = etree.ElementTree(apiEle)\n",
    "\n",
    "# 트리.\n",
    "type(apiTree)\n",
    "\n",
    "# root뽑고.\n",
    "rootNode = apiTree.getroot()\n",
    "\n",
    "print(rootNode.tag)\n",
    "\n",
    "# 원하는 노드 찾을때. findall(\"[xPath 쓰면됨.]\")\n",
    "nodeList = rootNode.findall(\".//pm10Value\")\n",
    "len(nodeList)"
   ]
  },
  {
   "cell_type": "code",
   "execution_count": null,
   "metadata": {},
   "outputs": [],
   "source": [
    "# etree.dump(apiTree) ??\n",
    "\n",
    "for row in nodeList:\n",
    "    print(row.getparent)\n",
    "    print(row.tag, row.text)\n",
    "\n",
    "# 밑으로내려가서 위로올라가서~ 등등 파싱할때 이런식으로 접근하면 json보다 더 쉽게 접근가능함.!"
   ]
  }
 ],
 "metadata": {
  "kernelspec": {
   "display_name": "Python 3",
   "language": "python",
   "name": "python3"
  },
  "language_info": {
   "codemirror_mode": {
    "name": "ipython",
    "version": 3
   },
   "file_extension": ".py",
   "mimetype": "text/x-python",
   "name": "python",
   "nbconvert_exporter": "python",
   "pygments_lexer": "ipython3",
   "version": "3.6.5"
  }
 },
 "nbformat": 4,
 "nbformat_minor": 2
}
