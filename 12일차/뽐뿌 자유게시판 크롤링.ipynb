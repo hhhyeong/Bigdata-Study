{
 "cells": [
  {
   "cell_type": "markdown",
   "metadata": {},
   "source": [
    "# 자유게시판 링크 가져오기"
   ]
  },
  {
   "cell_type": "code",
   "execution_count": 8,
   "metadata": {},
   "outputs": [],
   "source": [
    "# 뽐뿌 사이트의 response는 encoding문제때문에 글자가 다 깨짐.\n",
    "# header정보의 Accept-Encoding: gzip, deflate, br 값을 받지 말라고 수정하고,\n",
    "# 내가 직접 byte단위로 받아와서 해석해주기.\n",
    "\n",
    "import requests\n",
    "from bs4 import BeautifulSoup\n",
    "\n",
    "headers = {\n",
    "    \"user-agent\" : \"Mozilla/5.0 (Windows NT 10.0; Win64; x64) AppleWebKit/537.36 (KHTML, like Gecko) Chrome/67.0.3396.99 Safari/537.36\",\n",
    "    \"Accept-Encoding\" : \"false\"\n",
    "    # \"Accept-Encoding\" : None\n",
    "    # 도 가능.\n",
    "}\n",
    "params=\"한글\""
   ]
  },
  {
   "cell_type": "code",
   "execution_count": 9,
   "metadata": {},
   "outputs": [],
   "source": [
    "def getUrl(url, params=None, select=\"a\", num_retries=2):\n",
    "    html = requests.get(url, params=params, headers=headers)\n",
    "    \n",
    "    # html 에러코드가 500~600 사이에 있거나, num_retries가 0보다 클때.\n",
    "    # 다시 함수 호출. 재귀횟수는 3번으로 제한.\n",
    "    if 500 <= html.status_code < 600 and num_retries > 0:\n",
    "        print(html.status_code, html.reason)\n",
    "        return getUrl(url, params, num_retries-1)\n",
    "    # print(html.text)\n",
    "    dom = BeautifulSoup(html.text, \"lxml\")\n",
    "    links = dom.select(select)\n",
    "    \n",
    "    return [link[\"href\"] for link in links if link.has_attr(\"href\") == True]"
   ]
  },
  {
   "cell_type": "code",
   "execution_count": 10,
   "metadata": {
    "scrolled": true
   },
   "outputs": [],
   "source": [
    "seed = \"https://m.ppomppu.co.kr/new/bbs_list.php?id=freeboard\"\n",
    "\n",
    "contentList = getUrl(seed, params, \"td.list_value img\")\n",
    "contentList = contentList[1:]"
   ]
  },
  {
   "cell_type": "code",
   "execution_count": 11,
   "metadata": {},
   "outputs": [
    {
     "ename": "NameError",
     "evalue": "name 'result' is not defined",
     "output_type": "error",
     "traceback": [
      "\u001b[1;31m---------------------------------------------------------------------------\u001b[0m",
      "\u001b[1;31mNameError\u001b[0m                                 Traceback (most recent call last)",
      "\u001b[1;32m<ipython-input-11-fbc226449c03>\u001b[0m in \u001b[0;36m<module>\u001b[1;34m()\u001b[0m\n\u001b[0;32m      1\u001b[0m \u001b[0mselect\u001b[0m \u001b[1;33m=\u001b[0m \u001b[1;34m\"strong\"\u001b[0m\u001b[1;33m\u001b[0m\u001b[0m\n\u001b[1;32m----> 2\u001b[1;33m \u001b[0mresult\u001b[0m\u001b[1;33m.\u001b[0m\u001b[0mextend\u001b[0m\u001b[1;33m(\u001b[0m\u001b[0mgetUrl\u001b[0m\u001b[1;33m(\u001b[0m\u001b[0mseed\u001b[0m\u001b[1;33m,\u001b[0m \u001b[0mparams\u001b[0m\u001b[1;33m,\u001b[0m \u001b[0mselect\u001b[0m\u001b[1;33m)\u001b[0m\u001b[1;33m)\u001b[0m\u001b[1;33m\u001b[0m\u001b[0m\n\u001b[0m\u001b[0;32m      3\u001b[0m \u001b[0mresult\u001b[0m\u001b[1;33m\u001b[0m\u001b[0m\n",
      "\u001b[1;31mNameError\u001b[0m: name 'result' is not defined"
     ]
    }
   ],
   "source": [
    "select = \"strong\"\n",
    "result.extend(getUrl(seed, params, select))\n",
    "result"
   ]
  },
  {
   "cell_type": "code",
   "execution_count": null,
   "metadata": {},
   "outputs": [],
   "source": []
  },
  {
   "cell_type": "code",
   "execution_count": null,
   "metadata": {},
   "outputs": [],
   "source": []
  },
  {
   "cell_type": "code",
   "execution_count": 89,
   "metadata": {},
   "outputs": [
    {
     "ename": "AttributeError",
     "evalue": "'list' object has no attribute 'encoding'",
     "output_type": "error",
     "traceback": [
      "\u001b[1;31m---------------------------------------------------------------------------\u001b[0m",
      "\u001b[1;31mAttributeError\u001b[0m                            Traceback (most recent call last)",
      "\u001b[1;32m<ipython-input-89-d3054da94a8b>\u001b[0m in \u001b[0;36m<module>\u001b[1;34m()\u001b[0m\n\u001b[1;32m----> 1\u001b[1;33m \u001b[0mresult\u001b[0m\u001b[1;33m.\u001b[0m\u001b[0mencoding\u001b[0m\u001b[1;33m\u001b[0m\u001b[0m\n\u001b[0m",
      "\u001b[1;31mAttributeError\u001b[0m: 'list' object has no attribute 'encoding'"
     ]
    }
   ],
   "source": [
    "result.encoding"
   ]
  },
  {
   "cell_type": "code",
   "execution_count": 90,
   "metadata": {},
   "outputs": [
    {
     "ename": "AttributeError",
     "evalue": "'list' object has no attribute 'text'",
     "output_type": "error",
     "traceback": [
      "\u001b[1;31m---------------------------------------------------------------------------\u001b[0m",
      "\u001b[1;31mAttributeError\u001b[0m                            Traceback (most recent call last)",
      "\u001b[1;32m<ipython-input-90-a38660e13281>\u001b[0m in \u001b[0;36m<module>\u001b[1;34m()\u001b[0m\n\u001b[1;32m----> 1\u001b[1;33m \u001b[0mhtml\u001b[0m\u001b[1;33m.\u001b[0m\u001b[0mtext\u001b[0m\u001b[1;33m\u001b[0m\u001b[0m\n\u001b[0m\u001b[0;32m      2\u001b[0m \u001b[1;31m# 한글문제까지 완벽해결. urllib사용할 이유가 사라짐.ㅋㅋ\u001b[0m\u001b[1;33m\u001b[0m\u001b[1;33m\u001b[0m\u001b[0m\n",
      "\u001b[1;31mAttributeError\u001b[0m: 'list' object has no attribute 'text'"
     ]
    }
   ],
   "source": [
    "html.text\n",
    "# 한글문제까지 완벽해결. urllib사용할 이유가 사라짐.ㅋㅋ"
   ]
  },
  {
   "cell_type": "code",
   "execution_count": 91,
   "metadata": {},
   "outputs": [
    {
     "ename": "NameError",
     "evalue": "name 'content' is not defined",
     "output_type": "error",
     "traceback": [
      "\u001b[1;31m---------------------------------------------------------------------------\u001b[0m",
      "\u001b[1;31mNameError\u001b[0m                                 Traceback (most recent call last)",
      "\u001b[1;32m<ipython-input-91-f08eb6fc78d7>\u001b[0m in \u001b[0;36m<module>\u001b[1;34m()\u001b[0m\n\u001b[1;32m----> 1\u001b[1;33m \u001b[0mcontent\u001b[0m\u001b[1;33m(\u001b[0m\u001b[0mhtml\u001b[0m\u001b[1;33m.\u001b[0m\u001b[0mcontent\u001b[0m\u001b[1;33m)\u001b[0m\u001b[1;33m\u001b[0m\u001b[0m\n\u001b[0m\u001b[0;32m      2\u001b[0m \u001b[1;31m# 해석하는 방법 크게 2개 : conent랑 byte.\u001b[0m\u001b[1;33m\u001b[0m\u001b[1;33m\u001b[0m\u001b[0m\n",
      "\u001b[1;31mNameError\u001b[0m: name 'content' is not defined"
     ]
    }
   ],
   "source": [
    "content(html.content)\n",
    "# 해석하는 방법 크게 2개 : conent랑 byte."
   ]
  },
  {
   "cell_type": "markdown",
   "metadata": {},
   "source": [
    "# 본문내용 가져오기(css selector)\n",
    "\n",
    "- 어느 사이트에서든지 법에 걸리지 않는 한, 비정형데이터 수집 가능해짐."
   ]
  },
  {
   "cell_type": "code",
   "execution_count": 1,
   "metadata": {},
   "outputs": [
    {
     "ename": "NameError",
     "evalue": "name 'getUrl' is not defined",
     "output_type": "error",
     "traceback": [
      "\u001b[1;31m---------------------------------------------------------------------------\u001b[0m",
      "\u001b[1;31mNameError\u001b[0m                                 Traceback (most recent call last)",
      "\u001b[1;32m<ipython-input-1-f0e72bd333c9>\u001b[0m in \u001b[0;36m<module>\u001b[1;34m()\u001b[0m\n\u001b[0;32m      1\u001b[0m \u001b[0mseed\u001b[0m \u001b[1;33m=\u001b[0m \u001b[1;34m\"http://wwwlppomppu.co.kr/zboard\"\u001b[0m\u001b[1;33m\u001b[0m\u001b[0m\n\u001b[0;32m      2\u001b[0m \u001b[1;33m\u001b[0m\u001b[0m\n\u001b[1;32m----> 3\u001b[1;33m \u001b[0mtitle\u001b[0m \u001b[1;33m=\u001b[0m \u001b[0mgetUrl\u001b[0m\u001b[1;33m(\u001b[0m\u001b[0mseed\u001b[0m \u001b[1;33m+\u001b[0m \u001b[0mcontentList\u001b[0m\u001b[1;33m[\u001b[0m\u001b[1;36m0\u001b[0m\u001b[1;33m]\u001b[0m\u001b[1;33m,\u001b[0m \u001b[0mparams\u001b[0m\u001b[1;33m,\u001b[0m \u001b[1;34m\".view_title2\"\u001b[0m\u001b[1;33m)\u001b[0m\u001b[1;33m\u001b[0m\u001b[0m\n\u001b[0m",
      "\u001b[1;31mNameError\u001b[0m: name 'getUrl' is not defined"
     ]
    }
   ],
   "source": [
    "seed = \"http://wwwlppomppu.co.kr/zboard\"\n",
    "\n",
    "title = getUrl(seed + contentList[0], params, \".view_title2\")"
   ]
  },
  {
   "cell_type": "code",
   "execution_count": null,
   "metadata": {},
   "outputs": [],
   "source": [
    "def getContent(url, params=None, select=\"a\", num_retries=2):\n",
    "    html = requests.get(url, params=params, headers=headers)\n",
    "    \n",
    "    # html 에러코드가 500~600 사이에 있거나, num_retries가 0보다 클때.\n",
    "    # 다시 함수 호출. 재귀횟수는 3번으로 제한.\n",
    "    if 500 <= html.status_code < 600 and num_retries > 0:\n",
    "        print(html.status_code, html.reason)\n",
    "        return getUrl(url, params, num_retries-1)\n",
    "    #print(html.text)\n",
    "    dom = BeautifulSoup(html.text, \"html.parser\")\n",
    "    links = dom.select(select)\n",
    "    \n",
    "    return links"
   ]
  },
  {
   "cell_type": "code",
   "execution_count": null,
   "metadata": {},
   "outputs": [],
   "source": [
    "#seed + contentList[0]"
   ]
  },
  {
   "cell_type": "code",
   "execution_count": null,
   "metadata": {},
   "outputs": [],
   "source": [
    "seed = \"http://wwwlppomppu.co.kr/zboard\"\n",
    "\n",
    "for url in contentList:\n",
    "    title = getUrl(see + contentList[0], params, \".view_titme2\")\n",
    "    content = getUrl(see + contentList[0], params, \".board-contents\")\n",
    "    print(title[0].get_text())\n",
    "    print(content)\n",
    "    \n",
    "# 뽐뿌게시판은 게판이라 class이름을 \"board-contents\"로 했다가,\n",
    "# \"han\"이라고 만들어 놓음.\n",
    "# 뒤에꺼에 겹쳐짐."
   ]
  },
  {
   "cell_type": "code",
   "execution_count": null,
   "metadata": {},
   "outputs": [],
   "source": [
    "seed = \"http://wwwlppomppu.co.kr/zboard\"\n",
    "\n",
    "for url in contentList:\n",
    "    title = getContent(seed+url, params, \".view_titme2\")\n",
    "    content = getUrl(seed+url, params, \"table.pic_bg table td.han\")\n",
    "    print(title[0].get_text())\n",
    "    print(content[0].get_text().strip())\n",
    "\n",
    "# 제목과 본문내용만 출력.\n",
    "# 본문 밖에 있는 white space 없애기 : strip()"
   ]
  },
  {
   "cell_type": "code",
   "execution_count": null,
   "metadata": {},
   "outputs": [],
   "source": [
    "# 에러처리해서 댓글가져오기. (실습!)"
   ]
  },
  {
   "cell_type": "markdown",
   "metadata": {},
   "source": [
    "### 목요일\n",
    "\n",
    "- selenium을 가지고 비동기식으로 처리하는 ajax내용을 해석할 수 있음.\n",
    "- 자동화하여 응용 가능.\n",
    "- 자동으로 로그인해서 메일 리스트 가져오기.\n",
    "- 수강신청할때, 자동으로 장바구니담아둔거 할수도있음.ㅋ"
   ]
  },
  {
   "cell_type": "code",
   "execution_count": null,
   "metadata": {},
   "outputs": [],
   "source": []
  }
 ],
 "metadata": {
  "kernelspec": {
   "display_name": "Python 3",
   "language": "python",
   "name": "python3"
  },
  "language_info": {
   "codemirror_mode": {
    "name": "ipython",
    "version": 3
   },
   "file_extension": ".py",
   "mimetype": "text/x-python",
   "name": "python",
   "nbconvert_exporter": "python",
   "pygments_lexer": "ipython3",
   "version": "3.6.5"
  }
 },
 "nbformat": 4,
 "nbformat_minor": 2
}
