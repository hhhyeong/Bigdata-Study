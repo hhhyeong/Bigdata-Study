{
 "cells": [
  {
   "cell_type": "markdown",
   "metadata": {},
   "source": [
    "# a링크가져오기"
   ]
  },
  {
   "cell_type": "code",
   "execution_count": 1,
   "metadata": {},
   "outputs": [],
   "source": [
    "import requests\n",
    "from bs4 import BeautifulSoup\n",
    "\n",
    "\n",
    "headers = {\n",
    "    \"user-agent\" : \"Mozilla/5.0 (Windows NT 10.0; Win64; x64) AppleWebKit/537.36 (KHTML, like Gecko) Chrome/67.0.3396.99 Safari/537.36\",\n",
    "    \"Accept-Encoding\" : \"false\"\n",
    "}\n",
    "params=\"한글\""
   ]
  },
  {
   "cell_type": "code",
   "execution_count": 2,
   "metadata": {},
   "outputs": [],
   "source": [
    "def getUrl(url, params=None, select=None, num_retries=2):\n",
    "    html = requests.get(url, params=params, headers=headers)\n",
    "    \n",
    "    if 500 <= html.status_code < 600 and num_retries > 0:\n",
    "        print(html.status_code, html.reason)\n",
    "        return getUrl(url, params, num_retries-1)\n",
    "    dom = BeautifulSoup(html.text, \"html.parser\")\n",
    "    links = dom.select(select)\n",
    "    \n",
    "    return [link[\"href\"] for link in links if link.has_attr(\"href\") == True]"
   ]
  },
  {
   "cell_type": "code",
   "execution_count": 3,
   "metadata": {},
   "outputs": [
    {
     "data": {
      "text/plain": [
       "['view.php?id=freeboard&page=1&divpage=1115&no=5975767',\n",
       " 'view.php?id=freeboard&page=1&divpage=1115&no=5975766',\n",
       " 'view.php?id=freeboard&page=1&divpage=1115&no=5975765',\n",
       " 'view.php?id=freeboard&page=1&divpage=1115&no=5975764',\n",
       " 'view.php?id=freeboard&page=1&divpage=1115&no=5975763',\n",
       " 'view.php?id=freeboard&page=1&divpage=1115&no=5975762',\n",
       " 'view.php?id=freeboard&page=1&divpage=1115&no=5975761',\n",
       " 'view.php?id=freeboard&page=1&divpage=1115&no=5975760',\n",
       " 'view.php?id=freeboard&page=1&divpage=1115&no=5975759',\n",
       " 'view.php?id=freeboard&page=1&divpage=1115&no=5975758',\n",
       " 'view.php?id=freeboard&page=1&divpage=1115&no=5975757',\n",
       " 'view.php?id=freeboard&page=1&divpage=1115&no=5975756',\n",
       " 'view.php?id=freeboard&page=1&divpage=1115&no=5975755',\n",
       " 'view.php?id=freeboard&page=1&divpage=1115&no=5975754',\n",
       " 'view.php?id=freeboard&page=1&divpage=1115&no=5975753',\n",
       " 'view.php?id=freeboard&page=1&divpage=1115&no=5975752',\n",
       " 'view.php?id=freeboard&page=1&divpage=1115&no=5975751',\n",
       " 'view.php?id=freeboard&page=1&divpage=1115&no=5975750',\n",
       " 'view.php?id=freeboard&page=1&divpage=1115&no=5975749',\n",
       " 'view.php?id=freeboard&page=1&divpage=1115&no=5975748',\n",
       " 'view.php?id=freeboard&page=1&divpage=1115&no=5975747',\n",
       " 'view.php?id=freeboard&page=1&divpage=1115&no=5975746',\n",
       " 'view.php?id=freeboard&page=1&divpage=1115&no=5975745',\n",
       " 'view.php?id=freeboard&page=1&divpage=1115&no=5975744',\n",
       " 'view.php?id=freeboard&page=1&divpage=1115&no=5975743',\n",
       " 'view.php?id=freeboard&page=1&divpage=1115&no=5975742',\n",
       " 'view.php?id=freeboard&page=1&divpage=1115&no=5975741',\n",
       " 'view.php?id=freeboard&page=1&divpage=1115&no=5975740',\n",
       " 'view.php?id=freeboard&page=1&divpage=1115&no=5975739',\n",
       " 'view.php?id=freeboard&page=1&divpage=1115&no=5975738']"
      ]
     },
     "execution_count": 3,
     "metadata": {},
     "output_type": "execute_result"
    }
   ],
   "source": [
    "seed = \"http://www.ppomppu.co.kr/zboard/zboard.php?id=freeboard\"\n",
    "select = \"td.list_vspace img + a\"\n",
    "urlList = getUrl(seed, params, select)\n",
    "urlList = urlList[1:]\n",
    "urlList"
   ]
  },
  {
   "cell_type": "markdown",
   "metadata": {},
   "source": [
    "# 링크타고 들어가서 본문의 제목 가져오기"
   ]
  },
  {
   "cell_type": "code",
   "execution_count": 75,
   "metadata": {},
   "outputs": [],
   "source": [
    "def getContent(url, params=None, select=None, num_retries=2):\n",
    "    html = requests.get(url, params=params, headers=headers)\n",
    "    \n",
    "    if 500 <= html.status_code < 600 and num_retries > 0:\n",
    "        print(html.status_code, html.reason)\n",
    "        return getUrl(url, params, num_retries-1)\n",
    "    dom = BeautifulSoup(html.text, \"html.parser\")\n",
    "    links = dom.select(select)\n",
    "    \n",
    "    return links"
   ]
  },
  {
   "cell_type": "code",
   "execution_count": 94,
   "metadata": {},
   "outputs": [
    {
     "name": "stdout",
     "output_type": "stream",
     "text": [
      "동네 중형마트들 난리군요.\n",
      "매년 이쯤되면 논란인 개고기..그냥 끄적끄적 적어봅니다.\n",
      "질게로 옮기겠습니다\n",
      "슬리퍼에 꾸린내 어떻게 빼나요?\n",
      "옛날 게임잡지, 고전게임잡지 사이트에여\n",
      "축구협회 \"할릴호지치 감독, 후보 리스트에 없었다\"…부임설 일축\n",
      "오랜만에 좋아하는 여자가 생겼습니다...\n",
      "푸아그라 만드는 과정.jpg\n",
      "요즘 청소년들은... 이차방정식을 영어로 푸네요?\n",
      "자자 울릉도 앞바다에서 보물선 발견됬답니다\n",
      "Gs25아메  이런것도  하네요\n",
      "중고나라 1억7000만원 상품권 '먹튀'..혼수까지 떼먹은 30대\n",
      "퇴직할때 군사기밀 갖고가도 무죄\n",
      "요즘 가끔 노래듣는중에 아 노래켜야지\n",
      "집구할려고 이래저래 알아보는데 엄청올랐긴 올랐네요\n",
      "서울특별시 강동구 옛날 모습들.jyp\n",
      "LG가 SK에 매각한 실트론 근황.news\n",
      "알리에서 주문한 낚시 가짜미끼.. jpg\n",
      " 개고기 식용은 옳은가?\n",
      "어머니가 갑상선일거 같은데...\n",
      "이랜드 수사보단 쿠우쿠우가 좋은거 같아요\n",
      "여름성수기에 세부 항공권 16만원에 구입했는데,, 취소해야 되네요..ㅠㅠ\n",
      "향수를 충동적으로 또 샀어요..ㅋㅋ\n",
      "엘지 인터넷+티비 재약정했어요\n",
      "짱개 쫄음  -  美 ‘2000억 달러’ 공격에 총알 떨어진 中... “대화로 풀자“\n",
      "교정을 한곳에 알아봤는데 싸군요 그런데 일시불.ㄷㄷㄷ\n",
      "일산은 애슐리 그나마\n",
      "입맛이 없어서 많이 못먹는데 살은 안빠지고 ㅠ\n",
      "중국에서 가장 용감한 사람...행방불명 상태라는군요\n",
      "수사는 애슐리 그냥 하위호환 버전이네요\n"
     ]
    }
   ],
   "source": [
    "seed = \"http://www.ppomppu.co.kr/zboard/\"\n",
    "select = \".view_title2\"\n",
    "titleList = list()\n",
    "\n",
    "for url in urlList:\n",
    "    titleList.append(getContent(seed+url, params, select))\n",
    "    \n",
    "for title in titleList:\n",
    "    print(title[0].get_text())"
   ]
  },
  {
   "cell_type": "code",
   "execution_count": null,
   "metadata": {},
   "outputs": [],
   "source": []
  },
  {
   "cell_type": "code",
   "execution_count": null,
   "metadata": {},
   "outputs": [],
   "source": []
  },
  {
   "cell_type": "code",
   "execution_count": null,
   "metadata": {},
   "outputs": [],
   "source": []
  },
  {
   "cell_type": "code",
   "execution_count": null,
   "metadata": {},
   "outputs": [],
   "source": []
  },
  {
   "cell_type": "code",
   "execution_count": null,
   "metadata": {},
   "outputs": [],
   "source": []
  },
  {
   "cell_type": "code",
   "execution_count": null,
   "metadata": {},
   "outputs": [],
   "source": []
  },
  {
   "cell_type": "code",
   "execution_count": null,
   "metadata": {},
   "outputs": [],
   "source": []
  },
  {
   "cell_type": "code",
   "execution_count": null,
   "metadata": {},
   "outputs": [],
   "source": []
  },
  {
   "cell_type": "code",
   "execution_count": null,
   "metadata": {},
   "outputs": [],
   "source": []
  },
  {
   "cell_type": "code",
   "execution_count": null,
   "metadata": {},
   "outputs": [],
   "source": []
  },
  {
   "cell_type": "code",
   "execution_count": null,
   "metadata": {},
   "outputs": [],
   "source": []
  }
 ],
 "metadata": {
  "kernelspec": {
   "display_name": "Python 3",
   "language": "python",
   "name": "python3"
  },
  "language_info": {
   "codemirror_mode": {
    "name": "ipython",
    "version": 3
   },
   "file_extension": ".py",
   "mimetype": "text/x-python",
   "name": "python",
   "nbconvert_exporter": "python",
   "pygments_lexer": "ipython3",
   "version": "3.6.5"
  }
 },
 "nbformat": 4,
 "nbformat_minor": 2
}
